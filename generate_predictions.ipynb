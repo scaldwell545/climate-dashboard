{
 "cells": [
  {
   "cell_type": "code",
   "execution_count": 124,
   "id": "05711d36-06ff-4a7b-ae9a-b681fb23f348",
   "metadata": {},
   "outputs": [],
   "source": [
    "import os\n",
    "import pandas as pd\n",
    "import csv\n",
    "import geojson\n",
    "import numpy as np\n",
    "from keras.models import load_model\n",
    "from sklearn.preprocessing import StandardScaler"
   ]
  },
  {
   "cell_type": "code",
   "execution_count": 125,
   "id": "60b341fc-426b-4e69-bbc6-49be3347b812",
   "metadata": {},
   "outputs": [],
   "source": [
    "co_model = load_model('MachineLearning/Models/co_model.h5')\n",
    "dewp_model = load_model('MachineLearning/Models/dewp_model.h5')\n",
    "no2_model = load_model('MachineLearning/Models/no2_model.h5')\n",
    "o3_model = load_model('MachineLearning/Models/o3_model.h5')\n",
    "pm10_model = load_model('MachineLearning/Models/pm10_model.h5')\n",
    "pres_model = load_model('MachineLearning/Models/pres_model.h5')\n",
    "rain_model = load_model('MachineLearning/Models/rain_model.h5')\n",
    "so2_model = load_model('MachineLearning/Models/so2_model.h5')\n",
    "temp_model = load_model('MachineLearning/Models/temp_model.h5')\n",
    "\n",
    "path = os.path.join(os.getcwd(), 'MachineLearning', 'Resources', 'all_city_data.csv')\n",
    "df = pd.read_csv(path)\n",
    "df = df.drop(columns = {\"Unnamed: 0\"})\n",
    "features = [\"PM10\", \"SO2\", \"NO2\", \"CO\", \"O3\", \"TEMP\", \"PRES\", \"DEWP\", \"RAIN\"]\n",
    "scalar = StandardScaler()\n",
    "# the fit_transform ops returns a 2d numpy.array, we cast it to a pd.DataFrame\n",
    "standardized_features = pd.DataFrame(scalar.fit_transform(df[features].copy()), columns = features)\n",
    "old_shape = df.shape\n",
    "# drop the unnormalized features from the dataframe\n",
    "df.drop(features, axis = 1, inplace = True)\n",
    "# join back the normalized features\n",
    "df = pd.concat([df, standardized_features], axis= 1)\n",
    "assert old_shape == df.shape, \"something went wrong!\"\n",
    "grouped_df=df.groupby('dt').mean().reset_index()"
   ]
  },
  {
   "cell_type": "code",
   "execution_count": 126,
   "id": "6a891434-9199-419d-9957-e6e050b06d61",
   "metadata": {},
   "outputs": [
    {
     "data": {
      "text/html": [
       "<div>\n",
       "<style scoped>\n",
       "    .dataframe tbody tr th:only-of-type {\n",
       "        vertical-align: middle;\n",
       "    }\n",
       "\n",
       "    .dataframe tbody tr th {\n",
       "        vertical-align: top;\n",
       "    }\n",
       "\n",
       "    .dataframe thead th {\n",
       "        text-align: right;\n",
       "    }\n",
       "</style>\n",
       "<table border=\"1\" class=\"dataframe\">\n",
       "  <thead>\n",
       "    <tr style=\"text-align: right;\">\n",
       "      <th></th>\n",
       "      <th>dt</th>\n",
       "      <th>PM2.5</th>\n",
       "      <th>PM10</th>\n",
       "      <th>SO2</th>\n",
       "      <th>NO2</th>\n",
       "      <th>CO</th>\n",
       "      <th>O3</th>\n",
       "      <th>TEMP</th>\n",
       "      <th>PRES</th>\n",
       "      <th>DEWP</th>\n",
       "      <th>RAIN</th>\n",
       "    </tr>\n",
       "  </thead>\n",
       "  <tbody>\n",
       "    <tr>\n",
       "      <th>0</th>\n",
       "      <td>2013-01-03 00:00:00</td>\n",
       "      <td>5.800000</td>\n",
       "      <td>-1.080358</td>\n",
       "      <td>-0.444993</td>\n",
       "      <td>-1.086331</td>\n",
       "      <td>-0.842661</td>\n",
       "      <td>0.269844</td>\n",
       "      <td>-1.325402</td>\n",
       "      <td>1.238340</td>\n",
       "      <td>-1.703139</td>\n",
       "      <td>-0.080522</td>\n",
       "    </tr>\n",
       "    <tr>\n",
       "      <th>1</th>\n",
       "      <td>2013-01-03 01:00:00</td>\n",
       "      <td>7.222222</td>\n",
       "      <td>-1.047856</td>\n",
       "      <td>-0.450193</td>\n",
       "      <td>-1.071621</td>\n",
       "      <td>-0.825829</td>\n",
       "      <td>0.245656</td>\n",
       "      <td>-1.337020</td>\n",
       "      <td>1.308589</td>\n",
       "      <td>-1.703547</td>\n",
       "      <td>-0.080522</td>\n",
       "    </tr>\n",
       "    <tr>\n",
       "      <th>2</th>\n",
       "      <td>2013-01-03 02:00:00</td>\n",
       "      <td>4.500000</td>\n",
       "      <td>-1.105939</td>\n",
       "      <td>-0.343597</td>\n",
       "      <td>-1.113193</td>\n",
       "      <td>-0.830779</td>\n",
       "      <td>0.304674</td>\n",
       "      <td>-1.403971</td>\n",
       "      <td>1.261254</td>\n",
       "      <td>-1.765618</td>\n",
       "      <td>-0.080522</td>\n",
       "    </tr>\n",
       "    <tr>\n",
       "      <th>3</th>\n",
       "      <td>2013-01-03 03:00:00</td>\n",
       "      <td>4.600000</td>\n",
       "      <td>-1.097041</td>\n",
       "      <td>-0.360757</td>\n",
       "      <td>-1.051794</td>\n",
       "      <td>-0.815927</td>\n",
       "      <td>0.289000</td>\n",
       "      <td>-1.410469</td>\n",
       "      <td>1.384539</td>\n",
       "      <td>-1.830302</td>\n",
       "      <td>-0.080522</td>\n",
       "    </tr>\n",
       "    <tr>\n",
       "      <th>4</th>\n",
       "      <td>2013-01-03 04:00:00</td>\n",
       "      <td>3.800000</td>\n",
       "      <td>-1.112613</td>\n",
       "      <td>-0.313959</td>\n",
       "      <td>-1.046038</td>\n",
       "      <td>-0.798105</td>\n",
       "      <td>0.282034</td>\n",
       "      <td>-1.447685</td>\n",
       "      <td>1.456186</td>\n",
       "      <td>-1.808250</td>\n",
       "      <td>-0.080522</td>\n",
       "    </tr>\n",
       "  </tbody>\n",
       "</table>\n",
       "</div>"
      ],
      "text/plain": [
       "                    dt     PM2.5      PM10       SO2       NO2        CO  \\\n",
       "0  2013-01-03 00:00:00  5.800000 -1.080358 -0.444993 -1.086331 -0.842661   \n",
       "1  2013-01-03 01:00:00  7.222222 -1.047856 -0.450193 -1.071621 -0.825829   \n",
       "2  2013-01-03 02:00:00  4.500000 -1.105939 -0.343597 -1.113193 -0.830779   \n",
       "3  2013-01-03 03:00:00  4.600000 -1.097041 -0.360757 -1.051794 -0.815927   \n",
       "4  2013-01-03 04:00:00  3.800000 -1.112613 -0.313959 -1.046038 -0.798105   \n",
       "\n",
       "         O3      TEMP      PRES      DEWP      RAIN  \n",
       "0  0.269844 -1.325402  1.238340 -1.703139 -0.080522  \n",
       "1  0.245656 -1.337020  1.308589 -1.703547 -0.080522  \n",
       "2  0.304674 -1.403971  1.261254 -1.765618 -0.080522  \n",
       "3  0.289000 -1.410469  1.384539 -1.830302 -0.080522  \n",
       "4  0.282034 -1.447685  1.456186 -1.808250 -0.080522  "
      ]
     },
     "execution_count": 126,
     "metadata": {},
     "output_type": "execute_result"
    }
   ],
   "source": [
    "grouped_df.head()"
   ]
  },
  {
   "cell_type": "code",
   "execution_count": 127,
   "id": "236bbbef-38d0-49ef-83e0-38baf9bcd8b6",
   "metadata": {},
   "outputs": [
    {
     "data": {
      "text/plain": [
       "33423"
      ]
     },
     "execution_count": 127,
     "metadata": {},
     "output_type": "execute_result"
    }
   ],
   "source": [
    "len(grouped_df['PM2.5'])"
   ]
  },
  {
   "cell_type": "code",
   "execution_count": 128,
   "id": "f27ab286-671d-4690-9516-8606035a99b2",
   "metadata": {},
   "outputs": [
    {
     "data": {
      "text/plain": [
       "<AxesSubplot:>"
      ]
     },
     "execution_count": 128,
     "metadata": {},
     "output_type": "execute_result"
    },
    {
     "data": {
      "image/png": "[encoded data removed]",
      "text/plain": [
       "<Figure size 432x288 with 1 Axes>"
      ]
     },
     "metadata": {
      "needs_background": "light"
     },
     "output_type": "display_data"
    }
   ],
   "source": [
    "grouped_df['PM2.5'].plot()"
   ]
  },
  {
   "cell_type": "code",
   "execution_count": 129,
   "id": "92a28eef-6f49-4ddb-8225-348d19aa7976",
   "metadata": {
    "tags": []
   },
   "outputs": [
    {
     "data": {
      "text/plain": [
       "dt       0\n",
       "PM2.5    0\n",
       "PM10     0\n",
       "SO2      0\n",
       "NO2      0\n",
       "CO       0\n",
       "O3       0\n",
       "TEMP     0\n",
       "PRES     0\n",
       "DEWP     0\n",
       "RAIN     0\n",
       "dtype: int64"
      ]
     },
     "execution_count": 129,
     "metadata": {},
     "output_type": "execute_result"
    }
   ],
   "source": [
    "grouped_df.isna().sum()"
   ]
  },
  {
   "cell_type": "code",
   "execution_count": 183,
   "id": "d5300e06-4890-4a5b-b755-a6550b3fae59",
   "metadata": {},
   "outputs": [],
   "source": [
    "days_of_data = (365)*3\n",
    "\n",
    "############### Get prediction for PM10 ####################\n",
    "predictions=[]\n",
    "input_ary=np.array(grouped_df['PM10'][-365:].values)\n",
    "for each_t in range(days_of_data): \n",
    "                input_ary = input_ary[-365:]\n",
    "                input_ary = np.reshape(input_ary, (1, 365, 1))\n",
    "                prediction = so2_model.predict(input_ary)\n",
    "                predictions.append(prediction[0][0])\n",
    "                input_ary=np.append(input_ary, prediction)\n",
    "pm10 = predictions\n",
    "            \n",
    "############### Get prediction for S02 ####################\n",
    "predictions=[]\n",
    "input_ary=np.array(grouped_df['SO2'][-365:].values)\n",
    "for each_t in range(days_of_data): \n",
    "                input_ary = input_ary[-365:]\n",
    "                input_ary = np.reshape(input_ary, (1, 365, 1))\n",
    "                prediction = so2_model.predict(input_ary)\n",
    "                predictions.append(prediction[0][0])\n",
    "                input_ary=np.append(input_ary, prediction)\n",
    "so2 = predictions\n",
    "            \n",
    "############### Get prediction for CO ####################\n",
    "predictions=[]\n",
    "input_ary=np.array(grouped_df['CO'][-365:].values)\n",
    "for each_t in range(days_of_data): \n",
    "                input_ary = input_ary[-365:]\n",
    "                input_ary = np.reshape(input_ary, (1, 365, 1))\n",
    "                prediction = co_model.predict(input_ary)\n",
    "                predictions.append(prediction[0][0])\n",
    "                input_ary=np.append(input_ary, prediction)\n",
    "co = predictions\n",
    "            \n",
    "############### Get prediction for DEWP ####################\n",
    "predictions=[]\n",
    "input_ary=np.array(grouped_df['DEWP'][-365:].values)\n",
    "for each_t in range(days_of_data): \n",
    "                input_ary = input_ary[-365:]\n",
    "                input_ary = np.reshape(input_ary, (1, 365, 1))\n",
    "                prediction = dewp_model.predict(input_ary)\n",
    "                predictions.append(prediction[0][0])\n",
    "                input_ary=np.append(input_ary, prediction)\n",
    "dewp = predictions\n",
    "            \n",
    "############### Get prediction for NO2 ####################\n",
    "predictions=[]\n",
    "input_ary=np.array(grouped_df['NO2'][-365:].values)\n",
    "for each_t in range(days_of_data): \n",
    "                input_ary = input_ary[-365:]\n",
    "                input_ary = np.reshape(input_ary, (1, 365, 1))\n",
    "                prediction = no2_model.predict(input_ary)\n",
    "                predictions.append(prediction[0][0])\n",
    "                input_ary=np.append(input_ary, prediction)\n",
    "no2 = predictions\n",
    "            \n",
    "############### Get prediction for O3 ####################\n",
    "predictions=[]\n",
    "input_ary=np.array(grouped_df['O3'][-365:].values)\n",
    "for each_t in range(days_of_data): \n",
    "                input_ary = input_ary[-365:]\n",
    "                input_ary = np.reshape(input_ary, (1, 365, 1))\n",
    "                prediction = o3_model.predict(input_ary)\n",
    "                predictions.append(prediction[0][0])\n",
    "                input_ary=np.append(input_ary, prediction)\n",
    "o3 = predictions\n",
    "            \n",
    "############### Get prediction for PRES ####################\n",
    "predictions=[]\n",
    "input_ary=np.array(grouped_df['PRES'][-365:].values)\n",
    "for each_t in range(days_of_data): \n",
    "                input_ary = input_ary[-365:]\n",
    "                input_ary = np.reshape(input_ary, (1, 365, 1))\n",
    "                prediction = pres_model.predict(input_ary)\n",
    "                predictions.append(prediction[0][0])\n",
    "                input_ary=np.append(input_ary, prediction)\n",
    "pres = predictions\n",
    "            \n",
    "############### Get prediction for RAIN ####################\n",
    "predictions=[]\n",
    "input_ary=np.array(grouped_df['RAIN'][-365:].values)\n",
    "for each_t in range(days_of_data): \n",
    "                input_ary = input_ary[-365:]\n",
    "                input_ary = np.reshape(input_ary, (1, 365, 1))\n",
    "                prediction = rain_model.predict(input_ary)\n",
    "                predictions.append(prediction[0][0])\n",
    "                input_ary=np.append(input_ary, prediction)\n",
    "rain = predictions\n",
    "            \n",
    "############### Get prediction for TEMP ####################\n",
    "predictions=[]\n",
    "input_ary=np.array(grouped_df['TEMP'][-365:].values)\n",
    "for each_t in range(days_of_data): \n",
    "                input_ary = input_ary[-365:]\n",
    "                input_ary = np.reshape(input_ary, (1, 365, 1))\n",
    "                prediction = temp_model.predict(input_ary)\n",
    "                predictions.append(prediction[0][0])\n",
    "                input_ary=np.append(input_ary, prediction)\n",
    "temp = predictions\n",
    "variable_array = [pm10, so2, no2, co, o3, temp, pres, dewp, rain]"
   ]
  },
  {
   "cell_type": "code",
   "execution_count": 184,
   "id": "13919bf5-2658-4df6-915b-eae3bfd92174",
   "metadata": {},
   "outputs": [],
   "source": [
    "import matplotlib.pyplot as plt"
   ]
  },
  {
   "cell_type": "code",
   "execution_count": 185,
   "id": "596f2ef2-aa31-4d2d-a14f-9c03fc67f09e",
   "metadata": {},
   "outputs": [
    {
     "data": {
      "text/plain": [
       "numpy.ndarray"
      ]
     },
     "execution_count": 185,
     "metadata": {},
     "output_type": "execute_result"
    }
   ],
   "source": [
    "type(input_ary)"
   ]
  },
  {
   "cell_type": "code",
   "execution_count": 186,
   "id": "45b2d3fa-07ac-4d84-97bd-8c1a96dd84fc",
   "metadata": {},
   "outputs": [
    {
     "data": {
      "text/plain": [
       "1095"
      ]
     },
     "execution_count": 186,
     "metadata": {},
     "output_type": "execute_result"
    }
   ],
   "source": [
    "len(variable_array[8])"
   ]
  },
  {
   "cell_type": "code",
   "execution_count": 187,
   "id": "352f2b9b-4986-4a74-aa49-afa0bab4236a",
   "metadata": {},
   "outputs": [
    {
     "data": {
      "text/plain": [
       "[<matplotlib.lines.Line2D at 0x1d1f0685160>]"
      ]
     },
     "execution_count": 187,
     "metadata": {},
     "output_type": "execute_result"
    },
    {
     "data": {
      "image/png": "[encoded data removed]",
      "text/plain": [
       "<Figure size 432x288 with 1 Axes>"
      ]
     },
     "metadata": {
      "needs_background": "light"
     },
     "output_type": "display_data"
    }
   ],
   "source": [
    "plt.plot(variable_array[0])"
   ]
  },
  {
   "cell_type": "code",
   "execution_count": 188,
   "id": "ba328339-a0a4-4174-b002-97491a13f029",
   "metadata": {},
   "outputs": [
    {
     "data": {
      "text/plain": [
       "[<matplotlib.lines.Line2D at 0x1d1ef6e56a0>]"
      ]
     },
     "execution_count": 188,
     "metadata": {},
     "output_type": "execute_result"
    },
    {
     "data": {
      "image/png": "[encoded data removed]",
      "text/plain": [
       "<Figure size 432x288 with 1 Axes>"
      ]
     },
     "metadata": {
      "needs_background": "light"
     },
     "output_type": "display_data"
    }
   ],
   "source": [
    "plt.plot(variable_array[1])"
   ]
  },
  {
   "cell_type": "code",
   "execution_count": 189,
   "id": "6ddca27e-d5b4-4569-aef9-826013e13fe1",
   "metadata": {},
   "outputs": [
    {
     "data": {
      "text/plain": [
       "[<matplotlib.lines.Line2D at 0x1d181c579a0>]"
      ]
     },
     "execution_count": 189,
     "metadata": {},
     "output_type": "execute_result"
    },
    {
     "data": {
      "image/png": "[encoded data removed]",
      "text/plain": [
       "<Figure size 432x288 with 1 Axes>"
      ]
     },
     "metadata": {
      "needs_background": "light"
     },
     "output_type": "display_data"
    }
   ],
   "source": [
    "plt.plot(variable_array[2])"
   ]
  },
  {
   "cell_type": "code",
   "execution_count": 190,
   "id": "25ca321d-6e50-4c57-8285-0ff3f7fbd8c8",
   "metadata": {},
   "outputs": [
    {
     "data": {
      "text/plain": [
       "[<matplotlib.lines.Line2D at 0x1d184cb0760>]"
      ]
     },
     "execution_count": 190,
     "metadata": {},
     "output_type": "execute_result"
    },
    {
     "data": {
      "image/png": "[encoded data removed]",
      "text/plain": [
       "<Figure size 432x288 with 1 Axes>"
      ]
     },
     "metadata": {
      "needs_background": "light"
     },
     "output_type": "display_data"
    }
   ],
   "source": [
    "plt.plot(variable_array[3])"
   ]
  },
  {
   "cell_type": "code",
   "execution_count": 191,
   "id": "845196a8-e031-4ddf-be7a-1855973f772e",
   "metadata": {},
   "outputs": [
    {
     "data": {
      "text/plain": [
       "[<matplotlib.lines.Line2D at 0x1d1f0344ee0>]"
      ]
     },
     "execution_count": 191,
     "metadata": {},
     "output_type": "execute_result"
    },
    {
     "data": {
      "image/png": "[encoded data removed]",
      "text/plain": [
       "<Figure size 432x288 with 1 Axes>"
      ]
     },
     "metadata": {
      "needs_background": "light"
     },
     "output_type": "display_data"
    }
   ],
   "source": [
    "plt.plot(variable_array[4])"
   ]
  },
  {
   "cell_type": "code",
   "execution_count": 192,
   "id": "41a2fa46-ef14-483b-983b-d471a9fd4cd8",
   "metadata": {},
   "outputs": [
    {
     "data": {
      "text/plain": [
       "[<matplotlib.lines.Line2D at 0x1d1818e28b0>]"
      ]
     },
     "execution_count": 192,
     "metadata": {},
     "output_type": "execute_result"
    },
    {
     "data": {
      "image/png": "[encoded data removed]",
      "text/plain": [
       "<Figure size 432x288 with 1 Axes>"
      ]
     },
     "metadata": {
      "needs_background": "light"
     },
     "output_type": "display_data"
    }
   ],
   "source": [
    "plt.plot(variable_array[5])"
   ]
  },
  {
   "cell_type": "code",
   "execution_count": 193,
   "id": "03e5245a-ae64-43a9-b2c8-15f95ea7e54a",
   "metadata": {},
   "outputs": [
    {
     "data": {
      "text/plain": [
       "[<matplotlib.lines.Line2D at 0x1d1f01890a0>]"
      ]
     },
     "execution_count": 193,
     "metadata": {},
     "output_type": "execute_result"
    },
    {
     "data": {
      "image/png": "[encoded data removed]",
      "text/plain": [
       "<Figure size 432x288 with 1 Axes>"
      ]
     },
     "metadata": {
      "needs_background": "light"
     },
     "output_type": "display_data"
    }
   ],
   "source": [
    "plt.plot(variable_array[6])"
   ]
  },
  {
   "cell_type": "code",
   "execution_count": 194,
   "id": "326fc278-7dfd-4150-ac93-545308f3c003",
   "metadata": {},
   "outputs": [
    {
     "data": {
      "text/plain": [
       "[<matplotlib.lines.Line2D at 0x1d1f05c08e0>]"
      ]
     },
     "execution_count": 194,
     "metadata": {},
     "output_type": "execute_result"
    },
    {
     "data": {
      "image/png": "[encoded data removed]",
      "text/plain": [
       "<Figure size 432x288 with 1 Axes>"
      ]
     },
     "metadata": {
      "needs_background": "light"
     },
     "output_type": "display_data"
    }
   ],
   "source": [
    "plt.plot(variable_array[7])"
   ]
  },
  {
   "cell_type": "code",
   "execution_count": 195,
   "id": "869ee480-b0f8-43be-a472-d17dc8f41423",
   "metadata": {},
   "outputs": [
    {
     "data": {
      "text/plain": [
       "[<matplotlib.lines.Line2D at 0x1d1ed43cee0>]"
      ]
     },
     "execution_count": 195,
     "metadata": {},
     "output_type": "execute_result"
    },
    {
     "data": {
      "image/png": "[encoded data removed]",
      "text/plain": [
       "<Figure size 432x288 with 1 Axes>"
      ]
     },
     "metadata": {
      "needs_background": "light"
     },
     "output_type": "display_data"
    }
   ],
   "source": [
    "plt.plot(variable_array[8])"
   ]
  },
  {
   "cell_type": "code",
   "execution_count": 196,
   "id": "4a0e8057-f150-40c2-9c36-d052c24dc196",
   "metadata": {},
   "outputs": [],
   "source": [
    "prediction_df = pd.DataFrame(variable_array)\n",
    "prediction_df = prediction_df.transpose().rename(columns = {0 : 'pm10',1 : 'so2',2 : 'no2',3 : 'co',4 : 'o3',5 : 'temp',6 : 'pres',7 : 'dewp',8 : 'rain'})"
   ]
  },
  {
   "cell_type": "code",
   "execution_count": 197,
   "id": "2620623c-6f8b-4857-bd29-d91148ff73b1",
   "metadata": {},
   "outputs": [
    {
     "data": {
      "text/html": [
       "<div>\n",
       "<style scoped>\n",
       "    .dataframe tbody tr th:only-of-type {\n",
       "        vertical-align: middle;\n",
       "    }\n",
       "\n",
       "    .dataframe tbody tr th {\n",
       "        vertical-align: top;\n",
       "    }\n",
       "\n",
       "    .dataframe thead th {\n",
       "        text-align: right;\n",
       "    }\n",
       "</style>\n",
       "<table border=\"1\" class=\"dataframe\">\n",
       "  <thead>\n",
       "    <tr style=\"text-align: right;\">\n",
       "      <th></th>\n",
       "      <th>pm10</th>\n",
       "      <th>so2</th>\n",
       "      <th>no2</th>\n",
       "      <th>co</th>\n",
       "      <th>o3</th>\n",
       "      <th>temp</th>\n",
       "      <th>pres</th>\n",
       "      <th>dewp</th>\n",
       "      <th>rain</th>\n",
       "    </tr>\n",
       "  </thead>\n",
       "  <tbody>\n",
       "    <tr>\n",
       "      <th>0</th>\n",
       "      <td>3.487441</td>\n",
       "      <td>-0.194838</td>\n",
       "      <td>1.596573</td>\n",
       "      <td>3.798403</td>\n",
       "      <td>-0.935316</td>\n",
       "      <td>-1.596820</td>\n",
       "      <td>1.019441</td>\n",
       "      <td>-0.744515</td>\n",
       "      <td>-0.070045</td>\n",
       "    </tr>\n",
       "    <tr>\n",
       "      <th>1</th>\n",
       "      <td>2.602680</td>\n",
       "      <td>-0.193370</td>\n",
       "      <td>1.193128</td>\n",
       "      <td>3.527185</td>\n",
       "      <td>-0.934116</td>\n",
       "      <td>-1.587485</td>\n",
       "      <td>1.016677</td>\n",
       "      <td>-0.742778</td>\n",
       "      <td>-0.060898</td>\n",
       "    </tr>\n",
       "    <tr>\n",
       "      <th>2</th>\n",
       "      <td>1.702716</td>\n",
       "      <td>-0.182367</td>\n",
       "      <td>0.874851</td>\n",
       "      <td>3.195804</td>\n",
       "      <td>-0.936675</td>\n",
       "      <td>-1.599675</td>\n",
       "      <td>1.015593</td>\n",
       "      <td>-0.741085</td>\n",
       "      <td>-0.056395</td>\n",
       "    </tr>\n",
       "    <tr>\n",
       "      <th>3</th>\n",
       "      <td>0.985223</td>\n",
       "      <td>-0.168977</td>\n",
       "      <td>0.648952</td>\n",
       "      <td>2.892605</td>\n",
       "      <td>-0.942125</td>\n",
       "      <td>-1.636510</td>\n",
       "      <td>1.017341</td>\n",
       "      <td>-0.739223</td>\n",
       "      <td>-0.054278</td>\n",
       "    </tr>\n",
       "    <tr>\n",
       "      <th>4</th>\n",
       "      <td>0.489818</td>\n",
       "      <td>-0.157559</td>\n",
       "      <td>0.497542</td>\n",
       "      <td>2.628342</td>\n",
       "      <td>-0.948926</td>\n",
       "      <td>-1.687791</td>\n",
       "      <td>1.022106</td>\n",
       "      <td>-0.737180</td>\n",
       "      <td>-0.053577</td>\n",
       "    </tr>\n",
       "  </tbody>\n",
       "</table>\n",
       "</div>"
      ],
      "text/plain": [
       "       pm10       so2       no2        co        o3      temp      pres  \\\n",
       "0  3.487441 -0.194838  1.596573  3.798403 -0.935316 -1.596820  1.019441   \n",
       "1  2.602680 -0.193370  1.193128  3.527185 -0.934116 -1.587485  1.016677   \n",
       "2  1.702716 -0.182367  0.874851  3.195804 -0.936675 -1.599675  1.015593   \n",
       "3  0.985223 -0.168977  0.648952  2.892605 -0.942125 -1.636510  1.017341   \n",
       "4  0.489818 -0.157559  0.497542  2.628342 -0.948926 -1.687791  1.022106   \n",
       "\n",
       "       dewp      rain  \n",
       "0 -0.744515 -0.070045  \n",
       "1 -0.742778 -0.060898  \n",
       "2 -0.741085 -0.056395  \n",
       "3 -0.739223 -0.054278  \n",
       "4 -0.737180 -0.053577  "
      ]
     },
     "execution_count": 197,
     "metadata": {},
     "output_type": "execute_result"
    }
   ],
   "source": [
    "prediction_df.head()"
   ]
  },
  {
   "cell_type": "code",
   "execution_count": 198,
   "id": "0d8e44d0-6576-417d-a16c-0fab1c7eb366",
   "metadata": {},
   "outputs": [],
   "source": [
    "pm25_model = load_model('MachineLearning/Models/pm25_model.h5')"
   ]
  },
  {
   "cell_type": "code",
   "execution_count": 199,
   "id": "29c5571d-004c-40bf-bfb6-0de8cc565138",
   "metadata": {},
   "outputs": [
    {
     "data": {
      "text/plain": [
       "array([[154.18802]], dtype=float32)"
      ]
     },
     "execution_count": 199,
     "metadata": {},
     "output_type": "execute_result"
    }
   ],
   "source": [
    "pm25_model.predict([[ 1.109255, 1.933092, -1.025820, 1.451466, -0.709386, 0.826961, 0.994897, -0.006684, -1.312745]])"
   ]
  },
  {
   "cell_type": "code",
   "execution_count": 200,
   "id": "eb6b6e74-3cf4-43e9-a1bb-b2aaed38f0e3",
   "metadata": {},
   "outputs": [],
   "source": [
    "pm25_predictions = []\n",
    "for index, row in prediction_df.iterrows():\n",
    "    array_of_vals = [row[0].item(), row[1].item(), row[2].item(), row[3].item(), row[4].item(), row[5].item(), row[6].item(), row[7].item(), row[8].item()]\n",
    "    pm25_prediction = pm25_model.predict([array_of_vals])\n",
    "    pm25_predictions.append(pm25_prediction[0][0])"
   ]
  },
  {
   "cell_type": "code",
   "execution_count": 201,
   "id": "7b94c437-e184-45c9-8101-ff63b1acc503",
   "metadata": {},
   "outputs": [
    {
     "data": {
      "text/html": [
       "<div>\n",
       "<style scoped>\n",
       "    .dataframe tbody tr th:only-of-type {\n",
       "        vertical-align: middle;\n",
       "    }\n",
       "\n",
       "    .dataframe tbody tr th {\n",
       "        vertical-align: top;\n",
       "    }\n",
       "\n",
       "    .dataframe thead th {\n",
       "        text-align: right;\n",
       "    }\n",
       "</style>\n",
       "<table border=\"1\" class=\"dataframe\">\n",
       "  <thead>\n",
       "    <tr style=\"text-align: right;\">\n",
       "      <th></th>\n",
       "      <th>Unnamed: 0</th>\n",
       "      <th>PM2.5</th>\n",
       "      <th>PM10</th>\n",
       "      <th>SO2</th>\n",
       "      <th>NO2</th>\n",
       "      <th>CO</th>\n",
       "      <th>O3</th>\n",
       "      <th>TEMP</th>\n",
       "      <th>PRES</th>\n",
       "      <th>DEWP</th>\n",
       "      <th>RAIN</th>\n",
       "      <th>dt</th>\n",
       "    </tr>\n",
       "  </thead>\n",
       "  <tbody>\n",
       "    <tr>\n",
       "      <th>0</th>\n",
       "      <td>0</td>\n",
       "      <td>4.0</td>\n",
       "      <td>4.0</td>\n",
       "      <td>4.0</td>\n",
       "      <td>7.0</td>\n",
       "      <td>300.0</td>\n",
       "      <td>77.0</td>\n",
       "      <td>-0.7</td>\n",
       "      <td>1023.0</td>\n",
       "      <td>-18.8</td>\n",
       "      <td>0.0</td>\n",
       "      <td>2013-01-03 00:00:00</td>\n",
       "    </tr>\n",
       "    <tr>\n",
       "      <th>1</th>\n",
       "      <td>0</td>\n",
       "      <td>9.0</td>\n",
       "      <td>9.0</td>\n",
       "      <td>3.0</td>\n",
       "      <td>17.0</td>\n",
       "      <td>300.0</td>\n",
       "      <td>89.0</td>\n",
       "      <td>-0.5</td>\n",
       "      <td>1024.5</td>\n",
       "      <td>-21.4</td>\n",
       "      <td>0.0</td>\n",
       "      <td>2013-01-03 00:00:00</td>\n",
       "    </tr>\n",
       "    <tr>\n",
       "      <th>2</th>\n",
       "      <td>0</td>\n",
       "      <td>4.0</td>\n",
       "      <td>4.0</td>\n",
       "      <td>14.0</td>\n",
       "      <td>20.0</td>\n",
       "      <td>300.0</td>\n",
       "      <td>69.0</td>\n",
       "      <td>-0.7</td>\n",
       "      <td>1023.0</td>\n",
       "      <td>-18.8</td>\n",
       "      <td>0.0</td>\n",
       "      <td>2013-01-03 00:00:00</td>\n",
       "    </tr>\n",
       "    <tr>\n",
       "      <th>3</th>\n",
       "      <td>0</td>\n",
       "      <td>7.0</td>\n",
       "      <td>7.0</td>\n",
       "      <td>3.0</td>\n",
       "      <td>2.0</td>\n",
       "      <td>100.0</td>\n",
       "      <td>91.0</td>\n",
       "      <td>-2.3</td>\n",
       "      <td>1020.3</td>\n",
       "      <td>-20.7</td>\n",
       "      <td>0.0</td>\n",
       "      <td>2013-01-03 00:00:00</td>\n",
       "    </tr>\n",
       "    <tr>\n",
       "      <th>4</th>\n",
       "      <td>0</td>\n",
       "      <td>5.0</td>\n",
       "      <td>14.0</td>\n",
       "      <td>4.0</td>\n",
       "      <td>12.0</td>\n",
       "      <td>200.0</td>\n",
       "      <td>85.0</td>\n",
       "      <td>-0.5</td>\n",
       "      <td>1024.5</td>\n",
       "      <td>-21.4</td>\n",
       "      <td>0.0</td>\n",
       "      <td>2013-01-03 00:00:00</td>\n",
       "    </tr>\n",
       "  </tbody>\n",
       "</table>\n",
       "</div>"
      ],
      "text/plain": [
       "   Unnamed: 0  PM2.5  PM10   SO2   NO2     CO    O3  TEMP    PRES  DEWP  RAIN  \\\n",
       "0           0    4.0   4.0   4.0   7.0  300.0  77.0  -0.7  1023.0 -18.8   0.0   \n",
       "1           0    9.0   9.0   3.0  17.0  300.0  89.0  -0.5  1024.5 -21.4   0.0   \n",
       "2           0    4.0   4.0  14.0  20.0  300.0  69.0  -0.7  1023.0 -18.8   0.0   \n",
       "3           0    7.0   7.0   3.0   2.0  100.0  91.0  -2.3  1020.3 -20.7   0.0   \n",
       "4           0    5.0  14.0   4.0  12.0  200.0  85.0  -0.5  1024.5 -21.4   0.0   \n",
       "\n",
       "                    dt  \n",
       "0  2013-01-03 00:00:00  \n",
       "1  2013-01-03 00:00:00  \n",
       "2  2013-01-03 00:00:00  \n",
       "3  2013-01-03 00:00:00  \n",
       "4  2013-01-03 00:00:00  "
      ]
     },
     "execution_count": 201,
     "metadata": {},
     "output_type": "execute_result"
    }
   ],
   "source": [
    "path = os.path.join(os.getcwd(), 'MachineLearning','Resources', 'all_city_data.csv')\n",
    "df = pd.read_csv(path)\n",
    "df.head()"
   ]
  },
  {
   "cell_type": "code",
   "execution_count": 202,
   "id": "a78f98a2-13e8-4849-9318-99a83138288d",
   "metadata": {},
   "outputs": [],
   "source": [
    "# df = df[df['dt'] <= '2017-01-01']"
   ]
  },
  {
   "cell_type": "code",
   "execution_count": 203,
   "id": "2926cf98-1c14-4656-a53f-cfa474277295",
   "metadata": {},
   "outputs": [
    {
     "data": {
      "text/plain": [
       "'2016-12-31 23:00:00'"
      ]
     },
     "execution_count": 203,
     "metadata": {},
     "output_type": "execute_result"
    }
   ],
   "source": [
    "df['dt'].max()"
   ]
  },
  {
   "cell_type": "code",
   "execution_count": 204,
   "id": "b7c7628f-ad77-452d-9c9a-079b9ca15f0e",
   "metadata": {},
   "outputs": [],
   "source": [
    "df['dt']=pd.to_datetime(df['dt'])"
   ]
  },
  {
   "cell_type": "code",
   "execution_count": 205,
   "id": "2538259e-82cb-4eb8-8a9d-833554bda694",
   "metadata": {},
   "outputs": [],
   "source": [
    "from datetime import timedelta"
   ]
  },
  {
   "cell_type": "code",
   "execution_count": 206,
   "id": "cf668ab6-cfd3-4b5d-980d-c8e17b30bffe",
   "metadata": {},
   "outputs": [
    {
     "data": {
      "text/plain": [
       "Timestamp('2016-12-31 00:00:00')"
      ]
     },
     "execution_count": 206,
     "metadata": {},
     "output_type": "execute_result"
    }
   ],
   "source": [
    "last_date = df['dt'].max()\n",
    "last_date = last_date - timedelta(hours= 23)\n",
    "last_date"
   ]
  },
  {
   "cell_type": "code",
   "execution_count": 207,
   "id": "871b0f73-fad0-4b9e-a89c-1e2bc4f24750",
   "metadata": {},
   "outputs": [],
   "source": [
    "i = len(pm25_predictions) \n",
    "j = 0\n",
    "time_array = []\n",
    "while j < i:\n",
    "    the_day = last_date + timedelta(days= j+1)\n",
    "    time_array.append(the_day)\n",
    "    j = j + 1"
   ]
  },
  {
   "cell_type": "code",
   "execution_count": 208,
   "id": "2669c5f5-a60b-4ac2-9024-63270548fc7b",
   "metadata": {},
   "outputs": [
    {
     "data": {
      "text/plain": [
       "1095"
      ]
     },
     "execution_count": 208,
     "metadata": {},
     "output_type": "execute_result"
    }
   ],
   "source": [
    "len(time_array)"
   ]
  },
  {
   "cell_type": "code",
   "execution_count": 209,
   "id": "576855de-399c-4f1c-8b84-f6464717db59",
   "metadata": {},
   "outputs": [],
   "source": [
    "final_predictions_df = pd.DataFrame({'dt': time_array, 'pm2.5': pm25_predictions})"
   ]
  },
  {
   "cell_type": "code",
   "execution_count": 210,
   "id": "1c3fb594-b9f5-4dbb-be1e-a31772e19829",
   "metadata": {},
   "outputs": [
    {
     "data": {
      "text/html": [
       "<div>\n",
       "<style scoped>\n",
       "    .dataframe tbody tr th:only-of-type {\n",
       "        vertical-align: middle;\n",
       "    }\n",
       "\n",
       "    .dataframe tbody tr th {\n",
       "        vertical-align: top;\n",
       "    }\n",
       "\n",
       "    .dataframe thead th {\n",
       "        text-align: right;\n",
       "    }\n",
       "</style>\n",
       "<table border=\"1\" class=\"dataframe\">\n",
       "  <thead>\n",
       "    <tr style=\"text-align: right;\">\n",
       "      <th></th>\n",
       "      <th>dt</th>\n",
       "      <th>pm2.5</th>\n",
       "    </tr>\n",
       "  </thead>\n",
       "  <tbody>\n",
       "    <tr>\n",
       "      <th>0</th>\n",
       "      <td>2017-01-01</td>\n",
       "      <td>381.369690</td>\n",
       "    </tr>\n",
       "    <tr>\n",
       "      <th>1</th>\n",
       "      <td>2017-01-02</td>\n",
       "      <td>310.970917</td>\n",
       "    </tr>\n",
       "    <tr>\n",
       "      <th>2</th>\n",
       "      <td>2017-01-03</td>\n",
       "      <td>235.956589</td>\n",
       "    </tr>\n",
       "    <tr>\n",
       "      <th>3</th>\n",
       "      <td>2017-01-04</td>\n",
       "      <td>176.285309</td>\n",
       "    </tr>\n",
       "    <tr>\n",
       "      <th>4</th>\n",
       "      <td>2017-01-05</td>\n",
       "      <td>135.356613</td>\n",
       "    </tr>\n",
       "  </tbody>\n",
       "</table>\n",
       "</div>"
      ],
      "text/plain": [
       "          dt       pm2.5\n",
       "0 2017-01-01  381.369690\n",
       "1 2017-01-02  310.970917\n",
       "2 2017-01-03  235.956589\n",
       "3 2017-01-04  176.285309\n",
       "4 2017-01-05  135.356613"
      ]
     },
     "execution_count": 210,
     "metadata": {},
     "output_type": "execute_result"
    }
   ],
   "source": [
    "final_predictions_df.head()"
   ]
  },
  {
   "cell_type": "code",
   "execution_count": 169,
   "id": "1d1ed98d-f2b2-43ec-b5f1-140d9ee2f991",
   "metadata": {},
   "outputs": [],
   "source": [
    "final_predictions_df.to_csv(\"Resources/predictions.csv\")"
   ]
  },
  {
   "cell_type": "code",
   "execution_count": 177,
   "id": "d233cde8-470a-4479-b91a-4d88e03fc642",
   "metadata": {},
   "outputs": [],
   "source": [
    "days_2016_17 = df[df['dt'] >= '2016-06-01']\n",
    "days_2016 = days_2016_17[days_2016_17['dt'] <= '2017-01-01']"
   ]
  },
  {
   "cell_type": "code",
   "execution_count": 178,
   "id": "1602470a-a467-44dc-a0e0-277ae3e162d7",
   "metadata": {},
   "outputs": [],
   "source": [
    "days_2016 = days_2016[['dt', 'PM2.5']].reset_index(drop = True)"
   ]
  },
  {
   "cell_type": "code",
   "execution_count": 179,
   "id": "29b6d36c-ef68-4d9f-88ae-47c57540297f",
   "metadata": {},
   "outputs": [
    {
     "data": {
      "text/html": [
       "<div>\n",
       "<style scoped>\n",
       "    .dataframe tbody tr th:only-of-type {\n",
       "        vertical-align: middle;\n",
       "    }\n",
       "\n",
       "    .dataframe tbody tr th {\n",
       "        vertical-align: top;\n",
       "    }\n",
       "\n",
       "    .dataframe thead th {\n",
       "        text-align: right;\n",
       "    }\n",
       "</style>\n",
       "<table border=\"1\" class=\"dataframe\">\n",
       "  <thead>\n",
       "    <tr style=\"text-align: right;\">\n",
       "      <th></th>\n",
       "      <th>dt</th>\n",
       "      <th>PM2.5</th>\n",
       "    </tr>\n",
       "  </thead>\n",
       "  <tbody>\n",
       "    <tr>\n",
       "      <th>0</th>\n",
       "      <td>2016-06-01</td>\n",
       "      <td>73.0</td>\n",
       "    </tr>\n",
       "    <tr>\n",
       "      <th>1</th>\n",
       "      <td>2016-06-01</td>\n",
       "      <td>27.0</td>\n",
       "    </tr>\n",
       "    <tr>\n",
       "      <th>2</th>\n",
       "      <td>2016-06-01</td>\n",
       "      <td>126.0</td>\n",
       "    </tr>\n",
       "    <tr>\n",
       "      <th>3</th>\n",
       "      <td>2016-06-01</td>\n",
       "      <td>98.0</td>\n",
       "    </tr>\n",
       "    <tr>\n",
       "      <th>4</th>\n",
       "      <td>2016-06-01</td>\n",
       "      <td>27.0</td>\n",
       "    </tr>\n",
       "  </tbody>\n",
       "</table>\n",
       "</div>"
      ],
      "text/plain": [
       "          dt  PM2.5\n",
       "0 2016-06-01   73.0\n",
       "1 2016-06-01   27.0\n",
       "2 2016-06-01  126.0\n",
       "3 2016-06-01   98.0\n",
       "4 2016-06-01   27.0"
      ]
     },
     "execution_count": 179,
     "metadata": {},
     "output_type": "execute_result"
    }
   ],
   "source": [
    "days_2016.head()"
   ]
  },
  {
   "cell_type": "code",
   "execution_count": 180,
   "id": "fb01ee87-29a6-4ce4-bf72-19dc8bbb37a2",
   "metadata": {},
   "outputs": [],
   "source": [
    "days_2016 = days_2016.groupby(pd.Grouper(key='dt', axis=0, freq='d')).mean().reset_index()"
   ]
  },
  {
   "cell_type": "code",
   "execution_count": 181,
   "id": "c1995e64-f710-41ba-aad9-88f0bcd54fc5",
   "metadata": {},
   "outputs": [
    {
     "data": {
      "text/html": [
       "<div>\n",
       "<style scoped>\n",
       "    .dataframe tbody tr th:only-of-type {\n",
       "        vertical-align: middle;\n",
       "    }\n",
       "\n",
       "    .dataframe tbody tr th {\n",
       "        vertical-align: top;\n",
       "    }\n",
       "\n",
       "    .dataframe thead th {\n",
       "        text-align: right;\n",
       "    }\n",
       "</style>\n",
       "<table border=\"1\" class=\"dataframe\">\n",
       "  <thead>\n",
       "    <tr style=\"text-align: right;\">\n",
       "      <th></th>\n",
       "      <th>dt</th>\n",
       "      <th>PM2.5</th>\n",
       "    </tr>\n",
       "  </thead>\n",
       "  <tbody>\n",
       "    <tr>\n",
       "      <th>0</th>\n",
       "      <td>2016-06-01</td>\n",
       "      <td>26.648746</td>\n",
       "    </tr>\n",
       "    <tr>\n",
       "      <th>1</th>\n",
       "      <td>2016-06-02</td>\n",
       "      <td>27.833333</td>\n",
       "    </tr>\n",
       "    <tr>\n",
       "      <th>2</th>\n",
       "      <td>2016-06-03</td>\n",
       "      <td>69.575439</td>\n",
       "    </tr>\n",
       "    <tr>\n",
       "      <th>3</th>\n",
       "      <td>2016-06-04</td>\n",
       "      <td>135.720588</td>\n",
       "    </tr>\n",
       "    <tr>\n",
       "      <th>4</th>\n",
       "      <td>2016-06-05</td>\n",
       "      <td>44.610236</td>\n",
       "    </tr>\n",
       "  </tbody>\n",
       "</table>\n",
       "</div>"
      ],
      "text/plain": [
       "          dt       PM2.5\n",
       "0 2016-06-01   26.648746\n",
       "1 2016-06-02   27.833333\n",
       "2 2016-06-03   69.575439\n",
       "3 2016-06-04  135.720588\n",
       "4 2016-06-05   44.610236"
      ]
     },
     "execution_count": 181,
     "metadata": {},
     "output_type": "execute_result"
    }
   ],
   "source": [
    "df_2016 = days_2016\n",
    "df_2016.head()"
   ]
  },
  {
   "cell_type": "code",
   "execution_count": 182,
   "id": "f8de539e-fab9-4a42-ac8e-3dcf7098a512",
   "metadata": {},
   "outputs": [],
   "source": [
    "# df_2016.to_csv(\"Resources/df_2016.csv\")"
   ]
  },
  {
   "cell_type": "code",
   "execution_count": 166,
   "id": "7795ed5d-31a9-49a9-8e66-e84edb628df3",
   "metadata": {},
   "outputs": [
    {
     "data": {
      "text/plain": [
       "[<matplotlib.lines.Line2D at 0x1d1811d4c40>]"
      ]
     },
     "execution_count": 166,
     "metadata": {},
     "output_type": "execute_result"
    },
    {
     "data": {
      "image/png": "[encoded data removed]",
      "text/plain": [
       "<Figure size 432x288 with 1 Axes>"
      ]
     },
     "metadata": {
      "needs_background": "light"
     },
     "output_type": "display_data"
    }
   ],
   "source": [
    "plt.plot(df_2015['PM2.5'])"
   ]
  },
  {
   "cell_type": "code",
   "execution_count": 167,
   "id": "e9635bde-beae-46b4-9839-1ffde58cbac4",
   "metadata": {},
   "outputs": [
    {
     "data": {
      "text/plain": [
       "[<matplotlib.lines.Line2D at 0x1d1f09ed190>]"
      ]
     },
     "execution_count": 167,
     "metadata": {},
     "output_type": "execute_result"
    },
    {
     "data": {
      "image/png": "[encoded data removed]",
      "text/plain": [
       "<Figure size 432x288 with 1 Axes>"
      ]
     },
     "metadata": {
      "needs_background": "light"
     },
     "output_type": "display_data"
    }
   ],
   "source": [
    "plt.plot(final_predictions_df['pm2.5'])"
   ]
  },
  {
   "cell_type": "code",
   "execution_count": 168,
   "id": "9f0a25c4-771d-492c-bae2-0c350aee9963",
   "metadata": {},
   "outputs": [
    {
     "data": {
      "text/html": [
       "<div>\n",
       "<style scoped>\n",
       "    .dataframe tbody tr th:only-of-type {\n",
       "        vertical-align: middle;\n",
       "    }\n",
       "\n",
       "    .dataframe tbody tr th {\n",
       "        vertical-align: top;\n",
       "    }\n",
       "\n",
       "    .dataframe thead th {\n",
       "        text-align: right;\n",
       "    }\n",
       "</style>\n",
       "<table border=\"1\" class=\"dataframe\">\n",
       "  <thead>\n",
       "    <tr style=\"text-align: right;\">\n",
       "      <th></th>\n",
       "      <th>dt</th>\n",
       "      <th>PM2.5</th>\n",
       "      <th>PM10</th>\n",
       "      <th>SO2</th>\n",
       "      <th>NO2</th>\n",
       "      <th>CO</th>\n",
       "      <th>O3</th>\n",
       "      <th>TEMP</th>\n",
       "      <th>PRES</th>\n",
       "      <th>DEWP</th>\n",
       "      <th>RAIN</th>\n",
       "    </tr>\n",
       "  </thead>\n",
       "  <tbody>\n",
       "    <tr>\n",
       "      <th>0</th>\n",
       "      <td>2013-01-03 00:00:00</td>\n",
       "      <td>5.800000</td>\n",
       "      <td>-1.080358</td>\n",
       "      <td>-0.444993</td>\n",
       "      <td>-1.086331</td>\n",
       "      <td>-0.842661</td>\n",
       "      <td>0.269844</td>\n",
       "      <td>-1.325402</td>\n",
       "      <td>1.238340</td>\n",
       "      <td>-1.703139</td>\n",
       "      <td>-0.080522</td>\n",
       "    </tr>\n",
       "    <tr>\n",
       "      <th>1</th>\n",
       "      <td>2013-01-03 01:00:00</td>\n",
       "      <td>7.222222</td>\n",
       "      <td>-1.047856</td>\n",
       "      <td>-0.450193</td>\n",
       "      <td>-1.071621</td>\n",
       "      <td>-0.825829</td>\n",
       "      <td>0.245656</td>\n",
       "      <td>-1.337020</td>\n",
       "      <td>1.308589</td>\n",
       "      <td>-1.703547</td>\n",
       "      <td>-0.080522</td>\n",
       "    </tr>\n",
       "    <tr>\n",
       "      <th>2</th>\n",
       "      <td>2013-01-03 02:00:00</td>\n",
       "      <td>4.500000</td>\n",
       "      <td>-1.105939</td>\n",
       "      <td>-0.343597</td>\n",
       "      <td>-1.113193</td>\n",
       "      <td>-0.830779</td>\n",
       "      <td>0.304674</td>\n",
       "      <td>-1.403971</td>\n",
       "      <td>1.261254</td>\n",
       "      <td>-1.765618</td>\n",
       "      <td>-0.080522</td>\n",
       "    </tr>\n",
       "    <tr>\n",
       "      <th>3</th>\n",
       "      <td>2013-01-03 03:00:00</td>\n",
       "      <td>4.600000</td>\n",
       "      <td>-1.097041</td>\n",
       "      <td>-0.360757</td>\n",
       "      <td>-1.051794</td>\n",
       "      <td>-0.815927</td>\n",
       "      <td>0.289000</td>\n",
       "      <td>-1.410469</td>\n",
       "      <td>1.384539</td>\n",
       "      <td>-1.830302</td>\n",
       "      <td>-0.080522</td>\n",
       "    </tr>\n",
       "    <tr>\n",
       "      <th>4</th>\n",
       "      <td>2013-01-03 04:00:00</td>\n",
       "      <td>3.800000</td>\n",
       "      <td>-1.112613</td>\n",
       "      <td>-0.313959</td>\n",
       "      <td>-1.046038</td>\n",
       "      <td>-0.798105</td>\n",
       "      <td>0.282034</td>\n",
       "      <td>-1.447685</td>\n",
       "      <td>1.456186</td>\n",
       "      <td>-1.808250</td>\n",
       "      <td>-0.080522</td>\n",
       "    </tr>\n",
       "  </tbody>\n",
       "</table>\n",
       "</div>"
      ],
      "text/plain": [
       "                    dt     PM2.5      PM10       SO2       NO2        CO  \\\n",
       "0  2013-01-03 00:00:00  5.800000 -1.080358 -0.444993 -1.086331 -0.842661   \n",
       "1  2013-01-03 01:00:00  7.222222 -1.047856 -0.450193 -1.071621 -0.825829   \n",
       "2  2013-01-03 02:00:00  4.500000 -1.105939 -0.343597 -1.113193 -0.830779   \n",
       "3  2013-01-03 03:00:00  4.600000 -1.097041 -0.360757 -1.051794 -0.815927   \n",
       "4  2013-01-03 04:00:00  3.800000 -1.112613 -0.313959 -1.046038 -0.798105   \n",
       "\n",
       "         O3      TEMP      PRES      DEWP      RAIN  \n",
       "0  0.269844 -1.325402  1.238340 -1.703139 -0.080522  \n",
       "1  0.245656 -1.337020  1.308589 -1.703547 -0.080522  \n",
       "2  0.304674 -1.403971  1.261254 -1.765618 -0.080522  \n",
       "3  0.289000 -1.410469  1.384539 -1.830302 -0.080522  \n",
       "4  0.282034 -1.447685  1.456186 -1.808250 -0.080522  "
      ]
     },
     "execution_count": 168,
     "metadata": {},
     "output_type": "execute_result"
    }
   ],
   "source": [
    "grouped_df.head()"
   ]
  },
  {
   "cell_type": "code",
   "execution_count": 60,
   "id": "de203a4f-5d76-40ed-a3cf-0b7179352c5b",
   "metadata": {},
   "outputs": [],
   "source": [
    "# grouped_df['dt']=pd.to_datetime(grouped_df['dt'])"
   ]
  },
  {
   "cell_type": "code",
   "execution_count": 61,
   "id": "92a2c07e-5efa-4e14-82f0-79409488d2c6",
   "metadata": {},
   "outputs": [],
   "source": [
    "# group2_df = grouped_df.groupby(pd.Grouper(key='dt', axis=0, freq='D')).mean().dropna().reset_index()"
   ]
  },
  {
   "cell_type": "code",
   "execution_count": 63,
   "id": "c9452b5d-817c-4a63-9c71-0c319ef9b226",
   "metadata": {},
   "outputs": [
    {
     "data": {
      "text/html": [
       "<div>\n",
       "<style scoped>\n",
       "    .dataframe tbody tr th:only-of-type {\n",
       "        vertical-align: middle;\n",
       "    }\n",
       "\n",
       "    .dataframe tbody tr th {\n",
       "        vertical-align: top;\n",
       "    }\n",
       "\n",
       "    .dataframe thead th {\n",
       "        text-align: right;\n",
       "    }\n",
       "</style>\n",
       "<table border=\"1\" class=\"dataframe\">\n",
       "  <thead>\n",
       "    <tr style=\"text-align: right;\">\n",
       "      <th></th>\n",
       "      <th>dt</th>\n",
       "      <th>PM2.5</th>\n",
       "      <th>PM10</th>\n",
       "      <th>SO2</th>\n",
       "      <th>NO2</th>\n",
       "      <th>CO</th>\n",
       "      <th>O3</th>\n",
       "      <th>TEMP</th>\n",
       "      <th>PRES</th>\n",
       "      <th>DEWP</th>\n",
       "      <th>RAIN</th>\n",
       "    </tr>\n",
       "  </thead>\n",
       "  <tbody>\n",
       "    <tr>\n",
       "      <th>0</th>\n",
       "      <td>2013-01-03</td>\n",
       "      <td>7.171065</td>\n",
       "      <td>-1.026632</td>\n",
       "      <td>-0.262020</td>\n",
       "      <td>-0.847045</td>\n",
       "      <td>-0.738237</td>\n",
       "      <td>0.166777</td>\n",
       "      <td>-1.145105</td>\n",
       "      <td>1.604968</td>\n",
       "      <td>-1.711925</td>\n",
       "      <td>-0.080522</td>\n",
       "    </tr>\n",
       "    <tr>\n",
       "      <th>1</th>\n",
       "      <td>2013-01-04</td>\n",
       "      <td>99.499369</td>\n",
       "      <td>0.161768</td>\n",
       "      <td>0.422609</td>\n",
       "      <td>-0.179143</td>\n",
       "      <td>0.118764</td>\n",
       "      <td>-0.078354</td>\n",
       "      <td>-0.317197</td>\n",
       "      <td>0.102064</td>\n",
       "      <td>-0.589099</td>\n",
       "      <td>-0.080522</td>\n",
       "    </tr>\n",
       "    <tr>\n",
       "      <th>2</th>\n",
       "      <td>2013-01-05</td>\n",
       "      <td>39.200758</td>\n",
       "      <td>-0.146804</td>\n",
       "      <td>0.012281</td>\n",
       "      <td>-0.304348</td>\n",
       "      <td>-0.521801</td>\n",
       "      <td>0.480318</td>\n",
       "      <td>0.308715</td>\n",
       "      <td>-0.108922</td>\n",
       "      <td>-0.192782</td>\n",
       "      <td>-0.080522</td>\n",
       "    </tr>\n",
       "    <tr>\n",
       "      <th>3</th>\n",
       "      <td>2013-01-06</td>\n",
       "      <td>71.583481</td>\n",
       "      <td>0.089834</td>\n",
       "      <td>-0.183119</td>\n",
       "      <td>-0.157487</td>\n",
       "      <td>-0.480521</td>\n",
       "      <td>0.462338</td>\n",
       "      <td>0.972671</td>\n",
       "      <td>-0.941084</td>\n",
       "      <td>0.379518</td>\n",
       "      <td>-0.080522</td>\n",
       "    </tr>\n",
       "    <tr>\n",
       "      <th>4</th>\n",
       "      <td>2013-01-07</td>\n",
       "      <td>161.726342</td>\n",
       "      <td>0.326210</td>\n",
       "      <td>-0.303098</td>\n",
       "      <td>0.158802</td>\n",
       "      <td>0.726373</td>\n",
       "      <td>-0.734289</td>\n",
       "      <td>0.933175</td>\n",
       "      <td>-1.639040</td>\n",
       "      <td>1.486071</td>\n",
       "      <td>1.788501</td>\n",
       "    </tr>\n",
       "  </tbody>\n",
       "</table>\n",
       "</div>"
      ],
      "text/plain": [
       "          dt       PM2.5      PM10       SO2       NO2        CO        O3  \\\n",
       "0 2013-01-03    7.171065 -1.026632 -0.262020 -0.847045 -0.738237  0.166777   \n",
       "1 2013-01-04   99.499369  0.161768  0.422609 -0.179143  0.118764 -0.078354   \n",
       "2 2013-01-05   39.200758 -0.146804  0.012281 -0.304348 -0.521801  0.480318   \n",
       "3 2013-01-06   71.583481  0.089834 -0.183119 -0.157487 -0.480521  0.462338   \n",
       "4 2013-01-07  161.726342  0.326210 -0.303098  0.158802  0.726373 -0.734289   \n",
       "\n",
       "       TEMP      PRES      DEWP      RAIN  \n",
       "0 -1.145105  1.604968 -1.711925 -0.080522  \n",
       "1 -0.317197  0.102064 -0.589099 -0.080522  \n",
       "2  0.308715 -0.108922 -0.192782 -0.080522  \n",
       "3  0.972671 -0.941084  0.379518 -0.080522  \n",
       "4  0.933175 -1.639040  1.486071  1.788501  "
      ]
     },
     "execution_count": 63,
     "metadata": {},
     "output_type": "execute_result"
    }
   ],
   "source": [
    "# group2_df.head()"
   ]
  },
  {
   "cell_type": "code",
   "execution_count": 64,
   "id": "8685840f-9c2b-4fb2-b34f-baaa789bdb67",
   "metadata": {},
   "outputs": [
    {
     "data": {
      "text/plain": [
       "1402"
      ]
     },
     "execution_count": 64,
     "metadata": {},
     "output_type": "execute_result"
    }
   ],
   "source": [
    "# len(group2_df['dt'])"
   ]
  },
  {
   "cell_type": "code",
   "execution_count": null,
   "id": "d50cfef8-db7a-40d3-acc4-bf0a69b7104f",
   "metadata": {},
   "outputs": [],
   "source": []
  }
 ],
 "metadata": {
  "kernelspec": {
   "display_name": "Python 3 (ipykernel)",
   "language": "python",
   "name": "python3"
  },
  "language_info": {
   "codemirror_mode": {
    "name": "ipython",
    "version": 3
   },
   "file_extension": ".py",
   "mimetype": "text/x-python",
   "name": "python",
   "nbconvert_exporter": "python",
   "pygments_lexer": "ipython3",
   "version": "3.9.7"
  }
 },
 "nbformat": 4,
 "nbformat_minor": 5
}
