{
 "cells": [
  {
   "cell_type": "code",
   "execution_count": 1,
   "id": "35846f4f-ca81-4264-bcac-e173fd91883f",
   "metadata": {},
   "outputs": [],
   "source": [
    "## Import Dependencies\n",
    "import os\n",
    "import pandas as pd\n",
    "import csv\n",
    "import numpy as np"
   ]
  },
  {
   "cell_type": "code",
   "execution_count": 2,
   "id": "13b468e5-d049-434c-ae87-13ca0ee00565",
   "metadata": {},
   "outputs": [],
   "source": [
    "## Get data csv paths\n",
    "aotizhongxin_path = os.path.join(os.getcwd(), 'Resources', 'PRSA_Data_Aotizhongxin_20130301-20170228.csv')\n",
    "changping_path = os.path.join(os.getcwd(), 'Resources', 'PRSA_Data_Changping_20130301-20170228.csv')\n",
    "dingling_path = os.path.join(os.getcwd(), 'Resources', 'PRSA_Data_Dingling_20130301-20170228.csv')\n",
    "dongsi_path = os.path.join(os.getcwd(), 'Resources', 'PRSA_Data_Dongsi_20130301-20170228.csv')\n",
    "guanyuan_path = os.path.join(os.getcwd(), 'Resources', 'PRSA_Data_Guanyuan_20130301-20170228.csv')\n",
    "gucheng_path = os.path.join(os.getcwd(), 'Resources', 'PRSA_Data_Gucheng_20130301-20170228.csv')\n",
    "huairou_path = os.path.join(os.getcwd(), 'Resources', 'PRSA_Data_Huairou_20130301-20170228.csv')\n",
    "nongzhanguan_path = os.path.join(os.getcwd(), 'Resources', 'PRSA_Data_Nongzhanguan_20130301-20170228.csv')\n",
    "shunyi_path = os.path.join(os.getcwd(), 'Resources', 'PRSA_Data_Shunyi_20130301-20170228.csv')\n",
    "tiantan_path = os.path.join(os.getcwd(), 'Resources', 'PRSA_Data_Tiantan_20130301-20170228.csv')\n",
    "wanliu_path = os.path.join(os.getcwd(), 'Resources', 'PRSA_Data_Wanliu_20130301-20170228.csv')\n",
    "wanshouxigong_path = os.path.join(os.getcwd(), 'Resources', 'PRSA_Data_Wanshouxigong_20130301-20170228.csv')"
   ]
  },
  {
   "cell_type": "code",
   "execution_count": 3,
   "id": "d9bcac85-1a34-4951-9163-328fa9845521",
   "metadata": {},
   "outputs": [],
   "source": [
    "## load data into dataframes\n",
    "aotizhongxin_df = pd.read_csv(aotizhongxin_path)\n",
    "changping_df = pd.read_csv(changping_path)\n",
    "dingling_df = pd.read_csv(dingling_path)\n",
    "dongsi_df = pd.read_csv(dongsi_path)\n",
    "guanyuan_df = pd.read_csv(guanyuan_path)\n",
    "gucheng_df = pd.read_csv(gucheng_path)\n",
    "huairou_df = pd.read_csv(huairou_path)\n",
    "nongzhanguan_df = pd.read_csv(nongzhanguan_path)\n",
    "shunyi_df = pd.read_csv(shunyi_path)\n",
    "tiantan_df = pd.read_csv(tiantan_path)\n",
    "wanliu_df = pd.read_csv(wanliu_path)\n",
    "wanshouxigong_df = pd.read_csv(wanshouxigong_path)"
   ]
  },
  {
   "cell_type": "code",
   "execution_count": 4,
   "id": "ff65b791-eeb5-4976-b7f6-11a49f114799",
   "metadata": {},
   "outputs": [
    {
     "data": {
      "text/html": [
       "<div>\n",
       "<style scoped>\n",
       "    .dataframe tbody tr th:only-of-type {\n",
       "        vertical-align: middle;\n",
       "    }\n",
       "\n",
       "    .dataframe tbody tr th {\n",
       "        vertical-align: top;\n",
       "    }\n",
       "\n",
       "    .dataframe thead th {\n",
       "        text-align: right;\n",
       "    }\n",
       "</style>\n",
       "<table border=\"1\" class=\"dataframe\">\n",
       "  <thead>\n",
       "    <tr style=\"text-align: right;\">\n",
       "      <th></th>\n",
       "      <th>No</th>\n",
       "      <th>year</th>\n",
       "      <th>month</th>\n",
       "      <th>day</th>\n",
       "      <th>hour</th>\n",
       "      <th>PM2.5</th>\n",
       "      <th>PM10</th>\n",
       "      <th>SO2</th>\n",
       "      <th>NO2</th>\n",
       "      <th>CO</th>\n",
       "      <th>O3</th>\n",
       "      <th>TEMP</th>\n",
       "      <th>PRES</th>\n",
       "      <th>DEWP</th>\n",
       "      <th>RAIN</th>\n",
       "      <th>wd</th>\n",
       "      <th>WSPM</th>\n",
       "      <th>station</th>\n",
       "    </tr>\n",
       "  </thead>\n",
       "  <tbody>\n",
       "    <tr>\n",
       "      <th>0</th>\n",
       "      <td>1</td>\n",
       "      <td>2013</td>\n",
       "      <td>3</td>\n",
       "      <td>1</td>\n",
       "      <td>0</td>\n",
       "      <td>4.0</td>\n",
       "      <td>4.0</td>\n",
       "      <td>4.0</td>\n",
       "      <td>7.0</td>\n",
       "      <td>300.0</td>\n",
       "      <td>77.0</td>\n",
       "      <td>-0.7</td>\n",
       "      <td>1023.0</td>\n",
       "      <td>-18.8</td>\n",
       "      <td>0.0</td>\n",
       "      <td>NNW</td>\n",
       "      <td>4.4</td>\n",
       "      <td>Aotizhongxin</td>\n",
       "    </tr>\n",
       "    <tr>\n",
       "      <th>1</th>\n",
       "      <td>2</td>\n",
       "      <td>2013</td>\n",
       "      <td>3</td>\n",
       "      <td>1</td>\n",
       "      <td>1</td>\n",
       "      <td>8.0</td>\n",
       "      <td>8.0</td>\n",
       "      <td>4.0</td>\n",
       "      <td>7.0</td>\n",
       "      <td>300.0</td>\n",
       "      <td>77.0</td>\n",
       "      <td>-1.1</td>\n",
       "      <td>1023.2</td>\n",
       "      <td>-18.2</td>\n",
       "      <td>0.0</td>\n",
       "      <td>N</td>\n",
       "      <td>4.7</td>\n",
       "      <td>Aotizhongxin</td>\n",
       "    </tr>\n",
       "    <tr>\n",
       "      <th>2</th>\n",
       "      <td>3</td>\n",
       "      <td>2013</td>\n",
       "      <td>3</td>\n",
       "      <td>1</td>\n",
       "      <td>2</td>\n",
       "      <td>7.0</td>\n",
       "      <td>7.0</td>\n",
       "      <td>5.0</td>\n",
       "      <td>10.0</td>\n",
       "      <td>300.0</td>\n",
       "      <td>73.0</td>\n",
       "      <td>-1.1</td>\n",
       "      <td>1023.5</td>\n",
       "      <td>-18.2</td>\n",
       "      <td>0.0</td>\n",
       "      <td>NNW</td>\n",
       "      <td>5.6</td>\n",
       "      <td>Aotizhongxin</td>\n",
       "    </tr>\n",
       "    <tr>\n",
       "      <th>3</th>\n",
       "      <td>4</td>\n",
       "      <td>2013</td>\n",
       "      <td>3</td>\n",
       "      <td>1</td>\n",
       "      <td>3</td>\n",
       "      <td>6.0</td>\n",
       "      <td>6.0</td>\n",
       "      <td>11.0</td>\n",
       "      <td>11.0</td>\n",
       "      <td>300.0</td>\n",
       "      <td>72.0</td>\n",
       "      <td>-1.4</td>\n",
       "      <td>1024.5</td>\n",
       "      <td>-19.4</td>\n",
       "      <td>0.0</td>\n",
       "      <td>NW</td>\n",
       "      <td>3.1</td>\n",
       "      <td>Aotizhongxin</td>\n",
       "    </tr>\n",
       "    <tr>\n",
       "      <th>4</th>\n",
       "      <td>5</td>\n",
       "      <td>2013</td>\n",
       "      <td>3</td>\n",
       "      <td>1</td>\n",
       "      <td>4</td>\n",
       "      <td>3.0</td>\n",
       "      <td>3.0</td>\n",
       "      <td>12.0</td>\n",
       "      <td>12.0</td>\n",
       "      <td>300.0</td>\n",
       "      <td>72.0</td>\n",
       "      <td>-2.0</td>\n",
       "      <td>1025.2</td>\n",
       "      <td>-19.5</td>\n",
       "      <td>0.0</td>\n",
       "      <td>N</td>\n",
       "      <td>2.0</td>\n",
       "      <td>Aotizhongxin</td>\n",
       "    </tr>\n",
       "  </tbody>\n",
       "</table>\n",
       "</div>"
      ],
      "text/plain": [
       "   No  year  month  day  hour  PM2.5  PM10   SO2   NO2     CO    O3  TEMP  \\\n",
       "0   1  2013      3    1     0    4.0   4.0   4.0   7.0  300.0  77.0  -0.7   \n",
       "1   2  2013      3    1     1    8.0   8.0   4.0   7.0  300.0  77.0  -1.1   \n",
       "2   3  2013      3    1     2    7.0   7.0   5.0  10.0  300.0  73.0  -1.1   \n",
       "3   4  2013      3    1     3    6.0   6.0  11.0  11.0  300.0  72.0  -1.4   \n",
       "4   5  2013      3    1     4    3.0   3.0  12.0  12.0  300.0  72.0  -2.0   \n",
       "\n",
       "     PRES  DEWP  RAIN   wd  WSPM       station  \n",
       "0  1023.0 -18.8   0.0  NNW   4.4  Aotizhongxin  \n",
       "1  1023.2 -18.2   0.0    N   4.7  Aotizhongxin  \n",
       "2  1023.5 -18.2   0.0  NNW   5.6  Aotizhongxin  \n",
       "3  1024.5 -19.4   0.0   NW   3.1  Aotizhongxin  \n",
       "4  1025.2 -19.5   0.0    N   2.0  Aotizhongxin  "
      ]
     },
     "execution_count": 4,
     "metadata": {},
     "output_type": "execute_result"
    }
   ],
   "source": [
    "## Take a peak\n",
    "aotizhongxin_df.head()"
   ]
  },
  {
   "cell_type": "code",
   "execution_count": 5,
   "id": "b52e880d-0553-468f-b661-c40dd0c998ec",
   "metadata": {},
   "outputs": [],
   "source": [
    "## concatonate all of our data to get a big dataframe\n",
    "all_cities_df = pd.concat([aotizhongxin_df, changping_df, dingling_df, dongsi_df, guanyuan_df, gucheng_df, huairou_df, nongzhanguan_df, shunyi_df, tiantan_df, wanliu_df, wanshouxigong_df])"
   ]
  },
  {
   "cell_type": "code",
   "execution_count": 6,
   "id": "3c14b6f2-c08d-4a57-9641-ad9316999433",
   "metadata": {},
   "outputs": [
    {
     "data": {
      "text/html": [
       "<div>\n",
       "<style scoped>\n",
       "    .dataframe tbody tr th:only-of-type {\n",
       "        vertical-align: middle;\n",
       "    }\n",
       "\n",
       "    .dataframe tbody tr th {\n",
       "        vertical-align: top;\n",
       "    }\n",
       "\n",
       "    .dataframe thead th {\n",
       "        text-align: right;\n",
       "    }\n",
       "</style>\n",
       "<table border=\"1\" class=\"dataframe\">\n",
       "  <thead>\n",
       "    <tr style=\"text-align: right;\">\n",
       "      <th></th>\n",
       "      <th>No</th>\n",
       "      <th>year</th>\n",
       "      <th>month</th>\n",
       "      <th>day</th>\n",
       "      <th>hour</th>\n",
       "      <th>PM2.5</th>\n",
       "      <th>PM10</th>\n",
       "      <th>SO2</th>\n",
       "      <th>NO2</th>\n",
       "      <th>CO</th>\n",
       "      <th>O3</th>\n",
       "      <th>TEMP</th>\n",
       "      <th>PRES</th>\n",
       "      <th>DEWP</th>\n",
       "      <th>RAIN</th>\n",
       "      <th>wd</th>\n",
       "      <th>WSPM</th>\n",
       "      <th>station</th>\n",
       "    </tr>\n",
       "  </thead>\n",
       "  <tbody>\n",
       "    <tr>\n",
       "      <th>0</th>\n",
       "      <td>1</td>\n",
       "      <td>2013</td>\n",
       "      <td>3</td>\n",
       "      <td>1</td>\n",
       "      <td>0</td>\n",
       "      <td>4.0</td>\n",
       "      <td>4.0</td>\n",
       "      <td>4.0</td>\n",
       "      <td>7.0</td>\n",
       "      <td>300.0</td>\n",
       "      <td>77.0</td>\n",
       "      <td>-0.7</td>\n",
       "      <td>1023.0</td>\n",
       "      <td>-18.8</td>\n",
       "      <td>0.0</td>\n",
       "      <td>NNW</td>\n",
       "      <td>4.4</td>\n",
       "      <td>Aotizhongxin</td>\n",
       "    </tr>\n",
       "    <tr>\n",
       "      <th>1</th>\n",
       "      <td>2</td>\n",
       "      <td>2013</td>\n",
       "      <td>3</td>\n",
       "      <td>1</td>\n",
       "      <td>1</td>\n",
       "      <td>8.0</td>\n",
       "      <td>8.0</td>\n",
       "      <td>4.0</td>\n",
       "      <td>7.0</td>\n",
       "      <td>300.0</td>\n",
       "      <td>77.0</td>\n",
       "      <td>-1.1</td>\n",
       "      <td>1023.2</td>\n",
       "      <td>-18.2</td>\n",
       "      <td>0.0</td>\n",
       "      <td>N</td>\n",
       "      <td>4.7</td>\n",
       "      <td>Aotizhongxin</td>\n",
       "    </tr>\n",
       "    <tr>\n",
       "      <th>2</th>\n",
       "      <td>3</td>\n",
       "      <td>2013</td>\n",
       "      <td>3</td>\n",
       "      <td>1</td>\n",
       "      <td>2</td>\n",
       "      <td>7.0</td>\n",
       "      <td>7.0</td>\n",
       "      <td>5.0</td>\n",
       "      <td>10.0</td>\n",
       "      <td>300.0</td>\n",
       "      <td>73.0</td>\n",
       "      <td>-1.1</td>\n",
       "      <td>1023.5</td>\n",
       "      <td>-18.2</td>\n",
       "      <td>0.0</td>\n",
       "      <td>NNW</td>\n",
       "      <td>5.6</td>\n",
       "      <td>Aotizhongxin</td>\n",
       "    </tr>\n",
       "    <tr>\n",
       "      <th>3</th>\n",
       "      <td>4</td>\n",
       "      <td>2013</td>\n",
       "      <td>3</td>\n",
       "      <td>1</td>\n",
       "      <td>3</td>\n",
       "      <td>6.0</td>\n",
       "      <td>6.0</td>\n",
       "      <td>11.0</td>\n",
       "      <td>11.0</td>\n",
       "      <td>300.0</td>\n",
       "      <td>72.0</td>\n",
       "      <td>-1.4</td>\n",
       "      <td>1024.5</td>\n",
       "      <td>-19.4</td>\n",
       "      <td>0.0</td>\n",
       "      <td>NW</td>\n",
       "      <td>3.1</td>\n",
       "      <td>Aotizhongxin</td>\n",
       "    </tr>\n",
       "    <tr>\n",
       "      <th>4</th>\n",
       "      <td>5</td>\n",
       "      <td>2013</td>\n",
       "      <td>3</td>\n",
       "      <td>1</td>\n",
       "      <td>4</td>\n",
       "      <td>3.0</td>\n",
       "      <td>3.0</td>\n",
       "      <td>12.0</td>\n",
       "      <td>12.0</td>\n",
       "      <td>300.0</td>\n",
       "      <td>72.0</td>\n",
       "      <td>-2.0</td>\n",
       "      <td>1025.2</td>\n",
       "      <td>-19.5</td>\n",
       "      <td>0.0</td>\n",
       "      <td>N</td>\n",
       "      <td>2.0</td>\n",
       "      <td>Aotizhongxin</td>\n",
       "    </tr>\n",
       "  </tbody>\n",
       "</table>\n",
       "</div>"
      ],
      "text/plain": [
       "   No  year  month  day  hour  PM2.5  PM10   SO2   NO2     CO    O3  TEMP  \\\n",
       "0   1  2013      3    1     0    4.0   4.0   4.0   7.0  300.0  77.0  -0.7   \n",
       "1   2  2013      3    1     1    8.0   8.0   4.0   7.0  300.0  77.0  -1.1   \n",
       "2   3  2013      3    1     2    7.0   7.0   5.0  10.0  300.0  73.0  -1.1   \n",
       "3   4  2013      3    1     3    6.0   6.0  11.0  11.0  300.0  72.0  -1.4   \n",
       "4   5  2013      3    1     4    3.0   3.0  12.0  12.0  300.0  72.0  -2.0   \n",
       "\n",
       "     PRES  DEWP  RAIN   wd  WSPM       station  \n",
       "0  1023.0 -18.8   0.0  NNW   4.4  Aotizhongxin  \n",
       "1  1023.2 -18.2   0.0    N   4.7  Aotizhongxin  \n",
       "2  1023.5 -18.2   0.0  NNW   5.6  Aotizhongxin  \n",
       "3  1024.5 -19.4   0.0   NW   3.1  Aotizhongxin  \n",
       "4  1025.2 -19.5   0.0    N   2.0  Aotizhongxin  "
      ]
     },
     "execution_count": 6,
     "metadata": {},
     "output_type": "execute_result"
    }
   ],
   "source": [
    "all_cities_df.head()"
   ]
  },
  {
   "cell_type": "code",
   "execution_count": 7,
   "id": "fbf97ed7-ded0-4862-8b4a-adc08d749654",
   "metadata": {},
   "outputs": [
    {
     "data": {
      "text/plain": [
       "Aotizhongxin     35064\n",
       "Changping        35064\n",
       "Dingling         35064\n",
       "Dongsi           35064\n",
       "Guanyuan         35064\n",
       "Gucheng          35064\n",
       "Huairou          35064\n",
       "Nongzhanguan     35064\n",
       "Shunyi           35064\n",
       "Tiantan          35064\n",
       "Wanliu           35064\n",
       "Wanshouxigong    35064\n",
       "Name: station, dtype: int64"
      ]
     },
     "execution_count": 7,
     "metadata": {},
     "output_type": "execute_result"
    }
   ],
   "source": [
    "## Let's start looking at values for binning\n",
    "all_cities_df['station'].value_counts()"
   ]
  },
  {
   "cell_type": "code",
   "execution_count": 8,
   "id": "a3e81ae9-0e22-436f-8860-d93d5b7868cf",
   "metadata": {},
   "outputs": [],
   "source": [
    "## so 'station', 'pres', 'dewp', 'rain', 'No', 'WSPM' can be dropped"
   ]
  },
  {
   "cell_type": "code",
   "execution_count": 9,
   "id": "16aeb628-cfb0-4d6a-af78-9d8b506cff8f",
   "metadata": {},
   "outputs": [],
   "source": [
    "## Let's get a datetime column"
   ]
  },
  {
   "cell_type": "code",
   "execution_count": 10,
   "id": "527ce22c-5126-40a2-b04e-4339b4029bc6",
   "metadata": {},
   "outputs": [],
   "source": [
    "all_cities_df['date'] = all_cities_df[['day', 'month', 'year']].apply(lambda x: '/'.join(x.map(str)), axis=1)"
   ]
  },
  {
   "cell_type": "code",
   "execution_count": 11,
   "id": "98fbc75e-51e8-4537-9e59-25ce7a66f118",
   "metadata": {},
   "outputs": [
    {
     "data": {
      "text/plain": [
       "0         1/3/2013\n",
       "1         1/3/2013\n",
       "2         1/3/2013\n",
       "3         1/3/2013\n",
       "4         1/3/2013\n",
       "           ...    \n",
       "35059    28/2/2017\n",
       "35060    28/2/2017\n",
       "35061    28/2/2017\n",
       "35062    28/2/2017\n",
       "35063    28/2/2017\n",
       "Name: date, Length: 420768, dtype: object"
      ]
     },
     "execution_count": 11,
     "metadata": {},
     "output_type": "execute_result"
    }
   ],
   "source": [
    "all_cities_df['date']"
   ]
  },
  {
   "cell_type": "code",
   "execution_count": 12,
   "id": "4fa36d71-b3f3-4ad0-844b-faba0eb29fd0",
   "metadata": {},
   "outputs": [],
   "source": [
    "all_cities_df['date_hour'] = all_cities_df[['date', 'hour']].apply(lambda x: ' '.join(x.map(str)), axis=1)"
   ]
  },
  {
   "cell_type": "code",
   "execution_count": 13,
   "id": "8be5f722-d2f1-4d09-9790-99cb587ea519",
   "metadata": {},
   "outputs": [
    {
     "data": {
      "text/plain": [
       "0          1/3/2013 0\n",
       "1          1/3/2013 1\n",
       "2          1/3/2013 2\n",
       "3          1/3/2013 3\n",
       "4          1/3/2013 4\n",
       "             ...     \n",
       "35059    28/2/2017 19\n",
       "35060    28/2/2017 20\n",
       "35061    28/2/2017 21\n",
       "35062    28/2/2017 22\n",
       "35063    28/2/2017 23\n",
       "Name: date_hour, Length: 420768, dtype: object"
      ]
     },
     "execution_count": 13,
     "metadata": {},
     "output_type": "execute_result"
    }
   ],
   "source": [
    "all_cities_df['date_hour']"
   ]
  },
  {
   "cell_type": "code",
   "execution_count": 14,
   "id": "6ce5873f-96c8-438a-917c-18f02694c0d8",
   "metadata": {},
   "outputs": [],
   "source": [
    "all_cities_df['date_time'] = all_cities_df['date_hour'] + \":00\""
   ]
  },
  {
   "cell_type": "code",
   "execution_count": 15,
   "id": "72f6dc63-da8c-48b4-99ea-2015c60cfae6",
   "metadata": {},
   "outputs": [
    {
     "data": {
      "text/plain": [
       "0          1/3/2013 0:00\n",
       "1          1/3/2013 1:00\n",
       "2          1/3/2013 2:00\n",
       "3          1/3/2013 3:00\n",
       "4          1/3/2013 4:00\n",
       "              ...       \n",
       "35059    28/2/2017 19:00\n",
       "35060    28/2/2017 20:00\n",
       "35061    28/2/2017 21:00\n",
       "35062    28/2/2017 22:00\n",
       "35063    28/2/2017 23:00\n",
       "Name: date_time, Length: 420768, dtype: object"
      ]
     },
     "execution_count": 15,
     "metadata": {},
     "output_type": "execute_result"
    }
   ],
   "source": [
    "all_cities_df['date_time']"
   ]
  },
  {
   "cell_type": "code",
   "execution_count": 16,
   "id": "ab6dfa75-603f-4115-91bd-732773cdc946",
   "metadata": {},
   "outputs": [],
   "source": [
    "## Now convert to datetime format\n",
    "import datetime"
   ]
  },
  {
   "cell_type": "code",
   "execution_count": 17,
   "id": "0d8e3115-2009-43dc-b5f8-1766108fc87e",
   "metadata": {},
   "outputs": [],
   "source": [
    "all_cities_df['final_date_time'] = pd.to_datetime(all_cities_df['date_time'])"
   ]
  },
  {
   "cell_type": "code",
   "execution_count": 18,
   "id": "590d1583-c6c9-4daa-ba83-eaa6f1b3c33b",
   "metadata": {},
   "outputs": [
    {
     "name": "stdout",
     "output_type": "stream",
     "text": [
      "<class 'pandas.core.frame.DataFrame'>\n",
      "Int64Index: 420768 entries, 0 to 35063\n",
      "Data columns (total 22 columns):\n",
      " #   Column           Non-Null Count   Dtype         \n",
      "---  ------           --------------   -----         \n",
      " 0   No               420768 non-null  int64         \n",
      " 1   year             420768 non-null  int64         \n",
      " 2   month            420768 non-null  int64         \n",
      " 3   day              420768 non-null  int64         \n",
      " 4   hour             420768 non-null  int64         \n",
      " 5   PM2.5            412029 non-null  float64       \n",
      " 6   PM10             414319 non-null  float64       \n",
      " 7   SO2              411747 non-null  float64       \n",
      " 8   NO2              408652 non-null  float64       \n",
      " 9   CO               400067 non-null  float64       \n",
      " 10  O3               407491 non-null  float64       \n",
      " 11  TEMP             420370 non-null  float64       \n",
      " 12  PRES             420375 non-null  float64       \n",
      " 13  DEWP             420365 non-null  float64       \n",
      " 14  RAIN             420378 non-null  float64       \n",
      " 15  wd               418946 non-null  object        \n",
      " 16  WSPM             420450 non-null  float64       \n",
      " 17  station          420768 non-null  object        \n",
      " 18  date             420768 non-null  object        \n",
      " 19  date_hour        420768 non-null  object        \n",
      " 20  date_time        420768 non-null  object        \n",
      " 21  final_date_time  420768 non-null  datetime64[ns]\n",
      "dtypes: datetime64[ns](1), float64(11), int64(5), object(5)\n",
      "memory usage: 73.8+ MB\n"
     ]
    }
   ],
   "source": [
    "all_cities_df.info()"
   ]
  },
  {
   "cell_type": "code",
   "execution_count": 19,
   "id": "baa83ef1-5a8b-48b1-b2d8-3c8dd69c01ab",
   "metadata": {},
   "outputs": [],
   "source": [
    "## Now begin dropping"
   ]
  },
  {
   "cell_type": "code",
   "execution_count": 20,
   "id": "d95a46f8-d039-42c8-b980-6601a37c82dc",
   "metadata": {},
   "outputs": [
    {
     "data": {
      "text/html": [
       "<div>\n",
       "<style scoped>\n",
       "    .dataframe tbody tr th:only-of-type {\n",
       "        vertical-align: middle;\n",
       "    }\n",
       "\n",
       "    .dataframe tbody tr th {\n",
       "        vertical-align: top;\n",
       "    }\n",
       "\n",
       "    .dataframe thead th {\n",
       "        text-align: right;\n",
       "    }\n",
       "</style>\n",
       "<table border=\"1\" class=\"dataframe\">\n",
       "  <thead>\n",
       "    <tr style=\"text-align: right;\">\n",
       "      <th></th>\n",
       "      <th>No</th>\n",
       "      <th>year</th>\n",
       "      <th>month</th>\n",
       "      <th>day</th>\n",
       "      <th>hour</th>\n",
       "      <th>PM2.5</th>\n",
       "      <th>PM10</th>\n",
       "      <th>SO2</th>\n",
       "      <th>NO2</th>\n",
       "      <th>CO</th>\n",
       "      <th>...</th>\n",
       "      <th>PRES</th>\n",
       "      <th>DEWP</th>\n",
       "      <th>RAIN</th>\n",
       "      <th>wd</th>\n",
       "      <th>WSPM</th>\n",
       "      <th>station</th>\n",
       "      <th>date</th>\n",
       "      <th>date_hour</th>\n",
       "      <th>date_time</th>\n",
       "      <th>final_date_time</th>\n",
       "    </tr>\n",
       "  </thead>\n",
       "  <tbody>\n",
       "    <tr>\n",
       "      <th>0</th>\n",
       "      <td>1</td>\n",
       "      <td>2013</td>\n",
       "      <td>3</td>\n",
       "      <td>1</td>\n",
       "      <td>0</td>\n",
       "      <td>4.0</td>\n",
       "      <td>4.0</td>\n",
       "      <td>4.0</td>\n",
       "      <td>7.0</td>\n",
       "      <td>300.0</td>\n",
       "      <td>...</td>\n",
       "      <td>1023.0</td>\n",
       "      <td>-18.8</td>\n",
       "      <td>0.0</td>\n",
       "      <td>NNW</td>\n",
       "      <td>4.4</td>\n",
       "      <td>Aotizhongxin</td>\n",
       "      <td>1/3/2013</td>\n",
       "      <td>1/3/2013 0</td>\n",
       "      <td>1/3/2013 0:00</td>\n",
       "      <td>2013-01-03 00:00:00</td>\n",
       "    </tr>\n",
       "    <tr>\n",
       "      <th>1</th>\n",
       "      <td>2</td>\n",
       "      <td>2013</td>\n",
       "      <td>3</td>\n",
       "      <td>1</td>\n",
       "      <td>1</td>\n",
       "      <td>8.0</td>\n",
       "      <td>8.0</td>\n",
       "      <td>4.0</td>\n",
       "      <td>7.0</td>\n",
       "      <td>300.0</td>\n",
       "      <td>...</td>\n",
       "      <td>1023.2</td>\n",
       "      <td>-18.2</td>\n",
       "      <td>0.0</td>\n",
       "      <td>N</td>\n",
       "      <td>4.7</td>\n",
       "      <td>Aotizhongxin</td>\n",
       "      <td>1/3/2013</td>\n",
       "      <td>1/3/2013 1</td>\n",
       "      <td>1/3/2013 1:00</td>\n",
       "      <td>2013-01-03 01:00:00</td>\n",
       "    </tr>\n",
       "    <tr>\n",
       "      <th>2</th>\n",
       "      <td>3</td>\n",
       "      <td>2013</td>\n",
       "      <td>3</td>\n",
       "      <td>1</td>\n",
       "      <td>2</td>\n",
       "      <td>7.0</td>\n",
       "      <td>7.0</td>\n",
       "      <td>5.0</td>\n",
       "      <td>10.0</td>\n",
       "      <td>300.0</td>\n",
       "      <td>...</td>\n",
       "      <td>1023.5</td>\n",
       "      <td>-18.2</td>\n",
       "      <td>0.0</td>\n",
       "      <td>NNW</td>\n",
       "      <td>5.6</td>\n",
       "      <td>Aotizhongxin</td>\n",
       "      <td>1/3/2013</td>\n",
       "      <td>1/3/2013 2</td>\n",
       "      <td>1/3/2013 2:00</td>\n",
       "      <td>2013-01-03 02:00:00</td>\n",
       "    </tr>\n",
       "    <tr>\n",
       "      <th>3</th>\n",
       "      <td>4</td>\n",
       "      <td>2013</td>\n",
       "      <td>3</td>\n",
       "      <td>1</td>\n",
       "      <td>3</td>\n",
       "      <td>6.0</td>\n",
       "      <td>6.0</td>\n",
       "      <td>11.0</td>\n",
       "      <td>11.0</td>\n",
       "      <td>300.0</td>\n",
       "      <td>...</td>\n",
       "      <td>1024.5</td>\n",
       "      <td>-19.4</td>\n",
       "      <td>0.0</td>\n",
       "      <td>NW</td>\n",
       "      <td>3.1</td>\n",
       "      <td>Aotizhongxin</td>\n",
       "      <td>1/3/2013</td>\n",
       "      <td>1/3/2013 3</td>\n",
       "      <td>1/3/2013 3:00</td>\n",
       "      <td>2013-01-03 03:00:00</td>\n",
       "    </tr>\n",
       "    <tr>\n",
       "      <th>4</th>\n",
       "      <td>5</td>\n",
       "      <td>2013</td>\n",
       "      <td>3</td>\n",
       "      <td>1</td>\n",
       "      <td>4</td>\n",
       "      <td>3.0</td>\n",
       "      <td>3.0</td>\n",
       "      <td>12.0</td>\n",
       "      <td>12.0</td>\n",
       "      <td>300.0</td>\n",
       "      <td>...</td>\n",
       "      <td>1025.2</td>\n",
       "      <td>-19.5</td>\n",
       "      <td>0.0</td>\n",
       "      <td>N</td>\n",
       "      <td>2.0</td>\n",
       "      <td>Aotizhongxin</td>\n",
       "      <td>1/3/2013</td>\n",
       "      <td>1/3/2013 4</td>\n",
       "      <td>1/3/2013 4:00</td>\n",
       "      <td>2013-01-03 04:00:00</td>\n",
       "    </tr>\n",
       "  </tbody>\n",
       "</table>\n",
       "<p>5 rows × 22 columns</p>\n",
       "</div>"
      ],
      "text/plain": [
       "   No  year  month  day  hour  PM2.5  PM10   SO2   NO2     CO  ...    PRES  \\\n",
       "0   1  2013      3    1     0    4.0   4.0   4.0   7.0  300.0  ...  1023.0   \n",
       "1   2  2013      3    1     1    8.0   8.0   4.0   7.0  300.0  ...  1023.2   \n",
       "2   3  2013      3    1     2    7.0   7.0   5.0  10.0  300.0  ...  1023.5   \n",
       "3   4  2013      3    1     3    6.0   6.0  11.0  11.0  300.0  ...  1024.5   \n",
       "4   5  2013      3    1     4    3.0   3.0  12.0  12.0  300.0  ...  1025.2   \n",
       "\n",
       "   DEWP  RAIN   wd  WSPM       station      date   date_hour      date_time  \\\n",
       "0 -18.8   0.0  NNW   4.4  Aotizhongxin  1/3/2013  1/3/2013 0  1/3/2013 0:00   \n",
       "1 -18.2   0.0    N   4.7  Aotizhongxin  1/3/2013  1/3/2013 1  1/3/2013 1:00   \n",
       "2 -18.2   0.0  NNW   5.6  Aotizhongxin  1/3/2013  1/3/2013 2  1/3/2013 2:00   \n",
       "3 -19.4   0.0   NW   3.1  Aotizhongxin  1/3/2013  1/3/2013 3  1/3/2013 3:00   \n",
       "4 -19.5   0.0    N   2.0  Aotizhongxin  1/3/2013  1/3/2013 4  1/3/2013 4:00   \n",
       "\n",
       "      final_date_time  \n",
       "0 2013-01-03 00:00:00  \n",
       "1 2013-01-03 01:00:00  \n",
       "2 2013-01-03 02:00:00  \n",
       "3 2013-01-03 03:00:00  \n",
       "4 2013-01-03 04:00:00  \n",
       "\n",
       "[5 rows x 22 columns]"
      ]
     },
     "execution_count": 20,
     "metadata": {},
     "output_type": "execute_result"
    }
   ],
   "source": [
    "all_cities_df.head()"
   ]
  },
  {
   "cell_type": "code",
   "execution_count": 21,
   "id": "2497f15f-0d1c-41c6-a3f3-e10b9de4c9e2",
   "metadata": {},
   "outputs": [
    {
     "data": {
      "text/html": [
       "<div>\n",
       "<style scoped>\n",
       "    .dataframe tbody tr th:only-of-type {\n",
       "        vertical-align: middle;\n",
       "    }\n",
       "\n",
       "    .dataframe tbody tr th {\n",
       "        vertical-align: top;\n",
       "    }\n",
       "\n",
       "    .dataframe thead th {\n",
       "        text-align: right;\n",
       "    }\n",
       "</style>\n",
       "<table border=\"1\" class=\"dataframe\">\n",
       "  <thead>\n",
       "    <tr style=\"text-align: right;\">\n",
       "      <th></th>\n",
       "      <th>PM2.5</th>\n",
       "      <th>PM10</th>\n",
       "      <th>SO2</th>\n",
       "      <th>NO2</th>\n",
       "      <th>CO</th>\n",
       "      <th>O3</th>\n",
       "      <th>TEMP</th>\n",
       "      <th>PRES</th>\n",
       "      <th>DEWP</th>\n",
       "      <th>RAIN</th>\n",
       "      <th>final_date_time</th>\n",
       "    </tr>\n",
       "  </thead>\n",
       "  <tbody>\n",
       "    <tr>\n",
       "      <th>0</th>\n",
       "      <td>4.0</td>\n",
       "      <td>4.0</td>\n",
       "      <td>4.0</td>\n",
       "      <td>7.0</td>\n",
       "      <td>300.0</td>\n",
       "      <td>77.0</td>\n",
       "      <td>-0.7</td>\n",
       "      <td>1023.0</td>\n",
       "      <td>-18.8</td>\n",
       "      <td>0.0</td>\n",
       "      <td>2013-01-03 00:00:00</td>\n",
       "    </tr>\n",
       "    <tr>\n",
       "      <th>1</th>\n",
       "      <td>8.0</td>\n",
       "      <td>8.0</td>\n",
       "      <td>4.0</td>\n",
       "      <td>7.0</td>\n",
       "      <td>300.0</td>\n",
       "      <td>77.0</td>\n",
       "      <td>-1.1</td>\n",
       "      <td>1023.2</td>\n",
       "      <td>-18.2</td>\n",
       "      <td>0.0</td>\n",
       "      <td>2013-01-03 01:00:00</td>\n",
       "    </tr>\n",
       "    <tr>\n",
       "      <th>2</th>\n",
       "      <td>7.0</td>\n",
       "      <td>7.0</td>\n",
       "      <td>5.0</td>\n",
       "      <td>10.0</td>\n",
       "      <td>300.0</td>\n",
       "      <td>73.0</td>\n",
       "      <td>-1.1</td>\n",
       "      <td>1023.5</td>\n",
       "      <td>-18.2</td>\n",
       "      <td>0.0</td>\n",
       "      <td>2013-01-03 02:00:00</td>\n",
       "    </tr>\n",
       "    <tr>\n",
       "      <th>3</th>\n",
       "      <td>6.0</td>\n",
       "      <td>6.0</td>\n",
       "      <td>11.0</td>\n",
       "      <td>11.0</td>\n",
       "      <td>300.0</td>\n",
       "      <td>72.0</td>\n",
       "      <td>-1.4</td>\n",
       "      <td>1024.5</td>\n",
       "      <td>-19.4</td>\n",
       "      <td>0.0</td>\n",
       "      <td>2013-01-03 03:00:00</td>\n",
       "    </tr>\n",
       "    <tr>\n",
       "      <th>4</th>\n",
       "      <td>3.0</td>\n",
       "      <td>3.0</td>\n",
       "      <td>12.0</td>\n",
       "      <td>12.0</td>\n",
       "      <td>300.0</td>\n",
       "      <td>72.0</td>\n",
       "      <td>-2.0</td>\n",
       "      <td>1025.2</td>\n",
       "      <td>-19.5</td>\n",
       "      <td>0.0</td>\n",
       "      <td>2013-01-03 04:00:00</td>\n",
       "    </tr>\n",
       "  </tbody>\n",
       "</table>\n",
       "</div>"
      ],
      "text/plain": [
       "   PM2.5  PM10   SO2   NO2     CO    O3  TEMP    PRES  DEWP  RAIN  \\\n",
       "0    4.0   4.0   4.0   7.0  300.0  77.0  -0.7  1023.0 -18.8   0.0   \n",
       "1    8.0   8.0   4.0   7.0  300.0  77.0  -1.1  1023.2 -18.2   0.0   \n",
       "2    7.0   7.0   5.0  10.0  300.0  73.0  -1.1  1023.5 -18.2   0.0   \n",
       "3    6.0   6.0  11.0  11.0  300.0  72.0  -1.4  1024.5 -19.4   0.0   \n",
       "4    3.0   3.0  12.0  12.0  300.0  72.0  -2.0  1025.2 -19.5   0.0   \n",
       "\n",
       "      final_date_time  \n",
       "0 2013-01-03 00:00:00  \n",
       "1 2013-01-03 01:00:00  \n",
       "2 2013-01-03 02:00:00  \n",
       "3 2013-01-03 03:00:00  \n",
       "4 2013-01-03 04:00:00  "
      ]
     },
     "execution_count": 21,
     "metadata": {},
     "output_type": "execute_result"
    }
   ],
   "source": [
    "all_cities_df = all_cities_df.drop(columns = ['No', 'year', 'month', 'day', 'hour', 'wd', 'WSPM', 'station', 'date', 'date_hour', 'date_time'])\n",
    "all_cities_df.head()"
   ]
  },
  {
   "cell_type": "code",
   "execution_count": 22,
   "id": "c994688d-cd41-4d17-8fd9-fd028dfaab36",
   "metadata": {},
   "outputs": [],
   "source": [
    "all_cities_df = all_cities_df.rename(columns = {\"final_date_time\" : 'dt'})"
   ]
  },
  {
   "cell_type": "code",
   "execution_count": 23,
   "id": "0dbd7609-9b47-4390-93d2-954cc2fe7cb9",
   "metadata": {},
   "outputs": [
    {
     "data": {
      "text/html": [
       "<div>\n",
       "<style scoped>\n",
       "    .dataframe tbody tr th:only-of-type {\n",
       "        vertical-align: middle;\n",
       "    }\n",
       "\n",
       "    .dataframe tbody tr th {\n",
       "        vertical-align: top;\n",
       "    }\n",
       "\n",
       "    .dataframe thead th {\n",
       "        text-align: right;\n",
       "    }\n",
       "</style>\n",
       "<table border=\"1\" class=\"dataframe\">\n",
       "  <thead>\n",
       "    <tr style=\"text-align: right;\">\n",
       "      <th></th>\n",
       "      <th>PM2.5</th>\n",
       "      <th>PM10</th>\n",
       "      <th>SO2</th>\n",
       "      <th>NO2</th>\n",
       "      <th>CO</th>\n",
       "      <th>O3</th>\n",
       "      <th>TEMP</th>\n",
       "      <th>PRES</th>\n",
       "      <th>DEWP</th>\n",
       "      <th>RAIN</th>\n",
       "      <th>dt</th>\n",
       "    </tr>\n",
       "  </thead>\n",
       "  <tbody>\n",
       "    <tr>\n",
       "      <th>0</th>\n",
       "      <td>4.0</td>\n",
       "      <td>4.0</td>\n",
       "      <td>4.0</td>\n",
       "      <td>7.0</td>\n",
       "      <td>300.0</td>\n",
       "      <td>77.0</td>\n",
       "      <td>-0.7</td>\n",
       "      <td>1023.0</td>\n",
       "      <td>-18.8</td>\n",
       "      <td>0.0</td>\n",
       "      <td>2013-01-03 00:00:00</td>\n",
       "    </tr>\n",
       "    <tr>\n",
       "      <th>1</th>\n",
       "      <td>8.0</td>\n",
       "      <td>8.0</td>\n",
       "      <td>4.0</td>\n",
       "      <td>7.0</td>\n",
       "      <td>300.0</td>\n",
       "      <td>77.0</td>\n",
       "      <td>-1.1</td>\n",
       "      <td>1023.2</td>\n",
       "      <td>-18.2</td>\n",
       "      <td>0.0</td>\n",
       "      <td>2013-01-03 01:00:00</td>\n",
       "    </tr>\n",
       "    <tr>\n",
       "      <th>2</th>\n",
       "      <td>7.0</td>\n",
       "      <td>7.0</td>\n",
       "      <td>5.0</td>\n",
       "      <td>10.0</td>\n",
       "      <td>300.0</td>\n",
       "      <td>73.0</td>\n",
       "      <td>-1.1</td>\n",
       "      <td>1023.5</td>\n",
       "      <td>-18.2</td>\n",
       "      <td>0.0</td>\n",
       "      <td>2013-01-03 02:00:00</td>\n",
       "    </tr>\n",
       "    <tr>\n",
       "      <th>3</th>\n",
       "      <td>6.0</td>\n",
       "      <td>6.0</td>\n",
       "      <td>11.0</td>\n",
       "      <td>11.0</td>\n",
       "      <td>300.0</td>\n",
       "      <td>72.0</td>\n",
       "      <td>-1.4</td>\n",
       "      <td>1024.5</td>\n",
       "      <td>-19.4</td>\n",
       "      <td>0.0</td>\n",
       "      <td>2013-01-03 03:00:00</td>\n",
       "    </tr>\n",
       "    <tr>\n",
       "      <th>4</th>\n",
       "      <td>3.0</td>\n",
       "      <td>3.0</td>\n",
       "      <td>12.0</td>\n",
       "      <td>12.0</td>\n",
       "      <td>300.0</td>\n",
       "      <td>72.0</td>\n",
       "      <td>-2.0</td>\n",
       "      <td>1025.2</td>\n",
       "      <td>-19.5</td>\n",
       "      <td>0.0</td>\n",
       "      <td>2013-01-03 04:00:00</td>\n",
       "    </tr>\n",
       "  </tbody>\n",
       "</table>\n",
       "</div>"
      ],
      "text/plain": [
       "   PM2.5  PM10   SO2   NO2     CO    O3  TEMP    PRES  DEWP  RAIN  \\\n",
       "0    4.0   4.0   4.0   7.0  300.0  77.0  -0.7  1023.0 -18.8   0.0   \n",
       "1    8.0   8.0   4.0   7.0  300.0  77.0  -1.1  1023.2 -18.2   0.0   \n",
       "2    7.0   7.0   5.0  10.0  300.0  73.0  -1.1  1023.5 -18.2   0.0   \n",
       "3    6.0   6.0  11.0  11.0  300.0  72.0  -1.4  1024.5 -19.4   0.0   \n",
       "4    3.0   3.0  12.0  12.0  300.0  72.0  -2.0  1025.2 -19.5   0.0   \n",
       "\n",
       "                   dt  \n",
       "0 2013-01-03 00:00:00  \n",
       "1 2013-01-03 01:00:00  \n",
       "2 2013-01-03 02:00:00  \n",
       "3 2013-01-03 03:00:00  \n",
       "4 2013-01-03 04:00:00  "
      ]
     },
     "execution_count": 23,
     "metadata": {},
     "output_type": "execute_result"
    }
   ],
   "source": [
    "all_cities_df.head()"
   ]
  },
  {
   "cell_type": "code",
   "execution_count": 24,
   "id": "beac5c2d-e25f-406d-9bd3-e1ad2cf4f3da",
   "metadata": {},
   "outputs": [
    {
     "name": "stdout",
     "output_type": "stream",
     "text": [
      "<class 'pandas.core.frame.DataFrame'>\n",
      "Int64Index: 420768 entries, 0 to 35063\n",
      "Data columns (total 11 columns):\n",
      " #   Column  Non-Null Count   Dtype         \n",
      "---  ------  --------------   -----         \n",
      " 0   PM2.5   412029 non-null  float64       \n",
      " 1   PM10    414319 non-null  float64       \n",
      " 2   SO2     411747 non-null  float64       \n",
      " 3   NO2     408652 non-null  float64       \n",
      " 4   CO      400067 non-null  float64       \n",
      " 5   O3      407491 non-null  float64       \n",
      " 6   TEMP    420370 non-null  float64       \n",
      " 7   PRES    420375 non-null  float64       \n",
      " 8   DEWP    420365 non-null  float64       \n",
      " 9   RAIN    420378 non-null  float64       \n",
      " 10  dt      420768 non-null  datetime64[ns]\n",
      "dtypes: datetime64[ns](1), float64(10)\n",
      "memory usage: 38.5 MB\n"
     ]
    }
   ],
   "source": [
    "all_cities_df.info()"
   ]
  },
  {
   "cell_type": "code",
   "execution_count": 25,
   "id": "92e99a0b-6ff2-480e-a1d2-6a213614aa16",
   "metadata": {},
   "outputs": [],
   "source": [
    "## now drop nulls\n",
    "all_cities_df = all_cities_df.dropna()"
   ]
  },
  {
   "cell_type": "code",
   "execution_count": 26,
   "id": "d0ece838-6e88-472e-a07d-510064b1a01e",
   "metadata": {},
   "outputs": [
    {
     "name": "stdout",
     "output_type": "stream",
     "text": [
      "<class 'pandas.core.frame.DataFrame'>\n",
      "Int64Index: 383586 entries, 0 to 35063\n",
      "Data columns (total 11 columns):\n",
      " #   Column  Non-Null Count   Dtype         \n",
      "---  ------  --------------   -----         \n",
      " 0   PM2.5   383586 non-null  float64       \n",
      " 1   PM10    383586 non-null  float64       \n",
      " 2   SO2     383586 non-null  float64       \n",
      " 3   NO2     383586 non-null  float64       \n",
      " 4   CO      383586 non-null  float64       \n",
      " 5   O3      383586 non-null  float64       \n",
      " 6   TEMP    383586 non-null  float64       \n",
      " 7   PRES    383586 non-null  float64       \n",
      " 8   DEWP    383586 non-null  float64       \n",
      " 9   RAIN    383586 non-null  float64       \n",
      " 10  dt      383586 non-null  datetime64[ns]\n",
      "dtypes: datetime64[ns](1), float64(10)\n",
      "memory usage: 35.1 MB\n"
     ]
    }
   ],
   "source": [
    "all_cities_df.info()"
   ]
  },
  {
   "cell_type": "code",
   "execution_count": 27,
   "id": "eba2053c-24f3-4954-b6fc-3e043457d5c8",
   "metadata": {},
   "outputs": [],
   "source": [
    "## Now sort according to date\n",
    "all_cities_df = all_cities_df.sort_values('dt')"
   ]
  },
  {
   "cell_type": "code",
   "execution_count": 28,
   "id": "a57e7995-3cd9-405b-9d59-85860675253e",
   "metadata": {},
   "outputs": [
    {
     "data": {
      "text/html": [
       "<div>\n",
       "<style scoped>\n",
       "    .dataframe tbody tr th:only-of-type {\n",
       "        vertical-align: middle;\n",
       "    }\n",
       "\n",
       "    .dataframe tbody tr th {\n",
       "        vertical-align: top;\n",
       "    }\n",
       "\n",
       "    .dataframe thead th {\n",
       "        text-align: right;\n",
       "    }\n",
       "</style>\n",
       "<table border=\"1\" class=\"dataframe\">\n",
       "  <thead>\n",
       "    <tr style=\"text-align: right;\">\n",
       "      <th></th>\n",
       "      <th>PM2.5</th>\n",
       "      <th>PM10</th>\n",
       "      <th>SO2</th>\n",
       "      <th>NO2</th>\n",
       "      <th>CO</th>\n",
       "      <th>O3</th>\n",
       "      <th>TEMP</th>\n",
       "      <th>PRES</th>\n",
       "      <th>DEWP</th>\n",
       "      <th>RAIN</th>\n",
       "      <th>dt</th>\n",
       "    </tr>\n",
       "  </thead>\n",
       "  <tbody>\n",
       "    <tr>\n",
       "      <th>0</th>\n",
       "      <td>4.0</td>\n",
       "      <td>4.0</td>\n",
       "      <td>4.0</td>\n",
       "      <td>7.0</td>\n",
       "      <td>300.0</td>\n",
       "      <td>77.0</td>\n",
       "      <td>-0.7</td>\n",
       "      <td>1023.0</td>\n",
       "      <td>-18.8</td>\n",
       "      <td>0.0</td>\n",
       "      <td>2013-01-03 00:00:00</td>\n",
       "    </tr>\n",
       "    <tr>\n",
       "      <th>0</th>\n",
       "      <td>9.0</td>\n",
       "      <td>9.0</td>\n",
       "      <td>3.0</td>\n",
       "      <td>17.0</td>\n",
       "      <td>300.0</td>\n",
       "      <td>89.0</td>\n",
       "      <td>-0.5</td>\n",
       "      <td>1024.5</td>\n",
       "      <td>-21.4</td>\n",
       "      <td>0.0</td>\n",
       "      <td>2013-01-03 00:00:00</td>\n",
       "    </tr>\n",
       "    <tr>\n",
       "      <th>0</th>\n",
       "      <td>4.0</td>\n",
       "      <td>4.0</td>\n",
       "      <td>14.0</td>\n",
       "      <td>20.0</td>\n",
       "      <td>300.0</td>\n",
       "      <td>69.0</td>\n",
       "      <td>-0.7</td>\n",
       "      <td>1023.0</td>\n",
       "      <td>-18.8</td>\n",
       "      <td>0.0</td>\n",
       "      <td>2013-01-03 00:00:00</td>\n",
       "    </tr>\n",
       "    <tr>\n",
       "      <th>0</th>\n",
       "      <td>7.0</td>\n",
       "      <td>7.0</td>\n",
       "      <td>3.0</td>\n",
       "      <td>2.0</td>\n",
       "      <td>100.0</td>\n",
       "      <td>91.0</td>\n",
       "      <td>-2.3</td>\n",
       "      <td>1020.3</td>\n",
       "      <td>-20.7</td>\n",
       "      <td>0.0</td>\n",
       "      <td>2013-01-03 00:00:00</td>\n",
       "    </tr>\n",
       "    <tr>\n",
       "      <th>0</th>\n",
       "      <td>5.0</td>\n",
       "      <td>14.0</td>\n",
       "      <td>4.0</td>\n",
       "      <td>12.0</td>\n",
       "      <td>200.0</td>\n",
       "      <td>85.0</td>\n",
       "      <td>-0.5</td>\n",
       "      <td>1024.5</td>\n",
       "      <td>-21.4</td>\n",
       "      <td>0.0</td>\n",
       "      <td>2013-01-03 00:00:00</td>\n",
       "    </tr>\n",
       "    <tr>\n",
       "      <th>0</th>\n",
       "      <td>3.0</td>\n",
       "      <td>6.0</td>\n",
       "      <td>3.0</td>\n",
       "      <td>8.0</td>\n",
       "      <td>300.0</td>\n",
       "      <td>44.0</td>\n",
       "      <td>-0.9</td>\n",
       "      <td>1025.8</td>\n",
       "      <td>-20.5</td>\n",
       "      <td>0.0</td>\n",
       "      <td>2013-01-03 00:00:00</td>\n",
       "    </tr>\n",
       "    <tr>\n",
       "      <th>0</th>\n",
       "      <td>6.0</td>\n",
       "      <td>6.0</td>\n",
       "      <td>4.0</td>\n",
       "      <td>8.0</td>\n",
       "      <td>300.0</td>\n",
       "      <td>81.0</td>\n",
       "      <td>-0.5</td>\n",
       "      <td>1024.5</td>\n",
       "      <td>-21.4</td>\n",
       "      <td>0.0</td>\n",
       "      <td>2013-01-03 00:00:00</td>\n",
       "    </tr>\n",
       "    <tr>\n",
       "      <th>0</th>\n",
       "      <td>8.0</td>\n",
       "      <td>8.0</td>\n",
       "      <td>6.0</td>\n",
       "      <td>28.0</td>\n",
       "      <td>400.0</td>\n",
       "      <td>52.0</td>\n",
       "      <td>-0.7</td>\n",
       "      <td>1023.0</td>\n",
       "      <td>-18.8</td>\n",
       "      <td>0.0</td>\n",
       "      <td>2013-01-03 00:00:00</td>\n",
       "    </tr>\n",
       "    <tr>\n",
       "      <th>0</th>\n",
       "      <td>9.0</td>\n",
       "      <td>9.0</td>\n",
       "      <td>6.0</td>\n",
       "      <td>17.0</td>\n",
       "      <td>200.0</td>\n",
       "      <td>62.0</td>\n",
       "      <td>0.3</td>\n",
       "      <td>1021.9</td>\n",
       "      <td>-19.0</td>\n",
       "      <td>0.0</td>\n",
       "      <td>2013-01-03 00:00:00</td>\n",
       "    </tr>\n",
       "    <tr>\n",
       "      <th>0</th>\n",
       "      <td>3.0</td>\n",
       "      <td>6.0</td>\n",
       "      <td>13.0</td>\n",
       "      <td>7.0</td>\n",
       "      <td>300.0</td>\n",
       "      <td>85.0</td>\n",
       "      <td>-2.3</td>\n",
       "      <td>1020.8</td>\n",
       "      <td>-19.7</td>\n",
       "      <td>0.0</td>\n",
       "      <td>2013-01-03 00:00:00</td>\n",
       "    </tr>\n",
       "    <tr>\n",
       "      <th>1</th>\n",
       "      <td>3.0</td>\n",
       "      <td>3.0</td>\n",
       "      <td>6.0</td>\n",
       "      <td>6.0</td>\n",
       "      <td>300.0</td>\n",
       "      <td>85.0</td>\n",
       "      <td>-2.5</td>\n",
       "      <td>1021.3</td>\n",
       "      <td>-19.0</td>\n",
       "      <td>0.0</td>\n",
       "      <td>2013-01-03 01:00:00</td>\n",
       "    </tr>\n",
       "    <tr>\n",
       "      <th>1</th>\n",
       "      <td>4.0</td>\n",
       "      <td>4.0</td>\n",
       "      <td>3.0</td>\n",
       "      <td>16.0</td>\n",
       "      <td>300.0</td>\n",
       "      <td>88.0</td>\n",
       "      <td>-0.7</td>\n",
       "      <td>1025.1</td>\n",
       "      <td>-22.1</td>\n",
       "      <td>0.0</td>\n",
       "      <td>2013-01-03 01:00:00</td>\n",
       "    </tr>\n",
       "    <tr>\n",
       "      <th>1</th>\n",
       "      <td>8.0</td>\n",
       "      <td>8.0</td>\n",
       "      <td>4.0</td>\n",
       "      <td>7.0</td>\n",
       "      <td>300.0</td>\n",
       "      <td>77.0</td>\n",
       "      <td>-1.1</td>\n",
       "      <td>1023.2</td>\n",
       "      <td>-18.2</td>\n",
       "      <td>0.0</td>\n",
       "      <td>2013-01-03 01:00:00</td>\n",
       "    </tr>\n",
       "    <tr>\n",
       "      <th>1</th>\n",
       "      <td>11.0</td>\n",
       "      <td>11.0</td>\n",
       "      <td>7.0</td>\n",
       "      <td>14.0</td>\n",
       "      <td>200.0</td>\n",
       "      <td>66.0</td>\n",
       "      <td>-0.1</td>\n",
       "      <td>1022.4</td>\n",
       "      <td>-19.3</td>\n",
       "      <td>0.0</td>\n",
       "      <td>2013-01-03 01:00:00</td>\n",
       "    </tr>\n",
       "    <tr>\n",
       "      <th>1</th>\n",
       "      <td>12.0</td>\n",
       "      <td>12.0</td>\n",
       "      <td>3.0</td>\n",
       "      <td>7.0</td>\n",
       "      <td>300.0</td>\n",
       "      <td>47.0</td>\n",
       "      <td>-1.1</td>\n",
       "      <td>1026.1</td>\n",
       "      <td>-21.3</td>\n",
       "      <td>0.0</td>\n",
       "      <td>2013-01-03 01:00:00</td>\n",
       "    </tr>\n",
       "    <tr>\n",
       "      <th>1</th>\n",
       "      <td>6.0</td>\n",
       "      <td>29.0</td>\n",
       "      <td>5.0</td>\n",
       "      <td>9.0</td>\n",
       "      <td>300.0</td>\n",
       "      <td>80.0</td>\n",
       "      <td>-0.7</td>\n",
       "      <td>1025.1</td>\n",
       "      <td>-22.1</td>\n",
       "      <td>0.0</td>\n",
       "      <td>2013-01-03 01:00:00</td>\n",
       "    </tr>\n",
       "    <tr>\n",
       "      <th>1</th>\n",
       "      <td>9.0</td>\n",
       "      <td>9.0</td>\n",
       "      <td>6.0</td>\n",
       "      <td>28.0</td>\n",
       "      <td>400.0</td>\n",
       "      <td>50.0</td>\n",
       "      <td>-1.1</td>\n",
       "      <td>1023.2</td>\n",
       "      <td>-18.2</td>\n",
       "      <td>0.0</td>\n",
       "      <td>2013-01-03 01:00:00</td>\n",
       "    </tr>\n",
       "    <tr>\n",
       "      <th>1</th>\n",
       "      <td>4.0</td>\n",
       "      <td>4.0</td>\n",
       "      <td>13.0</td>\n",
       "      <td>17.0</td>\n",
       "      <td>300.0</td>\n",
       "      <td>72.0</td>\n",
       "      <td>-1.1</td>\n",
       "      <td>1023.2</td>\n",
       "      <td>-18.2</td>\n",
       "      <td>0.0</td>\n",
       "      <td>2013-01-03 01:00:00</td>\n",
       "    </tr>\n",
       "    <tr>\n",
       "      <th>1</th>\n",
       "      <td>8.0</td>\n",
       "      <td>12.0</td>\n",
       "      <td>6.0</td>\n",
       "      <td>14.0</td>\n",
       "      <td>200.0</td>\n",
       "      <td>84.0</td>\n",
       "      <td>-0.7</td>\n",
       "      <td>1025.1</td>\n",
       "      <td>-22.1</td>\n",
       "      <td>0.0</td>\n",
       "      <td>2013-01-03 01:00:00</td>\n",
       "    </tr>\n",
       "    <tr>\n",
       "      <th>2</th>\n",
       "      <td>7.0</td>\n",
       "      <td>7.0</td>\n",
       "      <td>5.0</td>\n",
       "      <td>10.0</td>\n",
       "      <td>300.0</td>\n",
       "      <td>73.0</td>\n",
       "      <td>-1.1</td>\n",
       "      <td>1023.5</td>\n",
       "      <td>-18.2</td>\n",
       "      <td>0.0</td>\n",
       "      <td>2013-01-03 02:00:00</td>\n",
       "    </tr>\n",
       "    <tr>\n",
       "      <th>2</th>\n",
       "      <td>3.0</td>\n",
       "      <td>3.0</td>\n",
       "      <td>10.0</td>\n",
       "      <td>19.0</td>\n",
       "      <td>300.0</td>\n",
       "      <td>69.0</td>\n",
       "      <td>-1.1</td>\n",
       "      <td>1023.5</td>\n",
       "      <td>-18.2</td>\n",
       "      <td>0.0</td>\n",
       "      <td>2013-01-03 02:00:00</td>\n",
       "    </tr>\n",
       "    <tr>\n",
       "      <th>2</th>\n",
       "      <td>3.0</td>\n",
       "      <td>3.0</td>\n",
       "      <td>22.0</td>\n",
       "      <td>13.0</td>\n",
       "      <td>400.0</td>\n",
       "      <td>74.0</td>\n",
       "      <td>-3.0</td>\n",
       "      <td>1021.3</td>\n",
       "      <td>-19.9</td>\n",
       "      <td>0.0</td>\n",
       "      <td>2013-01-03 02:00:00</td>\n",
       "    </tr>\n",
       "    <tr>\n",
       "      <th>2</th>\n",
       "      <td>5.0</td>\n",
       "      <td>5.0</td>\n",
       "      <td>3.0</td>\n",
       "      <td>2.0</td>\n",
       "      <td>200.0</td>\n",
       "      <td>79.0</td>\n",
       "      <td>-3.0</td>\n",
       "      <td>1021.3</td>\n",
       "      <td>-19.9</td>\n",
       "      <td>0.0</td>\n",
       "      <td>2013-01-03 02:00:00</td>\n",
       "    </tr>\n",
       "    <tr>\n",
       "      <th>2</th>\n",
       "      <td>3.0</td>\n",
       "      <td>6.0</td>\n",
       "      <td>5.0</td>\n",
       "      <td>14.0</td>\n",
       "      <td>200.0</td>\n",
       "      <td>83.0</td>\n",
       "      <td>-1.2</td>\n",
       "      <td>1025.3</td>\n",
       "      <td>-24.6</td>\n",
       "      <td>0.0</td>\n",
       "      <td>2013-01-03 02:00:00</td>\n",
       "    </tr>\n",
       "    <tr>\n",
       "      <th>2</th>\n",
       "      <td>6.0</td>\n",
       "      <td>6.0</td>\n",
       "      <td>4.0</td>\n",
       "      <td>12.0</td>\n",
       "      <td>300.0</td>\n",
       "      <td>75.0</td>\n",
       "      <td>-1.2</td>\n",
       "      <td>1025.3</td>\n",
       "      <td>-24.6</td>\n",
       "      <td>0.0</td>\n",
       "      <td>2013-01-03 02:00:00</td>\n",
       "    </tr>\n",
       "    <tr>\n",
       "      <th>3</th>\n",
       "      <td>3.0</td>\n",
       "      <td>6.0</td>\n",
       "      <td>7.0</td>\n",
       "      <td>24.0</td>\n",
       "      <td>400.0</td>\n",
       "      <td>62.0</td>\n",
       "      <td>-1.4</td>\n",
       "      <td>1024.5</td>\n",
       "      <td>-19.4</td>\n",
       "      <td>0.0</td>\n",
       "      <td>2013-01-03 03:00:00</td>\n",
       "    </tr>\n",
       "    <tr>\n",
       "      <th>3</th>\n",
       "      <td>5.0</td>\n",
       "      <td>5.0</td>\n",
       "      <td>5.0</td>\n",
       "      <td>14.0</td>\n",
       "      <td>200.0</td>\n",
       "      <td>84.0</td>\n",
       "      <td>-1.4</td>\n",
       "      <td>1026.2</td>\n",
       "      <td>-25.5</td>\n",
       "      <td>0.0</td>\n",
       "      <td>2013-01-03 03:00:00</td>\n",
       "    </tr>\n",
       "    <tr>\n",
       "      <th>3</th>\n",
       "      <td>6.0</td>\n",
       "      <td>6.0</td>\n",
       "      <td>11.0</td>\n",
       "      <td>11.0</td>\n",
       "      <td>300.0</td>\n",
       "      <td>72.0</td>\n",
       "      <td>-1.4</td>\n",
       "      <td>1024.5</td>\n",
       "      <td>-19.4</td>\n",
       "      <td>0.0</td>\n",
       "      <td>2013-01-03 03:00:00</td>\n",
       "    </tr>\n",
       "    <tr>\n",
       "      <th>3</th>\n",
       "      <td>6.0</td>\n",
       "      <td>6.0</td>\n",
       "      <td>4.0</td>\n",
       "      <td>12.0</td>\n",
       "      <td>300.0</td>\n",
       "      <td>74.0</td>\n",
       "      <td>-1.4</td>\n",
       "      <td>1026.2</td>\n",
       "      <td>-25.5</td>\n",
       "      <td>0.0</td>\n",
       "      <td>2013-01-03 03:00:00</td>\n",
       "    </tr>\n",
       "    <tr>\n",
       "      <th>3</th>\n",
       "      <td>3.0</td>\n",
       "      <td>6.0</td>\n",
       "      <td>12.0</td>\n",
       "      <td>8.0</td>\n",
       "      <td>300.0</td>\n",
       "      <td>81.0</td>\n",
       "      <td>-3.6</td>\n",
       "      <td>1021.8</td>\n",
       "      <td>-19.1</td>\n",
       "      <td>0.0</td>\n",
       "      <td>2013-01-03 03:00:00</td>\n",
       "    </tr>\n",
       "  </tbody>\n",
       "</table>\n",
       "</div>"
      ],
      "text/plain": [
       "   PM2.5  PM10   SO2   NO2     CO    O3  TEMP    PRES  DEWP  RAIN  \\\n",
       "0    4.0   4.0   4.0   7.0  300.0  77.0  -0.7  1023.0 -18.8   0.0   \n",
       "0    9.0   9.0   3.0  17.0  300.0  89.0  -0.5  1024.5 -21.4   0.0   \n",
       "0    4.0   4.0  14.0  20.0  300.0  69.0  -0.7  1023.0 -18.8   0.0   \n",
       "0    7.0   7.0   3.0   2.0  100.0  91.0  -2.3  1020.3 -20.7   0.0   \n",
       "0    5.0  14.0   4.0  12.0  200.0  85.0  -0.5  1024.5 -21.4   0.0   \n",
       "0    3.0   6.0   3.0   8.0  300.0  44.0  -0.9  1025.8 -20.5   0.0   \n",
       "0    6.0   6.0   4.0   8.0  300.0  81.0  -0.5  1024.5 -21.4   0.0   \n",
       "0    8.0   8.0   6.0  28.0  400.0  52.0  -0.7  1023.0 -18.8   0.0   \n",
       "0    9.0   9.0   6.0  17.0  200.0  62.0   0.3  1021.9 -19.0   0.0   \n",
       "0    3.0   6.0  13.0   7.0  300.0  85.0  -2.3  1020.8 -19.7   0.0   \n",
       "1    3.0   3.0   6.0   6.0  300.0  85.0  -2.5  1021.3 -19.0   0.0   \n",
       "1    4.0   4.0   3.0  16.0  300.0  88.0  -0.7  1025.1 -22.1   0.0   \n",
       "1    8.0   8.0   4.0   7.0  300.0  77.0  -1.1  1023.2 -18.2   0.0   \n",
       "1   11.0  11.0   7.0  14.0  200.0  66.0  -0.1  1022.4 -19.3   0.0   \n",
       "1   12.0  12.0   3.0   7.0  300.0  47.0  -1.1  1026.1 -21.3   0.0   \n",
       "1    6.0  29.0   5.0   9.0  300.0  80.0  -0.7  1025.1 -22.1   0.0   \n",
       "1    9.0   9.0   6.0  28.0  400.0  50.0  -1.1  1023.2 -18.2   0.0   \n",
       "1    4.0   4.0  13.0  17.0  300.0  72.0  -1.1  1023.2 -18.2   0.0   \n",
       "1    8.0  12.0   6.0  14.0  200.0  84.0  -0.7  1025.1 -22.1   0.0   \n",
       "2    7.0   7.0   5.0  10.0  300.0  73.0  -1.1  1023.5 -18.2   0.0   \n",
       "2    3.0   3.0  10.0  19.0  300.0  69.0  -1.1  1023.5 -18.2   0.0   \n",
       "2    3.0   3.0  22.0  13.0  400.0  74.0  -3.0  1021.3 -19.9   0.0   \n",
       "2    5.0   5.0   3.0   2.0  200.0  79.0  -3.0  1021.3 -19.9   0.0   \n",
       "2    3.0   6.0   5.0  14.0  200.0  83.0  -1.2  1025.3 -24.6   0.0   \n",
       "2    6.0   6.0   4.0  12.0  300.0  75.0  -1.2  1025.3 -24.6   0.0   \n",
       "3    3.0   6.0   7.0  24.0  400.0  62.0  -1.4  1024.5 -19.4   0.0   \n",
       "3    5.0   5.0   5.0  14.0  200.0  84.0  -1.4  1026.2 -25.5   0.0   \n",
       "3    6.0   6.0  11.0  11.0  300.0  72.0  -1.4  1024.5 -19.4   0.0   \n",
       "3    6.0   6.0   4.0  12.0  300.0  74.0  -1.4  1026.2 -25.5   0.0   \n",
       "3    3.0   6.0  12.0   8.0  300.0  81.0  -3.6  1021.8 -19.1   0.0   \n",
       "\n",
       "                   dt  \n",
       "0 2013-01-03 00:00:00  \n",
       "0 2013-01-03 00:00:00  \n",
       "0 2013-01-03 00:00:00  \n",
       "0 2013-01-03 00:00:00  \n",
       "0 2013-01-03 00:00:00  \n",
       "0 2013-01-03 00:00:00  \n",
       "0 2013-01-03 00:00:00  \n",
       "0 2013-01-03 00:00:00  \n",
       "0 2013-01-03 00:00:00  \n",
       "0 2013-01-03 00:00:00  \n",
       "1 2013-01-03 01:00:00  \n",
       "1 2013-01-03 01:00:00  \n",
       "1 2013-01-03 01:00:00  \n",
       "1 2013-01-03 01:00:00  \n",
       "1 2013-01-03 01:00:00  \n",
       "1 2013-01-03 01:00:00  \n",
       "1 2013-01-03 01:00:00  \n",
       "1 2013-01-03 01:00:00  \n",
       "1 2013-01-03 01:00:00  \n",
       "2 2013-01-03 02:00:00  \n",
       "2 2013-01-03 02:00:00  \n",
       "2 2013-01-03 02:00:00  \n",
       "2 2013-01-03 02:00:00  \n",
       "2 2013-01-03 02:00:00  \n",
       "2 2013-01-03 02:00:00  \n",
       "3 2013-01-03 03:00:00  \n",
       "3 2013-01-03 03:00:00  \n",
       "3 2013-01-03 03:00:00  \n",
       "3 2013-01-03 03:00:00  \n",
       "3 2013-01-03 03:00:00  "
      ]
     },
     "execution_count": 28,
     "metadata": {},
     "output_type": "execute_result"
    }
   ],
   "source": [
    "all_cities_df.head(30)"
   ]
  },
  {
   "cell_type": "code",
   "execution_count": 29,
   "id": "58b54e27-e2e4-429d-8d25-73863c66408e",
   "metadata": {},
   "outputs": [
    {
     "data": {
      "text/plain": [
       "array(['2013-01-03T00:00:00.000000000', '2013-01-03T01:00:00.000000000',\n",
       "       '2013-01-03T02:00:00.000000000', ...,\n",
       "       '2017-12-02T21:00:00.000000000', '2017-12-02T22:00:00.000000000',\n",
       "       '2017-12-02T23:00:00.000000000'], dtype='datetime64[ns]')"
      ]
     },
     "execution_count": 29,
     "metadata": {},
     "output_type": "execute_result"
    }
   ],
   "source": [
    "all_cities_df['dt'].unique()"
   ]
  },
  {
   "cell_type": "code",
   "execution_count": 30,
   "id": "dfea046a-30e1-4a83-833b-1f7d8e0b7be6",
   "metadata": {},
   "outputs": [],
   "source": [
    "all_cities_df.to_csv(\"Resources/all_city_data.csv\")"
   ]
  },
  {
   "cell_type": "markdown",
   "id": "05b4a11e-a034-432f-958b-e98e5c8dd9e7",
   "metadata": {},
   "source": [
    "## Ok so we are left with a GIGANTOR dataset with 383,595 data points... yikes"
   ]
  },
  {
   "cell_type": "code",
   "execution_count": 31,
   "id": "0971f054-7eb7-4000-a2c9-b30b1396eb3a",
   "metadata": {},
   "outputs": [],
   "source": [
    "from matplotlib import pyplot as plt"
   ]
  },
  {
   "cell_type": "code",
   "execution_count": 32,
   "id": "019cb47f-d739-452a-8c8d-2ea815b6d236",
   "metadata": {},
   "outputs": [
    {
     "data": {
      "text/plain": [
       "[<matplotlib.lines.Line2D at 0x26aae0b9190>]"
      ]
     },
     "execution_count": 32,
     "metadata": {},
     "output_type": "execute_result"
    },
    {
     "data": {
      "image/png": "[encoded data removed]",
      "text/plain": [
       "<Figure size 432x288 with 1 Axes>"
      ]
     },
     "metadata": {
      "needs_background": "light"
     },
     "output_type": "display_data"
    }
   ],
   "source": [
    "plt.plot(all_cities_df['dt'], all_cities_df['PM2.5'])"
   ]
  },
  {
   "cell_type": "code",
   "execution_count": 33,
   "id": "edde1352-cd2a-4e94-b314-64c42d643d3a",
   "metadata": {},
   "outputs": [
    {
     "data": {
      "text/plain": [
       "[<matplotlib.lines.Line2D at 0x26aae72c370>]"
      ]
     },
     "execution_count": 33,
     "metadata": {},
     "output_type": "execute_result"
    },
    {
     "data": {
      "image/png": "[encoded data removed]",
      "text/plain": [
       "<Figure size 432x288 with 1 Axes>"
      ]
     },
     "metadata": {
      "needs_background": "light"
     },
     "output_type": "display_data"
    }
   ],
   "source": [
    "plt.plot(all_cities_df['dt'], all_cities_df['PM10'])"
   ]
  },
  {
   "cell_type": "code",
   "execution_count": 34,
   "id": "dd0cd071-74df-49ae-ba4b-caf3fa32c36a",
   "metadata": {},
   "outputs": [
    {
     "data": {
      "text/plain": [
       "[<matplotlib.lines.Line2D at 0x26ab3af4dc0>]"
      ]
     },
     "execution_count": 34,
     "metadata": {},
     "output_type": "execute_result"
    },
    {
     "data": {
      "image/png": "[encoded data removed]",
      "text/plain": [
       "<Figure size 432x288 with 1 Axes>"
      ]
     },
     "metadata": {
      "needs_background": "light"
     },
     "output_type": "display_data"
    }
   ],
   "source": [
    "plt.plot(all_cities_df['dt'], all_cities_df['SO2'])"
   ]
  },
  {
   "cell_type": "code",
   "execution_count": 35,
   "id": "96471bac-cb90-4d61-803d-7f4ff25431b2",
   "metadata": {},
   "outputs": [
    {
     "data": {
      "text/plain": [
       "[<matplotlib.lines.Line2D at 0x26ab3b5f730>]"
      ]
     },
     "execution_count": 35,
     "metadata": {},
     "output_type": "execute_result"
    },
    {
     "data": {
      "image/png": "[encoded data removed]",
      "text/plain": [
       "<Figure size 432x288 with 1 Axes>"
      ]
     },
     "metadata": {
      "needs_background": "light"
     },
     "output_type": "display_data"
    }
   ],
   "source": [
    "plt.plot(all_cities_df['dt'], all_cities_df['NO2'])"
   ]
  },
  {
   "cell_type": "code",
   "execution_count": 36,
   "id": "10b48a6b-9b04-4ff0-bc96-dac6b861d484",
   "metadata": {},
   "outputs": [
    {
     "data": {
      "text/plain": [
       "[<matplotlib.lines.Line2D at 0x26ab3d46280>]"
      ]
     },
     "execution_count": 36,
     "metadata": {},
     "output_type": "execute_result"
    },
    {
     "data": {
      "image/png": "[encoded data removed]",
      "text/plain": [
       "<Figure size 432x288 with 1 Axes>"
      ]
     },
     "metadata": {
      "needs_background": "light"
     },
     "output_type": "display_data"
    }
   ],
   "source": [
    "plt.plot(all_cities_df['dt'], all_cities_df['CO'])"
   ]
  },
  {
   "cell_type": "code",
   "execution_count": 37,
   "id": "bb4461f0-967e-46f3-8900-cdc3a99f067c",
   "metadata": {},
   "outputs": [
    {
     "data": {
      "text/plain": [
       "[<matplotlib.lines.Line2D at 0x26ab3da85e0>]"
      ]
     },
     "execution_count": 37,
     "metadata": {},
     "output_type": "execute_result"
    },
    {
     "data": {
      "image/png": "[encoded data removed]",
      "text/plain": [
       "<Figure size 432x288 with 1 Axes>"
      ]
     },
     "metadata": {
      "needs_background": "light"
     },
     "output_type": "display_data"
    }
   ],
   "source": [
    "plt.plot(all_cities_df['dt'], all_cities_df['O3'])"
   ]
  },
  {
   "cell_type": "code",
   "execution_count": 38,
   "id": "806e05f1-63c7-44aa-bdd5-d2fb2a177d3f",
   "metadata": {},
   "outputs": [
    {
     "data": {
      "text/plain": [
       "[<matplotlib.lines.Line2D at 0x26ab4783b80>]"
      ]
     },
     "execution_count": 38,
     "metadata": {},
     "output_type": "execute_result"
    },
    {
     "data": {
      "image/png": "[encoded data removed]",
      "text/plain": [
       "<Figure size 432x288 with 1 Axes>"
      ]
     },
     "metadata": {
      "needs_background": "light"
     },
     "output_type": "display_data"
    }
   ],
   "source": [
    "plt.plot(all_cities_df['dt'], all_cities_df['TEMP'])"
   ]
  },
  {
   "cell_type": "code",
   "execution_count": 39,
   "id": "009a4559-1695-43eb-9ec6-035631f8a91f",
   "metadata": {},
   "outputs": [
    {
     "data": {
      "text/plain": [
       "[<matplotlib.lines.Line2D at 0x26a9bde1340>]"
      ]
     },
     "execution_count": 39,
     "metadata": {},
     "output_type": "execute_result"
    },
    {
     "data": {
      "image/png": "[encoded data removed]",
      "text/plain": [
       "<Figure size 432x288 with 1 Axes>"
      ]
     },
     "metadata": {
      "needs_background": "light"
     },
     "output_type": "display_data"
    }
   ],
   "source": [
    "plt.plot(all_cities_df['dt'], all_cities_df['PRES'])"
   ]
  },
  {
   "cell_type": "code",
   "execution_count": 40,
   "id": "6ff5b381-4105-4067-a89e-562fd7589a7c",
   "metadata": {},
   "outputs": [
    {
     "data": {
      "text/plain": [
       "[<matplotlib.lines.Line2D at 0x26ab484c760>]"
      ]
     },
     "execution_count": 40,
     "metadata": {},
     "output_type": "execute_result"
    },
    {
     "data": {
      "image/png": "[encoded data removed]",
      "text/plain": [
       "<Figure size 432x288 with 1 Axes>"
      ]
     },
     "metadata": {
      "needs_background": "light"
     },
     "output_type": "display_data"
    }
   ],
   "source": [
    "plt.plot(all_cities_df['dt'], all_cities_df['DEWP'])"
   ]
  },
  {
   "cell_type": "code",
   "execution_count": 41,
   "id": "a7ce45ed-de14-498d-bc2a-8a0016bb975e",
   "metadata": {},
   "outputs": [
    {
     "data": {
      "text/plain": [
       "[<matplotlib.lines.Line2D at 0x26ab48b3400>]"
      ]
     },
     "execution_count": 41,
     "metadata": {},
     "output_type": "execute_result"
    },
    {
     "data": {
      "image/png": "[encoded data removed]",
      "text/plain": [
       "<Figure size 432x288 with 1 Axes>"
      ]
     },
     "metadata": {
      "needs_background": "light"
     },
     "output_type": "display_data"
    }
   ],
   "source": [
    "plt.plot(all_cities_df['dt'], all_cities_df['RAIN'])"
   ]
  },
  {
   "cell_type": "code",
   "execution_count": 42,
   "id": "8916094e-e6aa-4a5d-b852-db0215e31d03",
   "metadata": {},
   "outputs": [],
   "source": [
    "## lets export our final csv\n",
    "# all_cities_df.to_csv('Resources/all_city_data.csv')"
   ]
  },
  {
   "cell_type": "code",
   "execution_count": 16,
   "id": "6d22ca47-2311-4e9b-884c-06d9b9924b9b",
   "metadata": {},
   "outputs": [],
   "source": [
    "from keras.models import load_model\n",
    "\n",
    "# returns a compiled model identical to the previous one\n",
    "model = load_model('Models/dewp_model.h5')"
   ]
  },
  {
   "cell_type": "code",
   "execution_count": 99,
   "id": "2e907f80-83f3-40b3-98b3-687519dbfacc",
   "metadata": {},
   "outputs": [
    {
     "name": "stdout",
     "output_type": "stream",
     "text": [
      "[[0.8393171]]\n",
      "[[0.8543843]]\n",
      "[[0.86457247]]\n",
      "[[0.87243164]]\n",
      "[[0.87995017]]\n",
      "[[0.8882826]]\n",
      "[[0.89798343]]\n",
      "[[0.9092321]]\n",
      "[[0.92198896]]\n",
      "[[0.9360928]]\n"
     ]
    }
   ],
   "source": [
    "user_input = 10\n",
    "predictions=[]\n",
    "input_ary=np.array(grouped_df['PM10'][-365:].values)\n",
    "# model.predict([[grouped_df['PM10'][-365:].values.reshape(-1, 1)]])\n",
    "for each_t in range(user_input): \n",
    "    input_ary = input_ary[-365:]\n",
    "    input_ary = np.reshape(input_ary, (1, 365, 1))\n",
    "    prediction=model.predict(input_ary)\n",
    "    predictions.append(prediction[0])\n",
    "    print(prediction)\n",
    "    input_ary=np.append(input_ary, prediction)\n",
    "    # predictions.append(model.predict(input_ary))\n",
    "    # predictions\n",
    "    # current_ary=np.concatenate(input_ary[:-1], predictions[0])\n",
    "    # current_ary\n",
    "\n",
    "    # new_input\n"
   ]
  },
  {
   "cell_type": "code",
   "execution_count": 101,
   "id": "3c7b89a5-0b5d-422e-9e8f-7b47764d4b23",
   "metadata": {},
   "outputs": [
    {
     "data": {
      "text/plain": [
       "array([0.9360928], dtype=float32)"
      ]
     },
     "execution_count": 101,
     "metadata": {},
     "output_type": "execute_result"
    }
   ],
   "source": [
    "predictions[user_input-1]"
   ]
  },
  {
   "cell_type": "code",
   "execution_count": 61,
   "id": "39b098fd-fb2e-4841-8b28-9d1a28cf3390",
   "metadata": {},
   "outputs": [
    {
     "data": {
      "text/html": [
       "<div>\n",
       "<style scoped>\n",
       "    .dataframe tbody tr th:only-of-type {\n",
       "        vertical-align: middle;\n",
       "    }\n",
       "\n",
       "    .dataframe tbody tr th {\n",
       "        vertical-align: top;\n",
       "    }\n",
       "\n",
       "    .dataframe thead th {\n",
       "        text-align: right;\n",
       "    }\n",
       "</style>\n",
       "<table border=\"1\" class=\"dataframe\">\n",
       "  <thead>\n",
       "    <tr style=\"text-align: right;\">\n",
       "      <th></th>\n",
       "      <th>PM2.5</th>\n",
       "      <th>dt</th>\n",
       "      <th>PM10</th>\n",
       "      <th>SO2</th>\n",
       "      <th>NO2</th>\n",
       "      <th>CO</th>\n",
       "      <th>O3</th>\n",
       "      <th>TEMP</th>\n",
       "      <th>PRES</th>\n",
       "      <th>DEWP</th>\n",
       "      <th>RAIN</th>\n",
       "    </tr>\n",
       "  </thead>\n",
       "  <tbody>\n",
       "    <tr>\n",
       "      <th>0</th>\n",
       "      <td>4.0</td>\n",
       "      <td>2013-01-03 00:00:00</td>\n",
       "      <td>-1.101254</td>\n",
       "      <td>-0.545907</td>\n",
       "      <td>-1.243556</td>\n",
       "      <td>-0.804110</td>\n",
       "      <td>0.348630</td>\n",
       "      <td>-1.242142</td>\n",
       "      <td>1.164563</td>\n",
       "      <td>-1.538262</td>\n",
       "      <td>-0.078906</td>\n",
       "    </tr>\n",
       "    <tr>\n",
       "      <th>1</th>\n",
       "      <td>9.0</td>\n",
       "      <td>2013-01-03 00:00:00</td>\n",
       "      <td>-1.046543</td>\n",
       "      <td>-0.592877</td>\n",
       "      <td>-0.958503</td>\n",
       "      <td>-0.804110</td>\n",
       "      <td>0.560363</td>\n",
       "      <td>-1.224639</td>\n",
       "      <td>1.308088</td>\n",
       "      <td>-1.726789</td>\n",
       "      <td>-0.078906</td>\n",
       "    </tr>\n",
       "    <tr>\n",
       "      <th>2</th>\n",
       "      <td>4.0</td>\n",
       "      <td>2013-01-03 00:00:00</td>\n",
       "      <td>-1.101254</td>\n",
       "      <td>-0.076203</td>\n",
       "      <td>-0.872987</td>\n",
       "      <td>-0.804110</td>\n",
       "      <td>0.207475</td>\n",
       "      <td>-1.242142</td>\n",
       "      <td>1.164563</td>\n",
       "      <td>-1.538262</td>\n",
       "      <td>-0.078906</td>\n",
       "    </tr>\n",
       "    <tr>\n",
       "      <th>3</th>\n",
       "      <td>7.0</td>\n",
       "      <td>2013-01-03 00:00:00</td>\n",
       "      <td>-1.068428</td>\n",
       "      <td>-0.592877</td>\n",
       "      <td>-1.386082</td>\n",
       "      <td>-0.976692</td>\n",
       "      <td>0.595652</td>\n",
       "      <td>-1.382164</td>\n",
       "      <td>0.906219</td>\n",
       "      <td>-1.676032</td>\n",
       "      <td>-0.078906</td>\n",
       "    </tr>\n",
       "    <tr>\n",
       "      <th>4</th>\n",
       "      <td>5.0</td>\n",
       "      <td>2013-01-03 00:00:00</td>\n",
       "      <td>-0.991832</td>\n",
       "      <td>-0.545907</td>\n",
       "      <td>-1.101029</td>\n",
       "      <td>-0.890401</td>\n",
       "      <td>0.489786</td>\n",
       "      <td>-1.224639</td>\n",
       "      <td>1.308088</td>\n",
       "      <td>-1.726789</td>\n",
       "      <td>-0.078906</td>\n",
       "    </tr>\n",
       "  </tbody>\n",
       "</table>\n",
       "</div>"
      ],
      "text/plain": [
       "   PM2.5                   dt      PM10       SO2       NO2        CO  \\\n",
       "0    4.0  2013-01-03 00:00:00 -1.101254 -0.545907 -1.243556 -0.804110   \n",
       "1    9.0  2013-01-03 00:00:00 -1.046543 -0.592877 -0.958503 -0.804110   \n",
       "2    4.0  2013-01-03 00:00:00 -1.101254 -0.076203 -0.872987 -0.804110   \n",
       "3    7.0  2013-01-03 00:00:00 -1.068428 -0.592877 -1.386082 -0.976692   \n",
       "4    5.0  2013-01-03 00:00:00 -0.991832 -0.545907 -1.101029 -0.890401   \n",
       "\n",
       "         O3      TEMP      PRES      DEWP      RAIN  \n",
       "0  0.348630 -1.242142  1.164563 -1.538262 -0.078906  \n",
       "1  0.560363 -1.224639  1.308088 -1.726789 -0.078906  \n",
       "2  0.207475 -1.242142  1.164563 -1.538262 -0.078906  \n",
       "3  0.595652 -1.382164  0.906219 -1.676032 -0.078906  \n",
       "4  0.489786 -1.224639  1.308088 -1.726789 -0.078906  "
      ]
     },
     "execution_count": 61,
     "metadata": {},
     "output_type": "execute_result"
    }
   ],
   "source": [
    "df.head()"
   ]
  },
  {
   "cell_type": "code",
   "execution_count": 12,
   "id": "9ebfcd6d-653a-4002-8060-fa2e9b5dac4a",
   "metadata": {
    "tags": []
   },
   "outputs": [
    {
     "data": {
      "text/plain": [
       "array([[0.9146795],\n",
       "       [0.9146795]], dtype=float32)"
      ]
     },
     "execution_count": 12,
     "metadata": {},
     "output_type": "execute_result"
    }
   ],
   "source": [
    "model.predict([[[1], [1]], [[1], [1]]])"
   ]
  },
  {
   "cell_type": "code",
   "execution_count": 6,
   "id": "0f54770d-b074-4b60-8f6e-c6bdf5e45ef1",
   "metadata": {},
   "outputs": [
    {
     "data": {
      "text/plain": [
       "(1, 4, 1)"
      ]
     },
     "execution_count": 6,
     "metadata": {},
     "output_type": "execute_result"
    }
   ],
   "source": [
    "import numpy as np\n",
    "x_input = np.array([[[60], [70], [80], [90]]])\n",
    "x_input=np.array(x_input)\n",
    "x_input.shape\n",
    "# x_input=np.reshape(x_input.shape[0], 365, 1)\n",
    "# model.predict(x_input, verbose=0)"
   ]
  },
  {
   "cell_type": "code",
   "execution_count": 4,
   "id": "98d9056f-b6e9-440c-9904-d16da3a3ae9c",
   "metadata": {},
   "outputs": [
    {
     "data": {
      "text/html": [
       "<div>\n",
       "<style scoped>\n",
       "    .dataframe tbody tr th:only-of-type {\n",
       "        vertical-align: middle;\n",
       "    }\n",
       "\n",
       "    .dataframe tbody tr th {\n",
       "        vertical-align: top;\n",
       "    }\n",
       "\n",
       "    .dataframe thead th {\n",
       "        text-align: right;\n",
       "    }\n",
       "</style>\n",
       "<table border=\"1\" class=\"dataframe\">\n",
       "  <thead>\n",
       "    <tr style=\"text-align: right;\">\n",
       "      <th></th>\n",
       "      <th>PM2.5</th>\n",
       "      <th>dt</th>\n",
       "      <th>PM10</th>\n",
       "      <th>SO2</th>\n",
       "      <th>NO2</th>\n",
       "      <th>CO</th>\n",
       "      <th>O3</th>\n",
       "      <th>TEMP</th>\n",
       "      <th>PRES</th>\n",
       "      <th>DEWP</th>\n",
       "      <th>RAIN</th>\n",
       "    </tr>\n",
       "  </thead>\n",
       "  <tbody>\n",
       "    <tr>\n",
       "      <th>0</th>\n",
       "      <td>4.0</td>\n",
       "      <td>2013-01-03 00:00:00</td>\n",
       "      <td>-1.101254</td>\n",
       "      <td>-0.545907</td>\n",
       "      <td>-1.243556</td>\n",
       "      <td>-0.804110</td>\n",
       "      <td>0.348630</td>\n",
       "      <td>-1.242142</td>\n",
       "      <td>1.164563</td>\n",
       "      <td>-1.538262</td>\n",
       "      <td>-0.078906</td>\n",
       "    </tr>\n",
       "    <tr>\n",
       "      <th>1</th>\n",
       "      <td>9.0</td>\n",
       "      <td>2013-01-03 00:00:00</td>\n",
       "      <td>-1.046543</td>\n",
       "      <td>-0.592877</td>\n",
       "      <td>-0.958503</td>\n",
       "      <td>-0.804110</td>\n",
       "      <td>0.560363</td>\n",
       "      <td>-1.224639</td>\n",
       "      <td>1.308088</td>\n",
       "      <td>-1.726789</td>\n",
       "      <td>-0.078906</td>\n",
       "    </tr>\n",
       "    <tr>\n",
       "      <th>2</th>\n",
       "      <td>4.0</td>\n",
       "      <td>2013-01-03 00:00:00</td>\n",
       "      <td>-1.101254</td>\n",
       "      <td>-0.076203</td>\n",
       "      <td>-0.872987</td>\n",
       "      <td>-0.804110</td>\n",
       "      <td>0.207475</td>\n",
       "      <td>-1.242142</td>\n",
       "      <td>1.164563</td>\n",
       "      <td>-1.538262</td>\n",
       "      <td>-0.078906</td>\n",
       "    </tr>\n",
       "    <tr>\n",
       "      <th>3</th>\n",
       "      <td>7.0</td>\n",
       "      <td>2013-01-03 00:00:00</td>\n",
       "      <td>-1.068428</td>\n",
       "      <td>-0.592877</td>\n",
       "      <td>-1.386082</td>\n",
       "      <td>-0.976692</td>\n",
       "      <td>0.595652</td>\n",
       "      <td>-1.382164</td>\n",
       "      <td>0.906219</td>\n",
       "      <td>-1.676032</td>\n",
       "      <td>-0.078906</td>\n",
       "    </tr>\n",
       "    <tr>\n",
       "      <th>4</th>\n",
       "      <td>5.0</td>\n",
       "      <td>2013-01-03 00:00:00</td>\n",
       "      <td>-0.991832</td>\n",
       "      <td>-0.545907</td>\n",
       "      <td>-1.101029</td>\n",
       "      <td>-0.890401</td>\n",
       "      <td>0.489786</td>\n",
       "      <td>-1.224639</td>\n",
       "      <td>1.308088</td>\n",
       "      <td>-1.726789</td>\n",
       "      <td>-0.078906</td>\n",
       "    </tr>\n",
       "  </tbody>\n",
       "</table>\n",
       "</div>"
      ],
      "text/plain": [
       "   PM2.5                   dt      PM10       SO2       NO2        CO  \\\n",
       "0    4.0  2013-01-03 00:00:00 -1.101254 -0.545907 -1.243556 -0.804110   \n",
       "1    9.0  2013-01-03 00:00:00 -1.046543 -0.592877 -0.958503 -0.804110   \n",
       "2    4.0  2013-01-03 00:00:00 -1.101254 -0.076203 -0.872987 -0.804110   \n",
       "3    7.0  2013-01-03 00:00:00 -1.068428 -0.592877 -1.386082 -0.976692   \n",
       "4    5.0  2013-01-03 00:00:00 -0.991832 -0.545907 -1.101029 -0.890401   \n",
       "\n",
       "         O3      TEMP      PRES      DEWP      RAIN  \n",
       "0  0.348630 -1.242142  1.164563 -1.538262 -0.078906  \n",
       "1  0.560363 -1.224639  1.308088 -1.726789 -0.078906  \n",
       "2  0.207475 -1.242142  1.164563 -1.538262 -0.078906  \n",
       "3  0.595652 -1.382164  0.906219 -1.676032 -0.078906  \n",
       "4  0.489786 -1.224639  1.308088 -1.726789 -0.078906  "
      ]
     },
     "execution_count": 4,
     "metadata": {},
     "output_type": "execute_result"
    }
   ],
   "source": [
    "import os\n",
    "import pandas as pd\n",
    "from sklearn.preprocessing import StandardScaler\n",
    "\n",
    "path = os.path.join(os.getcwd(), 'Resources', 'all_city_data.csv')\n",
    "df = pd.read_csv(path)\n",
    "df = df.drop(columns = {\"Unnamed: 0\"})\n",
    "features = [\"PM10\", \"SO2\", \"NO2\", \"CO\", \"O3\", \"TEMP\", \"PRES\", \"DEWP\", \"RAIN\"]\n",
    "scalar = StandardScaler()\n",
    "# the fit_transform ops returns a 2d numpy.array, we cast it to a pd.DataFrame\n",
    "standardized_features = pd.DataFrame(scalar.fit_transform(df[features].copy()), columns = features)\n",
    "old_shape = df.shape\n",
    "# drop the unnormalized features from the dataframe\n",
    "df.drop(features, axis = 1, inplace = True)\n",
    "# join back the normalized features\n",
    "df = pd.concat([df, standardized_features], axis= 1)\n",
    "assert old_shape == df.shape, \"something went wrong!\"\n",
    "df.head()"
   ]
  },
  {
   "cell_type": "code",
   "execution_count": 7,
   "id": "8edca05e-727c-461b-b43d-9bc5b9712d39",
   "metadata": {},
   "outputs": [],
   "source": [
    "grouped_df=df.groupby('dt').mean()\n",
    "X_test = []\n",
    "temp_arr=grouped_df['SO2'].values.reshape(-1, 1)\n",
    "for i in range(365, len(temp_arr)): \n",
    "    X_test.append(temp_arr[i-365: i, 0])\n",
    "X_test=np.array(X_test)\n",
    "X_test=np.reshape(X_test, (X_test.shape[0], X_test.shape[1], 1))"
   ]
  },
  {
   "cell_type": "code",
   "execution_count": null,
   "id": "7d01e357-8a40-4b1d-bd85-acf81cd87fe0",
   "metadata": {},
   "outputs": [],
   "source": []
  }
 ],
 "metadata": {
  "kernelspec": {
   "display_name": "Python 3 (ipykernel)",
   "language": "python",
   "name": "python3"
  },
  "language_info": {
   "codemirror_mode": {
    "name": "ipython",
    "version": 3
   },
   "file_extension": ".py",
   "mimetype": "text/x-python",
   "name": "python",
   "nbconvert_exporter": "python",
   "pygments_lexer": "ipython3",
   "version": "3.9.7"
  }
 },
 "nbformat": 4,
 "nbformat_minor": 5
}
