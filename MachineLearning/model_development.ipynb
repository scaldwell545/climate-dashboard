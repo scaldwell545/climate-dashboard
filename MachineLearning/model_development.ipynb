{
 "cells": [
  {
   "cell_type": "code",
   "execution_count": 2,
   "id": "b90f7aec-63ca-4ed1-b0e3-e7428fda54a4",
   "metadata": {},
   "outputs": [],
   "source": [
    "## import dependecies\n",
    "import os\n",
    "import datetime\n",
    "from sklearn.model_selection import train_test_split\n",
    "from sklearn.preprocessing import StandardScaler\n",
    "import sklearn as skl\n",
    "from keras.models import Sequential\n",
    "from keras.layers import Dense\n",
    "from keras.layers import LSTM\n",
    "import numpy as np\n",
    "import pandas as pd\n",
    "# import seaborn as sns\n",
    "import tensorflow as tf"
   ]
  },
  {
   "cell_type": "code",
   "execution_count": 3,
   "id": "cc223f2b-4961-40b5-bc0d-f407b21156d7",
   "metadata": {},
   "outputs": [],
   "source": [
    "path = os.path.join(os.getcwd(), 'Resources', 'all_city_data.csv')\n",
    "df = pd.read_csv(path)"
   ]
  },
  {
   "cell_type": "code",
   "execution_count": 4,
   "id": "5e8f0adf-0488-4e01-89bb-c36916d67167",
   "metadata": {},
   "outputs": [
    {
     "data": {
      "text/html": [
       "<div>\n",
       "<style scoped>\n",
       "    .dataframe tbody tr th:only-of-type {\n",
       "        vertical-align: middle;\n",
       "    }\n",
       "\n",
       "    .dataframe tbody tr th {\n",
       "        vertical-align: top;\n",
       "    }\n",
       "\n",
       "    .dataframe thead th {\n",
       "        text-align: right;\n",
       "    }\n",
       "</style>\n",
       "<table border=\"1\" class=\"dataframe\">\n",
       "  <thead>\n",
       "    <tr style=\"text-align: right;\">\n",
       "      <th></th>\n",
       "      <th>PM2.5</th>\n",
       "      <th>PM10</th>\n",
       "      <th>SO2</th>\n",
       "      <th>NO2</th>\n",
       "      <th>CO</th>\n",
       "      <th>O3</th>\n",
       "      <th>TEMP</th>\n",
       "      <th>PRES</th>\n",
       "      <th>DEWP</th>\n",
       "      <th>RAIN</th>\n",
       "      <th>dt</th>\n",
       "    </tr>\n",
       "  </thead>\n",
       "  <tbody>\n",
       "    <tr>\n",
       "      <th>0</th>\n",
       "      <td>4.0</td>\n",
       "      <td>4.0</td>\n",
       "      <td>4.0</td>\n",
       "      <td>7.0</td>\n",
       "      <td>300.0</td>\n",
       "      <td>77.0</td>\n",
       "      <td>-0.7</td>\n",
       "      <td>1023.0</td>\n",
       "      <td>-18.8</td>\n",
       "      <td>0.0</td>\n",
       "      <td>2013-01-03 00:00:00</td>\n",
       "    </tr>\n",
       "    <tr>\n",
       "      <th>1</th>\n",
       "      <td>9.0</td>\n",
       "      <td>9.0</td>\n",
       "      <td>3.0</td>\n",
       "      <td>17.0</td>\n",
       "      <td>300.0</td>\n",
       "      <td>89.0</td>\n",
       "      <td>-0.5</td>\n",
       "      <td>1024.5</td>\n",
       "      <td>-21.4</td>\n",
       "      <td>0.0</td>\n",
       "      <td>2013-01-03 00:00:00</td>\n",
       "    </tr>\n",
       "    <tr>\n",
       "      <th>2</th>\n",
       "      <td>4.0</td>\n",
       "      <td>4.0</td>\n",
       "      <td>14.0</td>\n",
       "      <td>20.0</td>\n",
       "      <td>300.0</td>\n",
       "      <td>69.0</td>\n",
       "      <td>-0.7</td>\n",
       "      <td>1023.0</td>\n",
       "      <td>-18.8</td>\n",
       "      <td>0.0</td>\n",
       "      <td>2013-01-03 00:00:00</td>\n",
       "    </tr>\n",
       "    <tr>\n",
       "      <th>3</th>\n",
       "      <td>7.0</td>\n",
       "      <td>7.0</td>\n",
       "      <td>3.0</td>\n",
       "      <td>2.0</td>\n",
       "      <td>100.0</td>\n",
       "      <td>91.0</td>\n",
       "      <td>-2.3</td>\n",
       "      <td>1020.3</td>\n",
       "      <td>-20.7</td>\n",
       "      <td>0.0</td>\n",
       "      <td>2013-01-03 00:00:00</td>\n",
       "    </tr>\n",
       "    <tr>\n",
       "      <th>4</th>\n",
       "      <td>5.0</td>\n",
       "      <td>14.0</td>\n",
       "      <td>4.0</td>\n",
       "      <td>12.0</td>\n",
       "      <td>200.0</td>\n",
       "      <td>85.0</td>\n",
       "      <td>-0.5</td>\n",
       "      <td>1024.5</td>\n",
       "      <td>-21.4</td>\n",
       "      <td>0.0</td>\n",
       "      <td>2013-01-03 00:00:00</td>\n",
       "    </tr>\n",
       "  </tbody>\n",
       "</table>\n",
       "</div>"
      ],
      "text/plain": [
       "   PM2.5  PM10   SO2   NO2     CO    O3  TEMP    PRES  DEWP  RAIN  \\\n",
       "0    4.0   4.0   4.0   7.0  300.0  77.0  -0.7  1023.0 -18.8   0.0   \n",
       "1    9.0   9.0   3.0  17.0  300.0  89.0  -0.5  1024.5 -21.4   0.0   \n",
       "2    4.0   4.0  14.0  20.0  300.0  69.0  -0.7  1023.0 -18.8   0.0   \n",
       "3    7.0   7.0   3.0   2.0  100.0  91.0  -2.3  1020.3 -20.7   0.0   \n",
       "4    5.0  14.0   4.0  12.0  200.0  85.0  -0.5  1024.5 -21.4   0.0   \n",
       "\n",
       "                    dt  \n",
       "0  2013-01-03 00:00:00  \n",
       "1  2013-01-03 00:00:00  \n",
       "2  2013-01-03 00:00:00  \n",
       "3  2013-01-03 00:00:00  \n",
       "4  2013-01-03 00:00:00  "
      ]
     },
     "execution_count": 4,
     "metadata": {},
     "output_type": "execute_result"
    }
   ],
   "source": [
    "df = df.drop(columns = {\"Unnamed: 0\"})\n",
    "df.head()"
   ]
  },
  {
   "cell_type": "code",
   "execution_count": 5,
   "id": "d9758146-ff16-4c20-a156-c5097a337a98",
   "metadata": {},
   "outputs": [
    {
     "data": {
      "text/plain": [
       "0         2013-01-03 00:00:00\n",
       "1         2013-01-03 00:00:00\n",
       "2         2013-01-03 00:00:00\n",
       "3         2013-01-03 00:00:00\n",
       "4         2013-01-03 00:00:00\n",
       "                 ...         \n",
       "383581    2017-12-02 23:00:00\n",
       "383582    2017-12-02 23:00:00\n",
       "383583    2017-12-02 23:00:00\n",
       "383584    2017-12-02 23:00:00\n",
       "383585    2017-12-02 23:00:00\n",
       "Name: dt, Length: 383586, dtype: object"
      ]
     },
     "execution_count": 5,
     "metadata": {},
     "output_type": "execute_result"
    }
   ],
   "source": [
    "date_time = df['dt']\n",
    "date_time"
   ]
  },
  {
   "cell_type": "code",
   "execution_count": 6,
   "id": "1f231d89-a64b-41d7-ba7e-cb0ac4231e98",
   "metadata": {},
   "outputs": [
    {
     "data": {
      "text/html": [
       "<div>\n",
       "<style scoped>\n",
       "    .dataframe tbody tr th:only-of-type {\n",
       "        vertical-align: middle;\n",
       "    }\n",
       "\n",
       "    .dataframe tbody tr th {\n",
       "        vertical-align: top;\n",
       "    }\n",
       "\n",
       "    .dataframe thead th {\n",
       "        text-align: right;\n",
       "    }\n",
       "</style>\n",
       "<table border=\"1\" class=\"dataframe\">\n",
       "  <thead>\n",
       "    <tr style=\"text-align: right;\">\n",
       "      <th></th>\n",
       "      <th>count</th>\n",
       "      <th>mean</th>\n",
       "      <th>std</th>\n",
       "      <th>min</th>\n",
       "      <th>25%</th>\n",
       "      <th>50%</th>\n",
       "      <th>75%</th>\n",
       "      <th>max</th>\n",
       "    </tr>\n",
       "  </thead>\n",
       "  <tbody>\n",
       "    <tr>\n",
       "      <th>PM2.5</th>\n",
       "      <td>383586.0</td>\n",
       "      <td>79.523744</td>\n",
       "      <td>80.205830</td>\n",
       "      <td>2.0000</td>\n",
       "      <td>20.0</td>\n",
       "      <td>55.0</td>\n",
       "      <td>111.0</td>\n",
       "      <td>844.0</td>\n",
       "    </tr>\n",
       "    <tr>\n",
       "      <th>PM10</th>\n",
       "      <td>383586.0</td>\n",
       "      <td>104.642788</td>\n",
       "      <td>91.389349</td>\n",
       "      <td>2.0000</td>\n",
       "      <td>36.0</td>\n",
       "      <td>82.0</td>\n",
       "      <td>145.0</td>\n",
       "      <td>999.0</td>\n",
       "    </tr>\n",
       "    <tr>\n",
       "      <th>SO2</th>\n",
       "      <td>383586.0</td>\n",
       "      <td>15.622368</td>\n",
       "      <td>21.290051</td>\n",
       "      <td>0.2856</td>\n",
       "      <td>2.0</td>\n",
       "      <td>7.0</td>\n",
       "      <td>19.0</td>\n",
       "      <td>500.0</td>\n",
       "    </tr>\n",
       "    <tr>\n",
       "      <th>NO2</th>\n",
       "      <td>383586.0</td>\n",
       "      <td>50.625463</td>\n",
       "      <td>35.081274</td>\n",
       "      <td>2.0000</td>\n",
       "      <td>23.0</td>\n",
       "      <td>43.0</td>\n",
       "      <td>71.0</td>\n",
       "      <td>290.0</td>\n",
       "    </tr>\n",
       "    <tr>\n",
       "      <th>CO</th>\n",
       "      <td>383586.0</td>\n",
       "      <td>1231.859674</td>\n",
       "      <td>1158.872219</td>\n",
       "      <td>100.0000</td>\n",
       "      <td>500.0</td>\n",
       "      <td>900.0</td>\n",
       "      <td>1500.0</td>\n",
       "      <td>10000.0</td>\n",
       "    </tr>\n",
       "    <tr>\n",
       "      <th>O3</th>\n",
       "      <td>383586.0</td>\n",
       "      <td>57.241338</td>\n",
       "      <td>56.675209</td>\n",
       "      <td>0.2142</td>\n",
       "      <td>10.0</td>\n",
       "      <td>45.0</td>\n",
       "      <td>82.0</td>\n",
       "      <td>1071.0</td>\n",
       "    </tr>\n",
       "    <tr>\n",
       "      <th>TEMP</th>\n",
       "      <td>383586.0</td>\n",
       "      <td>13.493682</td>\n",
       "      <td>11.426796</td>\n",
       "      <td>-19.9000</td>\n",
       "      <td>3.1</td>\n",
       "      <td>14.4</td>\n",
       "      <td>23.2</td>\n",
       "      <td>41.6</td>\n",
       "    </tr>\n",
       "    <tr>\n",
       "      <th>PRES</th>\n",
       "      <td>383586.0</td>\n",
       "      <td>1010.828936</td>\n",
       "      <td>10.451195</td>\n",
       "      <td>982.4000</td>\n",
       "      <td>1002.4</td>\n",
       "      <td>1010.4</td>\n",
       "      <td>1019.0</td>\n",
       "      <td>1042.8</td>\n",
       "    </tr>\n",
       "    <tr>\n",
       "      <th>DEWP</th>\n",
       "      <td>383586.0</td>\n",
       "      <td>2.414411</td>\n",
       "      <td>13.791174</td>\n",
       "      <td>-43.4000</td>\n",
       "      <td>-9.0</td>\n",
       "      <td>2.9</td>\n",
       "      <td>15.1</td>\n",
       "      <td>29.1</td>\n",
       "    </tr>\n",
       "    <tr>\n",
       "      <th>RAIN</th>\n",
       "      <td>383586.0</td>\n",
       "      <td>0.064898</td>\n",
       "      <td>0.822479</td>\n",
       "      <td>0.0000</td>\n",
       "      <td>0.0</td>\n",
       "      <td>0.0</td>\n",
       "      <td>0.0</td>\n",
       "      <td>72.5</td>\n",
       "    </tr>\n",
       "  </tbody>\n",
       "</table>\n",
       "</div>"
      ],
      "text/plain": [
       "          count         mean          std       min     25%     50%     75%  \\\n",
       "PM2.5  383586.0    79.523744    80.205830    2.0000    20.0    55.0   111.0   \n",
       "PM10   383586.0   104.642788    91.389349    2.0000    36.0    82.0   145.0   \n",
       "SO2    383586.0    15.622368    21.290051    0.2856     2.0     7.0    19.0   \n",
       "NO2    383586.0    50.625463    35.081274    2.0000    23.0    43.0    71.0   \n",
       "CO     383586.0  1231.859674  1158.872219  100.0000   500.0   900.0  1500.0   \n",
       "O3     383586.0    57.241338    56.675209    0.2142    10.0    45.0    82.0   \n",
       "TEMP   383586.0    13.493682    11.426796  -19.9000     3.1    14.4    23.2   \n",
       "PRES   383586.0  1010.828936    10.451195  982.4000  1002.4  1010.4  1019.0   \n",
       "DEWP   383586.0     2.414411    13.791174  -43.4000    -9.0     2.9    15.1   \n",
       "RAIN   383586.0     0.064898     0.822479    0.0000     0.0     0.0     0.0   \n",
       "\n",
       "           max  \n",
       "PM2.5    844.0  \n",
       "PM10     999.0  \n",
       "SO2      500.0  \n",
       "NO2      290.0  \n",
       "CO     10000.0  \n",
       "O3      1071.0  \n",
       "TEMP      41.6  \n",
       "PRES    1042.8  \n",
       "DEWP      29.1  \n",
       "RAIN      72.5  "
      ]
     },
     "execution_count": 6,
     "metadata": {},
     "output_type": "execute_result"
    }
   ],
   "source": [
    "df.describe().transpose()"
   ]
  },
  {
   "cell_type": "markdown",
   "id": "fb516a31-1ad7-4656-a315-327831980ea3",
   "metadata": {},
   "source": [
    "## Scale the Data"
   ]
  },
  {
   "cell_type": "code",
   "execution_count": 7,
   "id": "e9f49f17-81ba-48f6-93ea-6004a631827d",
   "metadata": {},
   "outputs": [],
   "source": [
    "features = [\"PM10\", \"SO2\", \"NO2\", \"CO\", \"O3\", \"TEMP\", \"PRES\", \"DEWP\", \"RAIN\"]\n",
    "scalar = StandardScaler()\n",
    "# the fit_transform ops returns a 2d numpy.array, we cast it to a pd.DataFrame\n",
    "standardized_features = pd.DataFrame(scalar.fit_transform(df[features].copy()), columns = features)\n",
    "old_shape = df.shape\n",
    "# drop the unnormalized features from the dataframe\n",
    "df.drop(features, axis = 1, inplace = True)\n",
    "# join back the normalized features\n",
    "df = pd.concat([df, standardized_features], axis= 1)\n",
    "assert old_shape == df.shape, \"something went wrong!\""
   ]
  },
  {
   "cell_type": "code",
   "execution_count": 8,
   "id": "0faca703-0caa-42d2-beee-02244a139907",
   "metadata": {},
   "outputs": [
    {
     "data": {
      "text/html": [
       "<div>\n",
       "<style scoped>\n",
       "    .dataframe tbody tr th:only-of-type {\n",
       "        vertical-align: middle;\n",
       "    }\n",
       "\n",
       "    .dataframe tbody tr th {\n",
       "        vertical-align: top;\n",
       "    }\n",
       "\n",
       "    .dataframe thead th {\n",
       "        text-align: right;\n",
       "    }\n",
       "</style>\n",
       "<table border=\"1\" class=\"dataframe\">\n",
       "  <thead>\n",
       "    <tr style=\"text-align: right;\">\n",
       "      <th></th>\n",
       "      <th>PM2.5</th>\n",
       "      <th>dt</th>\n",
       "      <th>PM10</th>\n",
       "      <th>SO2</th>\n",
       "      <th>NO2</th>\n",
       "      <th>CO</th>\n",
       "      <th>O3</th>\n",
       "      <th>TEMP</th>\n",
       "      <th>PRES</th>\n",
       "      <th>DEWP</th>\n",
       "      <th>RAIN</th>\n",
       "    </tr>\n",
       "  </thead>\n",
       "  <tbody>\n",
       "    <tr>\n",
       "      <th>0</th>\n",
       "      <td>4.0</td>\n",
       "      <td>2013-01-03 00:00:00</td>\n",
       "      <td>-1.101254</td>\n",
       "      <td>-0.545907</td>\n",
       "      <td>-1.243556</td>\n",
       "      <td>-0.804110</td>\n",
       "      <td>0.348630</td>\n",
       "      <td>-1.242142</td>\n",
       "      <td>1.164563</td>\n",
       "      <td>-1.538262</td>\n",
       "      <td>-0.078906</td>\n",
       "    </tr>\n",
       "    <tr>\n",
       "      <th>1</th>\n",
       "      <td>9.0</td>\n",
       "      <td>2013-01-03 00:00:00</td>\n",
       "      <td>-1.046543</td>\n",
       "      <td>-0.592877</td>\n",
       "      <td>-0.958503</td>\n",
       "      <td>-0.804110</td>\n",
       "      <td>0.560363</td>\n",
       "      <td>-1.224639</td>\n",
       "      <td>1.308088</td>\n",
       "      <td>-1.726789</td>\n",
       "      <td>-0.078906</td>\n",
       "    </tr>\n",
       "    <tr>\n",
       "      <th>2</th>\n",
       "      <td>4.0</td>\n",
       "      <td>2013-01-03 00:00:00</td>\n",
       "      <td>-1.101254</td>\n",
       "      <td>-0.076203</td>\n",
       "      <td>-0.872987</td>\n",
       "      <td>-0.804110</td>\n",
       "      <td>0.207475</td>\n",
       "      <td>-1.242142</td>\n",
       "      <td>1.164563</td>\n",
       "      <td>-1.538262</td>\n",
       "      <td>-0.078906</td>\n",
       "    </tr>\n",
       "    <tr>\n",
       "      <th>3</th>\n",
       "      <td>7.0</td>\n",
       "      <td>2013-01-03 00:00:00</td>\n",
       "      <td>-1.068428</td>\n",
       "      <td>-0.592877</td>\n",
       "      <td>-1.386082</td>\n",
       "      <td>-0.976692</td>\n",
       "      <td>0.595652</td>\n",
       "      <td>-1.382164</td>\n",
       "      <td>0.906219</td>\n",
       "      <td>-1.676032</td>\n",
       "      <td>-0.078906</td>\n",
       "    </tr>\n",
       "    <tr>\n",
       "      <th>4</th>\n",
       "      <td>5.0</td>\n",
       "      <td>2013-01-03 00:00:00</td>\n",
       "      <td>-0.991832</td>\n",
       "      <td>-0.545907</td>\n",
       "      <td>-1.101029</td>\n",
       "      <td>-0.890401</td>\n",
       "      <td>0.489786</td>\n",
       "      <td>-1.224639</td>\n",
       "      <td>1.308088</td>\n",
       "      <td>-1.726789</td>\n",
       "      <td>-0.078906</td>\n",
       "    </tr>\n",
       "  </tbody>\n",
       "</table>\n",
       "</div>"
      ],
      "text/plain": [
       "   PM2.5                   dt      PM10       SO2       NO2        CO  \\\n",
       "0    4.0  2013-01-03 00:00:00 -1.101254 -0.545907 -1.243556 -0.804110   \n",
       "1    9.0  2013-01-03 00:00:00 -1.046543 -0.592877 -0.958503 -0.804110   \n",
       "2    4.0  2013-01-03 00:00:00 -1.101254 -0.076203 -0.872987 -0.804110   \n",
       "3    7.0  2013-01-03 00:00:00 -1.068428 -0.592877 -1.386082 -0.976692   \n",
       "4    5.0  2013-01-03 00:00:00 -0.991832 -0.545907 -1.101029 -0.890401   \n",
       "\n",
       "         O3      TEMP      PRES      DEWP      RAIN  \n",
       "0  0.348630 -1.242142  1.164563 -1.538262 -0.078906  \n",
       "1  0.560363 -1.224639  1.308088 -1.726789 -0.078906  \n",
       "2  0.207475 -1.242142  1.164563 -1.538262 -0.078906  \n",
       "3  0.595652 -1.382164  0.906219 -1.676032 -0.078906  \n",
       "4  0.489786 -1.224639  1.308088 -1.726789 -0.078906  "
      ]
     },
     "execution_count": 8,
     "metadata": {},
     "output_type": "execute_result"
    }
   ],
   "source": [
    "df.head()"
   ]
  },
  {
   "cell_type": "code",
   "execution_count": 8,
   "id": "feca009c-2497-4898-9b06-7697553939fc",
   "metadata": {},
   "outputs": [
    {
     "data": {
      "text/plain": [
       "(-1.0, 1.0)"
      ]
     },
     "execution_count": 8,
     "metadata": {},
     "output_type": "execute_result"
    },
    {
     "data": {
      "image/png": "[encoded data removed]",
      "text/plain": [
       "<Figure size 1080x360 with 1 Axes>"
      ]
     },
     "metadata": {
      "needs_background": "light"
     },
     "output_type": "display_data"
    }
   ],
   "source": [
    "import matplotlib.pyplot as plt\n",
    "df.groupby('dt').mean()['RAIN'].rolling(360).mean().plot(figsize=(15, 5))\n",
    "plt.ylim(-1, 1)"
   ]
  },
  {
   "cell_type": "markdown",
   "id": "c1d10ff1-efcc-40f7-b3e3-144918bf7a12",
   "metadata": {},
   "source": [
    "## Create Machine Learning Model for PM2.5"
   ]
  },
  {
   "cell_type": "code",
   "execution_count": 9,
   "id": "04f09d9e-9cf2-4d1c-a3d4-036da0d8415b",
   "metadata": {},
   "outputs": [
    {
     "data": {
      "text/plain": [
       "DatetimeIndex(['2013-01-03 00:00:00', '2013-01-03 00:00:00',\n",
       "               '2013-01-03 00:00:00', '2013-01-03 00:00:00',\n",
       "               '2013-01-03 00:00:00', '2013-01-03 00:00:00',\n",
       "               '2013-01-03 00:00:00', '2013-01-03 00:00:00',\n",
       "               '2013-01-03 00:00:00', '2013-01-03 00:00:00',\n",
       "               ...\n",
       "               '2017-12-02 23:00:00', '2017-12-02 23:00:00',\n",
       "               '2017-12-02 23:00:00', '2017-12-02 23:00:00',\n",
       "               '2017-12-02 23:00:00', '2017-12-02 23:00:00',\n",
       "               '2017-12-02 23:00:00', '2017-12-02 23:00:00',\n",
       "               '2017-12-02 23:00:00', '2017-12-02 23:00:00'],\n",
       "              dtype='datetime64[ns]', name='dt', length=383586, freq=None)"
      ]
     },
     "execution_count": 9,
     "metadata": {},
     "output_type": "execute_result"
    }
   ],
   "source": [
    "time_index=pd.to_datetime(df['dt'])\n",
    "df_kl=df.set_index(time_index)\n",
    "df_kl.index"
   ]
  },
  {
   "cell_type": "code",
   "execution_count": 10,
   "id": "aa4993c7-39b5-44ce-9d52-f957f38a1dac",
   "metadata": {},
   "outputs": [],
   "source": [
    "df_kl=df.drop('dt', axis=1)\n",
    "y = df_kl['PM2.5']\n",
    "X = df_kl.drop(columns= ['PM2.5'])\n",
    "X_train, X_test, y_train, y_test = train_test_split(X,y, shuffle=False)"
   ]
  },
  {
   "cell_type": "code",
   "execution_count": 21,
   "id": "0ce937fe-a981-4318-933e-fca99b799af4",
   "metadata": {},
   "outputs": [
    {
     "data": {
      "text/plain": [
       "79.52374434937668"
      ]
     },
     "execution_count": 21,
     "metadata": {},
     "output_type": "execute_result"
    }
   ],
   "source": [
    "y.mean()"
   ]
  },
  {
   "cell_type": "code",
   "execution_count": 22,
   "id": "113747ed-9d2d-4edb-a161-256b04e2046c",
   "metadata": {},
   "outputs": [
    {
     "name": "stdout",
     "output_type": "stream",
     "text": [
      "Model: \"sequential_5\"\n",
      "_________________________________________________________________\n",
      "Layer (type)                 Output Shape              Param #   \n",
      "=================================================================\n",
      "dense_21 (Dense)             (None, 48)                480       \n",
      "_________________________________________________________________\n",
      "dense_22 (Dense)             (None, 32)                1568      \n",
      "_________________________________________________________________\n",
      "dense_23 (Dense)             (None, 32)                1056      \n",
      "_________________________________________________________________\n",
      "dense_24 (Dense)             (None, 1)                 33        \n",
      "=================================================================\n",
      "Total params: 3,137\n",
      "Trainable params: 3,137\n",
      "Non-trainable params: 0\n",
      "_________________________________________________________________\n"
     ]
    }
   ],
   "source": [
    "model=tf.keras.models.Sequential()\n",
    "layer_1=tf.keras.layers.Dense(units=48, activation=\"relu\", input_dim=9)\n",
    "model.add(layer_1)\n",
    "layer_2=tf.keras.layers.Dense(units=32, activation=\"relu\", input_dim=9)\n",
    "model.add(layer_2)\n",
    "layer_2=tf.keras.layers.Dense(units=32, activation=\"relu\", input_dim=9)\n",
    "model.add(layer_2)\n",
    "# layer_3=tf.keras.layers.Dense(units=1, activation=\"sigmoid\", input_dim=9)\n",
    "# model.add(layer_3)\n",
    "output_layer=tf.keras.layers.Dense(units=1)\n",
    "model.add(output_layer)\n",
    "model.summary()"
   ]
  },
  {
   "cell_type": "code",
   "execution_count": null,
   "id": "d2509812-037b-4e15-b27d-5c6ec4e197f9",
   "metadata": {},
   "outputs": [
    {
     "name": "stdout",
     "output_type": "stream",
     "text": [
      "Epoch 1/200\n",
      "8991/8991 [==============================] - 17s 2ms/step - loss: 486.2079 - mean_squared_error: 486.2079\n",
      "Epoch 2/200\n",
      "8991/8991 [==============================] - 17s 2ms/step - loss: 484.0847 - mean_squared_error: 484.0847\n",
      "Epoch 3/200\n",
      "8991/8991 [==============================] - 17s 2ms/step - loss: 482.1405 - mean_squared_error: 482.1405\n",
      "Epoch 4/200\n",
      "8991/8991 [==============================] - 17s 2ms/step - loss: 479.0704 - mean_squared_error: 479.0704\n",
      "Epoch 5/200\n",
      "8991/8991 [==============================] - 17s 2ms/step - loss: 477.4601 - mean_squared_error: 477.4601\n",
      "Epoch 6/200\n",
      "8991/8991 [==============================] - 20s 2ms/step - loss: 475.9463 - mean_squared_error: 475.9463\n",
      "Epoch 7/200\n",
      "8991/8991 [==============================] - 17s 2ms/step - loss: 472.6701 - mean_squared_error: 472.6701\n",
      "Epoch 8/200\n",
      "8991/8991 [==============================] - 16s 2ms/step - loss: 471.4205 - mean_squared_error: 471.4205 1s - l\n",
      "Epoch 9/200\n",
      "8991/8991 [==============================] - 15s 2ms/step - loss: 469.3694 - mean_squared_error: 469.3694 0s - loss: 469.6104 - mean_squared_error: \n",
      "Epoch 10/200\n",
      "8991/8991 [==============================] - 16s 2ms/step - loss: 468.0573 - mean_squared_error: 468.0573\n",
      "Epoch 11/200\n",
      "8991/8991 [==============================] - 18s 2ms/step - loss: 465.6111 - mean_squared_error: 465.6111\n",
      "Epoch 12/200\n",
      "8991/8991 [==============================] - 19s 2ms/step - loss: 464.4114 - mean_squared_error: 464.4114\n",
      "Epoch 13/200\n",
      "8991/8991 [==============================] - ETA: 0s - loss: 464.1633 - mean_squared_error: 464.16 - 18s 2ms/step - loss: 463.9109 - mean_squared_error: 463.9109\n",
      "Epoch 14/200\n",
      "8991/8991 [==============================] - 18s 2ms/step - loss: 462.5448 - mean_squared_error: 462.5448\n",
      "Epoch 15/200\n",
      "8991/8991 [==============================] - 17s 2ms/step - loss: 460.6314 - mean_squared_error: 460.6314 0s - loss: 459.9857 - mean\n",
      "Epoch 16/200\n",
      "8991/8991 [==============================] - 17s 2ms/step - loss: 459.2855 - mean_squared_error: 459.2855 1s - loss:\n",
      "Epoch 17/200\n",
      "8991/8991 [==============================] - 19s 2ms/step - loss: 459.3706 - mean_squared_error: 459.3706\n",
      "Epoch 18/200\n",
      "8991/8991 [==============================] - 17s 2ms/step - loss: 458.4308 - mean_squared_error: 458.4308\n",
      "Epoch 19/200\n",
      "8991/8991 [==============================] - 17s 2ms/step - loss: 457.8046 - mean_squared_error: 457.8046\n",
      "Epoch 20/200\n",
      "8991/8991 [==============================] - 16s 2ms/step - loss: 456.4492 - mean_squared_error: 456.4492\n",
      "Epoch 21/200\n",
      "8991/8991 [==============================] - 17s 2ms/step - loss: 455.2676 - mean_squared_error: 455.2676 \n",
      "Epoch 22/200\n",
      "8991/8991 [==============================] - 15s 2ms/step - loss: 454.8320 - mean_squared_error: 454.8320\n",
      "Epoch 23/200\n",
      "8991/8991 [==============================] - 17s 2ms/step - loss: 453.0350 - mean_squared_error: 453.0350\n",
      "Epoch 24/200\n",
      "8991/8991 [==============================] - 18s 2ms/step - loss: 451.9861 - mean_squared_error: 451.9861\n",
      "Epoch 25/200\n",
      "8991/8991 [==============================] - 17s 2ms/step - loss: 451.1493 - mean_squared_error: 451.1493\n",
      "Epoch 26/200\n",
      "8991/8991 [==============================] - 15s 2ms/step - loss: 450.6965 - mean_squared_error: 450.6965\n",
      "Epoch 27/200\n",
      "8991/8991 [==============================] - 15s 2ms/step - loss: 449.1454 - mean_squared_error: 449.1454\n",
      "Epoch 28/200\n",
      "8991/8991 [==============================] - 17s 2ms/step - loss: 448.8399 - mean_squared_error: 448.8399\n",
      "Epoch 29/200\n",
      "8991/8991 [==============================] - 18s 2ms/step - loss: 447.6554 - mean_squared_error: 447.6554\n",
      "Epoch 30/200\n",
      "8991/8991 [==============================] - 16s 2ms/step - loss: 446.9229 - mean_squared_error: 446.9229\n",
      "Epoch 31/200\n",
      "8991/8991 [==============================] - 17s 2ms/step - loss: 446.1335 - mean_squared_error: 446.1335\n",
      "Epoch 32/200\n",
      "8991/8991 [==============================] - 17s 2ms/step - loss: 445.3265 - mean_squared_error: 445.3265\n",
      "Epoch 33/200\n",
      "8991/8991 [==============================] - 16s 2ms/step - loss: 444.7078 - mean_squared_error: 444.7078\n",
      "Epoch 34/200\n",
      "8991/8991 [==============================] - 17s 2ms/step - loss: 444.0580 - mean_squared_error: 444.0580\n",
      "Epoch 35/200\n",
      "8991/8991 [==============================] - 17s 2ms/step - loss: 442.9831 - mean_squared_error: 442.9831\n",
      "Epoch 36/200\n",
      "8991/8991 [==============================] - 17s 2ms/step - loss: 442.5434 - mean_squared_error: 442.5434\n",
      "Epoch 37/200\n",
      "8991/8991 [==============================] - 16s 2ms/step - loss: 440.6653 - mean_squared_error: 440.6653\n",
      "Epoch 38/200\n",
      "8991/8991 [==============================] - 17s 2ms/step - loss: 441.3076 - mean_squared_error: 441.3076\n",
      "Epoch 39/200\n",
      "8991/8991 [==============================] - 17s 2ms/step - loss: 440.0277 - mean_squared_error: 440.0277 0s - loss: 440.7812 - mean_squ\n",
      "Epoch 40/200\n",
      "8991/8991 [==============================] - 17s 2ms/step - loss: 439.5840 - mean_squared_error: 439.5840\n",
      "Epoch 41/200\n",
      "8991/8991 [==============================] - 17s 2ms/step - loss: 438.0186 - mean_squared_error: 438.0186\n",
      "Epoch 42/200\n",
      "8991/8991 [==============================] - 17s 2ms/step - loss: 438.1651 - mean_squared_error: 438.1651\n",
      "Epoch 43/200\n",
      "8991/8991 [==============================] - 17s 2ms/step - loss: 438.0470 - mean_squared_error: 438.0470\n",
      "Epoch 44/200\n",
      "8991/8991 [==============================] - 17s 2ms/step - loss: 437.2165 - mean_squared_error: 437.2165\n",
      "Epoch 45/200\n",
      "8991/8991 [==============================] - 17s 2ms/step - loss: 436.1106 - mean_squared_error: 436.1106\n",
      "Epoch 46/200\n",
      "8991/8991 [==============================] - 18s 2ms/step - loss: 436.2086 - mean_squared_error: 436.2086\n",
      "Epoch 47/200\n",
      "8991/8991 [==============================] - 16s 2ms/step - loss: 434.6198 - mean_squared_error: 434.6198\n",
      "Epoch 48/200\n",
      "8991/8991 [==============================] - 15s 2ms/step - loss: 434.3922 - mean_squared_error: 434.3922\n",
      "Epoch 49/200\n",
      "8991/8991 [==============================] - 19s 2ms/step - loss: 434.4079 - mean_squared_error: 434.4079\n",
      "Epoch 50/200\n",
      "8991/8991 [==============================] - 19s 2ms/step - loss: 433.4710 - mean_squared_error: 433.4710 0s - loss: 433.8141 - mean_squared\n",
      "Epoch 51/200\n",
      "8991/8991 [==============================] - 17s 2ms/step - loss: 433.4295 - mean_squared_error: 433.4295\n",
      "Epoch 52/200\n",
      "8991/8991 [==============================] - 17s 2ms/step - loss: 432.5773 - mean_squared_error: 432.5773\n",
      "Epoch 53/200\n",
      "8991/8991 [==============================] - 17s 2ms/step - loss: 431.9537 - mean_squared_error: 431.9537\n",
      "Epoch 54/200\n",
      "8991/8991 [==============================] - 16s 2ms/step - loss: 431.2560 - mean_squared_error: 431.2560\n",
      "Epoch 55/200\n",
      "8991/8991 [==============================] - 15s 2ms/step - loss: 430.6910 - mean_squared_error: 430.6910\n",
      "Epoch 56/200\n",
      "8991/8991 [==============================] - 16s 2ms/step - loss: 430.1840 - mean_squared_error: 430.1840\n",
      "Epoch 57/200\n",
      "8991/8991 [==============================] - 15s 2ms/step - loss: 430.1467 - mean_squared_error: 430.1467\n",
      "Epoch 58/200\n",
      "8991/8991 [==============================] - 17s 2ms/step - loss: 428.8679 - mean_squared_error: 428.8679\n",
      "Epoch 59/200\n",
      "8991/8991 [==============================] - 15s 2ms/step - loss: 428.4112 - mean_squared_error: 428.4112\n",
      "Epoch 60/200\n",
      "8991/8991 [==============================] - 18s 2ms/step - loss: 428.2790 - mean_squared_error: 428.2790 0s - loss: 428.7859 - mean_squared - ETA: 0s - los\n",
      "Epoch 61/200\n",
      "8991/8991 [==============================] - 19s 2ms/step - loss: 427.9842 - mean_squared_error: 427.9842\n",
      "Epoch 62/200\n",
      "8991/8991 [==============================] - 16s 2ms/step - loss: 427.1513 - mean_squared_error: 427.1513\n",
      "Epoch 63/200\n",
      "8991/8991 [==============================] - 17s 2ms/step - loss: 426.4288 - mean_squared_error: 426.4288\n",
      "Epoch 64/200\n",
      "8991/8991 [==============================] - 17s 2ms/step - loss: 426.6192 - mean_squared_error: 426.6192\n",
      "Epoch 65/200\n",
      "8991/8991 [==============================] - 17s 2ms/step - loss: 426.0303 - mean_squared_error: 426.0303\n",
      "Epoch 66/200\n",
      "8991/8991 [==============================] - 17s 2ms/step - loss: 426.1576 - mean_squared_error: 426.1576\n",
      "Epoch 67/200\n",
      "8991/8991 [==============================] - 15s 2ms/step - loss: 425.0352 - mean_squared_error: 425.0352 0s - loss: 423.862\n",
      "Epoch 68/200\n",
      "8991/8991 [==============================] - 16s 2ms/step - loss: 425.1339 - mean_squared_error: 425.1339\n",
      "Epoch 69/200\n",
      "8991/8991 [==============================] - 16s 2ms/step - loss: 425.1606 - mean_squared_error: 425.1606\n",
      "Epoch 70/200\n",
      "8991/8991 [==============================] - 16s 2ms/step - loss: 424.5497 - mean_squared_error: 424.5497\n",
      "Epoch 71/200\n",
      "8991/8991 [==============================] - 18s 2ms/step - loss: 423.7077 - mean_squared_error: 423.7077\n",
      "Epoch 72/200\n",
      "8991/8991 [==============================] - 17s 2ms/step - loss: 423.5079 - mean_squared_error: 423.5079\n",
      "Epoch 73/200\n",
      "8991/8991 [==============================] - 15s 2ms/step - loss: 423.5264 - mean_squared_error: 423.5264\n",
      "Epoch 74/200\n",
      "8991/8991 [==============================] - 16s 2ms/step - loss: 422.8897 - mean_squared_error: 422.8897\n",
      "Epoch 75/200\n",
      "8991/8991 [==============================] - 16s 2ms/step - loss: 423.1006 - mean_squared_error: 423.1006\n",
      "Epoch 76/200\n",
      "8991/8991 [==============================] - 17s 2ms/step - loss: 422.2813 - mean_squared_error: 422.2813\n",
      "Epoch 77/200\n",
      "8991/8991 [==============================] - 16s 2ms/step - loss: 421.9228 - mean_squared_error: 421.9228\n",
      "Epoch 78/200\n",
      "8991/8991 [==============================] - 16s 2ms/step - loss: 422.2354 - mean_squared_error: 422.2354\n",
      "Epoch 79/200\n",
      "8991/8991 [==============================] - 17s 2ms/step - loss: 421.5767 - mean_squared_error: 421.5767\n",
      "Epoch 80/200\n",
      "8991/8991 [==============================] - 15s 2ms/step - loss: 421.7180 - mean_squared_error: 421.7180\n",
      "Epoch 81/200\n",
      "8991/8991 [==============================] - 17s 2ms/step - loss: 421.8356 - mean_squared_error: 421.8356\n",
      "Epoch 82/200\n",
      "8991/8991 [==============================] - 17s 2ms/step - loss: 420.4288 - mean_squared_error: 420.4288\n",
      "Epoch 83/200\n",
      "8991/8991 [==============================] - 15s 2ms/step - loss: 420.5254 - mean_squared_error: 420.5254\n",
      "Epoch 84/200\n",
      "8991/8991 [==============================] - 16s 2ms/step - loss: 420.6398 - mean_squared_error: 420.6398\n",
      "Epoch 85/200\n",
      "8991/8991 [==============================] - 15s 2ms/step - loss: 419.5833 - mean_squared_error: 419.5833 0s - loss: 420.2522 - mean_squared_err\n",
      "Epoch 86/200\n",
      "8991/8991 [==============================] - 17s 2ms/step - loss: 419.6852 - mean_squared_error: 419.6852\n",
      "Epoch 87/200\n",
      "8991/8991 [==============================] - 19s 2ms/step - loss: 419.7723 - mean_squared_error: 419.7723\n",
      "Epoch 88/200\n",
      "8991/8991 [==============================] - 18s 2ms/step - loss: 418.9204 - mean_squared_error: 418.9204\n",
      "Epoch 89/200\n",
      "8991/8991 [==============================] - 19s 2ms/step - loss: 418.8716 - mean_squared_error: 418.8716\n",
      "Epoch 90/200\n",
      "8991/8991 [==============================] - 18s 2ms/step - loss: 418.4025 - mean_squared_error: 418.4025\n",
      "Epoch 91/200\n",
      "8991/8991 [==============================] - 18s 2ms/step - loss: 417.6001 - mean_squared_error: 417.6001\n",
      "Epoch 92/200\n",
      "8991/8991 [==============================] - 19s 2ms/step - loss: 419.0556 - mean_squared_error: 419.0556 1s - loss: 415.1 - ETA: 1s - loss:\n",
      "Epoch 93/200\n",
      "8991/8991 [==============================] - 17s 2ms/step - loss: 417.8198 - mean_squared_error: 417.8198\n",
      "Epoch 94/200\n",
      "8991/8991 [==============================] - 17s 2ms/step - loss: 418.2014 - mean_squared_error: 418.2014\n",
      "Epoch 95/200\n",
      "8991/8991 [==============================] - 18s 2ms/step - loss: 417.3835 - mean_squared_error: 417.3835\n",
      "Epoch 96/200\n",
      "8991/8991 [==============================] - 20s 2ms/step - loss: 416.9133 - mean_squared_error: 416.9133\n",
      "Epoch 97/200\n",
      "8991/8991 [==============================] - 16s 2ms/step - loss: 416.9869 - mean_squared_error: 416.9869 1s\n",
      "Epoch 98/200\n",
      "8991/8991 [==============================] - 16s 2ms/step - loss: 416.9613 - mean_squared_error: 416.9613 1s - los\n",
      "Epoch 99/200\n",
      "8991/8991 [==============================] - 16s 2ms/step - loss: 416.6565 - mean_squared_error: 416.6565\n",
      "Epoch 100/200\n",
      "8991/8991 [==============================] - 15s 2ms/step - loss: 416.0940 - mean_squared_error: 416.0940\n",
      "Epoch 101/200\n",
      "8991/8991 [==============================] - 16s 2ms/step - loss: 416.2834 - mean_squared_error: 416.2834\n",
      "Epoch 102/200\n",
      "8991/8991 [==============================] - 16s 2ms/step - loss: 415.2364 - mean_squared_error: 415.2364\n",
      "Epoch 103/200\n",
      "8991/8991 [==============================] - 18s 2ms/step - loss: 415.7847 - mean_squared_error: 415.7847\n",
      "Epoch 104/200\n",
      "8991/8991 [==============================] - 15s 2ms/step - loss: 415.4445 - mean_squared_error: 415.4445 1s -\n",
      "Epoch 105/200\n",
      "8991/8991 [==============================] - 17s 2ms/step - loss: 415.2545 - mean_squared_error: 415.2545\n",
      "Epoch 106/200\n",
      "8991/8991 [==============================] - 16s 2ms/step - loss: 415.1559 - mean_squared_error: 415.1559\n",
      "Epoch 107/200\n",
      "8991/8991 [==============================] - 16s 2ms/step - loss: 414.5888 - mean_squared_error: 414.5888\n",
      "Epoch 108/200\n",
      "8991/8991 [==============================] - 15s 2ms/step - loss: 414.3646 - mean_squared_error: 414.3646\n",
      "Epoch 109/200\n",
      "8991/8991 [==============================] - 14s 2ms/step - loss: 414.5237 - mean_squared_error: 414.5237\n",
      "Epoch 110/200\n",
      "8991/8991 [==============================] - 16s 2ms/step - loss: 414.0593 - mean_squared_error: 414.0593\n",
      "Epoch 111/200\n",
      "8991/8991 [==============================] - 15s 2ms/step - loss: 413.9720 - mean_squared_error: 413.9720\n",
      "Epoch 112/200\n",
      "8991/8991 [==============================] - 16s 2ms/step - loss: 413.5253 - mean_squared_error: 413.5253\n",
      "Epoch 113/200\n",
      "8991/8991 [==============================] - 15s 2ms/step - loss: 413.4377 - mean_squared_error: 413.4377\n",
      "Epoch 114/200\n",
      "8991/8991 [==============================] - 20s 2ms/step - loss: 412.7842 - mean_squared_error: 412.7842\n",
      "Epoch 115/200\n",
      "8991/8991 [==============================] - 14s 2ms/step - loss: 413.1178 - mean_squared_error: 413.1178\n",
      "Epoch 116/200\n",
      "8991/8991 [==============================] - 13s 1ms/step - loss: 413.3335 - mean_squared_error: 413.3335\n",
      "Epoch 117/200\n",
      "8991/8991 [==============================] - 13s 1ms/step - loss: 413.1252 - mean_squared_error: 413.1252 2s - loss: 410.5810 - mean_squared_error:  - ETA: 2s - loss: 410\n",
      "Epoch 118/200\n",
      "8991/8991 [==============================] - 13s 1ms/step - loss: 412.8194 - mean_squared_error: 412.8194\n",
      "Epoch 119/200\n",
      "8991/8991 [==============================] - 13s 1ms/step - loss: 411.9601 - mean_squared_error: 411.9601 4s - ETA: 1s - loss: 411.9742 - mean_squared_e - ETA: 1s - loss: 411.7299 - mean_squared_err - ETA\n",
      "Epoch 120/200\n",
      "8991/8991 [==============================] - 15s 2ms/step - loss: 412.9028 - mean_squared_error: 412.9028\n",
      "Epoch 121/200\n",
      "8991/8991 [==============================] - 18s 2ms/step - loss: 411.8860 - mean_squared_error: 411.8860\n",
      "Epoch 122/200\n",
      "8991/8991 [==============================] - 17s 2ms/step - loss: 411.5681 - mean_squared_error: 411.5681\n",
      "Epoch 123/200\n",
      "8991/8991 [==============================] - 14s 2ms/step - loss: 411.9037 - mean_squared_error: 411.9037\n",
      "Epoch 124/200\n",
      "8991/8991 [==============================] - 16s 2ms/step - loss: 411.6136 - mean_squared_error: 411.6136\n",
      "Epoch 125/200\n",
      "8991/8991 [==============================] - 13s 1ms/step - loss: 411.7762 - mean_squared_error: 411.7762\n",
      "Epoch 126/200\n",
      "8991/8991 [==============================] - 15s 2ms/step - loss: 410.9587 - mean_squared_error: 410.9587\n",
      "Epoch 127/200\n",
      "8991/8991 [==============================] - 17s 2ms/step - loss: 411.1289 - mean_squared_error: 411.1289\n",
      "Epoch 128/200\n",
      "8991/8991 [==============================] - 16s 2ms/step - loss: 411.0007 - mean_squared_error: 411.0007\n",
      "Epoch 129/200\n",
      "8991/8991 [==============================] - 16s 2ms/step - loss: 410.8465 - mean_squared_error: 410.8465\n",
      "Epoch 130/200\n",
      "8991/8991 [==============================] - 15s 2ms/step - loss: 410.3088 - mean_squared_error: 410.3088\n",
      "Epoch 131/200\n",
      "8991/8991 [==============================] - 16s 2ms/step - loss: 410.0251 - mean_squared_error: 410.0251\n",
      "Epoch 132/200\n",
      "8991/8991 [==============================] - 18s 2ms/step - loss: 410.7350 - mean_squared_error: 410.7350\n",
      "Epoch 133/200\n",
      "8991/8991 [==============================] - 17s 2ms/step - loss: 410.4905 - mean_squared_error: 410.4905\n",
      "Epoch 134/200\n",
      "8991/8991 [==============================] - 18s 2ms/step - loss: 410.0663 - mean_squared_error: 410.0663\n",
      "Epoch 135/200\n",
      "8991/8991 [==============================] - 17s 2ms/step - loss: 409.3371 - mean_squared_error: 409.3371\n",
      "Epoch 136/200\n",
      "8991/8991 [==============================] - 17s 2ms/step - loss: 410.3460 - mean_squared_error: 410.3460\n",
      "Epoch 137/200\n",
      "8991/8991 [==============================] - 18s 2ms/step - loss: 409.5440 - mean_squared_error: 409.5440\n",
      "Epoch 138/200\n",
      "8991/8991 [==============================] - 17s 2ms/step - loss: 409.4406 - mean_squared_error: 409.4406\n",
      "Epoch 139/200\n",
      "8991/8991 [==============================] - 18s 2ms/step - loss: 408.5922 - mean_squared_error: 408.5922 0s\n",
      "Epoch 140/200\n",
      "8991/8991 [==============================] - 17s 2ms/step - loss: 408.4013 - mean_squared_error: 408.4013\n",
      "Epoch 141/200\n",
      "8991/8991 [==============================] - 16s 2ms/step - loss: 408.9305 - mean_squared_error: 408.9305\n",
      "Epoch 142/200\n",
      "8991/8991 [==============================] - 16s 2ms/step - loss: 409.0039 - mean_squared_error: 409.0039\n",
      "Epoch 143/200\n",
      "5246/8991 [================>.............] - ETA: 7s - loss: 407.4547 - mean_squared_error: 407.4547"
     ]
    }
   ],
   "source": [
    "model.compile(optimizer='adam', loss='mean_squared_error', metrics=['mean_squared_error'])\n",
    "model.fit(X_train, y_train, epochs=200)"
   ]
  },
  {
   "cell_type": "code",
   "execution_count": null,
   "id": "daff907c-5e83-43f9-95eb-24ff055ad57a",
   "metadata": {},
   "outputs": [],
   "source": [
    "## Save Model\n",
    "model.save('Models/pm25_model.h5')"
   ]
  },
  {
   "cell_type": "markdown",
   "id": "dba9cc15-c16d-403d-8fe2-e9f35fbd0c8c",
   "metadata": {},
   "source": [
    "## Create Time Series Models for each variable"
   ]
  },
  {
   "cell_type": "code",
   "execution_count": 13,
   "id": "a110378d-330b-4a69-b2d9-593f13b986e1",
   "metadata": {},
   "outputs": [
    {
     "data": {
      "text/plain": [
       "array([[<AxesSubplot:title={'center':'PM2.5'}>,\n",
       "        <AxesSubplot:title={'center':'PM10'}>,\n",
       "        <AxesSubplot:title={'center':'SO2'}>],\n",
       "       [<AxesSubplot:title={'center':'NO2'}>,\n",
       "        <AxesSubplot:title={'center':'CO'}>,\n",
       "        <AxesSubplot:title={'center':'O3'}>],\n",
       "       [<AxesSubplot:title={'center':'TEMP'}>,\n",
       "        <AxesSubplot:title={'center':'PRES'}>,\n",
       "        <AxesSubplot:title={'center':'DEWP'}>],\n",
       "       [<AxesSubplot:title={'center':'RAIN'}>, <AxesSubplot:>,\n",
       "        <AxesSubplot:>]], dtype=object)"
      ]
     },
     "execution_count": 13,
     "metadata": {},
     "output_type": "execute_result"
    },
    {
     "data": {
      "image/png": "[encoded data removed]",
      "text/plain": [
       "<Figure size 720x1080 with 12 Axes>"
      ]
     },
     "metadata": {
      "needs_background": "light"
     },
     "output_type": "display_data"
    }
   ],
   "source": [
    "df.hist(figsize=(10, 15))"
   ]
  },
  {
   "cell_type": "code",
   "execution_count": 14,
   "id": "08b2a0ea-1e1c-49c1-8f06-ff1e063d6f0d",
   "metadata": {},
   "outputs": [
    {
     "data": {
      "image/png": "[encoded data removed]",
      "text/plain": [
       "<Figure size 1080x720 with 12 Axes>"
      ]
     },
     "metadata": {
      "needs_background": "light"
     },
     "output_type": "display_data"
    }
   ],
   "source": [
    "df=df.set_index(pd.to_datetime(df['dt']))\n",
    "df = df.drop(columns = ['dt'])\n",
    "fig, ax=plt.subplots(3, 4, figsize=(15, 10))\n",
    "\n",
    "for idx, each_col in enumerate(df.columns): \n",
    "    if idx>=10: \n",
    "        break\n",
    "    row_idx=idx//4\n",
    "    col_idx=idx%4\n",
    "    df[each_col].plot(ax=ax[row_idx][col_idx])\n",
    "    ax[row_idx][col_idx].set_title(each_col)\n",
    "plt.tight_layout()"
   ]
  },
  {
   "cell_type": "code",
   "execution_count": 15,
   "id": "a3e405a1-cbb2-4b3c-ab16-d19bd890e545",
   "metadata": {},
   "outputs": [
    {
     "data": {
      "text/html": [
       "<div>\n",
       "<style scoped>\n",
       "    .dataframe tbody tr th:only-of-type {\n",
       "        vertical-align: middle;\n",
       "    }\n",
       "\n",
       "    .dataframe tbody tr th {\n",
       "        vertical-align: top;\n",
       "    }\n",
       "\n",
       "    .dataframe thead th {\n",
       "        text-align: right;\n",
       "    }\n",
       "</style>\n",
       "<table border=\"1\" class=\"dataframe\">\n",
       "  <thead>\n",
       "    <tr style=\"text-align: right;\">\n",
       "      <th></th>\n",
       "      <th>PM2.5</th>\n",
       "      <th>PM10</th>\n",
       "      <th>SO2</th>\n",
       "      <th>NO2</th>\n",
       "      <th>CO</th>\n",
       "      <th>O3</th>\n",
       "      <th>TEMP</th>\n",
       "      <th>PRES</th>\n",
       "      <th>DEWP</th>\n",
       "      <th>RAIN</th>\n",
       "    </tr>\n",
       "    <tr>\n",
       "      <th>dt</th>\n",
       "      <th></th>\n",
       "      <th></th>\n",
       "      <th></th>\n",
       "      <th></th>\n",
       "      <th></th>\n",
       "      <th></th>\n",
       "      <th></th>\n",
       "      <th></th>\n",
       "      <th></th>\n",
       "      <th></th>\n",
       "    </tr>\n",
       "  </thead>\n",
       "  <tbody>\n",
       "    <tr>\n",
       "      <th>2013-01-03</th>\n",
       "      <td>4.0</td>\n",
       "      <td>-1.101254</td>\n",
       "      <td>-0.545907</td>\n",
       "      <td>-1.243556</td>\n",
       "      <td>-0.804110</td>\n",
       "      <td>0.348630</td>\n",
       "      <td>-1.242142</td>\n",
       "      <td>1.164563</td>\n",
       "      <td>-1.538262</td>\n",
       "      <td>-0.078906</td>\n",
       "    </tr>\n",
       "    <tr>\n",
       "      <th>2013-01-03</th>\n",
       "      <td>9.0</td>\n",
       "      <td>-1.046543</td>\n",
       "      <td>-0.592877</td>\n",
       "      <td>-0.958503</td>\n",
       "      <td>-0.804110</td>\n",
       "      <td>0.560363</td>\n",
       "      <td>-1.224639</td>\n",
       "      <td>1.308088</td>\n",
       "      <td>-1.726789</td>\n",
       "      <td>-0.078906</td>\n",
       "    </tr>\n",
       "    <tr>\n",
       "      <th>2013-01-03</th>\n",
       "      <td>4.0</td>\n",
       "      <td>-1.101254</td>\n",
       "      <td>-0.076203</td>\n",
       "      <td>-0.872987</td>\n",
       "      <td>-0.804110</td>\n",
       "      <td>0.207475</td>\n",
       "      <td>-1.242142</td>\n",
       "      <td>1.164563</td>\n",
       "      <td>-1.538262</td>\n",
       "      <td>-0.078906</td>\n",
       "    </tr>\n",
       "    <tr>\n",
       "      <th>2013-01-03</th>\n",
       "      <td>7.0</td>\n",
       "      <td>-1.068428</td>\n",
       "      <td>-0.592877</td>\n",
       "      <td>-1.386082</td>\n",
       "      <td>-0.976692</td>\n",
       "      <td>0.595652</td>\n",
       "      <td>-1.382164</td>\n",
       "      <td>0.906219</td>\n",
       "      <td>-1.676032</td>\n",
       "      <td>-0.078906</td>\n",
       "    </tr>\n",
       "    <tr>\n",
       "      <th>2013-01-03</th>\n",
       "      <td>5.0</td>\n",
       "      <td>-0.991832</td>\n",
       "      <td>-0.545907</td>\n",
       "      <td>-1.101029</td>\n",
       "      <td>-0.890401</td>\n",
       "      <td>0.489786</td>\n",
       "      <td>-1.224639</td>\n",
       "      <td>1.308088</td>\n",
       "      <td>-1.726789</td>\n",
       "      <td>-0.078906</td>\n",
       "    </tr>\n",
       "  </tbody>\n",
       "</table>\n",
       "</div>"
      ],
      "text/plain": [
       "            PM2.5      PM10       SO2       NO2        CO        O3      TEMP  \\\n",
       "dt                                                                              \n",
       "2013-01-03    4.0 -1.101254 -0.545907 -1.243556 -0.804110  0.348630 -1.242142   \n",
       "2013-01-03    9.0 -1.046543 -0.592877 -0.958503 -0.804110  0.560363 -1.224639   \n",
       "2013-01-03    4.0 -1.101254 -0.076203 -0.872987 -0.804110  0.207475 -1.242142   \n",
       "2013-01-03    7.0 -1.068428 -0.592877 -1.386082 -0.976692  0.595652 -1.382164   \n",
       "2013-01-03    5.0 -0.991832 -0.545907 -1.101029 -0.890401  0.489786 -1.224639   \n",
       "\n",
       "                PRES      DEWP      RAIN  \n",
       "dt                                        \n",
       "2013-01-03  1.164563 -1.538262 -0.078906  \n",
       "2013-01-03  1.308088 -1.726789 -0.078906  \n",
       "2013-01-03  1.164563 -1.538262 -0.078906  \n",
       "2013-01-03  0.906219 -1.676032 -0.078906  \n",
       "2013-01-03  1.308088 -1.726789 -0.078906  "
      ]
     },
     "execution_count": 15,
     "metadata": {},
     "output_type": "execute_result"
    }
   ],
   "source": [
    "df.head()"
   ]
  },
  {
   "cell_type": "code",
   "execution_count": 16,
   "id": "85325ef1-69d1-4c45-be6a-30fc71f4068c",
   "metadata": {},
   "outputs": [
    {
     "data": {
      "text/plain": [
       "<AxesSubplot:xlabel='dt'>"
      ]
     },
     "execution_count": 16,
     "metadata": {},
     "output_type": "execute_result"
    },
    {
     "data": {
      "image/png": "[encoded data removed]",
      "text/plain": [
       "<Figure size 432x288 with 1 Axes>"
      ]
     },
     "metadata": {
      "needs_background": "light"
     },
     "output_type": "display_data"
    }
   ],
   "source": [
    "df['TEMP'].rolling(30).median().plot()"
   ]
  },
  {
   "cell_type": "code",
   "execution_count": 17,
   "id": "5fa689ba-376d-42a0-9605-34094bf1c1cc",
   "metadata": {},
   "outputs": [
    {
     "data": {
      "text/plain": [
       "dt\n",
       "2013-01-03 00:00:00   -1.257894\n",
       "2013-01-03 01:00:00   -1.269368\n",
       "2013-01-03 02:00:00   -1.335490\n",
       "2013-01-03 03:00:00   -1.341907\n",
       "2013-01-03 04:00:00   -1.378663\n",
       "Name: TEMP, dtype: float64"
      ]
     },
     "execution_count": 17,
     "metadata": {},
     "output_type": "execute_result"
    }
   ],
   "source": [
    "grouped_df=df.groupby('dt').mean()\n",
    "grouped_df['TEMP'].head()"
   ]
  },
  {
   "cell_type": "markdown",
   "id": "ee79356a-b362-4b22-927f-0fc941341405",
   "metadata": {},
   "source": [
    "### Create SO2 timeseries"
   ]
  },
  {
   "cell_type": "code",
   "execution_count": 18,
   "id": "012a7f40-b335-4fcf-9410-7549934728c2",
   "metadata": {},
   "outputs": [
    {
     "data": {
      "text/plain": [
       "(26116, 1)"
      ]
     },
     "execution_count": 18,
     "metadata": {},
     "output_type": "execute_result"
    }
   ],
   "source": [
    "import math\n",
    "temp_arr=grouped_df['SO2'].values.reshape(-1, 1)\n",
    "train_arr=temp_arr[0: math.ceil(.75*len(temp_arr))]\n",
    "test_arr = temp_arr[math.ceil(.75*len(temp_arr)):]\n",
    "train_arr.shape"
   ]
  },
  {
   "cell_type": "code",
   "execution_count": 19,
   "id": "99e450c5-d64b-4618-929e-a868d6c64599",
   "metadata": {},
   "outputs": [
    {
     "data": {
      "text/plain": [
       "(8705, 1)"
      ]
     },
     "execution_count": 19,
     "metadata": {},
     "output_type": "execute_result"
    }
   ],
   "source": [
    "test_arr.shape"
   ]
  },
  {
   "cell_type": "code",
   "execution_count": 20,
   "id": "a73febd9-9a8d-4ec4-bd95-0060983845fa",
   "metadata": {},
   "outputs": [],
   "source": [
    "days_season=365\n",
    "X_train=[]\n",
    "y_train=[]\n",
    "X_test = []\n",
    "y_test = []\n",
    "for i in range(days_season, len(train_arr)): \n",
    "    X_train.append(train_arr[i-days_season: i, 0])\n",
    "    y_train.append(train_arr[i, 0])\n",
    "for i in range(days_season, len(test_arr)): \n",
    "    X_test.append(test_arr[i-days_season: i, 0])\n",
    "    y_test.append(test_arr[i, 0])"
   ]
  },
  {
   "cell_type": "code",
   "execution_count": 21,
   "id": "04b6c985-fc05-4e32-980d-72e51b43d7bc",
   "metadata": {},
   "outputs": [
    {
     "data": {
      "text/plain": [
       "(25751, 365, 1)"
      ]
     },
     "execution_count": 21,
     "metadata": {},
     "output_type": "execute_result"
    }
   ],
   "source": [
    "X_train=np.array(X_train)\n",
    "y_train=np.array(y_train)\n",
    "X_train=np.reshape(X_train, (X_train.shape[0], X_train.shape[1], 1))\n",
    "X_train.shape"
   ]
  },
  {
   "cell_type": "code",
   "execution_count": 22,
   "id": "ca04c787-422f-4109-a6ce-274484d358b4",
   "metadata": {},
   "outputs": [
    {
     "data": {
      "text/plain": [
       "(8340, 365, 1)"
      ]
     },
     "execution_count": 22,
     "metadata": {},
     "output_type": "execute_result"
    }
   ],
   "source": [
    "X_test=np.array(X_test)\n",
    "y_test=np.array(y_test)\n",
    "X_test=np.reshape(X_test, (X_test.shape[0], X_test.shape[1], 1))\n",
    "X_test.shape"
   ]
  },
  {
   "cell_type": "code",
   "execution_count": 23,
   "id": "e38a0f50-a6b5-49d0-b3ca-65413e779aa1",
   "metadata": {},
   "outputs": [],
   "source": [
    "## So one big array with 365 smaller arrays within, each with 8340 individual single-value arrays within "
   ]
  },
  {
   "cell_type": "code",
   "execution_count": 24,
   "id": "26837ed5-d7c1-4e7a-a23d-fc01a0a419c2",
   "metadata": {},
   "outputs": [
    {
     "data": {
      "text/plain": [
       "array([[[ 0.49918367],\n",
       "        [ 0.28674956],\n",
       "        [ 0.32090982],\n",
       "        ...,\n",
       "        [ 0.72229286],\n",
       "        [ 0.87103232],\n",
       "        [ 1.12936928]],\n",
       "\n",
       "       [[ 0.28674956],\n",
       "        [ 0.32090982],\n",
       "        [ 0.00208073],\n",
       "        ...,\n",
       "        [ 0.87103232],\n",
       "        [ 1.12936928],\n",
       "        [ 1.2193958 ]],\n",
       "\n",
       "       [[ 0.32090982],\n",
       "        [ 0.00208073],\n",
       "        [-0.1740581 ],\n",
       "        ...,\n",
       "        [ 1.12936928],\n",
       "        [ 1.2193958 ],\n",
       "        [ 1.29376553]],\n",
       "\n",
       "       ...,\n",
       "\n",
       "       [[ 0.07751797],\n",
       "        [ 0.22696911],\n",
       "        [ 0.37642024],\n",
       "        ...,\n",
       "        [ 1.22331   ],\n",
       "        [ 1.01585759],\n",
       "        [ 0.98845821]],\n",
       "\n",
       "       [[ 0.22696911],\n",
       "        [ 0.37642024],\n",
       "        [ 0.29564546],\n",
       "        ...,\n",
       "        [ 1.01585759],\n",
       "        [ 0.98845821],\n",
       "        [ 0.91408848]],\n",
       "\n",
       "       [[ 0.37642024],\n",
       "        [ 0.29564546],\n",
       "        [ 0.24831927],\n",
       "        ...,\n",
       "        [ 0.98845821],\n",
       "        [ 0.91408848],\n",
       "        [ 1.01977179]]])"
      ]
     },
     "execution_count": 24,
     "metadata": {},
     "output_type": "execute_result"
    }
   ],
   "source": [
    "X_test"
   ]
  },
  {
   "cell_type": "code",
   "execution_count": 25,
   "id": "64e75229-6ee0-4432-935a-f601d0997536",
   "metadata": {},
   "outputs": [
    {
     "name": "stdout",
     "output_type": "stream",
     "text": [
      "Model: \"sequential_1\"\n",
      "_________________________________________________________________\n",
      "Layer (type)                 Output Shape              Param #   \n",
      "=================================================================\n",
      "lstm (LSTM)                  (None, 365, 50)           10400     \n",
      "_________________________________________________________________\n",
      "lstm_1 (LSTM)                (None, 50)                20200     \n",
      "_________________________________________________________________\n",
      "dense_3 (Dense)              (None, 25)                1275      \n",
      "_________________________________________________________________\n",
      "dense_4 (Dense)              (None, 1)                 26        \n",
      "=================================================================\n",
      "Total params: 31,901\n",
      "Trainable params: 31,901\n",
      "Non-trainable params: 0\n",
      "_________________________________________________________________\n"
     ]
    }
   ],
   "source": [
    "lstm_model=tf.keras.models.Sequential()\n",
    "lstm_layer_1=tf.keras.layers.LSTM(50, return_sequences=True, input_shape=(365, 1))\n",
    "lstm_model.add(lstm_layer_1)\n",
    "lstm_layer_2=tf.keras.layers.LSTM(50, return_sequences=False)\n",
    "lstm_model.add(lstm_layer_2)\n",
    "lstm_layer_3=tf.keras.layers.Dense(25)\n",
    "lstm_model.add(lstm_layer_3)\n",
    "lstm_output_layer=tf.keras.layers.Dense(1)\n",
    "lstm_model.add(lstm_output_layer)\n",
    "lstm_model.summary()"
   ]
  },
  {
   "cell_type": "code",
   "execution_count": 26,
   "id": "7d8248bb-721f-43a5-a23a-c130996de3b5",
   "metadata": {},
   "outputs": [
    {
     "name": "stdout",
     "output_type": "stream",
     "text": [
      "Epoch 1/5\n",
      "805/805 [==============================] - 187s 230ms/step - loss: 0.1148 - mean_squared_error: 0.1148\n",
      "Epoch 2/5\n",
      "805/805 [==============================] - 185s 230ms/step - loss: 0.0591 - mean_squared_error: 0.0591\n",
      "Epoch 3/5\n",
      "805/805 [==============================] - 173s 215ms/step - loss: 0.0586 - mean_squared_error: 0.0586\n",
      "Epoch 4/5\n",
      "805/805 [==============================] - 184s 228ms/step - loss: 0.0578 - mean_squared_error: 0.0578\n",
      "Epoch 5/5\n",
      "805/805 [==============================] - 186s 231ms/step - loss: 0.0577 - mean_squared_error: 0.0577\n"
     ]
    },
    {
     "data": {
      "text/plain": [
       "<keras.callbacks.History at 0x13315a1baf0>"
      ]
     },
     "execution_count": 26,
     "metadata": {},
     "output_type": "execute_result"
    }
   ],
   "source": [
    "lstm_model.compile(optimizer='adam', metrics=['mean_squared_error'], loss='mean_squared_error')\n",
    "lstm_model.fit(X_train, y_train, epochs=5)"
   ]
  },
  {
   "cell_type": "code",
   "execution_count": 27,
   "id": "6499d7fb-0a89-4ab8-9169-1464afe242aa",
   "metadata": {},
   "outputs": [],
   "source": [
    "## Now predict on test data \n",
    "y_predicted = lstm_model.predict(X_test)\n",
    "y_real = y_test"
   ]
  },
  {
   "cell_type": "code",
   "execution_count": 28,
   "id": "ff6ce56f-df82-46a9-9103-2c8e91cfd9fd",
   "metadata": {},
   "outputs": [
    {
     "data": {
      "image/png": "[encoded data removed]",
      "text/plain": [
       "<Figure size 432x288 with 1 Axes>"
      ]
     },
     "metadata": {
      "needs_background": "light"
     },
     "output_type": "display_data"
    }
   ],
   "source": [
    "plt.plot(y_real, color = 'black', label = 'REAL')\n",
    "plt.title('Value Prediction')\n",
    "plt.xlabel('Time')\n",
    "plt.ylabel('Value')\n",
    "plt.legend()\n",
    "plt.show()"
   ]
  },
  {
   "cell_type": "code",
   "execution_count": 29,
   "id": "f22044ac-55b5-4f4c-a32d-5196525bd666",
   "metadata": {},
   "outputs": [
    {
     "data": {
      "image/png": "[encoded data removed]",
      "text/plain": [
       "<Figure size 432x288 with 1 Axes>"
      ]
     },
     "metadata": {
      "needs_background": "light"
     },
     "output_type": "display_data"
    }
   ],
   "source": [
    "plt.plot(y_predicted, color = 'green', label = 'PREDICTED')\n",
    "plt.title('Value Prediction')\n",
    "plt.xlabel('Time')\n",
    "plt.ylabel('Value')\n",
    "plt.legend()\n",
    "plt.show()"
   ]
  },
  {
   "cell_type": "code",
   "execution_count": 30,
   "id": "a36edc35-934b-4610-8338-8a3f7d482824",
   "metadata": {},
   "outputs": [
    {
     "name": "stdout",
     "output_type": "stream",
     "text": [
      "Epoch 1/2\n",
      "261/261 [==============================] - 56s 213ms/step - loss: 0.0262 - mean_squared_error: 0.0262\n",
      "Epoch 2/2\n",
      "261/261 [==============================] - 55s 212ms/step - loss: 0.0259 - mean_squared_error: 0.0259\n"
     ]
    },
    {
     "data": {
      "text/plain": [
       "<keras.callbacks.History at 0x133290d05b0>"
      ]
     },
     "execution_count": 30,
     "metadata": {},
     "output_type": "execute_result"
    }
   ],
   "source": [
    "## Now let's test on our test data\n",
    "lstm_model.fit(X_test, y_test, epochs=2)"
   ]
  },
  {
   "cell_type": "code",
   "execution_count": 31,
   "id": "116acee7-43be-405a-98b5-773a0117ea49",
   "metadata": {},
   "outputs": [],
   "source": [
    "## Save Model\n",
    "# lstm_model.save('Models/so3_model.h5')"
   ]
  },
  {
   "cell_type": "markdown",
   "id": "537458d5-9ee7-4afb-9198-e37be257321a",
   "metadata": {},
   "source": [
    "### Create CO Time Series Model"
   ]
  },
  {
   "cell_type": "code",
   "execution_count": 32,
   "id": "64214692-83c6-4b83-a52e-3df6905804c7",
   "metadata": {},
   "outputs": [
    {
     "data": {
      "text/plain": [
       "(26116, 1)"
      ]
     },
     "execution_count": 32,
     "metadata": {},
     "output_type": "execute_result"
    }
   ],
   "source": [
    "temp_arr=grouped_df['CO'].values.reshape(-1, 1)\n",
    "train_arr=temp_arr[0: math.ceil(.75*len(temp_arr))]\n",
    "test_arr = temp_arr[math.ceil(.75*len(temp_arr)):]\n",
    "train_arr.shape"
   ]
  },
  {
   "cell_type": "code",
   "execution_count": 33,
   "id": "9c1c5b24-67b1-45d0-97d1-6fd0d867df93",
   "metadata": {},
   "outputs": [
    {
     "data": {
      "text/plain": [
       "(8705, 1)"
      ]
     },
     "execution_count": 33,
     "metadata": {},
     "output_type": "execute_result"
    }
   ],
   "source": [
    "test_arr.shape"
   ]
  },
  {
   "cell_type": "code",
   "execution_count": 34,
   "id": "b250cfaf-afc8-44e3-a884-fd0f30273021",
   "metadata": {},
   "outputs": [],
   "source": [
    "days_season=365\n",
    "X_train=[]\n",
    "y_train=[]\n",
    "X_test = []\n",
    "y_test = []\n",
    "for i in range(days_season, len(train_arr)): \n",
    "    X_train.append(train_arr[i-days_season: i, 0])\n",
    "    y_train.append(train_arr[i, 0])\n",
    "for i in range(days_season, len(test_arr)): \n",
    "    X_test.append(test_arr[i-days_season: i, 0])\n",
    "    y_test.append(test_arr[i, 0])"
   ]
  },
  {
   "cell_type": "code",
   "execution_count": 35,
   "id": "251e31af-49dd-455d-8420-6a7367dbeac7",
   "metadata": {},
   "outputs": [
    {
     "data": {
      "text/plain": [
       "(25751, 365, 1)"
      ]
     },
     "execution_count": 35,
     "metadata": {},
     "output_type": "execute_result"
    }
   ],
   "source": [
    "X_train=np.array(X_train)\n",
    "y_train=np.array(y_train)\n",
    "X_train=np.reshape(X_train, (X_train.shape[0], X_train.shape[1], 1))\n",
    "X_train.shape"
   ]
  },
  {
   "cell_type": "code",
   "execution_count": 36,
   "id": "37f27530-73a0-4d58-a575-402849045f7e",
   "metadata": {},
   "outputs": [
    {
     "data": {
      "text/plain": [
       "(8340, 365, 1)"
      ]
     },
     "execution_count": 36,
     "metadata": {},
     "output_type": "execute_result"
    }
   ],
   "source": [
    "X_test=np.array(X_test)\n",
    "y_test=np.array(y_test)\n",
    "X_test=np.reshape(X_test, (X_test.shape[0], X_test.shape[1], 1))\n",
    "X_test.shape"
   ]
  },
  {
   "cell_type": "code",
   "execution_count": 37,
   "id": "083f9f22-745b-4277-9851-ca5a0d4a4576",
   "metadata": {},
   "outputs": [
    {
     "name": "stdout",
     "output_type": "stream",
     "text": [
      "Model: \"sequential_2\"\n",
      "_________________________________________________________________\n",
      "Layer (type)                 Output Shape              Param #   \n",
      "=================================================================\n",
      "lstm_2 (LSTM)                (None, 365, 50)           10400     \n",
      "_________________________________________________________________\n",
      "lstm_3 (LSTM)                (None, 50)                20200     \n",
      "_________________________________________________________________\n",
      "dense_5 (Dense)              (None, 25)                1275      \n",
      "_________________________________________________________________\n",
      "dense_6 (Dense)              (None, 1)                 26        \n",
      "=================================================================\n",
      "Total params: 31,901\n",
      "Trainable params: 31,901\n",
      "Non-trainable params: 0\n",
      "_________________________________________________________________\n"
     ]
    }
   ],
   "source": [
    "lstm_model=tf.keras.models.Sequential()\n",
    "lstm_layer_1=tf.keras.layers.LSTM(50, return_sequences=True, input_shape=(365, 1))\n",
    "lstm_model.add(lstm_layer_1)\n",
    "lstm_layer_2=tf.keras.layers.LSTM(50, return_sequences=False)\n",
    "lstm_model.add(lstm_layer_2)\n",
    "lstm_layer_3=tf.keras.layers.Dense(25)\n",
    "lstm_model.add(lstm_layer_3)\n",
    "lstm_output_layer=tf.keras.layers.Dense(1)\n",
    "lstm_model.add(lstm_output_layer)\n",
    "lstm_model.summary()"
   ]
  },
  {
   "cell_type": "code",
   "execution_count": 38,
   "id": "4ac01b35-ee45-4e90-95ec-a3192eea6b0a",
   "metadata": {},
   "outputs": [
    {
     "name": "stdout",
     "output_type": "stream",
     "text": [
      "Epoch 1/5\n",
      "805/805 [==============================] - 187s 230ms/step - loss: 0.1045 - mean_squared_error: 0.1045\n",
      "Epoch 2/5\n",
      "805/805 [==============================] - 172s 214ms/step - loss: 0.0646 - mean_squared_error: 0.0646\n",
      "Epoch 3/5\n",
      "805/805 [==============================] - 179s 223ms/step - loss: 0.0625 - mean_squared_error: 0.0625\n",
      "Epoch 4/5\n",
      "805/805 [==============================] - 181s 225ms/step - loss: 0.0614 - mean_squared_error: 0.0614\n",
      "Epoch 5/5\n",
      "805/805 [==============================] - 173s 215ms/step - loss: 0.0609 - mean_squared_error: 0.0609\n"
     ]
    },
    {
     "data": {
      "text/plain": [
       "<keras.callbacks.History at 0x1331b274a90>"
      ]
     },
     "execution_count": 38,
     "metadata": {},
     "output_type": "execute_result"
    }
   ],
   "source": [
    "lstm_model.compile(optimizer='adam', metrics=['mean_squared_error'], loss='mean_squared_error')\n",
    "lstm_model.fit(X_train, y_train, epochs=5)"
   ]
  },
  {
   "cell_type": "code",
   "execution_count": 39,
   "id": "4154e1c9-b4dc-4124-be79-fe3a592b98fa",
   "metadata": {},
   "outputs": [],
   "source": [
    "## Now predict on test data \n",
    "y_predicted = lstm_model.predict(X_test)\n",
    "y_real = y_test"
   ]
  },
  {
   "cell_type": "code",
   "execution_count": 40,
   "id": "6c3c6223-1ebe-4f59-868a-7da08539a5fd",
   "metadata": {},
   "outputs": [
    {
     "data": {
      "image/png": "[encoded data removed]",
      "text/plain": [
       "<Figure size 432x288 with 1 Axes>"
      ]
     },
     "metadata": {
      "needs_background": "light"
     },
     "output_type": "display_data"
    }
   ],
   "source": [
    "plt.plot(y_real, color = 'black', label = 'REAL')\n",
    "plt.title('Value Prediction')\n",
    "plt.xlabel('Time')\n",
    "plt.ylabel('Value')\n",
    "plt.legend()\n",
    "plt.show()"
   ]
  },
  {
   "cell_type": "code",
   "execution_count": 41,
   "id": "21d23e02-d6ee-41ae-b182-a6ecc8bea094",
   "metadata": {},
   "outputs": [
    {
     "data": {
      "image/png": "[encoded data removed]",
      "text/plain": [
       "<Figure size 432x288 with 1 Axes>"
      ]
     },
     "metadata": {
      "needs_background": "light"
     },
     "output_type": "display_data"
    }
   ],
   "source": [
    "plt.plot(y_predicted, color = 'green', label = 'PREDICTED')\n",
    "plt.title('Value Prediction')\n",
    "plt.xlabel('Time')\n",
    "plt.ylabel('Value')\n",
    "plt.legend()\n",
    "plt.show()"
   ]
  },
  {
   "cell_type": "code",
   "execution_count": 42,
   "id": "95f710f2-b086-4ee3-b1ec-3390a473c86c",
   "metadata": {},
   "outputs": [
    {
     "name": "stdout",
     "output_type": "stream",
     "text": [
      "Epoch 1/2\n",
      "261/261 [==============================] - 60s 229ms/step - loss: 0.0718 - mean_squared_error: 0.0718\n",
      "Epoch 2/2\n",
      "261/261 [==============================] - 56s 213ms/step - loss: 0.0695 - mean_squared_error: 0.0695\n"
     ]
    },
    {
     "data": {
      "text/plain": [
       "<keras.callbacks.History at 0x1331f3ab400>"
      ]
     },
     "execution_count": 42,
     "metadata": {},
     "output_type": "execute_result"
    }
   ],
   "source": [
    "## Now let's test on our test data\n",
    "lstm_model.fit(X_test, y_test, epochs=2)"
   ]
  },
  {
   "cell_type": "code",
   "execution_count": 43,
   "id": "2c051358-e32b-4e9e-8a3a-25f4b0f00211",
   "metadata": {},
   "outputs": [],
   "source": [
    "## Save Model\n",
    "# lstm_model.save('Models/co_model.h5')"
   ]
  },
  {
   "cell_type": "markdown",
   "id": "2c50facf-0d9a-4ed5-a964-f2744e7ba8d9",
   "metadata": {},
   "source": [
    "### Create DEWP Time Series Model"
   ]
  },
  {
   "cell_type": "code",
   "execution_count": 44,
   "id": "1f97c416-8550-45ff-871e-c60b8ced1473",
   "metadata": {},
   "outputs": [
    {
     "data": {
      "text/plain": [
       "(26116, 1)"
      ]
     },
     "execution_count": 44,
     "metadata": {},
     "output_type": "execute_result"
    }
   ],
   "source": [
    "temp_arr=grouped_df['DEWP'].values.reshape(-1, 1)\n",
    "train_arr=temp_arr[0: math.ceil(.75*len(temp_arr))]\n",
    "test_arr = temp_arr[math.ceil(.75*len(temp_arr)):]\n",
    "train_arr.shape"
   ]
  },
  {
   "cell_type": "code",
   "execution_count": 45,
   "id": "8b04724c-fa56-4327-b0e2-97935cc92cc7",
   "metadata": {},
   "outputs": [
    {
     "data": {
      "text/plain": [
       "(8705, 1)"
      ]
     },
     "execution_count": 45,
     "metadata": {},
     "output_type": "execute_result"
    }
   ],
   "source": [
    "test_arr.shape"
   ]
  },
  {
   "cell_type": "code",
   "execution_count": 46,
   "id": "b92ee3a7-0538-4b05-bdf9-8f7457bd6315",
   "metadata": {},
   "outputs": [],
   "source": [
    "days_season=365\n",
    "X_train=[]\n",
    "y_train=[]\n",
    "X_test = []\n",
    "y_test = []\n",
    "for i in range(days_season, len(train_arr)): \n",
    "    X_train.append(train_arr[i-days_season: i, 0])\n",
    "    y_train.append(train_arr[i, 0])\n",
    "for i in range(days_season, len(test_arr)): \n",
    "    X_test.append(test_arr[i-days_season: i, 0])\n",
    "    y_test.append(test_arr[i, 0])"
   ]
  },
  {
   "cell_type": "code",
   "execution_count": 47,
   "id": "359a2e5e-3b9f-40fa-a7c5-6ac46b1562e5",
   "metadata": {},
   "outputs": [
    {
     "data": {
      "text/plain": [
       "(25751, 365, 1)"
      ]
     },
     "execution_count": 47,
     "metadata": {},
     "output_type": "execute_result"
    }
   ],
   "source": [
    "X_train=np.array(X_train)\n",
    "y_train=np.array(y_train)\n",
    "X_train=np.reshape(X_train, (X_train.shape[0], X_train.shape[1], 1))\n",
    "X_train.shape"
   ]
  },
  {
   "cell_type": "code",
   "execution_count": 48,
   "id": "e0ea6070-79fc-42fc-bc0b-660743ec5aad",
   "metadata": {},
   "outputs": [
    {
     "data": {
      "text/plain": [
       "(8340, 365, 1)"
      ]
     },
     "execution_count": 48,
     "metadata": {},
     "output_type": "execute_result"
    }
   ],
   "source": [
    "X_test=np.array(X_test)\n",
    "y_test=np.array(y_test)\n",
    "X_test=np.reshape(X_test, (X_test.shape[0], X_test.shape[1], 1))\n",
    "X_test.shape"
   ]
  },
  {
   "cell_type": "code",
   "execution_count": 49,
   "id": "1c9bb81d-5f39-488f-9124-04e819bf33e3",
   "metadata": {},
   "outputs": [
    {
     "name": "stdout",
     "output_type": "stream",
     "text": [
      "Model: \"sequential_3\"\n",
      "_________________________________________________________________\n",
      "Layer (type)                 Output Shape              Param #   \n",
      "=================================================================\n",
      "lstm_4 (LSTM)                (None, 365, 50)           10400     \n",
      "_________________________________________________________________\n",
      "lstm_5 (LSTM)                (None, 50)                20200     \n",
      "_________________________________________________________________\n",
      "dense_7 (Dense)              (None, 25)                1275      \n",
      "_________________________________________________________________\n",
      "dense_8 (Dense)              (None, 1)                 26        \n",
      "=================================================================\n",
      "Total params: 31,901\n",
      "Trainable params: 31,901\n",
      "Non-trainable params: 0\n",
      "_________________________________________________________________\n"
     ]
    }
   ],
   "source": [
    "lstm_model=tf.keras.models.Sequential()\n",
    "lstm_layer_1=tf.keras.layers.LSTM(50, return_sequences=True, input_shape=(365, 1))\n",
    "lstm_model.add(lstm_layer_1)\n",
    "lstm_layer_2=tf.keras.layers.LSTM(50, return_sequences=False)\n",
    "lstm_model.add(lstm_layer_2)\n",
    "lstm_layer_3=tf.keras.layers.Dense(25)\n",
    "lstm_model.add(lstm_layer_3)\n",
    "lstm_output_layer=tf.keras.layers.Dense(1)\n",
    "lstm_model.add(lstm_output_layer)\n",
    "lstm_model.summary()"
   ]
  },
  {
   "cell_type": "code",
   "execution_count": 50,
   "id": "15b09fa7-d677-4a13-80f9-e0f724997652",
   "metadata": {},
   "outputs": [
    {
     "name": "stdout",
     "output_type": "stream",
     "text": [
      "Epoch 1/5\n",
      "805/805 [==============================] - 192s 235ms/step - loss: 0.0414 - mean_squared_error: 0.0414\n",
      "Epoch 2/5\n",
      "805/805 [==============================] - 173s 215ms/step - loss: 0.0192 - mean_squared_error: 0.0192\n",
      "Epoch 3/5\n",
      "805/805 [==============================] - 180s 223ms/step - loss: 0.0191 - mean_squared_error: 0.0191\n",
      "Epoch 4/5\n",
      "805/805 [==============================] - 179s 223ms/step - loss: 0.0188 - mean_squared_error: 0.0188\n",
      "Epoch 5/5\n",
      "805/805 [==============================] - 174s 216ms/step - loss: 0.0187 - mean_squared_error: 0.0187\n"
     ]
    },
    {
     "data": {
      "text/plain": [
       "<keras.callbacks.History at 0x1331b5da9d0>"
      ]
     },
     "execution_count": 50,
     "metadata": {},
     "output_type": "execute_result"
    }
   ],
   "source": [
    "lstm_model.compile(optimizer='adam', metrics=['mean_squared_error'], loss='mean_squared_error')\n",
    "lstm_model.fit(X_train, y_train, epochs=5)"
   ]
  },
  {
   "cell_type": "code",
   "execution_count": 51,
   "id": "09e28796-603c-4e6b-a030-74c35260c2c3",
   "metadata": {},
   "outputs": [],
   "source": [
    "## Now predict on test data \n",
    "y_predicted = lstm_model.predict(X_test)\n",
    "y_real = y_test"
   ]
  },
  {
   "cell_type": "code",
   "execution_count": 52,
   "id": "2d578060-cf67-4241-b66b-ec9ca4af4e5f",
   "metadata": {},
   "outputs": [
    {
     "data": {
      "image/png": "[encoded data removed]",
      "text/plain": [
       "<Figure size 432x288 with 1 Axes>"
      ]
     },
     "metadata": {
      "needs_background": "light"
     },
     "output_type": "display_data"
    }
   ],
   "source": [
    "plt.plot(y_real, color = 'black', label = 'REAL')\n",
    "plt.title('Value Prediction')\n",
    "plt.xlabel('Time')\n",
    "plt.ylabel('Value')\n",
    "plt.legend()\n",
    "plt.show()"
   ]
  },
  {
   "cell_type": "code",
   "execution_count": 53,
   "id": "e540406e-4cdd-43cd-8218-e9b40eef6200",
   "metadata": {},
   "outputs": [
    {
     "data": {
      "image/png": "[encoded data removed]",
      "text/plain": [
       "<Figure size 432x288 with 1 Axes>"
      ]
     },
     "metadata": {
      "needs_background": "light"
     },
     "output_type": "display_data"
    }
   ],
   "source": [
    "plt.plot(y_predicted, color = 'green', label = 'PREDICTED')\n",
    "plt.title('Value Prediction')\n",
    "plt.xlabel('Time')\n",
    "plt.ylabel('Value')\n",
    "plt.legend()\n",
    "plt.show()"
   ]
  },
  {
   "cell_type": "code",
   "execution_count": 54,
   "id": "b8079a6f-04d0-4610-8c51-66c9bdb32170",
   "metadata": {},
   "outputs": [
    {
     "name": "stdout",
     "output_type": "stream",
     "text": [
      "Epoch 1/2\n",
      "261/261 [==============================] - 59s 228ms/step - loss: 0.0186 - mean_squared_error: 0.0186\n",
      "Epoch 2/2\n",
      "261/261 [==============================] - 56s 214ms/step - loss: 0.0187 - mean_squared_error: 0.0187\n"
     ]
    },
    {
     "data": {
      "text/plain": [
       "<keras.callbacks.History at 0x1331c9685b0>"
      ]
     },
     "execution_count": 54,
     "metadata": {},
     "output_type": "execute_result"
    }
   ],
   "source": [
    "## Now let's test on our test data\n",
    "lstm_model.fit(X_test, y_test, epochs=2)"
   ]
  },
  {
   "cell_type": "code",
   "execution_count": 55,
   "id": "83deccec-267c-440e-8cb7-5c1237560942",
   "metadata": {},
   "outputs": [],
   "source": [
    "## Save Model\n",
    "# lstm_model.save('Models/dewp_model.h5')"
   ]
  },
  {
   "cell_type": "markdown",
   "id": "cfffc316-7e50-4a9f-b97f-6968b7566ba8",
   "metadata": {},
   "source": [
    "### Create NO2 Time Series Model"
   ]
  },
  {
   "cell_type": "code",
   "execution_count": 56,
   "id": "cb770b4a-5503-4850-8603-6ca963cf8485",
   "metadata": {},
   "outputs": [
    {
     "data": {
      "text/plain": [
       "(26116, 1)"
      ]
     },
     "execution_count": 56,
     "metadata": {},
     "output_type": "execute_result"
    }
   ],
   "source": [
    "temp_arr=grouped_df['NO2'].values.reshape(-1, 1)\n",
    "train_arr=temp_arr[0: math.ceil(.75*len(temp_arr))]\n",
    "test_arr = temp_arr[math.ceil(.75*len(temp_arr)):]\n",
    "train_arr.shape"
   ]
  },
  {
   "cell_type": "code",
   "execution_count": 57,
   "id": "170fbd4d-0e9b-49af-9332-9f98bf34986e",
   "metadata": {},
   "outputs": [
    {
     "data": {
      "text/plain": [
       "(8705, 1)"
      ]
     },
     "execution_count": 57,
     "metadata": {},
     "output_type": "execute_result"
    }
   ],
   "source": [
    "test_arr.shape"
   ]
  },
  {
   "cell_type": "code",
   "execution_count": 58,
   "id": "c5570391-161c-41c6-bfc4-34f08d455b89",
   "metadata": {},
   "outputs": [],
   "source": [
    "days_season=365\n",
    "X_train=[]\n",
    "y_train=[]\n",
    "X_test = []\n",
    "y_test = []\n",
    "for i in range(days_season, len(train_arr)): \n",
    "    X_train.append(train_arr[i-days_season: i, 0])\n",
    "    y_train.append(train_arr[i, 0])\n",
    "for i in range(days_season, len(test_arr)): \n",
    "    X_test.append(test_arr[i-days_season: i, 0])\n",
    "    y_test.append(test_arr[i, 0])"
   ]
  },
  {
   "cell_type": "code",
   "execution_count": 59,
   "id": "a01e3359-4934-42a0-9abd-4c23af78b4c6",
   "metadata": {},
   "outputs": [
    {
     "data": {
      "text/plain": [
       "(25751, 365, 1)"
      ]
     },
     "execution_count": 59,
     "metadata": {},
     "output_type": "execute_result"
    }
   ],
   "source": [
    "X_train=np.array(X_train)\n",
    "y_train=np.array(y_train)\n",
    "X_train=np.reshape(X_train, (X_train.shape[0], X_train.shape[1], 1))\n",
    "X_train.shape"
   ]
  },
  {
   "cell_type": "code",
   "execution_count": 60,
   "id": "84eef939-64af-4dd9-980d-603bb9982471",
   "metadata": {},
   "outputs": [
    {
     "data": {
      "text/plain": [
       "(8340, 365, 1)"
      ]
     },
     "execution_count": 60,
     "metadata": {},
     "output_type": "execute_result"
    }
   ],
   "source": [
    "X_test=np.array(X_test)\n",
    "y_test=np.array(y_test)\n",
    "X_test=np.reshape(X_test, (X_test.shape[0], X_test.shape[1], 1))\n",
    "X_test.shape"
   ]
  },
  {
   "cell_type": "code",
   "execution_count": 61,
   "id": "c7769122-bf9c-44e7-8ac3-b926ad60ecad",
   "metadata": {},
   "outputs": [
    {
     "name": "stdout",
     "output_type": "stream",
     "text": [
      "Model: \"sequential_4\"\n",
      "_________________________________________________________________\n",
      "Layer (type)                 Output Shape              Param #   \n",
      "=================================================================\n",
      "lstm_6 (LSTM)                (None, 365, 50)           10400     \n",
      "_________________________________________________________________\n",
      "lstm_7 (LSTM)                (None, 50)                20200     \n",
      "_________________________________________________________________\n",
      "dense_9 (Dense)              (None, 25)                1275      \n",
      "_________________________________________________________________\n",
      "dense_10 (Dense)             (None, 1)                 26        \n",
      "=================================================================\n",
      "Total params: 31,901\n",
      "Trainable params: 31,901\n",
      "Non-trainable params: 0\n",
      "_________________________________________________________________\n"
     ]
    }
   ],
   "source": [
    "lstm_model=tf.keras.models.Sequential()\n",
    "lstm_layer_1=tf.keras.layers.LSTM(50, return_sequences=True, input_shape=(365, 1))\n",
    "lstm_model.add(lstm_layer_1)\n",
    "lstm_layer_2=tf.keras.layers.LSTM(50, return_sequences=False)\n",
    "lstm_model.add(lstm_layer_2)\n",
    "lstm_layer_3=tf.keras.layers.Dense(25)\n",
    "lstm_model.add(lstm_layer_3)\n",
    "lstm_output_layer=tf.keras.layers.Dense(1)\n",
    "lstm_model.add(lstm_output_layer)\n",
    "lstm_model.summary()"
   ]
  },
  {
   "cell_type": "code",
   "execution_count": 62,
   "id": "8aeec1fc-9aa0-47c7-8b42-a736b4262519",
   "metadata": {},
   "outputs": [
    {
     "name": "stdout",
     "output_type": "stream",
     "text": [
      "Epoch 1/5\n",
      "805/805 [==============================] - 174s 214ms/step - loss: 0.0845 - mean_squared_error: 0.0845\n",
      "Epoch 2/5\n",
      "805/805 [==============================] - 180s 224ms/step - loss: 0.0551 - mean_squared_error: 0.0551\n",
      "Epoch 3/5\n",
      "805/805 [==============================] - 183s 227ms/step - loss: 0.0540 - mean_squared_error: 0.0540\n",
      "Epoch 4/5\n",
      "805/805 [==============================] - 179s 223ms/step - loss: 0.0534 - mean_squared_error: 0.0534\n",
      "Epoch 5/5\n",
      "805/805 [==============================] - 175s 217ms/step - loss: 0.0525 - mean_squared_error: 0.0525\n"
     ]
    },
    {
     "data": {
      "text/plain": [
       "<keras.callbacks.History at 0x133292a7490>"
      ]
     },
     "execution_count": 62,
     "metadata": {},
     "output_type": "execute_result"
    }
   ],
   "source": [
    "lstm_model.compile(optimizer='adam', metrics=['mean_squared_error'], loss='mean_squared_error')\n",
    "lstm_model.fit(X_train, y_train, epochs=5)"
   ]
  },
  {
   "cell_type": "code",
   "execution_count": 63,
   "id": "bf6800e6-50c0-402a-860e-826148126e34",
   "metadata": {},
   "outputs": [],
   "source": [
    "## Now predict on test data \n",
    "y_predicted = lstm_model.predict(X_test)\n",
    "y_real = y_test"
   ]
  },
  {
   "cell_type": "code",
   "execution_count": 64,
   "id": "37ab5437-7ffb-4461-91b7-c99b715879c9",
   "metadata": {},
   "outputs": [
    {
     "data": {
      "image/png": "[encoded data removed]",
      "text/plain": [
       "<Figure size 432x288 with 1 Axes>"
      ]
     },
     "metadata": {
      "needs_background": "light"
     },
     "output_type": "display_data"
    }
   ],
   "source": [
    "plt.plot(y_real, color = 'black', label = 'REAL')\n",
    "plt.title('Value Prediction')\n",
    "plt.xlabel('Time')\n",
    "plt.ylabel('Value')\n",
    "plt.legend()\n",
    "plt.show()"
   ]
  },
  {
   "cell_type": "code",
   "execution_count": 65,
   "id": "d7490c6f-a881-4ee9-9255-240527fa10e8",
   "metadata": {},
   "outputs": [
    {
     "data": {
      "image/png": "[encoded data removed]",
      "text/plain": [
       "<Figure size 432x288 with 1 Axes>"
      ]
     },
     "metadata": {
      "needs_background": "light"
     },
     "output_type": "display_data"
    }
   ],
   "source": [
    "plt.plot(y_predicted, color = 'green', label = 'PREDICTED')\n",
    "plt.title('Value Prediction')\n",
    "plt.xlabel('Time')\n",
    "plt.ylabel('Value')\n",
    "plt.legend()\n",
    "plt.show()"
   ]
  },
  {
   "cell_type": "code",
   "execution_count": 66,
   "id": "e7f6e41a-930c-480c-b696-0fd0a48b165d",
   "metadata": {},
   "outputs": [
    {
     "name": "stdout",
     "output_type": "stream",
     "text": [
      "Epoch 1/2\n",
      "261/261 [==============================] - 60s 230ms/step - loss: 0.0476 - mean_squared_error: 0.0476\n",
      "Epoch 2/2\n",
      "261/261 [==============================] - 59s 228ms/step - loss: 0.0471 - mean_squared_error: 0.0471\n"
     ]
    },
    {
     "data": {
      "text/plain": [
       "<keras.callbacks.History at 0x1332a85b670>"
      ]
     },
     "execution_count": 66,
     "metadata": {},
     "output_type": "execute_result"
    }
   ],
   "source": [
    "## Now let's test on our test data\n",
    "lstm_model.fit(X_test, y_test, epochs=2)"
   ]
  },
  {
   "cell_type": "code",
   "execution_count": 67,
   "id": "9dc6dc2d-8d0c-4cb7-9818-58ddc4951b80",
   "metadata": {},
   "outputs": [],
   "source": [
    "## Save Model\n",
    "# lstm_model.save('Models/no2_model.h5')"
   ]
  },
  {
   "cell_type": "markdown",
   "id": "a05b694a-10a3-4ad8-9ff1-0fbc05466a26",
   "metadata": {},
   "source": [
    "### Create O3 time series model"
   ]
  },
  {
   "cell_type": "code",
   "execution_count": 68,
   "id": "70294073-1e27-4963-90a4-84040c9d4eac",
   "metadata": {},
   "outputs": [
    {
     "data": {
      "text/plain": [
       "(26116, 1)"
      ]
     },
     "execution_count": 68,
     "metadata": {},
     "output_type": "execute_result"
    }
   ],
   "source": [
    "temp_arr=grouped_df['O3'].values.reshape(-1, 1)\n",
    "train_arr=temp_arr[0: math.ceil(.75*len(temp_arr))]\n",
    "test_arr = temp_arr[math.ceil(.75*len(temp_arr)):]\n",
    "train_arr.shape"
   ]
  },
  {
   "cell_type": "code",
   "execution_count": 69,
   "id": "2932000c-94ff-41ad-be92-7d58d3ac5133",
   "metadata": {},
   "outputs": [
    {
     "data": {
      "text/plain": [
       "(8705, 1)"
      ]
     },
     "execution_count": 69,
     "metadata": {},
     "output_type": "execute_result"
    }
   ],
   "source": [
    "test_arr.shape"
   ]
  },
  {
   "cell_type": "code",
   "execution_count": 70,
   "id": "f539646c-6682-4477-9492-ff9eed8b4571",
   "metadata": {},
   "outputs": [],
   "source": [
    "days_season=365\n",
    "X_train=[]\n",
    "y_train=[]\n",
    "X_test = []\n",
    "y_test = []\n",
    "for i in range(days_season, len(train_arr)): \n",
    "    X_train.append(train_arr[i-days_season: i, 0])\n",
    "    y_train.append(train_arr[i, 0])\n",
    "for i in range(days_season, len(test_arr)): \n",
    "    X_test.append(test_arr[i-days_season: i, 0])\n",
    "    y_test.append(test_arr[i, 0])"
   ]
  },
  {
   "cell_type": "code",
   "execution_count": 71,
   "id": "b17855cd-ee6e-4d9d-a75c-df0d37c821e0",
   "metadata": {},
   "outputs": [
    {
     "data": {
      "text/plain": [
       "(25751, 365, 1)"
      ]
     },
     "execution_count": 71,
     "metadata": {},
     "output_type": "execute_result"
    }
   ],
   "source": [
    "X_train=np.array(X_train)\n",
    "y_train=np.array(y_train)\n",
    "X_train=np.reshape(X_train, (X_train.shape[0], X_train.shape[1], 1))\n",
    "X_train.shape"
   ]
  },
  {
   "cell_type": "code",
   "execution_count": 72,
   "id": "084b864e-48ef-44d8-95bd-c3d2a1f2a17e",
   "metadata": {},
   "outputs": [
    {
     "data": {
      "text/plain": [
       "(8340, 365, 1)"
      ]
     },
     "execution_count": 72,
     "metadata": {},
     "output_type": "execute_result"
    }
   ],
   "source": [
    "X_test=np.array(X_test)\n",
    "y_test=np.array(y_test)\n",
    "X_test=np.reshape(X_test, (X_test.shape[0], X_test.shape[1], 1))\n",
    "X_test.shape"
   ]
  },
  {
   "cell_type": "code",
   "execution_count": 73,
   "id": "f3cd9da4-12ae-48a6-8ca7-36fc5950b959",
   "metadata": {},
   "outputs": [
    {
     "name": "stdout",
     "output_type": "stream",
     "text": [
      "Model: \"sequential_5\"\n",
      "_________________________________________________________________\n",
      "Layer (type)                 Output Shape              Param #   \n",
      "=================================================================\n",
      "lstm_8 (LSTM)                (None, 365, 50)           10400     \n",
      "_________________________________________________________________\n",
      "lstm_9 (LSTM)                (None, 50)                20200     \n",
      "_________________________________________________________________\n",
      "dense_11 (Dense)             (None, 25)                1275      \n",
      "_________________________________________________________________\n",
      "dense_12 (Dense)             (None, 1)                 26        \n",
      "=================================================================\n",
      "Total params: 31,901\n",
      "Trainable params: 31,901\n",
      "Non-trainable params: 0\n",
      "_________________________________________________________________\n"
     ]
    }
   ],
   "source": [
    "lstm_model=tf.keras.models.Sequential()\n",
    "lstm_layer_1=tf.keras.layers.LSTM(50, return_sequences=True, input_shape=(365, 1))\n",
    "lstm_model.add(lstm_layer_1)\n",
    "lstm_layer_2=tf.keras.layers.LSTM(50, return_sequences=False)\n",
    "lstm_model.add(lstm_layer_2)\n",
    "lstm_layer_3=tf.keras.layers.Dense(25)\n",
    "lstm_model.add(lstm_layer_3)\n",
    "lstm_output_layer=tf.keras.layers.Dense(1)\n",
    "lstm_model.add(lstm_output_layer)\n",
    "lstm_model.summary()"
   ]
  },
  {
   "cell_type": "code",
   "execution_count": 74,
   "id": "e07a44f0-2239-412a-af06-73aa6a08c5ea",
   "metadata": {},
   "outputs": [
    {
     "name": "stdout",
     "output_type": "stream",
     "text": [
      "Epoch 1/5\n",
      "805/805 [==============================] - 182s 223ms/step - loss: 0.0727 - mean_squared_error: 0.0727\n",
      "Epoch 2/5\n",
      "805/805 [==============================] - 177s 220ms/step - loss: 0.0325 - mean_squared_error: 0.0325\n",
      "Epoch 3/5\n",
      "805/805 [==============================] - 188s 233ms/step - loss: 0.0310 - mean_squared_error: 0.0310\n",
      "Epoch 4/5\n",
      "805/805 [==============================] - 181s 224ms/step - loss: 0.0304 - mean_squared_error: 0.0304\n",
      "Epoch 5/5\n",
      "805/805 [==============================] - 174s 217ms/step - loss: 0.0298 - mean_squared_error: 0.0298\n"
     ]
    },
    {
     "data": {
      "text/plain": [
       "<keras.callbacks.History at 0x1332acb4d60>"
      ]
     },
     "execution_count": 74,
     "metadata": {},
     "output_type": "execute_result"
    }
   ],
   "source": [
    "lstm_model.compile(optimizer='adam', metrics=['mean_squared_error'], loss='mean_squared_error')\n",
    "lstm_model.fit(X_train, y_train, epochs=5)"
   ]
  },
  {
   "cell_type": "code",
   "execution_count": 75,
   "id": "b03f6897-c118-4c82-aac3-69e08660f229",
   "metadata": {},
   "outputs": [],
   "source": [
    "## Now predict on test data \n",
    "y_predicted = lstm_model.predict(X_test)\n",
    "y_real = y_test"
   ]
  },
  {
   "cell_type": "code",
   "execution_count": 76,
   "id": "b14df93b-34fd-40b0-8714-d9bebde83865",
   "metadata": {},
   "outputs": [
    {
     "data": {
      "image/png": "[encoded data removed]",
      "text/plain": [
       "<Figure size 432x288 with 1 Axes>"
      ]
     },
     "metadata": {
      "needs_background": "light"
     },
     "output_type": "display_data"
    }
   ],
   "source": [
    "plt.plot(y_real, color = 'black', label = 'REAL')\n",
    "plt.title('Value Prediction')\n",
    "plt.xlabel('Time')\n",
    "plt.ylabel('Value')\n",
    "plt.legend()\n",
    "plt.show()"
   ]
  },
  {
   "cell_type": "code",
   "execution_count": 77,
   "id": "ff3fd110-62ff-4044-9907-9a86fc2ce65c",
   "metadata": {},
   "outputs": [
    {
     "data": {
      "image/png": "[encoded data removed]",
      "text/plain": [
       "<Figure size 432x288 with 1 Axes>"
      ]
     },
     "metadata": {
      "needs_background": "light"
     },
     "output_type": "display_data"
    }
   ],
   "source": [
    "plt.plot(y_predicted, color = 'green', label = 'PREDICTED')\n",
    "plt.title('Value Prediction')\n",
    "plt.xlabel('Time')\n",
    "plt.ylabel('Value')\n",
    "plt.legend()\n",
    "plt.show()"
   ]
  },
  {
   "cell_type": "code",
   "execution_count": 78,
   "id": "a12d522f-e83a-43b9-86ed-61fddc6c01f6",
   "metadata": {},
   "outputs": [
    {
     "name": "stdout",
     "output_type": "stream",
     "text": [
      "Epoch 1/2\n",
      "261/261 [==============================] - 62s 239ms/step - loss: 0.0289 - mean_squared_error: 0.0289\n",
      "Epoch 2/2\n",
      "261/261 [==============================] - 56s 214ms/step - loss: 0.0293 - mean_squared_error: 0.0293\n"
     ]
    },
    {
     "data": {
      "text/plain": [
       "<keras.callbacks.History at 0x1336b5663a0>"
      ]
     },
     "execution_count": 78,
     "metadata": {},
     "output_type": "execute_result"
    }
   ],
   "source": [
    "## Now let's test on our test data\n",
    "lstm_model.fit(X_test, y_test, epochs=2)"
   ]
  },
  {
   "cell_type": "code",
   "execution_count": 79,
   "id": "cf4a449f-a728-4bda-bdf3-3e0d88734207",
   "metadata": {},
   "outputs": [],
   "source": [
    "## Save Model\n",
    "# lstm_model.save('Models/o3_model.h5')"
   ]
  },
  {
   "cell_type": "markdown",
   "id": "bcb9ac28-d7d7-4bc7-841c-42dc5ce0988d",
   "metadata": {},
   "source": [
    "### Create pm10 time series model"
   ]
  },
  {
   "cell_type": "code",
   "execution_count": 80,
   "id": "9fe38f28-4de5-4ae7-babb-1c0a92832a6a",
   "metadata": {},
   "outputs": [
    {
     "data": {
      "text/plain": [
       "(26116, 1)"
      ]
     },
     "execution_count": 80,
     "metadata": {},
     "output_type": "execute_result"
    }
   ],
   "source": [
    "temp_arr=grouped_df['PM10'].values.reshape(-1, 1)\n",
    "train_arr=temp_arr[0: math.ceil(.75*len(temp_arr))]\n",
    "test_arr = temp_arr[math.ceil(.75*len(temp_arr)):]\n",
    "train_arr.shape"
   ]
  },
  {
   "cell_type": "code",
   "execution_count": 81,
   "id": "10f1f1f8-8362-434a-a68c-7eec5912fe69",
   "metadata": {},
   "outputs": [
    {
     "data": {
      "text/plain": [
       "(8705, 1)"
      ]
     },
     "execution_count": 81,
     "metadata": {},
     "output_type": "execute_result"
    }
   ],
   "source": [
    "test_arr.shape"
   ]
  },
  {
   "cell_type": "code",
   "execution_count": 82,
   "id": "fdae7c1b-6ce1-4443-887c-9ce5e25e5e97",
   "metadata": {},
   "outputs": [],
   "source": [
    "days_season=365\n",
    "X_train=[]\n",
    "y_train=[]\n",
    "X_test = []\n",
    "y_test = []\n",
    "for i in range(days_season, len(train_arr)): \n",
    "    X_train.append(train_arr[i-days_season: i, 0])\n",
    "    y_train.append(train_arr[i, 0])\n",
    "for i in range(days_season, len(test_arr)): \n",
    "    X_test.append(test_arr[i-days_season: i, 0])\n",
    "    y_test.append(test_arr[i, 0])"
   ]
  },
  {
   "cell_type": "code",
   "execution_count": 83,
   "id": "ca3cbad2-7a6a-45cc-a61e-c47d1df16e2e",
   "metadata": {},
   "outputs": [
    {
     "data": {
      "text/plain": [
       "(25751, 365, 1)"
      ]
     },
     "execution_count": 83,
     "metadata": {},
     "output_type": "execute_result"
    }
   ],
   "source": [
    "X_train=np.array(X_train)\n",
    "y_train=np.array(y_train)\n",
    "X_train=np.reshape(X_train, (X_train.shape[0], X_train.shape[1], 1))\n",
    "X_train.shape"
   ]
  },
  {
   "cell_type": "code",
   "execution_count": 84,
   "id": "19f6b2b9-0d66-4717-9bce-5138d402d482",
   "metadata": {},
   "outputs": [
    {
     "data": {
      "text/plain": [
       "(8340, 365, 1)"
      ]
     },
     "execution_count": 84,
     "metadata": {},
     "output_type": "execute_result"
    }
   ],
   "source": [
    "X_test=np.array(X_test)\n",
    "y_test=np.array(y_test)\n",
    "X_test=np.reshape(X_test, (X_test.shape[0], X_test.shape[1], 1))\n",
    "X_test.shape"
   ]
  },
  {
   "cell_type": "code",
   "execution_count": 85,
   "id": "ccf0fe24-cd1c-4cf6-8a37-33e47ba9cac8",
   "metadata": {},
   "outputs": [
    {
     "name": "stdout",
     "output_type": "stream",
     "text": [
      "Model: \"sequential_6\"\n",
      "_________________________________________________________________\n",
      "Layer (type)                 Output Shape              Param #   \n",
      "=================================================================\n",
      "lstm_10 (LSTM)               (None, 365, 50)           10400     \n",
      "_________________________________________________________________\n",
      "lstm_11 (LSTM)               (None, 50)                20200     \n",
      "_________________________________________________________________\n",
      "dense_13 (Dense)             (None, 25)                1275      \n",
      "_________________________________________________________________\n",
      "dense_14 (Dense)             (None, 1)                 26        \n",
      "=================================================================\n",
      "Total params: 31,901\n",
      "Trainable params: 31,901\n",
      "Non-trainable params: 0\n",
      "_________________________________________________________________\n"
     ]
    }
   ],
   "source": [
    "lstm_model=tf.keras.models.Sequential()\n",
    "lstm_layer_1=tf.keras.layers.LSTM(50, return_sequences=True, input_shape=(365, 1))\n",
    "lstm_model.add(lstm_layer_1)\n",
    "lstm_layer_2=tf.keras.layers.LSTM(50, return_sequences=False)\n",
    "lstm_model.add(lstm_layer_2)\n",
    "lstm_layer_3=tf.keras.layers.Dense(25)\n",
    "lstm_model.add(lstm_layer_3)\n",
    "lstm_output_layer=tf.keras.layers.Dense(1)\n",
    "lstm_model.add(lstm_output_layer)\n",
    "lstm_model.summary()"
   ]
  },
  {
   "cell_type": "code",
   "execution_count": 86,
   "id": "a7fb512e-c1ea-4859-bb5b-295882805a4a",
   "metadata": {},
   "outputs": [
    {
     "name": "stdout",
     "output_type": "stream",
     "text": [
      "Epoch 1/5\n",
      "805/805 [==============================] - 184s 226ms/step - loss: 0.1051 - mean_squared_error: 0.1051\n",
      "Epoch 2/5\n",
      "805/805 [==============================] - 192s 239ms/step - loss: 0.0714 - mean_squared_error: 0.0714\n",
      "Epoch 3/5\n",
      "805/805 [==============================] - 185s 230ms/step - loss: 0.0704 - mean_squared_error: 0.0704\n",
      "Epoch 4/5\n",
      "805/805 [==============================] - 187s 233ms/step - loss: 0.0701 - mean_squared_error: 0.0701\n",
      "Epoch 5/5\n",
      "805/805 [==============================] - 190s 236ms/step - loss: 0.0688 - mean_squared_error: 0.0688\n"
     ]
    },
    {
     "data": {
      "text/plain": [
       "<keras.callbacks.History at 0x13330895250>"
      ]
     },
     "execution_count": 86,
     "metadata": {},
     "output_type": "execute_result"
    }
   ],
   "source": [
    "lstm_model.compile(optimizer='adam', metrics=['mean_squared_error'], loss='mean_squared_error')\n",
    "lstm_model.fit(X_train, y_train, epochs=5)"
   ]
  },
  {
   "cell_type": "code",
   "execution_count": 87,
   "id": "bcf06691-e720-42ae-9855-bf0149adaef5",
   "metadata": {},
   "outputs": [],
   "source": [
    "## Now predict on test data \n",
    "y_predicted = lstm_model.predict(X_test)\n",
    "y_real = y_test"
   ]
  },
  {
   "cell_type": "code",
   "execution_count": 88,
   "id": "9607b1b6-d701-4052-9377-70d4b1578ab0",
   "metadata": {},
   "outputs": [
    {
     "data": {
      "image/png": "[encoded data removed]",
      "text/plain": [
       "<Figure size 432x288 with 1 Axes>"
      ]
     },
     "metadata": {
      "needs_background": "light"
     },
     "output_type": "display_data"
    }
   ],
   "source": [
    "plt.plot(y_real, color = 'black', label = 'REAL')\n",
    "plt.title('Value Prediction')\n",
    "plt.xlabel('Time')\n",
    "plt.ylabel('Value')\n",
    "plt.legend()\n",
    "plt.show()"
   ]
  },
  {
   "cell_type": "code",
   "execution_count": 89,
   "id": "57690770-24df-4201-9a07-cbae725d0968",
   "metadata": {},
   "outputs": [
    {
     "data": {
      "image/png": "[encoded data removed]",
      "text/plain": [
       "<Figure size 432x288 with 1 Axes>"
      ]
     },
     "metadata": {
      "needs_background": "light"
     },
     "output_type": "display_data"
    }
   ],
   "source": [
    "plt.plot(y_predicted, color = 'green', label = 'PREDICTED')\n",
    "plt.title('Value Prediction')\n",
    "plt.xlabel('Time')\n",
    "plt.ylabel('Value')\n",
    "plt.legend()\n",
    "plt.show()"
   ]
  },
  {
   "cell_type": "code",
   "execution_count": 90,
   "id": "01341f6e-dafd-41bf-ada5-910939a6e9c6",
   "metadata": {},
   "outputs": [
    {
     "name": "stdout",
     "output_type": "stream",
     "text": [
      "Epoch 1/2\n",
      "261/261 [==============================] - 57s 219ms/step - loss: 0.0764 - mean_squared_error: 0.0764\n",
      "Epoch 2/2\n",
      "261/261 [==============================] - 57s 218ms/step - loss: 0.0764 - mean_squared_error: 0.0764\n"
     ]
    },
    {
     "data": {
      "text/plain": [
       "<keras.callbacks.History at 0x133349a2490>"
      ]
     },
     "execution_count": 90,
     "metadata": {},
     "output_type": "execute_result"
    }
   ],
   "source": [
    "## Now let's test on our test data\n",
    "lstm_model.fit(X_test, y_test, epochs=2)"
   ]
  },
  {
   "cell_type": "code",
   "execution_count": 91,
   "id": "4626d5bb-effc-4543-8379-6712e0ddce46",
   "metadata": {},
   "outputs": [],
   "source": [
    "## Save Model\n",
    "# lstm_model.save('Models/pm10_model.h5')"
   ]
  },
  {
   "cell_type": "markdown",
   "id": "28dfa6aa-633a-4bd9-9105-e8b165eba3c5",
   "metadata": {},
   "source": [
    "### Create PRES time series model"
   ]
  },
  {
   "cell_type": "code",
   "execution_count": 92,
   "id": "532015e2-08b2-47fa-9fb9-5b07238de16f",
   "metadata": {},
   "outputs": [
    {
     "data": {
      "text/plain": [
       "(26116, 1)"
      ]
     },
     "execution_count": 92,
     "metadata": {},
     "output_type": "execute_result"
    }
   ],
   "source": [
    "temp_arr=grouped_df['PRES'].values.reshape(-1, 1)\n",
    "train_arr=temp_arr[0: math.ceil(.75*len(temp_arr))]\n",
    "test_arr = temp_arr[math.ceil(.75*len(temp_arr)):]\n",
    "train_arr.shape"
   ]
  },
  {
   "cell_type": "code",
   "execution_count": 93,
   "id": "d93811b1-a5ae-4fc2-acfd-63efeb124155",
   "metadata": {},
   "outputs": [
    {
     "data": {
      "text/plain": [
       "(8705, 1)"
      ]
     },
     "execution_count": 93,
     "metadata": {},
     "output_type": "execute_result"
    }
   ],
   "source": [
    "test_arr.shape"
   ]
  },
  {
   "cell_type": "code",
   "execution_count": 94,
   "id": "06807e57-d50b-4c51-ab21-a5346df1ae4a",
   "metadata": {},
   "outputs": [],
   "source": [
    "days_season=365\n",
    "X_train=[]\n",
    "y_train=[]\n",
    "X_test = []\n",
    "y_test = []\n",
    "for i in range(days_season, len(train_arr)): \n",
    "    X_train.append(train_arr[i-days_season: i, 0])\n",
    "    y_train.append(train_arr[i, 0])\n",
    "for i in range(days_season, len(test_arr)): \n",
    "    X_test.append(test_arr[i-days_season: i, 0])\n",
    "    y_test.append(test_arr[i, 0])"
   ]
  },
  {
   "cell_type": "code",
   "execution_count": 95,
   "id": "6b1faf5e-8a03-4d5b-b649-a3a88589f6cf",
   "metadata": {},
   "outputs": [
    {
     "data": {
      "text/plain": [
       "(25751, 365, 1)"
      ]
     },
     "execution_count": 95,
     "metadata": {},
     "output_type": "execute_result"
    }
   ],
   "source": [
    "X_train=np.array(X_train)\n",
    "y_train=np.array(y_train)\n",
    "X_train=np.reshape(X_train, (X_train.shape[0], X_train.shape[1], 1))\n",
    "X_train.shape"
   ]
  },
  {
   "cell_type": "code",
   "execution_count": 96,
   "id": "73375365-3ebc-46f7-b841-93e76df1bf2d",
   "metadata": {},
   "outputs": [
    {
     "data": {
      "text/plain": [
       "(8340, 365, 1)"
      ]
     },
     "execution_count": 96,
     "metadata": {},
     "output_type": "execute_result"
    }
   ],
   "source": [
    "X_test=np.array(X_test)\n",
    "y_test=np.array(y_test)\n",
    "X_test=np.reshape(X_test, (X_test.shape[0], X_test.shape[1], 1))\n",
    "X_test.shape"
   ]
  },
  {
   "cell_type": "code",
   "execution_count": 97,
   "id": "07ce215e-9566-4cb3-8905-5dce35ec4183",
   "metadata": {},
   "outputs": [
    {
     "name": "stdout",
     "output_type": "stream",
     "text": [
      "Model: \"sequential_7\"\n",
      "_________________________________________________________________\n",
      "Layer (type)                 Output Shape              Param #   \n",
      "=================================================================\n",
      "lstm_12 (LSTM)               (None, 365, 50)           10400     \n",
      "_________________________________________________________________\n",
      "lstm_13 (LSTM)               (None, 50)                20200     \n",
      "_________________________________________________________________\n",
      "dense_15 (Dense)             (None, 25)                1275      \n",
      "_________________________________________________________________\n",
      "dense_16 (Dense)             (None, 1)                 26        \n",
      "=================================================================\n",
      "Total params: 31,901\n",
      "Trainable params: 31,901\n",
      "Non-trainable params: 0\n",
      "_________________________________________________________________\n"
     ]
    }
   ],
   "source": [
    "lstm_model=tf.keras.models.Sequential()\n",
    "lstm_layer_1=tf.keras.layers.LSTM(50, return_sequences=True, input_shape=(365, 1))\n",
    "lstm_model.add(lstm_layer_1)\n",
    "lstm_layer_2=tf.keras.layers.LSTM(50, return_sequences=False)\n",
    "lstm_model.add(lstm_layer_2)\n",
    "lstm_layer_3=tf.keras.layers.Dense(25)\n",
    "lstm_model.add(lstm_layer_3)\n",
    "lstm_output_layer=tf.keras.layers.Dense(1)\n",
    "lstm_model.add(lstm_output_layer)\n",
    "lstm_model.summary()"
   ]
  },
  {
   "cell_type": "code",
   "execution_count": 98,
   "id": "32e25cde-28b2-4bc0-8f5c-4da31ecc441b",
   "metadata": {},
   "outputs": [
    {
     "name": "stdout",
     "output_type": "stream",
     "text": [
      "Epoch 1/5\n",
      "805/805 [==============================] - 192s 235ms/step - loss: 0.0476 - mean_squared_error: 0.0476\n",
      "Epoch 2/5\n",
      "805/805 [==============================] - 185s 230ms/step - loss: 0.0212 - mean_squared_error: 0.0212\n",
      "Epoch 3/5\n",
      "805/805 [==============================] - 180s 224ms/step - loss: 0.0208 - mean_squared_error: 0.0208\n",
      "Epoch 4/5\n",
      "805/805 [==============================] - 186s 231ms/step - loss: 0.0206 - mean_squared_error: 0.0206\n",
      "Epoch 5/5\n",
      "805/805 [==============================] - 187s 233ms/step - loss: 0.0207 - mean_squared_error: 0.0207\n"
     ]
    },
    {
     "data": {
      "text/plain": [
       "<keras.callbacks.History at 0x13330a5d3d0>"
      ]
     },
     "execution_count": 98,
     "metadata": {},
     "output_type": "execute_result"
    }
   ],
   "source": [
    "lstm_model.compile(optimizer='adam', metrics=['mean_squared_error'], loss='mean_squared_error')\n",
    "lstm_model.fit(X_train, y_train, epochs=5)"
   ]
  },
  {
   "cell_type": "code",
   "execution_count": 99,
   "id": "080fe899-4db6-4e71-acb3-768f9b55b0f5",
   "metadata": {},
   "outputs": [],
   "source": [
    "## Now predict on test data \n",
    "y_predicted = lstm_model.predict(X_test)\n",
    "y_real = y_test"
   ]
  },
  {
   "cell_type": "code",
   "execution_count": 100,
   "id": "637711eb-6d77-4771-826b-1e1a0b3b9a18",
   "metadata": {},
   "outputs": [
    {
     "data": {
      "image/png": "[encoded data removed]",
      "text/plain": [
       "<Figure size 432x288 with 1 Axes>"
      ]
     },
     "metadata": {
      "needs_background": "light"
     },
     "output_type": "display_data"
    }
   ],
   "source": [
    "plt.plot(y_real, color = 'black', label = 'REAL')\n",
    "plt.title('Value Prediction')\n",
    "plt.xlabel('Time')\n",
    "plt.ylabel('Value')\n",
    "plt.legend()\n",
    "plt.show()"
   ]
  },
  {
   "cell_type": "code",
   "execution_count": 101,
   "id": "eeed8cbd-b003-4b37-917f-b37336191f01",
   "metadata": {},
   "outputs": [
    {
     "data": {
      "image/png": "[encoded data removed]",
      "text/plain": [
       "<Figure size 432x288 with 1 Axes>"
      ]
     },
     "metadata": {
      "needs_background": "light"
     },
     "output_type": "display_data"
    }
   ],
   "source": [
    "plt.plot(y_predicted, color = 'green', label = 'PREDICTED')\n",
    "plt.title('Value Prediction')\n",
    "plt.xlabel('Time')\n",
    "plt.ylabel('Value')\n",
    "plt.legend()\n",
    "plt.show()"
   ]
  },
  {
   "cell_type": "code",
   "execution_count": 102,
   "id": "4b2e21c3-51ee-4f0f-abbf-90f6fe11a829",
   "metadata": {},
   "outputs": [
    {
     "name": "stdout",
     "output_type": "stream",
     "text": [
      "Epoch 1/2\n",
      "261/261 [==============================] - 57s 218ms/step - loss: 0.0194 - mean_squared_error: 0.0194\n",
      "Epoch 2/2\n",
      "261/261 [==============================] - 57s 217ms/step - loss: 0.0190 - mean_squared_error: 0.0190\n"
     ]
    },
    {
     "data": {
      "text/plain": [
       "<keras.callbacks.History at 0x1333c6e4610>"
      ]
     },
     "execution_count": 102,
     "metadata": {},
     "output_type": "execute_result"
    }
   ],
   "source": [
    "## Now let's test on our test data\n",
    "lstm_model.fit(X_test, y_test, epochs=2)"
   ]
  },
  {
   "cell_type": "code",
   "execution_count": 103,
   "id": "c9d778da-28ae-4e64-875d-1a1d2203fcf7",
   "metadata": {},
   "outputs": [],
   "source": [
    "## Save Model\n",
    "# lstm_model.save('Models/pres_model.h5')"
   ]
  },
  {
   "cell_type": "markdown",
   "id": "c9776c54-6031-4bb9-8021-1f6798f3f38c",
   "metadata": {},
   "source": [
    "### Create TEMP time series model"
   ]
  },
  {
   "cell_type": "code",
   "execution_count": 104,
   "id": "c415d6f6-c9b7-4ad5-8b3f-bc00aeadad92",
   "metadata": {},
   "outputs": [
    {
     "data": {
      "text/plain": [
       "(26116, 1)"
      ]
     },
     "execution_count": 104,
     "metadata": {},
     "output_type": "execute_result"
    }
   ],
   "source": [
    "temp_arr=grouped_df['TEMP'].values.reshape(-1, 1)\n",
    "train_arr=temp_arr[0: math.ceil(.75*len(temp_arr))]\n",
    "test_arr = temp_arr[math.ceil(.75*len(temp_arr)):]\n",
    "train_arr.shape"
   ]
  },
  {
   "cell_type": "code",
   "execution_count": 105,
   "id": "78e3cbb2-56cd-43a5-914a-107a9561198b",
   "metadata": {},
   "outputs": [
    {
     "data": {
      "text/plain": [
       "(8705, 1)"
      ]
     },
     "execution_count": 105,
     "metadata": {},
     "output_type": "execute_result"
    }
   ],
   "source": [
    "test_arr.shape"
   ]
  },
  {
   "cell_type": "code",
   "execution_count": 106,
   "id": "3edbdf58-6d96-4b95-8761-373cd3a8d48e",
   "metadata": {},
   "outputs": [],
   "source": [
    "days_season=365\n",
    "X_train=[]\n",
    "y_train=[]\n",
    "X_test = []\n",
    "y_test = []\n",
    "for i in range(days_season, len(train_arr)): \n",
    "    X_train.append(train_arr[i-days_season: i, 0])\n",
    "    y_train.append(train_arr[i, 0])\n",
    "for i in range(days_season, len(test_arr)): \n",
    "    X_test.append(test_arr[i-days_season: i, 0])\n",
    "    y_test.append(test_arr[i, 0])"
   ]
  },
  {
   "cell_type": "code",
   "execution_count": 107,
   "id": "f6b9601d-50b9-4904-a4a4-6976b2a9a173",
   "metadata": {},
   "outputs": [
    {
     "data": {
      "text/plain": [
       "(25751, 365, 1)"
      ]
     },
     "execution_count": 107,
     "metadata": {},
     "output_type": "execute_result"
    }
   ],
   "source": [
    "X_train=np.array(X_train)\n",
    "y_train=np.array(y_train)\n",
    "X_train=np.reshape(X_train, (X_train.shape[0], X_train.shape[1], 1))\n",
    "X_train.shape"
   ]
  },
  {
   "cell_type": "code",
   "execution_count": 108,
   "id": "27928ca1-3a89-41f8-bfc8-2c8f62aee6f7",
   "metadata": {},
   "outputs": [
    {
     "data": {
      "text/plain": [
       "(8340, 365, 1)"
      ]
     },
     "execution_count": 108,
     "metadata": {},
     "output_type": "execute_result"
    }
   ],
   "source": [
    "X_test=np.array(X_test)\n",
    "y_test=np.array(y_test)\n",
    "X_test=np.reshape(X_test, (X_test.shape[0], X_test.shape[1], 1))\n",
    "X_test.shape"
   ]
  },
  {
   "cell_type": "code",
   "execution_count": 109,
   "id": "dbdc3fc0-6418-4699-ba66-eb25ad956ab3",
   "metadata": {},
   "outputs": [
    {
     "name": "stdout",
     "output_type": "stream",
     "text": [
      "Model: \"sequential_8\"\n",
      "_________________________________________________________________\n",
      "Layer (type)                 Output Shape              Param #   \n",
      "=================================================================\n",
      "lstm_14 (LSTM)               (None, 365, 50)           10400     \n",
      "_________________________________________________________________\n",
      "lstm_15 (LSTM)               (None, 50)                20200     \n",
      "_________________________________________________________________\n",
      "dense_17 (Dense)             (None, 25)                1275      \n",
      "_________________________________________________________________\n",
      "dense_18 (Dense)             (None, 1)                 26        \n",
      "=================================================================\n",
      "Total params: 31,901\n",
      "Trainable params: 31,901\n",
      "Non-trainable params: 0\n",
      "_________________________________________________________________\n"
     ]
    }
   ],
   "source": [
    "lstm_model=tf.keras.models.Sequential()\n",
    "lstm_layer_1=tf.keras.layers.LSTM(50, return_sequences=True, input_shape=(365, 1))\n",
    "lstm_model.add(lstm_layer_1)\n",
    "lstm_layer_2=tf.keras.layers.LSTM(50, return_sequences=False)\n",
    "lstm_model.add(lstm_layer_2)\n",
    "lstm_layer_3=tf.keras.layers.Dense(25)\n",
    "lstm_model.add(lstm_layer_3)\n",
    "lstm_output_layer=tf.keras.layers.Dense(1)\n",
    "lstm_model.add(lstm_output_layer)\n",
    "lstm_model.summary()"
   ]
  },
  {
   "cell_type": "code",
   "execution_count": 110,
   "id": "cc49e09e-41b9-44ea-a7d2-b3a2a61695e4",
   "metadata": {},
   "outputs": [
    {
     "name": "stdout",
     "output_type": "stream",
     "text": [
      "Epoch 1/5\n",
      "805/805 [==============================] - 189s 232ms/step - loss: 0.0498 - mean_squared_error: 0.0498\n",
      "Epoch 2/5\n",
      "805/805 [==============================] - 185s 230ms/step - loss: 0.0169 - mean_squared_error: 0.0169\n",
      "Epoch 3/5\n",
      "805/805 [==============================] - 178s 221ms/step - loss: 0.0154 - mean_squared_error: 0.0154\n",
      "Epoch 4/5\n",
      "805/805 [==============================] - 187s 232ms/step - loss: 0.0153 - mean_squared_error: 0.0153\n",
      "Epoch 5/5\n",
      "805/805 [==============================] - 188s 234ms/step - loss: 0.0151 - mean_squared_error: 0.0151\n"
     ]
    },
    {
     "data": {
      "text/plain": [
       "<keras.callbacks.History at 0x1333cb0d2b0>"
      ]
     },
     "execution_count": 110,
     "metadata": {},
     "output_type": "execute_result"
    }
   ],
   "source": [
    "lstm_model.compile(optimizer='adam', metrics=['mean_squared_error'], loss='mean_squared_error')\n",
    "lstm_model.fit(X_train, y_train, epochs=5)"
   ]
  },
  {
   "cell_type": "code",
   "execution_count": 111,
   "id": "9e1e92fa-c61e-4f59-bb31-26be71c6eaca",
   "metadata": {},
   "outputs": [],
   "source": [
    "## Now predict on test data \n",
    "y_predicted = lstm_model.predict(X_test)\n",
    "y_real = y_test"
   ]
  },
  {
   "cell_type": "code",
   "execution_count": 112,
   "id": "1a14bb8e-4949-4ab8-bd05-39ff1cc4d0e9",
   "metadata": {},
   "outputs": [
    {
     "data": {
      "image/png": "[encoded data removed]",
      "text/plain": [
       "<Figure size 432x288 with 1 Axes>"
      ]
     },
     "metadata": {
      "needs_background": "light"
     },
     "output_type": "display_data"
    }
   ],
   "source": [
    "plt.plot(y_real, color = 'black', label = 'REAL')\n",
    "plt.title('Value Prediction')\n",
    "plt.xlabel('Time')\n",
    "plt.ylabel('Value')\n",
    "plt.legend()\n",
    "plt.show()"
   ]
  },
  {
   "cell_type": "code",
   "execution_count": 113,
   "id": "2582bc60-c613-4d21-ae19-4dd23e2c0582",
   "metadata": {},
   "outputs": [
    {
     "data": {
      "image/png": "[encoded data removed]",
      "text/plain": [
       "<Figure size 432x288 with 1 Axes>"
      ]
     },
     "metadata": {
      "needs_background": "light"
     },
     "output_type": "display_data"
    }
   ],
   "source": [
    "plt.plot(y_predicted, color = 'green', label = 'PREDICTED')\n",
    "plt.title('Value Prediction')\n",
    "plt.xlabel('Time')\n",
    "plt.ylabel('Value')\n",
    "plt.legend()\n",
    "plt.show()"
   ]
  },
  {
   "cell_type": "code",
   "execution_count": 114,
   "id": "8a95c5f4-8b93-4c62-95bc-6a5c51e2a4be",
   "metadata": {},
   "outputs": [
    {
     "name": "stdout",
     "output_type": "stream",
     "text": [
      "Epoch 1/2\n",
      "261/261 [==============================] - 58s 220ms/step - loss: 0.0169 - mean_squared_error: 0.0169\n",
      "Epoch 2/2\n",
      "261/261 [==============================] - 57s 219ms/step - loss: 0.0164 - mean_squared_error: 0.0164\n"
     ]
    },
    {
     "data": {
      "text/plain": [
       "<keras.callbacks.History at 0x1336b83b4f0>"
      ]
     },
     "execution_count": 114,
     "metadata": {},
     "output_type": "execute_result"
    }
   ],
   "source": [
    "## Now let's test on our test data\n",
    "lstm_model.fit(X_test, y_test, epochs=2)"
   ]
  },
  {
   "cell_type": "code",
   "execution_count": 115,
   "id": "4d6f0274-b303-4565-8482-3e2e08680fdd",
   "metadata": {},
   "outputs": [],
   "source": [
    "## Save Model\n",
    "# lstm_model.save('Models/temp_model.h5')"
   ]
  },
  {
   "cell_type": "markdown",
   "id": "f62be66c-7c1c-4d7a-9834-2817f506986d",
   "metadata": {},
   "source": [
    "### Create RAIN time series model"
   ]
  },
  {
   "cell_type": "code",
   "execution_count": 126,
   "id": "2238bbdf-47db-4de7-b152-0325a07d0e0f",
   "metadata": {},
   "outputs": [
    {
     "data": {
      "text/plain": [
       "(26116, 1)"
      ]
     },
     "execution_count": 126,
     "metadata": {},
     "output_type": "execute_result"
    }
   ],
   "source": [
    "temp_arr=grouped_df['RAIN'].values.reshape(-1, 1)\n",
    "train_arr=temp_arr[0: math.ceil(.75*len(temp_arr))]\n",
    "test_arr = temp_arr[math.ceil(.75*len(temp_arr)):]\n",
    "train_arr.shape"
   ]
  },
  {
   "cell_type": "code",
   "execution_count": 127,
   "id": "e3e5e38a-b85e-44de-9fde-12a4da1a0b2b",
   "metadata": {},
   "outputs": [],
   "source": [
    "days_season=365\n",
    "X_train=[]\n",
    "y_train=[]\n",
    "X_test = []\n",
    "y_test = []\n",
    "for i in range(days_season, len(train_arr)): \n",
    "    X_train.append(train_arr[i-days_season: i, 0])\n",
    "    y_train.append(train_arr[i, 0])\n",
    "for i in range(days_season, len(test_arr)): \n",
    "    X_test.append(test_arr[i-days_season: i, 0])\n",
    "    y_test.append(test_arr[i, 0])"
   ]
  },
  {
   "cell_type": "code",
   "execution_count": 128,
   "id": "9b855e66-10df-40db-bafc-1e6a85ded3b8",
   "metadata": {},
   "outputs": [
    {
     "data": {
      "text/plain": [
       "(25751, 365, 1)"
      ]
     },
     "execution_count": 128,
     "metadata": {},
     "output_type": "execute_result"
    }
   ],
   "source": [
    "X_train=np.array(X_train)\n",
    "y_train=np.array(y_train)\n",
    "X_train=np.reshape(X_train, (X_train.shape[0], X_train.shape[1], 1))\n",
    "X_train.shape"
   ]
  },
  {
   "cell_type": "code",
   "execution_count": 129,
   "id": "6608b85f-5cab-48d5-87bc-b8665f9a0d49",
   "metadata": {},
   "outputs": [
    {
     "data": {
      "text/plain": [
       "(8340, 365, 1)"
      ]
     },
     "execution_count": 129,
     "metadata": {},
     "output_type": "execute_result"
    }
   ],
   "source": [
    "X_test=np.array(X_test)\n",
    "y_test=np.array(y_test)\n",
    "X_test=np.reshape(X_test, (X_test.shape[0], X_test.shape[1], 1))\n",
    "X_test.shape"
   ]
  },
  {
   "cell_type": "code",
   "execution_count": 130,
   "id": "0de5aad6-bea9-4a2d-8167-8bd8e0652094",
   "metadata": {},
   "outputs": [
    {
     "name": "stdout",
     "output_type": "stream",
     "text": [
      "Model: \"sequential_9\"\n",
      "_________________________________________________________________\n",
      "Layer (type)                 Output Shape              Param #   \n",
      "=================================================================\n",
      "lstm_16 (LSTM)               (None, 365, 50)           10400     \n",
      "_________________________________________________________________\n",
      "lstm_17 (LSTM)               (None, 50)                20200     \n",
      "_________________________________________________________________\n",
      "dense_19 (Dense)             (None, 25)                1275      \n",
      "_________________________________________________________________\n",
      "dense_20 (Dense)             (None, 1)                 26        \n",
      "=================================================================\n",
      "Total params: 31,901\n",
      "Trainable params: 31,901\n",
      "Non-trainable params: 0\n",
      "_________________________________________________________________\n"
     ]
    }
   ],
   "source": [
    "lstm_model=tf.keras.models.Sequential()\n",
    "lstm_layer_1=tf.keras.layers.LSTM(50, return_sequences=True, input_shape=(365, 1))\n",
    "lstm_model.add(lstm_layer_1)\n",
    "lstm_layer_2=tf.keras.layers.LSTM(50, return_sequences=False)\n",
    "lstm_model.add(lstm_layer_2)\n",
    "lstm_layer_3=tf.keras.layers.Dense(25)\n",
    "lstm_model.add(lstm_layer_3)\n",
    "lstm_output_layer=tf.keras.layers.Dense(1)\n",
    "lstm_model.add(lstm_output_layer)\n",
    "lstm_model.summary()"
   ]
  },
  {
   "cell_type": "code",
   "execution_count": 131,
   "id": "c94c84ae-79cd-459d-b6b5-2e9181912727",
   "metadata": {},
   "outputs": [
    {
     "name": "stdout",
     "output_type": "stream",
     "text": [
      "Epoch 1/5\n",
      "805/805 [==============================] - 243s 296ms/step - loss: 0.3600 - mean_squared_error: 0.3600\n",
      "Epoch 2/5\n",
      "805/805 [==============================] - 233s 289ms/step - loss: 0.3218 - mean_squared_error: 0.3218\n",
      "Epoch 3/5\n",
      "805/805 [==============================] - 233s 290ms/step - loss: 0.3175 - mean_squared_error: 0.3175\n",
      "Epoch 4/5\n",
      "805/805 [==============================] - 241s 299ms/step - loss: 0.3281 - mean_squared_error: 0.3281\n",
      "Epoch 5/5\n",
      "805/805 [==============================] - 227s 282ms/step - loss: 0.3195 - mean_squared_error: 0.3195\n"
     ]
    },
    {
     "data": {
      "text/plain": [
       "<keras.callbacks.History at 0x1336bab8430>"
      ]
     },
     "execution_count": 131,
     "metadata": {},
     "output_type": "execute_result"
    }
   ],
   "source": [
    "lstm_model.compile(optimizer='adam', metrics=['mean_squared_error'], loss='mean_squared_error')\n",
    "lstm_model.fit(X_train, y_train, epochs=5)"
   ]
  },
  {
   "cell_type": "code",
   "execution_count": 132,
   "id": "77a4441c-0e44-42d6-9d36-e749e97468c0",
   "metadata": {},
   "outputs": [],
   "source": [
    "## Now predict on test data \n",
    "y_predicted = lstm_model.predict(X_test)\n",
    "y_real = y_test"
   ]
  },
  {
   "cell_type": "code",
   "execution_count": 133,
   "id": "33db266a-8062-4e97-a77b-d763f053fcb2",
   "metadata": {},
   "outputs": [
    {
     "data": {
      "image/png": "[encoded data removed]",
      "text/plain": [
       "<Figure size 432x288 with 1 Axes>"
      ]
     },
     "metadata": {
      "needs_background": "light"
     },
     "output_type": "display_data"
    }
   ],
   "source": [
    "plt.plot(y_real, color = 'black', label = 'REAL')\n",
    "plt.title('Value Prediction')\n",
    "plt.xlabel('Time')\n",
    "plt.ylabel('Value')\n",
    "plt.legend()\n",
    "plt.show()"
   ]
  },
  {
   "cell_type": "code",
   "execution_count": 134,
   "id": "881ae43c-4c38-4256-bb91-59f3c6a641f4",
   "metadata": {},
   "outputs": [
    {
     "data": {
      "image/png": "[encoded data removed]",
      "text/plain": [
       "<Figure size 432x288 with 1 Axes>"
      ]
     },
     "metadata": {
      "needs_background": "light"
     },
     "output_type": "display_data"
    }
   ],
   "source": [
    "plt.plot(y_predicted, color = 'green', label = 'PREDICTED')\n",
    "plt.title('Value Prediction')\n",
    "plt.xlabel('Time')\n",
    "plt.ylabel('Value')\n",
    "plt.legend()\n",
    "plt.show()"
   ]
  },
  {
   "cell_type": "code",
   "execution_count": 135,
   "id": "d01f84bb-bc3a-4ea7-a3d0-7f59ac419dd5",
   "metadata": {},
   "outputs": [
    {
     "name": "stdout",
     "output_type": "stream",
     "text": [
      "Epoch 1/2\n",
      "261/261 [==============================] - 62s 238ms/step - loss: 0.5122 - mean_squared_error: 0.5122\n",
      "Epoch 2/2\n",
      "261/261 [==============================] - 67s 259ms/step - loss: 0.4167 - mean_squared_error: 0.4167\n"
     ]
    },
    {
     "data": {
      "text/plain": [
       "<keras.callbacks.History at 0x133968c7a00>"
      ]
     },
     "execution_count": 135,
     "metadata": {},
     "output_type": "execute_result"
    }
   ],
   "source": [
    "## Now let's test on our test data\n",
    "lstm_model.fit(X_test, y_test, epochs=2)"
   ]
  },
  {
   "cell_type": "code",
   "execution_count": 136,
   "id": "7e1d863c-3403-4a98-881e-0e83e586c5af",
   "metadata": {},
   "outputs": [],
   "source": [
    "## Save Model\n",
    "# lstm_model.save('Models/rain_model.h5')"
   ]
  },
  {
   "cell_type": "code",
   "execution_count": null,
   "id": "7be97ff4-2128-49e3-84dd-7391a75676ee",
   "metadata": {},
   "outputs": [],
   "source": []
  }
 ],
 "metadata": {
  "kernelspec": {
   "display_name": "Python 3 (ipykernel)",
   "language": "python",
   "name": "python3"
  },
  "language_info": {
   "codemirror_mode": {
    "name": "ipython",
    "version": 3
   },
   "file_extension": ".py",
   "mimetype": "text/x-python",
   "name": "python",
   "nbconvert_exporter": "python",
   "pygments_lexer": "ipython3",
   "version": "3.9.7"
  }
 },
 "nbformat": 4,
 "nbformat_minor": 5
}
