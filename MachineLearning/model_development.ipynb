{
 "cells": [
  {
   "cell_type": "code",
   "execution_count": 1,
   "id": "b90f7aec-63ca-4ed1-b0e3-e7428fda54a4",
   "metadata": {},
   "outputs": [],
   "source": [
    "## import dependecies\n",
    "import os\n",
    "import datetime\n",
    "from sklearn.model_selection import train_test_split\n",
    "from sklearn.preprocessing import StandardScaler\n",
    "import sklearn as skl\n",
    "from keras.models import Sequential\n",
    "from keras.layers import Dense\n",
    "from keras.layers import LSTM\n",
    "import numpy as np\n",
    "import pandas as pd\n",
    "# import seaborn as sns\n",
    "import tensorflow as tf"
   ]
  },
  {
   "cell_type": "code",
   "execution_count": 2,
   "id": "cc223f2b-4961-40b5-bc0d-f407b21156d7",
   "metadata": {},
   "outputs": [],
   "source": [
    "path = os.path.join(os.getcwd(), 'Resources', 'all_city_data.csv')\n",
    "df = pd.read_csv(path)"
   ]
  },
  {
   "cell_type": "code",
   "execution_count": 3,
   "id": "5e8f0adf-0488-4e01-89bb-c36916d67167",
   "metadata": {},
   "outputs": [
    {
     "data": {
      "text/html": [
       "<div>\n",
       "<style scoped>\n",
       "    .dataframe tbody tr th:only-of-type {\n",
       "        vertical-align: middle;\n",
       "    }\n",
       "\n",
       "    .dataframe tbody tr th {\n",
       "        vertical-align: top;\n",
       "    }\n",
       "\n",
       "    .dataframe thead th {\n",
       "        text-align: right;\n",
       "    }\n",
       "</style>\n",
       "<table border=\"1\" class=\"dataframe\">\n",
       "  <thead>\n",
       "    <tr style=\"text-align: right;\">\n",
       "      <th></th>\n",
       "      <th>PM2.5</th>\n",
       "      <th>PM10</th>\n",
       "      <th>SO2</th>\n",
       "      <th>NO2</th>\n",
       "      <th>CO</th>\n",
       "      <th>O3</th>\n",
       "      <th>TEMP</th>\n",
       "      <th>PRES</th>\n",
       "      <th>DEWP</th>\n",
       "      <th>RAIN</th>\n",
       "      <th>dt</th>\n",
       "    </tr>\n",
       "  </thead>\n",
       "  <tbody>\n",
       "    <tr>\n",
       "      <th>0</th>\n",
       "      <td>4.0</td>\n",
       "      <td>4.0</td>\n",
       "      <td>4.0</td>\n",
       "      <td>7.0</td>\n",
       "      <td>300.0</td>\n",
       "      <td>77.0</td>\n",
       "      <td>-0.7</td>\n",
       "      <td>1023.0</td>\n",
       "      <td>-18.8</td>\n",
       "      <td>0.0</td>\n",
       "      <td>2013-01-03 00:00:00</td>\n",
       "    </tr>\n",
       "    <tr>\n",
       "      <th>1</th>\n",
       "      <td>9.0</td>\n",
       "      <td>9.0</td>\n",
       "      <td>3.0</td>\n",
       "      <td>17.0</td>\n",
       "      <td>300.0</td>\n",
       "      <td>89.0</td>\n",
       "      <td>-0.5</td>\n",
       "      <td>1024.5</td>\n",
       "      <td>-21.4</td>\n",
       "      <td>0.0</td>\n",
       "      <td>2013-01-03 00:00:00</td>\n",
       "    </tr>\n",
       "    <tr>\n",
       "      <th>2</th>\n",
       "      <td>4.0</td>\n",
       "      <td>4.0</td>\n",
       "      <td>14.0</td>\n",
       "      <td>20.0</td>\n",
       "      <td>300.0</td>\n",
       "      <td>69.0</td>\n",
       "      <td>-0.7</td>\n",
       "      <td>1023.0</td>\n",
       "      <td>-18.8</td>\n",
       "      <td>0.0</td>\n",
       "      <td>2013-01-03 00:00:00</td>\n",
       "    </tr>\n",
       "    <tr>\n",
       "      <th>3</th>\n",
       "      <td>7.0</td>\n",
       "      <td>7.0</td>\n",
       "      <td>3.0</td>\n",
       "      <td>2.0</td>\n",
       "      <td>100.0</td>\n",
       "      <td>91.0</td>\n",
       "      <td>-2.3</td>\n",
       "      <td>1020.3</td>\n",
       "      <td>-20.7</td>\n",
       "      <td>0.0</td>\n",
       "      <td>2013-01-03 00:00:00</td>\n",
       "    </tr>\n",
       "    <tr>\n",
       "      <th>4</th>\n",
       "      <td>5.0</td>\n",
       "      <td>14.0</td>\n",
       "      <td>4.0</td>\n",
       "      <td>12.0</td>\n",
       "      <td>200.0</td>\n",
       "      <td>85.0</td>\n",
       "      <td>-0.5</td>\n",
       "      <td>1024.5</td>\n",
       "      <td>-21.4</td>\n",
       "      <td>0.0</td>\n",
       "      <td>2013-01-03 00:00:00</td>\n",
       "    </tr>\n",
       "  </tbody>\n",
       "</table>\n",
       "</div>"
      ],
      "text/plain": [
       "   PM2.5  PM10   SO2   NO2     CO    O3  TEMP    PRES  DEWP  RAIN  \\\n",
       "0    4.0   4.0   4.0   7.0  300.0  77.0  -0.7  1023.0 -18.8   0.0   \n",
       "1    9.0   9.0   3.0  17.0  300.0  89.0  -0.5  1024.5 -21.4   0.0   \n",
       "2    4.0   4.0  14.0  20.0  300.0  69.0  -0.7  1023.0 -18.8   0.0   \n",
       "3    7.0   7.0   3.0   2.0  100.0  91.0  -2.3  1020.3 -20.7   0.0   \n",
       "4    5.0  14.0   4.0  12.0  200.0  85.0  -0.5  1024.5 -21.4   0.0   \n",
       "\n",
       "                    dt  \n",
       "0  2013-01-03 00:00:00  \n",
       "1  2013-01-03 00:00:00  \n",
       "2  2013-01-03 00:00:00  \n",
       "3  2013-01-03 00:00:00  \n",
       "4  2013-01-03 00:00:00  "
      ]
     },
     "execution_count": 3,
     "metadata": {},
     "output_type": "execute_result"
    }
   ],
   "source": [
    "df = df.drop(columns = {\"Unnamed: 0\"})\n",
    "df.head()"
   ]
  },
  {
   "cell_type": "code",
   "execution_count": 4,
   "id": "d9758146-ff16-4c20-a156-c5097a337a98",
   "metadata": {},
   "outputs": [],
   "source": [
    "df['dt'] = pd.to_datetime(df['dt'])"
   ]
  },
  {
   "cell_type": "code",
   "execution_count": 5,
   "id": "1f231d89-a64b-41d7-ba7e-cb0ac4231e98",
   "metadata": {},
   "outputs": [
    {
     "data": {
      "text/html": [
       "<div>\n",
       "<style scoped>\n",
       "    .dataframe tbody tr th:only-of-type {\n",
       "        vertical-align: middle;\n",
       "    }\n",
       "\n",
       "    .dataframe tbody tr th {\n",
       "        vertical-align: top;\n",
       "    }\n",
       "\n",
       "    .dataframe thead th {\n",
       "        text-align: right;\n",
       "    }\n",
       "</style>\n",
       "<table border=\"1\" class=\"dataframe\">\n",
       "  <thead>\n",
       "    <tr style=\"text-align: right;\">\n",
       "      <th></th>\n",
       "      <th>count</th>\n",
       "      <th>mean</th>\n",
       "      <th>std</th>\n",
       "      <th>min</th>\n",
       "      <th>25%</th>\n",
       "      <th>50%</th>\n",
       "      <th>75%</th>\n",
       "      <th>max</th>\n",
       "    </tr>\n",
       "  </thead>\n",
       "  <tbody>\n",
       "    <tr>\n",
       "      <th>PM2.5</th>\n",
       "      <td>367284.0</td>\n",
       "      <td>78.992137</td>\n",
       "      <td>78.607575</td>\n",
       "      <td>2.0000</td>\n",
       "      <td>21.0</td>\n",
       "      <td>55.0</td>\n",
       "      <td>110.0</td>\n",
       "      <td>844.0</td>\n",
       "    </tr>\n",
       "    <tr>\n",
       "      <th>PM10</th>\n",
       "      <td>367284.0</td>\n",
       "      <td>104.433660</td>\n",
       "      <td>89.908912</td>\n",
       "      <td>2.0000</td>\n",
       "      <td>37.0</td>\n",
       "      <td>83.0</td>\n",
       "      <td>145.0</td>\n",
       "      <td>999.0</td>\n",
       "    </tr>\n",
       "    <tr>\n",
       "      <th>SO2</th>\n",
       "      <td>367284.0</td>\n",
       "      <td>15.508788</td>\n",
       "      <td>21.368411</td>\n",
       "      <td>0.2856</td>\n",
       "      <td>2.0</td>\n",
       "      <td>7.0</td>\n",
       "      <td>19.0</td>\n",
       "      <td>500.0</td>\n",
       "    </tr>\n",
       "    <tr>\n",
       "      <th>NO2</th>\n",
       "      <td>367284.0</td>\n",
       "      <td>50.344687</td>\n",
       "      <td>34.745149</td>\n",
       "      <td>2.0000</td>\n",
       "      <td>23.0</td>\n",
       "      <td>43.0</td>\n",
       "      <td>70.0</td>\n",
       "      <td>290.0</td>\n",
       "    </tr>\n",
       "    <tr>\n",
       "      <th>CO</th>\n",
       "      <td>367284.0</td>\n",
       "      <td>1215.617411</td>\n",
       "      <td>1122.181647</td>\n",
       "      <td>100.0000</td>\n",
       "      <td>500.0</td>\n",
       "      <td>900.0</td>\n",
       "      <td>1500.0</td>\n",
       "      <td>10000.0</td>\n",
       "    </tr>\n",
       "    <tr>\n",
       "      <th>O3</th>\n",
       "      <td>367284.0</td>\n",
       "      <td>58.005149</td>\n",
       "      <td>57.421619</td>\n",
       "      <td>0.2142</td>\n",
       "      <td>10.0</td>\n",
       "      <td>45.0</td>\n",
       "      <td>83.0</td>\n",
       "      <td>1071.0</td>\n",
       "    </tr>\n",
       "    <tr>\n",
       "      <th>TEMP</th>\n",
       "      <td>367284.0</td>\n",
       "      <td>14.077551</td>\n",
       "      <td>11.285307</td>\n",
       "      <td>-19.9000</td>\n",
       "      <td>4.0</td>\n",
       "      <td>15.3</td>\n",
       "      <td>23.5</td>\n",
       "      <td>41.6</td>\n",
       "    </tr>\n",
       "    <tr>\n",
       "      <th>PRES</th>\n",
       "      <td>367284.0</td>\n",
       "      <td>1010.339889</td>\n",
       "      <td>10.328444</td>\n",
       "      <td>982.4000</td>\n",
       "      <td>1002.1</td>\n",
       "      <td>1009.8</td>\n",
       "      <td>1018.3</td>\n",
       "      <td>1042.8</td>\n",
       "    </tr>\n",
       "    <tr>\n",
       "      <th>DEWP</th>\n",
       "      <td>367284.0</td>\n",
       "      <td>3.120514</td>\n",
       "      <td>13.604614</td>\n",
       "      <td>-43.4000</td>\n",
       "      <td>-8.0</td>\n",
       "      <td>4.1</td>\n",
       "      <td>15.4</td>\n",
       "      <td>29.1</td>\n",
       "    </tr>\n",
       "    <tr>\n",
       "      <th>RAIN</th>\n",
       "      <td>367284.0</td>\n",
       "      <td>0.067670</td>\n",
       "      <td>0.840393</td>\n",
       "      <td>0.0000</td>\n",
       "      <td>0.0</td>\n",
       "      <td>0.0</td>\n",
       "      <td>0.0</td>\n",
       "      <td>72.5</td>\n",
       "    </tr>\n",
       "  </tbody>\n",
       "</table>\n",
       "</div>"
      ],
      "text/plain": [
       "          count         mean          std       min     25%     50%     75%  \\\n",
       "PM2.5  367284.0    78.992137    78.607575    2.0000    21.0    55.0   110.0   \n",
       "PM10   367284.0   104.433660    89.908912    2.0000    37.0    83.0   145.0   \n",
       "SO2    367284.0    15.508788    21.368411    0.2856     2.0     7.0    19.0   \n",
       "NO2    367284.0    50.344687    34.745149    2.0000    23.0    43.0    70.0   \n",
       "CO     367284.0  1215.617411  1122.181647  100.0000   500.0   900.0  1500.0   \n",
       "O3     367284.0    58.005149    57.421619    0.2142    10.0    45.0    83.0   \n",
       "TEMP   367284.0    14.077551    11.285307  -19.9000     4.0    15.3    23.5   \n",
       "PRES   367284.0  1010.339889    10.328444  982.4000  1002.1  1009.8  1018.3   \n",
       "DEWP   367284.0     3.120514    13.604614  -43.4000    -8.0     4.1    15.4   \n",
       "RAIN   367284.0     0.067670     0.840393    0.0000     0.0     0.0     0.0   \n",
       "\n",
       "           max  \n",
       "PM2.5    844.0  \n",
       "PM10     999.0  \n",
       "SO2      500.0  \n",
       "NO2      290.0  \n",
       "CO     10000.0  \n",
       "O3      1071.0  \n",
       "TEMP      41.6  \n",
       "PRES    1042.8  \n",
       "DEWP      29.1  \n",
       "RAIN      72.5  "
      ]
     },
     "execution_count": 5,
     "metadata": {},
     "output_type": "execute_result"
    }
   ],
   "source": [
    "df.describe().transpose()"
   ]
  },
  {
   "cell_type": "code",
   "execution_count": 6,
   "id": "c3272df4-d40a-4f50-83ec-4e1042a73d2a",
   "metadata": {},
   "outputs": [],
   "source": [
    "# df = df.groupby(pd.Grouper(key='dt', axis=0, freq='h')).mean().dropna().reset_index()"
   ]
  },
  {
   "cell_type": "code",
   "execution_count": 7,
   "id": "200918e3-d2a5-4519-bbb2-874bcdacfbd6",
   "metadata": {},
   "outputs": [],
   "source": [
    "# df_2 = df.groupby(pd.Grouper(key='dt', axis=0, freq='D')).mean().dropna().reset_index()"
   ]
  },
  {
   "cell_type": "markdown",
   "id": "fb516a31-1ad7-4656-a315-327831980ea3",
   "metadata": {},
   "source": [
    "## Scale the Data"
   ]
  },
  {
   "cell_type": "code",
   "execution_count": 8,
   "id": "e9f49f17-81ba-48f6-93ea-6004a631827d",
   "metadata": {},
   "outputs": [],
   "source": [
    "features = [\"PM10\", \"SO2\", \"NO2\", \"CO\", \"O3\", \"TEMP\", \"PRES\", \"DEWP\", \"RAIN\"]\n",
    "scalar = StandardScaler()\n",
    "# the fit_transform ops returns a 2d numpy.array, we cast it to a pd.DataFrame\n",
    "standardized_features = pd.DataFrame(scalar.fit_transform(df[features].copy()), columns = features)\n",
    "old_shape = df.shape\n",
    "# drop the unnormalized features from the dataframe\n",
    "df.drop(features, axis = 1, inplace = True)\n",
    "# join back the normalized features\n",
    "df = pd.concat([df, standardized_features], axis= 1)\n",
    "assert old_shape == df.shape, \"something went wrong!\""
   ]
  },
  {
   "cell_type": "code",
   "execution_count": 9,
   "id": "4cbbdc4e-294b-4467-a296-a1ab22c4d19f",
   "metadata": {},
   "outputs": [],
   "source": [
    "# features = [\"PM10\", \"SO2\", \"NO2\", \"CO\", \"O3\", \"TEMP\", \"PRES\", \"DEWP\", \"RAIN\"]\n",
    "# scalar = StandardScaler()\n",
    "# # the fit_transform ops returns a 2d numpy.array, we cast it to a pd.DataFrame\n",
    "# standardized_features = pd.DataFrame(scalar.fit_transform(df_2[features].copy()), columns = features)\n",
    "# old_shape = df_2.shape\n",
    "# # drop the unnormalized features from the dataframe\n",
    "# df_2.drop(features, axis = 1, inplace = True)\n",
    "# # join back the normalized features\n",
    "# df_2 = pd.concat([df_2, standardized_features], axis= 1)\n",
    "# assert old_shape == df_2.shape, \"something went wrong!\""
   ]
  },
  {
   "cell_type": "code",
   "execution_count": 10,
   "id": "0faca703-0caa-42d2-beee-02244a139907",
   "metadata": {},
   "outputs": [
    {
     "data": {
      "text/html": [
       "<div>\n",
       "<style scoped>\n",
       "    .dataframe tbody tr th:only-of-type {\n",
       "        vertical-align: middle;\n",
       "    }\n",
       "\n",
       "    .dataframe tbody tr th {\n",
       "        vertical-align: top;\n",
       "    }\n",
       "\n",
       "    .dataframe thead th {\n",
       "        text-align: right;\n",
       "    }\n",
       "</style>\n",
       "<table border=\"1\" class=\"dataframe\">\n",
       "  <thead>\n",
       "    <tr style=\"text-align: right;\">\n",
       "      <th></th>\n",
       "      <th>PM2.5</th>\n",
       "      <th>dt</th>\n",
       "      <th>PM10</th>\n",
       "      <th>SO2</th>\n",
       "      <th>NO2</th>\n",
       "      <th>CO</th>\n",
       "      <th>O3</th>\n",
       "      <th>TEMP</th>\n",
       "      <th>PRES</th>\n",
       "      <th>DEWP</th>\n",
       "      <th>RAIN</th>\n",
       "    </tr>\n",
       "  </thead>\n",
       "  <tbody>\n",
       "    <tr>\n",
       "      <th>0</th>\n",
       "      <td>4.0</td>\n",
       "      <td>2013-01-03</td>\n",
       "      <td>-1.117062</td>\n",
       "      <td>-0.538590</td>\n",
       "      <td>-1.247505</td>\n",
       "      <td>-0.815927</td>\n",
       "      <td>0.330797</td>\n",
       "      <td>-1.309452</td>\n",
       "      <td>1.225754</td>\n",
       "      <td>-1.611258</td>\n",
       "      <td>-0.080522</td>\n",
       "    </tr>\n",
       "    <tr>\n",
       "      <th>1</th>\n",
       "      <td>9.0</td>\n",
       "      <td>2013-01-03</td>\n",
       "      <td>-1.061450</td>\n",
       "      <td>-0.585388</td>\n",
       "      <td>-0.959695</td>\n",
       "      <td>-0.815927</td>\n",
       "      <td>0.539777</td>\n",
       "      <td>-1.291730</td>\n",
       "      <td>1.370984</td>\n",
       "      <td>-1.802370</td>\n",
       "      <td>-0.080522</td>\n",
       "    </tr>\n",
       "    <tr>\n",
       "      <th>2</th>\n",
       "      <td>4.0</td>\n",
       "      <td>2013-01-03</td>\n",
       "      <td>-1.117062</td>\n",
       "      <td>-0.070608</td>\n",
       "      <td>-0.873352</td>\n",
       "      <td>-0.815927</td>\n",
       "      <td>0.191476</td>\n",
       "      <td>-1.309452</td>\n",
       "      <td>1.225754</td>\n",
       "      <td>-1.611258</td>\n",
       "      <td>-0.080522</td>\n",
       "    </tr>\n",
       "    <tr>\n",
       "      <th>3</th>\n",
       "      <td>7.0</td>\n",
       "      <td>2013-01-03</td>\n",
       "      <td>-1.083694</td>\n",
       "      <td>-0.585388</td>\n",
       "      <td>-1.391410</td>\n",
       "      <td>-0.994152</td>\n",
       "      <td>0.574608</td>\n",
       "      <td>-1.451230</td>\n",
       "      <td>0.964339</td>\n",
       "      <td>-1.750917</td>\n",
       "      <td>-0.080522</td>\n",
       "    </tr>\n",
       "    <tr>\n",
       "      <th>4</th>\n",
       "      <td>5.0</td>\n",
       "      <td>2013-01-03</td>\n",
       "      <td>-1.005838</td>\n",
       "      <td>-0.538590</td>\n",
       "      <td>-1.103600</td>\n",
       "      <td>-0.905040</td>\n",
       "      <td>0.470117</td>\n",
       "      <td>-1.291730</td>\n",
       "      <td>1.370984</td>\n",
       "      <td>-1.802370</td>\n",
       "      <td>-0.080522</td>\n",
       "    </tr>\n",
       "  </tbody>\n",
       "</table>\n",
       "</div>"
      ],
      "text/plain": [
       "   PM2.5         dt      PM10       SO2       NO2        CO        O3  \\\n",
       "0    4.0 2013-01-03 -1.117062 -0.538590 -1.247505 -0.815927  0.330797   \n",
       "1    9.0 2013-01-03 -1.061450 -0.585388 -0.959695 -0.815927  0.539777   \n",
       "2    4.0 2013-01-03 -1.117062 -0.070608 -0.873352 -0.815927  0.191476   \n",
       "3    7.0 2013-01-03 -1.083694 -0.585388 -1.391410 -0.994152  0.574608   \n",
       "4    5.0 2013-01-03 -1.005838 -0.538590 -1.103600 -0.905040  0.470117   \n",
       "\n",
       "       TEMP      PRES      DEWP      RAIN  \n",
       "0 -1.309452  1.225754 -1.611258 -0.080522  \n",
       "1 -1.291730  1.370984 -1.802370 -0.080522  \n",
       "2 -1.309452  1.225754 -1.611258 -0.080522  \n",
       "3 -1.451230  0.964339 -1.750917 -0.080522  \n",
       "4 -1.291730  1.370984 -1.802370 -0.080522  "
      ]
     },
     "execution_count": 10,
     "metadata": {},
     "output_type": "execute_result"
    }
   ],
   "source": [
    "df.head()"
   ]
  },
  {
   "cell_type": "code",
   "execution_count": 11,
   "id": "6fcb55a6-26e6-4220-835b-883051e3ae7a",
   "metadata": {},
   "outputs": [],
   "source": [
    "# df_2.head()"
   ]
  },
  {
   "cell_type": "code",
   "execution_count": 12,
   "id": "feca009c-2497-4898-9b06-7697553939fc",
   "metadata": {},
   "outputs": [
    {
     "data": {
      "text/plain": [
       "(-1.0, 1.0)"
      ]
     },
     "execution_count": 12,
     "metadata": {},
     "output_type": "execute_result"
    },
    {
     "data": {
      "image/png": "[encoded data removed]",
      "text/plain": [
       "<Figure size 1080x360 with 1 Axes>"
      ]
     },
     "metadata": {
      "needs_background": "light"
     },
     "output_type": "display_data"
    }
   ],
   "source": [
    "import matplotlib.pyplot as plt\n",
    "df.groupby('dt').mean()['RAIN'].rolling(365).mean().plot(figsize=(15, 5))\n",
    "plt.ylim(-1, 1)"
   ]
  },
  {
   "cell_type": "markdown",
   "id": "c1d10ff1-efcc-40f7-b3e3-144918bf7a12",
   "metadata": {},
   "source": [
    "## Create Machine Learning Model for PM2.5"
   ]
  },
  {
   "cell_type": "code",
   "execution_count": 13,
   "id": "04f09d9e-9cf2-4d1c-a3d4-036da0d8415b",
   "metadata": {},
   "outputs": [
    {
     "data": {
      "text/plain": [
       "DatetimeIndex(['2013-01-03 00:00:00', '2013-01-03 00:00:00',\n",
       "               '2013-01-03 00:00:00', '2013-01-03 00:00:00',\n",
       "               '2013-01-03 00:00:00', '2013-01-03 00:00:00',\n",
       "               '2013-01-03 00:00:00', '2013-01-03 00:00:00',\n",
       "               '2013-01-03 00:00:00', '2013-01-03 00:00:00',\n",
       "               ...\n",
       "               '2016-12-31 23:00:00', '2016-12-31 23:00:00',\n",
       "               '2016-12-31 23:00:00', '2016-12-31 23:00:00',\n",
       "               '2016-12-31 23:00:00', '2016-12-31 23:00:00',\n",
       "               '2016-12-31 23:00:00', '2016-12-31 23:00:00',\n",
       "               '2016-12-31 23:00:00', '2016-12-31 23:00:00'],\n",
       "              dtype='datetime64[ns]', name='dt', length=367284, freq=None)"
      ]
     },
     "execution_count": 13,
     "metadata": {},
     "output_type": "execute_result"
    }
   ],
   "source": [
    "time_index=pd.to_datetime(df['dt'])\n",
    "df_kl=df.set_index(time_index)\n",
    "df_kl.index"
   ]
  },
  {
   "cell_type": "code",
   "execution_count": 14,
   "id": "aa4993c7-39b5-44ce-9d52-f957f38a1dac",
   "metadata": {},
   "outputs": [],
   "source": [
    "df_kl=df.drop('dt', axis=1)\n",
    "y = df_kl['PM2.5']\n",
    "X = df_kl.drop(columns= ['PM2.5'])\n",
    "X_train, X_test, y_train, y_test = train_test_split(X,y, shuffle=False)"
   ]
  },
  {
   "cell_type": "code",
   "execution_count": 15,
   "id": "0ce937fe-a981-4318-933e-fca99b799af4",
   "metadata": {},
   "outputs": [
    {
     "data": {
      "text/plain": [
       "0"
      ]
     },
     "execution_count": 15,
     "metadata": {},
     "output_type": "execute_result"
    }
   ],
   "source": [
    "y.isna().sum()"
   ]
  },
  {
   "cell_type": "code",
   "execution_count": 16,
   "id": "0fc9daed-7058-4fb3-b99b-a85171cf818a",
   "metadata": {},
   "outputs": [
    {
     "data": {
      "text/plain": [
       "PM10    0\n",
       "SO2     0\n",
       "NO2     0\n",
       "CO      0\n",
       "O3      0\n",
       "TEMP    0\n",
       "PRES    0\n",
       "DEWP    0\n",
       "RAIN    0\n",
       "dtype: int64"
      ]
     },
     "execution_count": 16,
     "metadata": {},
     "output_type": "execute_result"
    }
   ],
   "source": [
    "X.isna().sum()"
   ]
  },
  {
   "cell_type": "code",
   "execution_count": 17,
   "id": "113747ed-9d2d-4edb-a161-256b04e2046c",
   "metadata": {},
   "outputs": [
    {
     "name": "stdout",
     "output_type": "stream",
     "text": [
      "Model: \"sequential\"\n",
      "_________________________________________________________________\n",
      "Layer (type)                 Output Shape              Param #   \n",
      "=================================================================\n",
      "dense (Dense)                (None, 48)                480       \n",
      "_________________________________________________________________\n",
      "dense_1 (Dense)              (None, 32)                1568      \n",
      "_________________________________________________________________\n",
      "dense_2 (Dense)              (None, 32)                1056      \n",
      "_________________________________________________________________\n",
      "dense_3 (Dense)              (None, 1)                 33        \n",
      "=================================================================\n",
      "Total params: 3,137\n",
      "Trainable params: 3,137\n",
      "Non-trainable params: 0\n",
      "_________________________________________________________________\n"
     ]
    }
   ],
   "source": [
    "model=tf.keras.models.Sequential()\n",
    "layer_1=tf.keras.layers.Dense(units=48, activation=\"relu\", input_dim=9)\n",
    "model.add(layer_1)\n",
    "layer_2=tf.keras.layers.Dense(units=32, activation=\"relu\", input_dim=9)\n",
    "model.add(layer_2)\n",
    "layer_2=tf.keras.layers.Dense(units=32, activation=\"relu\", input_dim=9)\n",
    "model.add(layer_2)\n",
    "# layer_3=tf.keras.layers.Dense(units=1, activation=\"sigmoid\", input_dim=9)\n",
    "# model.add(layer_3)\n",
    "output_layer=tf.keras.layers.Dense(units=1)\n",
    "model.add(output_layer)\n",
    "model.summary()"
   ]
  },
  {
   "cell_type": "code",
   "execution_count": 18,
   "id": "d2509812-037b-4e15-b27d-5c6ec4e197f9",
   "metadata": {},
   "outputs": [
    {
     "name": "stdout",
     "output_type": "stream",
     "text": [
      "Epoch 1/15\n",
      "8609/8609 [==============================] - 16s 2ms/step - loss: 828.7184 - mean_squared_error: 828.7184 0s - loss: 838.6893 - mean\n",
      "Epoch 2/15\n",
      "8609/8609 [==============================] - 15s 2ms/step - loss: 554.5604 - mean_squared_error: 554.5604\n",
      "Epoch 3/15\n",
      "8609/8609 [==============================] - 16s 2ms/step - loss: 540.9324 - mean_squared_error: 540.9324\n",
      "Epoch 4/15\n",
      "8609/8609 [==============================] - 16s 2ms/step - loss: 532.4094 - mean_squared_error: 532.4094\n",
      "Epoch 5/15\n",
      "8609/8609 [==============================] - 16s 2ms/step - loss: 525.8952 - mean_squared_error: 525.8952\n",
      "Epoch 6/15\n",
      "8609/8609 [==============================] - 17s 2ms/step - loss: 519.7165 - mean_squared_error: 519.7165\n",
      "Epoch 7/15\n",
      "8609/8609 [==============================] - 16s 2ms/step - loss: 514.2368 - mean_squared_error: 514.2368\n",
      "Epoch 8/15\n",
      "8609/8609 [==============================] - 17s 2ms/step - loss: 510.1461 - mean_squared_error: 510.1461\n",
      "Epoch 9/15\n",
      "8609/8609 [==============================] - 17s 2ms/step - loss: 506.1827 - mean_squared_error: 506.1827\n",
      "Epoch 10/15\n",
      "8609/8609 [==============================] - 17s 2ms/step - loss: 502.4341 - mean_squared_error: 502.4341\n",
      "Epoch 11/15\n",
      "8609/8609 [==============================] - 16s 2ms/step - loss: 499.8635 - mean_squared_error: 499.8635\n",
      "Epoch 12/15\n",
      "8609/8609 [==============================] - 16s 2ms/step - loss: 498.3326 - mean_squared_error: 498.3326\n",
      "Epoch 13/15\n",
      "8609/8609 [==============================] - 17s 2ms/step - loss: 494.6320 - mean_squared_error: 494.6320\n",
      "Epoch 14/15\n",
      "8609/8609 [==============================] - 16s 2ms/step - loss: 492.8281 - mean_squared_error: 492.8281\n",
      "Epoch 15/15\n",
      "8609/8609 [==============================] - 16s 2ms/step - loss: 489.8347 - mean_squared_error: 489.8347\n"
     ]
    },
    {
     "data": {
      "text/plain": [
       "<keras.callbacks.History at 0x29007bde040>"
      ]
     },
     "execution_count": 18,
     "metadata": {},
     "output_type": "execute_result"
    }
   ],
   "source": [
    "model.compile(optimizer='adam', loss='mean_squared_error', metrics=['mean_squared_error'])\n",
    "model.fit(X_train, y_train, epochs=15)"
   ]
  },
  {
   "cell_type": "code",
   "execution_count": 19,
   "id": "7e722de2-6b7d-4186-bf4a-d0a488bb5148",
   "metadata": {},
   "outputs": [],
   "source": [
    "## Now predict on test data \n",
    "y_predicted = model.predict(X_test)\n",
    "y_real = y_test"
   ]
  },
  {
   "cell_type": "code",
   "execution_count": 20,
   "id": "c6d673ff-eebf-44be-ad1f-c8b9d5731912",
   "metadata": {},
   "outputs": [],
   "source": [
    "import matplotlib.pyplot as plt"
   ]
  },
  {
   "cell_type": "code",
   "execution_count": 21,
   "id": "06bd5831-a0d2-4653-ae8d-b474c35fbd40",
   "metadata": {},
   "outputs": [
    {
     "data": {
      "image/png": "[encoded data removed]",
      "text/plain": [
       "<Figure size 432x288 with 1 Axes>"
      ]
     },
     "metadata": {
      "needs_background": "light"
     },
     "output_type": "display_data"
    }
   ],
   "source": [
    "plt.plot(y_real, color = 'black', label = 'REAL')\n",
    "plt.title('Value Prediction')\n",
    "plt.xlabel('Time')\n",
    "plt.ylabel('Value')\n",
    "plt.legend()\n",
    "plt.show()"
   ]
  },
  {
   "cell_type": "code",
   "execution_count": 22,
   "id": "3e7bef21-f490-46ac-b9e5-0af8dd9e9a52",
   "metadata": {},
   "outputs": [
    {
     "data": {
      "image/png": "[encoded data removed]",
      "text/plain": [
       "<Figure size 432x288 with 1 Axes>"
      ]
     },
     "metadata": {
      "needs_background": "light"
     },
     "output_type": "display_data"
    }
   ],
   "source": [
    "plt.plot(y_predicted, color = 'green', label = 'PREDICTED')\n",
    "plt.title('Value Prediction')\n",
    "plt.xlabel('Time')\n",
    "plt.ylabel('Value')\n",
    "plt.legend()\n",
    "plt.show()"
   ]
  },
  {
   "cell_type": "code",
   "execution_count": 23,
   "id": "daff907c-5e83-43f9-95eb-24ff055ad57a",
   "metadata": {},
   "outputs": [],
   "source": [
    "## Save Model\n",
    "# model.save('Models/pm25_model.h5')"
   ]
  },
  {
   "cell_type": "code",
   "execution_count": 24,
   "id": "c2f85972-d439-4d92-9c6f-bc00426bb4af",
   "metadata": {},
   "outputs": [
    {
     "data": {
      "text/plain": [
       "<matplotlib.collections.PathCollection at 0x29007d5be80>"
      ]
     },
     "execution_count": 24,
     "metadata": {},
     "output_type": "execute_result"
    },
    {
     "data": {
      "image/png": "[encoded data removed]",
      "text/plain": [
       "<Figure size 432x288 with 1 Axes>"
      ]
     },
     "metadata": {
      "needs_background": "light"
     },
     "output_type": "display_data"
    }
   ],
   "source": [
    "plt.scatter(y_predicted, y_real)"
   ]
  },
  {
   "cell_type": "markdown",
   "id": "dba9cc15-c16d-403d-8fe2-e9f35fbd0c8c",
   "metadata": {},
   "source": [
    "## Create Time Series Models for each variable"
   ]
  },
  {
   "cell_type": "code",
   "execution_count": 25,
   "id": "a110378d-330b-4a69-b2d9-593f13b986e1",
   "metadata": {},
   "outputs": [
    {
     "data": {
      "text/plain": [
       "array([[<AxesSubplot:title={'center':'PM2.5'}>,\n",
       "        <AxesSubplot:title={'center':'dt'}>,\n",
       "        <AxesSubplot:title={'center':'PM10'}>],\n",
       "       [<AxesSubplot:title={'center':'SO2'}>,\n",
       "        <AxesSubplot:title={'center':'NO2'}>,\n",
       "        <AxesSubplot:title={'center':'CO'}>],\n",
       "       [<AxesSubplot:title={'center':'O3'}>,\n",
       "        <AxesSubplot:title={'center':'TEMP'}>,\n",
       "        <AxesSubplot:title={'center':'PRES'}>],\n",
       "       [<AxesSubplot:title={'center':'DEWP'}>,\n",
       "        <AxesSubplot:title={'center':'RAIN'}>, <AxesSubplot:>]],\n",
       "      dtype=object)"
      ]
     },
     "execution_count": 25,
     "metadata": {},
     "output_type": "execute_result"
    },
    {
     "data": {
      "image/png": "[encoded data removed]",
      "text/plain": [
       "<Figure size 720x1080 with 12 Axes>"
      ]
     },
     "metadata": {
      "needs_background": "light"
     },
     "output_type": "display_data"
    }
   ],
   "source": [
    "df.hist(figsize=(10, 15))"
   ]
  },
  {
   "cell_type": "code",
   "execution_count": 26,
   "id": "08b2a0ea-1e1c-49c1-8f06-ff1e063d6f0d",
   "metadata": {},
   "outputs": [
    {
     "data": {
      "image/png": "[encoded data removed]",
      "text/plain": [
       "<Figure size 1080x720 with 12 Axes>"
      ]
     },
     "metadata": {
      "needs_background": "light"
     },
     "output_type": "display_data"
    }
   ],
   "source": [
    "df=df.set_index(pd.to_datetime(df['dt']))\n",
    "df = df.drop(columns = ['dt'])\n",
    "fig, ax=plt.subplots(3, 4, figsize=(15, 10))\n",
    "\n",
    "for idx, each_col in enumerate(df.columns): \n",
    "    if idx>=10: \n",
    "        break\n",
    "    row_idx=idx//4\n",
    "    col_idx=idx%4\n",
    "    df[each_col].plot(ax=ax[row_idx][col_idx])\n",
    "    ax[row_idx][col_idx].set_title(each_col)\n",
    "plt.tight_layout()"
   ]
  },
  {
   "cell_type": "code",
   "execution_count": 27,
   "id": "a3e405a1-cbb2-4b3c-ab16-d19bd890e545",
   "metadata": {},
   "outputs": [
    {
     "data": {
      "text/html": [
       "<div>\n",
       "<style scoped>\n",
       "    .dataframe tbody tr th:only-of-type {\n",
       "        vertical-align: middle;\n",
       "    }\n",
       "\n",
       "    .dataframe tbody tr th {\n",
       "        vertical-align: top;\n",
       "    }\n",
       "\n",
       "    .dataframe thead th {\n",
       "        text-align: right;\n",
       "    }\n",
       "</style>\n",
       "<table border=\"1\" class=\"dataframe\">\n",
       "  <thead>\n",
       "    <tr style=\"text-align: right;\">\n",
       "      <th></th>\n",
       "      <th>PM2.5</th>\n",
       "      <th>PM10</th>\n",
       "      <th>SO2</th>\n",
       "      <th>NO2</th>\n",
       "      <th>CO</th>\n",
       "      <th>O3</th>\n",
       "      <th>TEMP</th>\n",
       "      <th>PRES</th>\n",
       "      <th>DEWP</th>\n",
       "      <th>RAIN</th>\n",
       "    </tr>\n",
       "    <tr>\n",
       "      <th>dt</th>\n",
       "      <th></th>\n",
       "      <th></th>\n",
       "      <th></th>\n",
       "      <th></th>\n",
       "      <th></th>\n",
       "      <th></th>\n",
       "      <th></th>\n",
       "      <th></th>\n",
       "      <th></th>\n",
       "      <th></th>\n",
       "    </tr>\n",
       "  </thead>\n",
       "  <tbody>\n",
       "    <tr>\n",
       "      <th>2013-01-03</th>\n",
       "      <td>4.0</td>\n",
       "      <td>-1.117062</td>\n",
       "      <td>-0.538590</td>\n",
       "      <td>-1.247505</td>\n",
       "      <td>-0.815927</td>\n",
       "      <td>0.330797</td>\n",
       "      <td>-1.309452</td>\n",
       "      <td>1.225754</td>\n",
       "      <td>-1.611258</td>\n",
       "      <td>-0.080522</td>\n",
       "    </tr>\n",
       "    <tr>\n",
       "      <th>2013-01-03</th>\n",
       "      <td>9.0</td>\n",
       "      <td>-1.061450</td>\n",
       "      <td>-0.585388</td>\n",
       "      <td>-0.959695</td>\n",
       "      <td>-0.815927</td>\n",
       "      <td>0.539777</td>\n",
       "      <td>-1.291730</td>\n",
       "      <td>1.370984</td>\n",
       "      <td>-1.802370</td>\n",
       "      <td>-0.080522</td>\n",
       "    </tr>\n",
       "    <tr>\n",
       "      <th>2013-01-03</th>\n",
       "      <td>4.0</td>\n",
       "      <td>-1.117062</td>\n",
       "      <td>-0.070608</td>\n",
       "      <td>-0.873352</td>\n",
       "      <td>-0.815927</td>\n",
       "      <td>0.191476</td>\n",
       "      <td>-1.309452</td>\n",
       "      <td>1.225754</td>\n",
       "      <td>-1.611258</td>\n",
       "      <td>-0.080522</td>\n",
       "    </tr>\n",
       "    <tr>\n",
       "      <th>2013-01-03</th>\n",
       "      <td>7.0</td>\n",
       "      <td>-1.083694</td>\n",
       "      <td>-0.585388</td>\n",
       "      <td>-1.391410</td>\n",
       "      <td>-0.994152</td>\n",
       "      <td>0.574608</td>\n",
       "      <td>-1.451230</td>\n",
       "      <td>0.964339</td>\n",
       "      <td>-1.750917</td>\n",
       "      <td>-0.080522</td>\n",
       "    </tr>\n",
       "    <tr>\n",
       "      <th>2013-01-03</th>\n",
       "      <td>5.0</td>\n",
       "      <td>-1.005838</td>\n",
       "      <td>-0.538590</td>\n",
       "      <td>-1.103600</td>\n",
       "      <td>-0.905040</td>\n",
       "      <td>0.470117</td>\n",
       "      <td>-1.291730</td>\n",
       "      <td>1.370984</td>\n",
       "      <td>-1.802370</td>\n",
       "      <td>-0.080522</td>\n",
       "    </tr>\n",
       "  </tbody>\n",
       "</table>\n",
       "</div>"
      ],
      "text/plain": [
       "            PM2.5      PM10       SO2       NO2        CO        O3      TEMP  \\\n",
       "dt                                                                              \n",
       "2013-01-03    4.0 -1.117062 -0.538590 -1.247505 -0.815927  0.330797 -1.309452   \n",
       "2013-01-03    9.0 -1.061450 -0.585388 -0.959695 -0.815927  0.539777 -1.291730   \n",
       "2013-01-03    4.0 -1.117062 -0.070608 -0.873352 -0.815927  0.191476 -1.309452   \n",
       "2013-01-03    7.0 -1.083694 -0.585388 -1.391410 -0.994152  0.574608 -1.451230   \n",
       "2013-01-03    5.0 -1.005838 -0.538590 -1.103600 -0.905040  0.470117 -1.291730   \n",
       "\n",
       "                PRES      DEWP      RAIN  \n",
       "dt                                        \n",
       "2013-01-03  1.225754 -1.611258 -0.080522  \n",
       "2013-01-03  1.370984 -1.802370 -0.080522  \n",
       "2013-01-03  1.225754 -1.611258 -0.080522  \n",
       "2013-01-03  0.964339 -1.750917 -0.080522  \n",
       "2013-01-03  1.370984 -1.802370 -0.080522  "
      ]
     },
     "execution_count": 27,
     "metadata": {},
     "output_type": "execute_result"
    }
   ],
   "source": [
    "df.head()"
   ]
  },
  {
   "cell_type": "code",
   "execution_count": 28,
   "id": "85325ef1-69d1-4c45-be6a-30fc71f4068c",
   "metadata": {},
   "outputs": [
    {
     "data": {
      "text/plain": [
       "<AxesSubplot:xlabel='dt'>"
      ]
     },
     "execution_count": 28,
     "metadata": {},
     "output_type": "execute_result"
    },
    {
     "data": {
      "image/png": "[encoded data removed]",
      "text/plain": [
       "<Figure size 432x288 with 1 Axes>"
      ]
     },
     "metadata": {
      "needs_background": "light"
     },
     "output_type": "display_data"
    }
   ],
   "source": [
    "df['TEMP'].rolling(30).median().plot()"
   ]
  },
  {
   "cell_type": "code",
   "execution_count": 29,
   "id": "5fa689ba-376d-42a0-9605-34094bf1c1cc",
   "metadata": {},
   "outputs": [
    {
     "data": {
      "text/plain": [
       "dt\n",
       "2013-01-03 00:00:00   -1.325402\n",
       "2013-01-03 01:00:00   -1.337020\n",
       "2013-01-03 02:00:00   -1.403971\n",
       "2013-01-03 03:00:00   -1.410469\n",
       "2013-01-03 04:00:00   -1.447685\n",
       "Name: TEMP, dtype: float64"
      ]
     },
     "execution_count": 29,
     "metadata": {},
     "output_type": "execute_result"
    }
   ],
   "source": [
    "grouped_df=df.groupby('dt').mean()\n",
    "grouped_df['TEMP'].head()"
   ]
  },
  {
   "cell_type": "markdown",
   "id": "ee79356a-b362-4b22-927f-0fc941341405",
   "metadata": {},
   "source": [
    "### Create SO2 timeseries"
   ]
  },
  {
   "cell_type": "code",
   "execution_count": 30,
   "id": "012a7f40-b335-4fcf-9410-7549934728c2",
   "metadata": {},
   "outputs": [
    {
     "data": {
      "text/plain": [
       "(25068, 1)"
      ]
     },
     "execution_count": 30,
     "metadata": {},
     "output_type": "execute_result"
    }
   ],
   "source": [
    "import math\n",
    "temp_arr=grouped_df['SO2'].values.reshape(-1, 1)\n",
    "train_arr=temp_arr[0: math.ceil(.75*len(temp_arr))]\n",
    "test_arr = temp_arr[math.ceil(.75*len(temp_arr)):]\n",
    "train_arr.shape"
   ]
  },
  {
   "cell_type": "code",
   "execution_count": 31,
   "id": "99e450c5-d64b-4618-929e-a868d6c64599",
   "metadata": {},
   "outputs": [
    {
     "data": {
      "text/plain": [
       "(8355, 1)"
      ]
     },
     "execution_count": 31,
     "metadata": {},
     "output_type": "execute_result"
    }
   ],
   "source": [
    "test_arr.shape"
   ]
  },
  {
   "cell_type": "code",
   "execution_count": 32,
   "id": "a73febd9-9a8d-4ec4-bd95-0060983845fa",
   "metadata": {},
   "outputs": [],
   "source": [
    "days_season = 365\n",
    "X_train = []\n",
    "y_train = []\n",
    "X_test = []\n",
    "y_test = []\n",
    "for i in range(days_season, len(train_arr)): \n",
    "    X_train.append(train_arr[i-days_season: i, 0])\n",
    "    y_train.append(train_arr[i, 0])\n",
    "for i in range(days_season, len(test_arr)): \n",
    "    X_test.append(test_arr[i-days_season: i, 0])\n",
    "    y_test.append(test_arr[i, 0])"
   ]
  },
  {
   "cell_type": "code",
   "execution_count": 33,
   "id": "04b6c985-fc05-4e32-980d-72e51b43d7bc",
   "metadata": {},
   "outputs": [
    {
     "data": {
      "text/plain": [
       "(24703, 365, 1)"
      ]
     },
     "execution_count": 33,
     "metadata": {},
     "output_type": "execute_result"
    }
   ],
   "source": [
    "X_train=np.array(X_train)\n",
    "y_train=np.array(y_train)\n",
    "X_train=np.reshape(X_train, (X_train.shape[0], X_train.shape[1], 1))\n",
    "X_train.shape"
   ]
  },
  {
   "cell_type": "code",
   "execution_count": 34,
   "id": "ca04c787-422f-4109-a6ce-274484d358b4",
   "metadata": {},
   "outputs": [
    {
     "data": {
      "text/plain": [
       "(7990, 365, 1)"
      ]
     },
     "execution_count": 34,
     "metadata": {},
     "output_type": "execute_result"
    }
   ],
   "source": [
    "X_test=np.array(X_test)\n",
    "y_test=np.array(y_test)\n",
    "X_test=np.reshape(X_test, (X_test.shape[0], X_test.shape[1], 1))\n",
    "X_test.shape"
   ]
  },
  {
   "cell_type": "code",
   "execution_count": 35,
   "id": "e38a0f50-a6b5-49d0-b3ca-65413e779aa1",
   "metadata": {},
   "outputs": [],
   "source": [
    "## So one big array with 365 smaller arrays within, each with 8000 or so individual single-value arrays within "
   ]
  },
  {
   "cell_type": "code",
   "execution_count": 36,
   "id": "64e75229-6ee0-4432-935a-f601d0997536",
   "metadata": {},
   "outputs": [
    {
     "name": "stdout",
     "output_type": "stream",
     "text": [
      "Model: \"sequential_1\"\n",
      "_________________________________________________________________\n",
      "Layer (type)                 Output Shape              Param #   \n",
      "=================================================================\n",
      "lstm (LSTM)                  (None, 365, 50)           10400     \n",
      "_________________________________________________________________\n",
      "lstm_1 (LSTM)                (None, 50)                20200     \n",
      "_________________________________________________________________\n",
      "dense_4 (Dense)              (None, 25)                1275      \n",
      "_________________________________________________________________\n",
      "dense_5 (Dense)              (None, 1)                 26        \n",
      "=================================================================\n",
      "Total params: 31,901\n",
      "Trainable params: 31,901\n",
      "Non-trainable params: 0\n",
      "_________________________________________________________________\n"
     ]
    }
   ],
   "source": [
    "lstm_model=tf.keras.models.Sequential()\n",
    "lstm_layer_1=tf.keras.layers.LSTM(50, return_sequences=True, input_shape=(365, 1))\n",
    "lstm_model.add(lstm_layer_1)\n",
    "lstm_layer_2=tf.keras.layers.LSTM(50, return_sequences=False)\n",
    "lstm_model.add(lstm_layer_2)\n",
    "lstm_layer_3=tf.keras.layers.Dense(25)\n",
    "lstm_model.add(lstm_layer_3)\n",
    "lstm_output_layer=tf.keras.layers.Dense(1)\n",
    "lstm_model.add(lstm_output_layer)\n",
    "lstm_model.summary()"
   ]
  },
  {
   "cell_type": "code",
   "execution_count": 37,
   "id": "7d8248bb-721f-43a5-a23a-c130996de3b5",
   "metadata": {},
   "outputs": [
    {
     "name": "stdout",
     "output_type": "stream",
     "text": [
      "Epoch 1/5\n",
      "772/772 [==============================] - 303s 386ms/step - loss: 0.1068 - mean_squared_error: 0.1068\n",
      "Epoch 2/5\n",
      "772/772 [==============================] - 299s 387ms/step - loss: 0.0596 - mean_squared_error: 0.0596\n",
      "Epoch 3/5\n",
      "772/772 [==============================] - 299s 387ms/step - loss: 0.0591 - mean_squared_error: 0.0591\n",
      "Epoch 4/5\n",
      "772/772 [==============================] - 302s 391ms/step - loss: 0.0589 - mean_squared_error: 0.0589\n",
      "Epoch 5/5\n",
      "772/772 [==============================] - 302s 392ms/step - loss: 0.0592 - mean_squared_error: 0.0592\n"
     ]
    },
    {
     "data": {
      "text/plain": [
       "<keras.callbacks.History at 0x2900851bbe0>"
      ]
     },
     "execution_count": 37,
     "metadata": {},
     "output_type": "execute_result"
    }
   ],
   "source": [
    "lstm_model.compile(optimizer='adam', metrics=['mean_squared_error'], loss='mean_squared_error')\n",
    "lstm_model.fit(X_train, y_train, epochs=5)"
   ]
  },
  {
   "cell_type": "code",
   "execution_count": 38,
   "id": "6499d7fb-0a89-4ab8-9169-1464afe242aa",
   "metadata": {},
   "outputs": [],
   "source": [
    "## Now predict on test data \n",
    "y_predicted = lstm_model.predict(X_test)\n",
    "y_real = y_test"
   ]
  },
  {
   "cell_type": "code",
   "execution_count": 39,
   "id": "ff6ce56f-df82-46a9-9103-2c8e91cfd9fd",
   "metadata": {},
   "outputs": [
    {
     "data": {
      "image/png": "[encoded data removed]",
      "text/plain": [
       "<Figure size 432x288 with 1 Axes>"
      ]
     },
     "metadata": {
      "needs_background": "light"
     },
     "output_type": "display_data"
    }
   ],
   "source": [
    "plt.plot(y_real, color = 'black', label = 'REAL')\n",
    "plt.title('Value Real')\n",
    "plt.xlabel('Time')\n",
    "plt.ylabel('Value')\n",
    "plt.legend()\n",
    "plt.show()"
   ]
  },
  {
   "cell_type": "code",
   "execution_count": 40,
   "id": "f22044ac-55b5-4f4c-a32d-5196525bd666",
   "metadata": {},
   "outputs": [
    {
     "data": {
      "image/png": "[encoded data removed]",
      "text/plain": [
       "<Figure size 432x288 with 1 Axes>"
      ]
     },
     "metadata": {
      "needs_background": "light"
     },
     "output_type": "display_data"
    }
   ],
   "source": [
    "plt.plot(y_predicted, color = 'green', label = 'PREDICTED')\n",
    "plt.title('Value Prediction')\n",
    "plt.xlabel('Time')\n",
    "plt.ylabel('Value')\n",
    "plt.legend()\n",
    "plt.show()"
   ]
  },
  {
   "cell_type": "code",
   "execution_count": 41,
   "id": "a36edc35-934b-4610-8338-8a3f7d482824",
   "metadata": {},
   "outputs": [
    {
     "name": "stdout",
     "output_type": "stream",
     "text": [
      "Epoch 1/2\n",
      "250/250 [==============================] - 92s 369ms/step - loss: 0.0215 - mean_squared_error: 0.0215\n",
      "Epoch 2/2\n",
      "250/250 [==============================] - 89s 358ms/step - loss: 0.0212 - mean_squared_error: 0.0212\n"
     ]
    },
    {
     "data": {
      "text/plain": [
       "<keras.callbacks.History at 0x2900f2bb820>"
      ]
     },
     "execution_count": 41,
     "metadata": {},
     "output_type": "execute_result"
    }
   ],
   "source": [
    "## Now let's test on our test data\n",
    "lstm_model.fit(X_test, y_test, epochs=2)"
   ]
  },
  {
   "cell_type": "code",
   "execution_count": 42,
   "id": "116acee7-43be-405a-98b5-773a0117ea49",
   "metadata": {},
   "outputs": [],
   "source": [
    "## Save Model\n",
    "# lstm_model.save('Models/so3_model.h5')"
   ]
  },
  {
   "cell_type": "markdown",
   "id": "537458d5-9ee7-4afb-9198-e37be257321a",
   "metadata": {},
   "source": [
    "### Create CO Time Series Model"
   ]
  },
  {
   "cell_type": "code",
   "execution_count": 43,
   "id": "64214692-83c6-4b83-a52e-3df6905804c7",
   "metadata": {},
   "outputs": [
    {
     "data": {
      "text/plain": [
       "(25068, 1)"
      ]
     },
     "execution_count": 43,
     "metadata": {},
     "output_type": "execute_result"
    }
   ],
   "source": [
    "temp_arr=grouped_df['CO'].values.reshape(-1, 1)\n",
    "train_arr=temp_arr[0: math.ceil(.75*len(temp_arr))]\n",
    "test_arr = temp_arr[math.ceil(.75*len(temp_arr)):]\n",
    "train_arr.shape"
   ]
  },
  {
   "cell_type": "code",
   "execution_count": 44,
   "id": "9c1c5b24-67b1-45d0-97d1-6fd0d867df93",
   "metadata": {},
   "outputs": [
    {
     "data": {
      "text/plain": [
       "(8355, 1)"
      ]
     },
     "execution_count": 44,
     "metadata": {},
     "output_type": "execute_result"
    }
   ],
   "source": [
    "test_arr.shape"
   ]
  },
  {
   "cell_type": "code",
   "execution_count": 45,
   "id": "b250cfaf-afc8-44e3-a884-fd0f30273021",
   "metadata": {},
   "outputs": [],
   "source": [
    "days_season=365\n",
    "X_train=[]\n",
    "y_train=[]\n",
    "X_test = []\n",
    "y_test = []\n",
    "for i in range(days_season, len(train_arr)): \n",
    "    X_train.append(train_arr[i-days_season: i, 0])\n",
    "    y_train.append(train_arr[i, 0])\n",
    "for i in range(days_season, len(test_arr)): \n",
    "    X_test.append(test_arr[i-days_season: i, 0])\n",
    "    y_test.append(test_arr[i, 0])"
   ]
  },
  {
   "cell_type": "code",
   "execution_count": 46,
   "id": "251e31af-49dd-455d-8420-6a7367dbeac7",
   "metadata": {},
   "outputs": [
    {
     "data": {
      "text/plain": [
       "(24703, 365, 1)"
      ]
     },
     "execution_count": 46,
     "metadata": {},
     "output_type": "execute_result"
    }
   ],
   "source": [
    "X_train=np.array(X_train)\n",
    "y_train=np.array(y_train)\n",
    "X_train=np.reshape(X_train, (X_train.shape[0], X_train.shape[1], 1))\n",
    "X_train.shape"
   ]
  },
  {
   "cell_type": "code",
   "execution_count": 47,
   "id": "37f27530-73a0-4d58-a575-402849045f7e",
   "metadata": {},
   "outputs": [
    {
     "data": {
      "text/plain": [
       "(7990, 365, 1)"
      ]
     },
     "execution_count": 47,
     "metadata": {},
     "output_type": "execute_result"
    }
   ],
   "source": [
    "X_test=np.array(X_test)\n",
    "y_test=np.array(y_test)\n",
    "X_test=np.reshape(X_test, (X_test.shape[0], X_test.shape[1], 1))\n",
    "X_test.shape"
   ]
  },
  {
   "cell_type": "code",
   "execution_count": 48,
   "id": "083f9f22-745b-4277-9851-ca5a0d4a4576",
   "metadata": {},
   "outputs": [
    {
     "name": "stdout",
     "output_type": "stream",
     "text": [
      "Model: \"sequential_2\"\n",
      "_________________________________________________________________\n",
      "Layer (type)                 Output Shape              Param #   \n",
      "=================================================================\n",
      "lstm_2 (LSTM)                (None, 365, 50)           10400     \n",
      "_________________________________________________________________\n",
      "lstm_3 (LSTM)                (None, 50)                20200     \n",
      "_________________________________________________________________\n",
      "dense_6 (Dense)              (None, 25)                1275      \n",
      "_________________________________________________________________\n",
      "dense_7 (Dense)              (None, 1)                 26        \n",
      "=================================================================\n",
      "Total params: 31,901\n",
      "Trainable params: 31,901\n",
      "Non-trainable params: 0\n",
      "_________________________________________________________________\n"
     ]
    }
   ],
   "source": [
    "lstm_model=tf.keras.models.Sequential()\n",
    "lstm_layer_1=tf.keras.layers.LSTM(50, return_sequences=True, input_shape=(365, 1))\n",
    "lstm_model.add(lstm_layer_1)\n",
    "lstm_layer_2=tf.keras.layers.LSTM(50, return_sequences=False)\n",
    "lstm_model.add(lstm_layer_2)\n",
    "lstm_layer_3=tf.keras.layers.Dense(25)\n",
    "lstm_model.add(lstm_layer_3)\n",
    "lstm_output_layer=tf.keras.layers.Dense(1)\n",
    "lstm_model.add(lstm_output_layer)\n",
    "lstm_model.summary()"
   ]
  },
  {
   "cell_type": "code",
   "execution_count": 49,
   "id": "4ac01b35-ee45-4e90-95ec-a3192eea6b0a",
   "metadata": {},
   "outputs": [
    {
     "name": "stdout",
     "output_type": "stream",
     "text": [
      "Epoch 1/5\n",
      "772/772 [==============================] - 304s 388ms/step - loss: 0.1061 - mean_squared_error: 0.1061\n",
      "Epoch 2/5\n",
      "772/772 [==============================] - 292s 378ms/step - loss: 0.0659 - mean_squared_error: 0.0659\n",
      "Epoch 3/5\n",
      "772/772 [==============================] - 293s 380ms/step - loss: 0.0651 - mean_squared_error: 0.0651\n",
      "Epoch 4/5\n",
      "772/772 [==============================] - 295s 381ms/step - loss: 0.0649 - mean_squared_error: 0.0649\n",
      "Epoch 5/5\n",
      "772/772 [==============================] - 291s 377ms/step - loss: 0.0632 - mean_squared_error: 0.0632\n"
     ]
    },
    {
     "data": {
      "text/plain": [
       "<keras.callbacks.History at 0x2900f6755e0>"
      ]
     },
     "execution_count": 49,
     "metadata": {},
     "output_type": "execute_result"
    }
   ],
   "source": [
    "lstm_model.compile(optimizer='adam', metrics=['mean_squared_error'], loss='mean_squared_error')\n",
    "lstm_model.fit(X_train, y_train, epochs=5)"
   ]
  },
  {
   "cell_type": "code",
   "execution_count": 50,
   "id": "4154e1c9-b4dc-4124-be79-fe3a592b98fa",
   "metadata": {},
   "outputs": [],
   "source": [
    "## Now predict on test data \n",
    "y_predicted = lstm_model.predict(X_test)\n",
    "y_real = y_test"
   ]
  },
  {
   "cell_type": "code",
   "execution_count": 51,
   "id": "6c3c6223-1ebe-4f59-868a-7da08539a5fd",
   "metadata": {},
   "outputs": [
    {
     "data": {
      "image/png": "[encoded data removed]",
      "text/plain": [
       "<Figure size 432x288 with 1 Axes>"
      ]
     },
     "metadata": {
      "needs_background": "light"
     },
     "output_type": "display_data"
    }
   ],
   "source": [
    "plt.plot(y_real, color = 'black', label = 'REAL')\n",
    "plt.title('Value Prediction')\n",
    "plt.xlabel('Time')\n",
    "plt.ylabel('Value')\n",
    "plt.legend()\n",
    "plt.show()"
   ]
  },
  {
   "cell_type": "code",
   "execution_count": 52,
   "id": "21d23e02-d6ee-41ae-b182-a6ecc8bea094",
   "metadata": {},
   "outputs": [
    {
     "data": {
      "image/png": "[encoded data removed]",
      "text/plain": [
       "<Figure size 432x288 with 1 Axes>"
      ]
     },
     "metadata": {
      "needs_background": "light"
     },
     "output_type": "display_data"
    }
   ],
   "source": [
    "plt.plot(y_predicted, color = 'green', label = 'PREDICTED')\n",
    "plt.title('Value Prediction')\n",
    "plt.xlabel('Time')\n",
    "plt.ylabel('Value')\n",
    "plt.legend()\n",
    "plt.show()"
   ]
  },
  {
   "cell_type": "code",
   "execution_count": 53,
   "id": "95f710f2-b086-4ee3-b1ec-3390a473c86c",
   "metadata": {},
   "outputs": [
    {
     "name": "stdout",
     "output_type": "stream",
     "text": [
      "Epoch 1/2\n",
      "250/250 [==============================] - 94s 378ms/step - loss: 0.0455 - mean_squared_error: 0.0455\n",
      "Epoch 2/2\n",
      "250/250 [==============================] - 96s 385ms/step - loss: 0.0450 - mean_squared_error: 0.0450\n"
     ]
    },
    {
     "data": {
      "text/plain": [
       "<keras.callbacks.History at 0x2909b7406d0>"
      ]
     },
     "execution_count": 53,
     "metadata": {},
     "output_type": "execute_result"
    }
   ],
   "source": [
    "## Now let's test on our test data\n",
    "lstm_model.fit(X_test, y_test, epochs=2)"
   ]
  },
  {
   "cell_type": "code",
   "execution_count": 54,
   "id": "2c051358-e32b-4e9e-8a3a-25f4b0f00211",
   "metadata": {},
   "outputs": [],
   "source": [
    "## Save Model\n",
    "# lstm_model.save('Models/co_model.h5')"
   ]
  },
  {
   "cell_type": "markdown",
   "id": "2c50facf-0d9a-4ed5-a964-f2744e7ba8d9",
   "metadata": {},
   "source": [
    "### Create DEWP Time Series Model"
   ]
  },
  {
   "cell_type": "code",
   "execution_count": 55,
   "id": "1f97c416-8550-45ff-871e-c60b8ced1473",
   "metadata": {},
   "outputs": [
    {
     "data": {
      "text/plain": [
       "(25068, 1)"
      ]
     },
     "execution_count": 55,
     "metadata": {},
     "output_type": "execute_result"
    }
   ],
   "source": [
    "temp_arr=grouped_df['DEWP'].values.reshape(-1, 1)\n",
    "train_arr=temp_arr[0: math.ceil(.75*len(temp_arr))]\n",
    "test_arr = temp_arr[math.ceil(.75*len(temp_arr)):]\n",
    "train_arr.shape"
   ]
  },
  {
   "cell_type": "code",
   "execution_count": 56,
   "id": "8b04724c-fa56-4327-b0e2-97935cc92cc7",
   "metadata": {},
   "outputs": [
    {
     "data": {
      "text/plain": [
       "(8355, 1)"
      ]
     },
     "execution_count": 56,
     "metadata": {},
     "output_type": "execute_result"
    }
   ],
   "source": [
    "test_arr.shape"
   ]
  },
  {
   "cell_type": "code",
   "execution_count": 57,
   "id": "b92ee3a7-0538-4b05-bdf9-8f7457bd6315",
   "metadata": {},
   "outputs": [],
   "source": [
    "days_season=365\n",
    "X_train=[]\n",
    "y_train=[]\n",
    "X_test = []\n",
    "y_test = []\n",
    "for i in range(days_season, len(train_arr)): \n",
    "    X_train.append(train_arr[i-days_season: i, 0])\n",
    "    y_train.append(train_arr[i, 0])\n",
    "for i in range(days_season, len(test_arr)): \n",
    "    X_test.append(test_arr[i-days_season: i, 0])\n",
    "    y_test.append(test_arr[i, 0])"
   ]
  },
  {
   "cell_type": "code",
   "execution_count": 58,
   "id": "359a2e5e-3b9f-40fa-a7c5-6ac46b1562e5",
   "metadata": {},
   "outputs": [
    {
     "data": {
      "text/plain": [
       "(24703, 365, 1)"
      ]
     },
     "execution_count": 58,
     "metadata": {},
     "output_type": "execute_result"
    }
   ],
   "source": [
    "X_train=np.array(X_train)\n",
    "y_train=np.array(y_train)\n",
    "X_train=np.reshape(X_train, (X_train.shape[0], X_train.shape[1], 1))\n",
    "X_train.shape"
   ]
  },
  {
   "cell_type": "code",
   "execution_count": 59,
   "id": "e0ea6070-79fc-42fc-bc0b-660743ec5aad",
   "metadata": {},
   "outputs": [
    {
     "data": {
      "text/plain": [
       "(7990, 365, 1)"
      ]
     },
     "execution_count": 59,
     "metadata": {},
     "output_type": "execute_result"
    }
   ],
   "source": [
    "X_test=np.array(X_test)\n",
    "y_test=np.array(y_test)\n",
    "X_test=np.reshape(X_test, (X_test.shape[0], X_test.shape[1], 1))\n",
    "X_test.shape"
   ]
  },
  {
   "cell_type": "code",
   "execution_count": 60,
   "id": "1c9bb81d-5f39-488f-9124-04e819bf33e3",
   "metadata": {},
   "outputs": [
    {
     "name": "stdout",
     "output_type": "stream",
     "text": [
      "Model: \"sequential_3\"\n",
      "_________________________________________________________________\n",
      "Layer (type)                 Output Shape              Param #   \n",
      "=================================================================\n",
      "lstm_4 (LSTM)                (None, 365, 50)           10400     \n",
      "_________________________________________________________________\n",
      "lstm_5 (LSTM)                (None, 50)                20200     \n",
      "_________________________________________________________________\n",
      "dense_8 (Dense)              (None, 25)                1275      \n",
      "_________________________________________________________________\n",
      "dense_9 (Dense)              (None, 1)                 26        \n",
      "=================================================================\n",
      "Total params: 31,901\n",
      "Trainable params: 31,901\n",
      "Non-trainable params: 0\n",
      "_________________________________________________________________\n"
     ]
    }
   ],
   "source": [
    "lstm_model=tf.keras.models.Sequential()\n",
    "lstm_layer_1=tf.keras.layers.LSTM(50, return_sequences=True, input_shape=(365, 1))\n",
    "lstm_model.add(lstm_layer_1)\n",
    "lstm_layer_2=tf.keras.layers.LSTM(50, return_sequences=False)\n",
    "lstm_model.add(lstm_layer_2)\n",
    "lstm_layer_3=tf.keras.layers.Dense(25)\n",
    "lstm_model.add(lstm_layer_3)\n",
    "lstm_output_layer=tf.keras.layers.Dense(1)\n",
    "lstm_model.add(lstm_output_layer)\n",
    "lstm_model.summary()"
   ]
  },
  {
   "cell_type": "code",
   "execution_count": 61,
   "id": "15b09fa7-d677-4a13-80f9-e0f724997652",
   "metadata": {},
   "outputs": [
    {
     "name": "stdout",
     "output_type": "stream",
     "text": [
      "Epoch 1/5\n",
      "772/772 [==============================] - 299s 382ms/step - loss: 0.0408 - mean_squared_error: 0.0408\n",
      "Epoch 2/5\n",
      "772/772 [==============================] - 298s 386ms/step - loss: 0.0199 - mean_squared_error: 0.0199\n",
      "Epoch 3/5\n",
      "772/772 [==============================] - 290s 375ms/step - loss: 0.0195 - mean_squared_error: 0.0195\n",
      "Epoch 4/5\n",
      "772/772 [==============================] - 291s 377ms/step - loss: 0.0195 - mean_squared_error: 0.0195\n",
      "Epoch 5/5\n",
      "772/772 [==============================] - 292s 378ms/step - loss: 0.0195 - mean_squared_error: 0.0195\n"
     ]
    },
    {
     "data": {
      "text/plain": [
       "<keras.callbacks.History at 0x2909c090970>"
      ]
     },
     "execution_count": 61,
     "metadata": {},
     "output_type": "execute_result"
    }
   ],
   "source": [
    "lstm_model.compile(optimizer='adam', metrics=['mean_squared_error'], loss='mean_squared_error')\n",
    "lstm_model.fit(X_train, y_train, epochs=5)"
   ]
  },
  {
   "cell_type": "code",
   "execution_count": 62,
   "id": "09e28796-603c-4e6b-a030-74c35260c2c3",
   "metadata": {},
   "outputs": [],
   "source": [
    "## Now predict on test data \n",
    "y_predicted = lstm_model.predict(X_test)\n",
    "y_real = y_test"
   ]
  },
  {
   "cell_type": "code",
   "execution_count": 63,
   "id": "2d578060-cf67-4241-b66b-ec9ca4af4e5f",
   "metadata": {},
   "outputs": [
    {
     "data": {
      "image/png": "[encoded data removed]",
      "text/plain": [
       "<Figure size 432x288 with 1 Axes>"
      ]
     },
     "metadata": {
      "needs_background": "light"
     },
     "output_type": "display_data"
    }
   ],
   "source": [
    "plt.plot(y_real, color = 'black', label = 'REAL')\n",
    "plt.title('Value Prediction')\n",
    "plt.xlabel('Time')\n",
    "plt.ylabel('Value')\n",
    "plt.legend()\n",
    "plt.show()"
   ]
  },
  {
   "cell_type": "code",
   "execution_count": 64,
   "id": "e540406e-4cdd-43cd-8218-e9b40eef6200",
   "metadata": {},
   "outputs": [
    {
     "data": {
      "image/png": "[encoded data removed]",
      "text/plain": [
       "<Figure size 432x288 with 1 Axes>"
      ]
     },
     "metadata": {
      "needs_background": "light"
     },
     "output_type": "display_data"
    }
   ],
   "source": [
    "plt.plot(y_predicted, color = 'green', label = 'PREDICTED')\n",
    "plt.title('Value Prediction')\n",
    "plt.xlabel('Time')\n",
    "plt.ylabel('Value')\n",
    "plt.legend()\n",
    "plt.show()"
   ]
  },
  {
   "cell_type": "code",
   "execution_count": 65,
   "id": "b8079a6f-04d0-4610-8c51-66c9bdb32170",
   "metadata": {},
   "outputs": [
    {
     "name": "stdout",
     "output_type": "stream",
     "text": [
      "Epoch 1/2\n",
      "250/250 [==============================] - 94s 377ms/step - loss: 0.0206 - mean_squared_error: 0.0206\n",
      "Epoch 2/2\n",
      "250/250 [==============================] - 91s 363ms/step - loss: 0.0206 - mean_squared_error: 0.0206\n"
     ]
    },
    {
     "data": {
      "text/plain": [
       "<keras.callbacks.History at 0x290bb9853a0>"
      ]
     },
     "execution_count": 65,
     "metadata": {},
     "output_type": "execute_result"
    }
   ],
   "source": [
    "## Now let's test on our test data\n",
    "lstm_model.fit(X_test, y_test, epochs=2)"
   ]
  },
  {
   "cell_type": "code",
   "execution_count": 66,
   "id": "83deccec-267c-440e-8cb7-5c1237560942",
   "metadata": {},
   "outputs": [],
   "source": [
    "## Save Model\n",
    "# lstm_model.save('Models/dewp_model.h5')"
   ]
  },
  {
   "cell_type": "markdown",
   "id": "cfffc316-7e50-4a9f-b97f-6968b7566ba8",
   "metadata": {},
   "source": [
    "### Create NO2 Time Series Model"
   ]
  },
  {
   "cell_type": "code",
   "execution_count": 67,
   "id": "cb770b4a-5503-4850-8603-6ca963cf8485",
   "metadata": {},
   "outputs": [
    {
     "data": {
      "text/plain": [
       "(25068, 1)"
      ]
     },
     "execution_count": 67,
     "metadata": {},
     "output_type": "execute_result"
    }
   ],
   "source": [
    "temp_arr=grouped_df['NO2'].values.reshape(-1, 1)\n",
    "train_arr=temp_arr[0: math.ceil(.75*len(temp_arr))]\n",
    "test_arr = temp_arr[math.ceil(.75*len(temp_arr)):]\n",
    "train_arr.shape"
   ]
  },
  {
   "cell_type": "code",
   "execution_count": 68,
   "id": "170fbd4d-0e9b-49af-9332-9f98bf34986e",
   "metadata": {},
   "outputs": [
    {
     "data": {
      "text/plain": [
       "(8355, 1)"
      ]
     },
     "execution_count": 68,
     "metadata": {},
     "output_type": "execute_result"
    }
   ],
   "source": [
    "test_arr.shape"
   ]
  },
  {
   "cell_type": "code",
   "execution_count": 69,
   "id": "c5570391-161c-41c6-bfc4-34f08d455b89",
   "metadata": {},
   "outputs": [],
   "source": [
    "days_season=365\n",
    "X_train=[]\n",
    "y_train=[]\n",
    "X_test = []\n",
    "y_test = []\n",
    "for i in range(days_season, len(train_arr)): \n",
    "    X_train.append(train_arr[i-days_season: i, 0])\n",
    "    y_train.append(train_arr[i, 0])\n",
    "for i in range(days_season, len(test_arr)): \n",
    "    X_test.append(test_arr[i-days_season: i, 0])\n",
    "    y_test.append(test_arr[i, 0])"
   ]
  },
  {
   "cell_type": "code",
   "execution_count": 70,
   "id": "a01e3359-4934-42a0-9abd-4c23af78b4c6",
   "metadata": {},
   "outputs": [
    {
     "data": {
      "text/plain": [
       "(24703, 365, 1)"
      ]
     },
     "execution_count": 70,
     "metadata": {},
     "output_type": "execute_result"
    }
   ],
   "source": [
    "X_train=np.array(X_train)\n",
    "y_train=np.array(y_train)\n",
    "X_train=np.reshape(X_train, (X_train.shape[0], X_train.shape[1], 1))\n",
    "X_train.shape"
   ]
  },
  {
   "cell_type": "code",
   "execution_count": 71,
   "id": "84eef939-64af-4dd9-980d-603bb9982471",
   "metadata": {},
   "outputs": [
    {
     "data": {
      "text/plain": [
       "(7990, 365, 1)"
      ]
     },
     "execution_count": 71,
     "metadata": {},
     "output_type": "execute_result"
    }
   ],
   "source": [
    "X_test=np.array(X_test)\n",
    "y_test=np.array(y_test)\n",
    "X_test=np.reshape(X_test, (X_test.shape[0], X_test.shape[1], 1))\n",
    "X_test.shape"
   ]
  },
  {
   "cell_type": "code",
   "execution_count": 72,
   "id": "c7769122-bf9c-44e7-8ac3-b926ad60ecad",
   "metadata": {},
   "outputs": [
    {
     "name": "stdout",
     "output_type": "stream",
     "text": [
      "Model: \"sequential_4\"\n",
      "_________________________________________________________________\n",
      "Layer (type)                 Output Shape              Param #   \n",
      "=================================================================\n",
      "lstm_6 (LSTM)                (None, 365, 50)           10400     \n",
      "_________________________________________________________________\n",
      "lstm_7 (LSTM)                (None, 50)                20200     \n",
      "_________________________________________________________________\n",
      "dense_10 (Dense)             (None, 25)                1275      \n",
      "_________________________________________________________________\n",
      "dense_11 (Dense)             (None, 1)                 26        \n",
      "=================================================================\n",
      "Total params: 31,901\n",
      "Trainable params: 31,901\n",
      "Non-trainable params: 0\n",
      "_________________________________________________________________\n"
     ]
    }
   ],
   "source": [
    "lstm_model=tf.keras.models.Sequential()\n",
    "lstm_layer_1=tf.keras.layers.LSTM(50, return_sequences=True, input_shape=(365, 1))\n",
    "lstm_model.add(lstm_layer_1)\n",
    "lstm_layer_2=tf.keras.layers.LSTM(50, return_sequences=False)\n",
    "lstm_model.add(lstm_layer_2)\n",
    "lstm_layer_3=tf.keras.layers.Dense(25)\n",
    "lstm_model.add(lstm_layer_3)\n",
    "lstm_output_layer=tf.keras.layers.Dense(1)\n",
    "lstm_model.add(lstm_output_layer)\n",
    "lstm_model.summary()"
   ]
  },
  {
   "cell_type": "code",
   "execution_count": 73,
   "id": "8aeec1fc-9aa0-47c7-8b42-a736b4262519",
   "metadata": {},
   "outputs": [
    {
     "name": "stdout",
     "output_type": "stream",
     "text": [
      "Epoch 1/5\n",
      "772/772 [==============================] - 292s 371ms/step - loss: 0.0945 - mean_squared_error: 0.0945\n",
      "Epoch 2/5\n",
      "772/772 [==============================] - 241s 312ms/step - loss: 0.0567 - mean_squared_error: 0.0567\n",
      "Epoch 3/5\n",
      "772/772 [==============================] - 181s 234ms/step - loss: 0.0555 - mean_squared_error: 0.0555\n",
      "Epoch 4/5\n",
      "772/772 [==============================] - 172s 222ms/step - loss: 0.0543 - mean_squared_error: 0.0543\n",
      "Epoch 5/5\n",
      "772/772 [==============================] - 173s 224ms/step - loss: 0.0533 - mean_squared_error: 0.0533\n"
     ]
    },
    {
     "data": {
      "text/plain": [
       "<keras.callbacks.History at 0x2909d4f7850>"
      ]
     },
     "execution_count": 73,
     "metadata": {},
     "output_type": "execute_result"
    }
   ],
   "source": [
    "lstm_model.compile(optimizer='adam', metrics=['mean_squared_error'], loss='mean_squared_error')\n",
    "lstm_model.fit(X_train, y_train, epochs=5)"
   ]
  },
  {
   "cell_type": "code",
   "execution_count": 74,
   "id": "bf6800e6-50c0-402a-860e-826148126e34",
   "metadata": {},
   "outputs": [],
   "source": [
    "## Now predict on test data \n",
    "y_predicted = lstm_model.predict(X_test)\n",
    "y_real = y_test"
   ]
  },
  {
   "cell_type": "code",
   "execution_count": 75,
   "id": "37ab5437-7ffb-4461-91b7-c99b715879c9",
   "metadata": {},
   "outputs": [
    {
     "data": {
      "image/png": "[encoded data removed]",
      "text/plain": [
       "<Figure size 432x288 with 1 Axes>"
      ]
     },
     "metadata": {
      "needs_background": "light"
     },
     "output_type": "display_data"
    }
   ],
   "source": [
    "plt.plot(y_real, color = 'black', label = 'REAL')\n",
    "plt.title('Value Prediction')\n",
    "plt.xlabel('Time')\n",
    "plt.ylabel('Value')\n",
    "plt.legend()\n",
    "plt.show()"
   ]
  },
  {
   "cell_type": "code",
   "execution_count": 76,
   "id": "d7490c6f-a881-4ee9-9255-240527fa10e8",
   "metadata": {},
   "outputs": [
    {
     "data": {
      "image/png": "[encoded data removed]",
      "text/plain": [
       "<Figure size 432x288 with 1 Axes>"
      ]
     },
     "metadata": {
      "needs_background": "light"
     },
     "output_type": "display_data"
    }
   ],
   "source": [
    "plt.plot(y_predicted, color = 'green', label = 'PREDICTED')\n",
    "plt.title('Value Prediction')\n",
    "plt.xlabel('Time')\n",
    "plt.ylabel('Value')\n",
    "plt.legend()\n",
    "plt.show()"
   ]
  },
  {
   "cell_type": "code",
   "execution_count": 77,
   "id": "e7f6e41a-930c-480c-b696-0fd0a48b165d",
   "metadata": {},
   "outputs": [
    {
     "name": "stdout",
     "output_type": "stream",
     "text": [
      "Epoch 1/2\n",
      "250/250 [==============================] - 57s 230ms/step - loss: 0.0451 - mean_squared_error: 0.0451\n",
      "Epoch 2/2\n",
      "250/250 [==============================] - 58s 232ms/step - loss: 0.0450 - mean_squared_error: 0.0450\n"
     ]
    },
    {
     "data": {
      "text/plain": [
       "<keras.callbacks.History at 0x290bbd33f10>"
      ]
     },
     "execution_count": 77,
     "metadata": {},
     "output_type": "execute_result"
    }
   ],
   "source": [
    "## Now let's test on our test data\n",
    "lstm_model.fit(X_test, y_test, epochs=2)"
   ]
  },
  {
   "cell_type": "code",
   "execution_count": 78,
   "id": "9dc6dc2d-8d0c-4cb7-9818-58ddc4951b80",
   "metadata": {},
   "outputs": [],
   "source": [
    "## Save Model\n",
    "# lstm_model.save('Models/no2_model.h5')"
   ]
  },
  {
   "cell_type": "markdown",
   "id": "a05b694a-10a3-4ad8-9ff1-0fbc05466a26",
   "metadata": {},
   "source": [
    "### Create O3 time series model"
   ]
  },
  {
   "cell_type": "code",
   "execution_count": 79,
   "id": "70294073-1e27-4963-90a4-84040c9d4eac",
   "metadata": {},
   "outputs": [
    {
     "data": {
      "text/plain": [
       "(25068, 1)"
      ]
     },
     "execution_count": 79,
     "metadata": {},
     "output_type": "execute_result"
    }
   ],
   "source": [
    "temp_arr=grouped_df['O3'].values.reshape(-1, 1)\n",
    "train_arr=temp_arr[0: math.ceil(.75*len(temp_arr))]\n",
    "test_arr = temp_arr[math.ceil(.75*len(temp_arr)):]\n",
    "train_arr.shape"
   ]
  },
  {
   "cell_type": "code",
   "execution_count": 80,
   "id": "2932000c-94ff-41ad-be92-7d58d3ac5133",
   "metadata": {},
   "outputs": [
    {
     "data": {
      "text/plain": [
       "(8355, 1)"
      ]
     },
     "execution_count": 80,
     "metadata": {},
     "output_type": "execute_result"
    }
   ],
   "source": [
    "test_arr.shape"
   ]
  },
  {
   "cell_type": "code",
   "execution_count": 81,
   "id": "f539646c-6682-4477-9492-ff9eed8b4571",
   "metadata": {},
   "outputs": [],
   "source": [
    "days_season=365\n",
    "X_train=[]\n",
    "y_train=[]\n",
    "X_test = []\n",
    "y_test = []\n",
    "for i in range(days_season, len(train_arr)): \n",
    "    X_train.append(train_arr[i-days_season: i, 0])\n",
    "    y_train.append(train_arr[i, 0])\n",
    "for i in range(days_season, len(test_arr)): \n",
    "    X_test.append(test_arr[i-days_season: i, 0])\n",
    "    y_test.append(test_arr[i, 0])"
   ]
  },
  {
   "cell_type": "code",
   "execution_count": 82,
   "id": "b17855cd-ee6e-4d9d-a75c-df0d37c821e0",
   "metadata": {},
   "outputs": [
    {
     "data": {
      "text/plain": [
       "(24703, 365, 1)"
      ]
     },
     "execution_count": 82,
     "metadata": {},
     "output_type": "execute_result"
    }
   ],
   "source": [
    "X_train=np.array(X_train)\n",
    "y_train=np.array(y_train)\n",
    "X_train=np.reshape(X_train, (X_train.shape[0], X_train.shape[1], 1))\n",
    "X_train.shape"
   ]
  },
  {
   "cell_type": "code",
   "execution_count": 83,
   "id": "084b864e-48ef-44d8-95bd-c3d2a1f2a17e",
   "metadata": {},
   "outputs": [
    {
     "data": {
      "text/plain": [
       "(7990, 365, 1)"
      ]
     },
     "execution_count": 83,
     "metadata": {},
     "output_type": "execute_result"
    }
   ],
   "source": [
    "X_test=np.array(X_test)\n",
    "y_test=np.array(y_test)\n",
    "X_test=np.reshape(X_test, (X_test.shape[0], X_test.shape[1], 1))\n",
    "X_test.shape"
   ]
  },
  {
   "cell_type": "code",
   "execution_count": 84,
   "id": "f3cd9da4-12ae-48a6-8ca7-36fc5950b959",
   "metadata": {},
   "outputs": [
    {
     "name": "stdout",
     "output_type": "stream",
     "text": [
      "Model: \"sequential_5\"\n",
      "_________________________________________________________________\n",
      "Layer (type)                 Output Shape              Param #   \n",
      "=================================================================\n",
      "lstm_8 (LSTM)                (None, 365, 50)           10400     \n",
      "_________________________________________________________________\n",
      "lstm_9 (LSTM)                (None, 50)                20200     \n",
      "_________________________________________________________________\n",
      "dense_12 (Dense)             (None, 25)                1275      \n",
      "_________________________________________________________________\n",
      "dense_13 (Dense)             (None, 1)                 26        \n",
      "=================================================================\n",
      "Total params: 31,901\n",
      "Trainable params: 31,901\n",
      "Non-trainable params: 0\n",
      "_________________________________________________________________\n"
     ]
    }
   ],
   "source": [
    "lstm_model=tf.keras.models.Sequential()\n",
    "lstm_layer_1=tf.keras.layers.LSTM(50, return_sequences=True, input_shape=(365, 1))\n",
    "lstm_model.add(lstm_layer_1)\n",
    "lstm_layer_2=tf.keras.layers.LSTM(50, return_sequences=False)\n",
    "lstm_model.add(lstm_layer_2)\n",
    "lstm_layer_3=tf.keras.layers.Dense(25)\n",
    "lstm_model.add(lstm_layer_3)\n",
    "lstm_output_layer=tf.keras.layers.Dense(1)\n",
    "lstm_model.add(lstm_output_layer)\n",
    "lstm_model.summary()"
   ]
  },
  {
   "cell_type": "code",
   "execution_count": 85,
   "id": "e07a44f0-2239-412a-af06-73aa6a08c5ea",
   "metadata": {},
   "outputs": [
    {
     "name": "stdout",
     "output_type": "stream",
     "text": [
      "Epoch 1/5\n",
      "772/772 [==============================] - 224s 287ms/step - loss: 0.0684 - mean_squared_error: 0.0684\n",
      "Epoch 2/5\n",
      "772/772 [==============================] - 226s 293ms/step - loss: 0.0330 - mean_squared_error: 0.0330\n",
      "Epoch 3/5\n",
      "772/772 [==============================] - 214s 277ms/step - loss: 0.0309 - mean_squared_error: 0.0309\n",
      "Epoch 4/5\n",
      "772/772 [==============================] - 219s 284ms/step - loss: 0.0305 - mean_squared_error: 0.0305\n",
      "Epoch 5/5\n",
      "772/772 [==============================] - 200s 259ms/step - loss: 0.0302 - mean_squared_error: 0.0302\n"
     ]
    },
    {
     "data": {
      "text/plain": [
       "<keras.callbacks.History at 0x2909d83a7c0>"
      ]
     },
     "execution_count": 85,
     "metadata": {},
     "output_type": "execute_result"
    }
   ],
   "source": [
    "lstm_model.compile(optimizer='adam', metrics=['mean_squared_error'], loss='mean_squared_error')\n",
    "lstm_model.fit(X_train, y_train, epochs=5)"
   ]
  },
  {
   "cell_type": "code",
   "execution_count": 86,
   "id": "b03f6897-c118-4c82-aac3-69e08660f229",
   "metadata": {},
   "outputs": [],
   "source": [
    "## Now predict on test data \n",
    "y_predicted = lstm_model.predict(X_test)\n",
    "y_real = y_test"
   ]
  },
  {
   "cell_type": "code",
   "execution_count": 87,
   "id": "b14df93b-34fd-40b0-8714-d9bebde83865",
   "metadata": {},
   "outputs": [
    {
     "data": {
      "image/png": "[encoded data removed]",
      "text/plain": [
       "<Figure size 432x288 with 1 Axes>"
      ]
     },
     "metadata": {
      "needs_background": "light"
     },
     "output_type": "display_data"
    }
   ],
   "source": [
    "plt.plot(y_real, color = 'black', label = 'REAL')\n",
    "plt.title('Value Prediction')\n",
    "plt.xlabel('Time')\n",
    "plt.ylabel('Value')\n",
    "plt.legend()\n",
    "plt.show()"
   ]
  },
  {
   "cell_type": "code",
   "execution_count": 88,
   "id": "ff3fd110-62ff-4044-9907-9a86fc2ce65c",
   "metadata": {},
   "outputs": [
    {
     "data": {
      "image/png": "[encoded data removed]",
      "text/plain": [
       "<Figure size 432x288 with 1 Axes>"
      ]
     },
     "metadata": {
      "needs_background": "light"
     },
     "output_type": "display_data"
    }
   ],
   "source": [
    "plt.plot(y_predicted, color = 'green', label = 'PREDICTED')\n",
    "plt.title('Value Prediction')\n",
    "plt.xlabel('Time')\n",
    "plt.ylabel('Value')\n",
    "plt.legend()\n",
    "plt.show()"
   ]
  },
  {
   "cell_type": "code",
   "execution_count": 89,
   "id": "a12d522f-e83a-43b9-86ed-61fddc6c01f6",
   "metadata": {},
   "outputs": [
    {
     "name": "stdout",
     "output_type": "stream",
     "text": [
      "Epoch 1/2\n",
      "250/250 [==============================] - 71s 284ms/step - loss: 0.0243 - mean_squared_error: 0.0243\n",
      "Epoch 2/2\n",
      "250/250 [==============================] - 61s 245ms/step - loss: 0.0243 - mean_squared_error: 0.0243\n"
     ]
    },
    {
     "data": {
      "text/plain": [
       "<keras.callbacks.History at 0x290a1988700>"
      ]
     },
     "execution_count": 89,
     "metadata": {},
     "output_type": "execute_result"
    }
   ],
   "source": [
    "## Now let's test on our test data\n",
    "lstm_model.fit(X_test, y_test, epochs=2)"
   ]
  },
  {
   "cell_type": "code",
   "execution_count": 90,
   "id": "cf4a449f-a728-4bda-bdf3-3e0d88734207",
   "metadata": {},
   "outputs": [],
   "source": [
    "## Save Model\n",
    "# lstm_model.save('Models/o3_model.h5')"
   ]
  },
  {
   "cell_type": "markdown",
   "id": "bcb9ac28-d7d7-4bc7-841c-42dc5ce0988d",
   "metadata": {},
   "source": [
    "### Create pm10 time series model"
   ]
  },
  {
   "cell_type": "code",
   "execution_count": 91,
   "id": "9fe38f28-4de5-4ae7-babb-1c0a92832a6a",
   "metadata": {},
   "outputs": [
    {
     "data": {
      "text/plain": [
       "(25068, 1)"
      ]
     },
     "execution_count": 91,
     "metadata": {},
     "output_type": "execute_result"
    }
   ],
   "source": [
    "temp_arr=grouped_df['PM10'].values.reshape(-1, 1)\n",
    "train_arr=temp_arr[0: math.ceil(.75*len(temp_arr))]\n",
    "test_arr = temp_arr[math.ceil(.75*len(temp_arr)):]\n",
    "train_arr.shape"
   ]
  },
  {
   "cell_type": "code",
   "execution_count": 92,
   "id": "10f1f1f8-8362-434a-a68c-7eec5912fe69",
   "metadata": {},
   "outputs": [
    {
     "data": {
      "text/plain": [
       "(8355, 1)"
      ]
     },
     "execution_count": 92,
     "metadata": {},
     "output_type": "execute_result"
    }
   ],
   "source": [
    "test_arr.shape"
   ]
  },
  {
   "cell_type": "code",
   "execution_count": 93,
   "id": "fdae7c1b-6ce1-4443-887c-9ce5e25e5e97",
   "metadata": {},
   "outputs": [],
   "source": [
    "days_season=365\n",
    "X_train=[]\n",
    "y_train=[]\n",
    "X_test = []\n",
    "y_test = []\n",
    "for i in range(days_season, len(train_arr)): \n",
    "    X_train.append(train_arr[i-days_season: i, 0])\n",
    "    y_train.append(train_arr[i, 0])\n",
    "for i in range(days_season, len(test_arr)): \n",
    "    X_test.append(test_arr[i-days_season: i, 0])\n",
    "    y_test.append(test_arr[i, 0])"
   ]
  },
  {
   "cell_type": "code",
   "execution_count": 94,
   "id": "ca3cbad2-7a6a-45cc-a61e-c47d1df16e2e",
   "metadata": {},
   "outputs": [
    {
     "data": {
      "text/plain": [
       "(24703, 365, 1)"
      ]
     },
     "execution_count": 94,
     "metadata": {},
     "output_type": "execute_result"
    }
   ],
   "source": [
    "X_train=np.array(X_train)\n",
    "y_train=np.array(y_train)\n",
    "X_train=np.reshape(X_train, (X_train.shape[0], X_train.shape[1], 1))\n",
    "X_train.shape"
   ]
  },
  {
   "cell_type": "code",
   "execution_count": 95,
   "id": "19f6b2b9-0d66-4717-9bce-5138d402d482",
   "metadata": {},
   "outputs": [
    {
     "data": {
      "text/plain": [
       "(7990, 365, 1)"
      ]
     },
     "execution_count": 95,
     "metadata": {},
     "output_type": "execute_result"
    }
   ],
   "source": [
    "X_test=np.array(X_test)\n",
    "y_test=np.array(y_test)\n",
    "X_test=np.reshape(X_test, (X_test.shape[0], X_test.shape[1], 1))\n",
    "X_test.shape"
   ]
  },
  {
   "cell_type": "code",
   "execution_count": 96,
   "id": "ccf0fe24-cd1c-4cf6-8a37-33e47ba9cac8",
   "metadata": {},
   "outputs": [
    {
     "name": "stdout",
     "output_type": "stream",
     "text": [
      "Model: \"sequential_6\"\n",
      "_________________________________________________________________\n",
      "Layer (type)                 Output Shape              Param #   \n",
      "=================================================================\n",
      "lstm_10 (LSTM)               (None, 365, 50)           10400     \n",
      "_________________________________________________________________\n",
      "lstm_11 (LSTM)               (None, 50)                20200     \n",
      "_________________________________________________________________\n",
      "dense_14 (Dense)             (None, 25)                1275      \n",
      "_________________________________________________________________\n",
      "dense_15 (Dense)             (None, 1)                 26        \n",
      "=================================================================\n",
      "Total params: 31,901\n",
      "Trainable params: 31,901\n",
      "Non-trainable params: 0\n",
      "_________________________________________________________________\n"
     ]
    }
   ],
   "source": [
    "lstm_model=tf.keras.models.Sequential()\n",
    "lstm_layer_1=tf.keras.layers.LSTM(50, return_sequences=True, input_shape=(365, 1))\n",
    "lstm_model.add(lstm_layer_1)\n",
    "lstm_layer_2=tf.keras.layers.LSTM(50, return_sequences=False)\n",
    "lstm_model.add(lstm_layer_2)\n",
    "lstm_layer_3=tf.keras.layers.Dense(25)\n",
    "lstm_model.add(lstm_layer_3)\n",
    "lstm_output_layer=tf.keras.layers.Dense(1)\n",
    "lstm_model.add(lstm_output_layer)\n",
    "lstm_model.summary()"
   ]
  },
  {
   "cell_type": "code",
   "execution_count": 97,
   "id": "a7fb512e-c1ea-4859-bb5b-295882805a4a",
   "metadata": {},
   "outputs": [
    {
     "name": "stdout",
     "output_type": "stream",
     "text": [
      "Epoch 1/5\n",
      "772/772 [==============================] - 199s 255ms/step - loss: 0.1178 - mean_squared_error: 0.1178\n",
      "Epoch 2/5\n",
      "772/772 [==============================] - 196s 253ms/step - loss: 0.0726 - mean_squared_error: 0.0726\n",
      "Epoch 3/5\n",
      "772/772 [==============================] - 201s 260ms/step - loss: 0.0728 - mean_squared_error: 0.0728\n",
      "Epoch 4/5\n",
      "772/772 [==============================] - 207s 269ms/step - loss: 0.0723 - mean_squared_error: 0.0723\n",
      "Epoch 5/5\n",
      "772/772 [==============================] - 195s 252ms/step - loss: 0.0718 - mean_squared_error: 0.0718\n"
     ]
    },
    {
     "data": {
      "text/plain": [
       "<keras.callbacks.History at 0x2909db699d0>"
      ]
     },
     "execution_count": 97,
     "metadata": {},
     "output_type": "execute_result"
    }
   ],
   "source": [
    "lstm_model.compile(optimizer='adam', metrics=['mean_squared_error'], loss='mean_squared_error')\n",
    "lstm_model.fit(X_train, y_train, epochs=5)"
   ]
  },
  {
   "cell_type": "code",
   "execution_count": 98,
   "id": "bcf06691-e720-42ae-9855-bf0149adaef5",
   "metadata": {},
   "outputs": [],
   "source": [
    "## Now predict on test data \n",
    "y_predicted = lstm_model.predict(X_test)\n",
    "y_real = y_test"
   ]
  },
  {
   "cell_type": "code",
   "execution_count": 99,
   "id": "9607b1b6-d701-4052-9377-70d4b1578ab0",
   "metadata": {},
   "outputs": [
    {
     "data": {
      "image/png": "[encoded data removed]",
      "text/plain": [
       "<Figure size 432x288 with 1 Axes>"
      ]
     },
     "metadata": {
      "needs_background": "light"
     },
     "output_type": "display_data"
    }
   ],
   "source": [
    "plt.plot(y_real, color = 'black', label = 'REAL')\n",
    "plt.title('Value Prediction')\n",
    "plt.xlabel('Time')\n",
    "plt.ylabel('Value')\n",
    "plt.legend()\n",
    "plt.show()"
   ]
  },
  {
   "cell_type": "code",
   "execution_count": 100,
   "id": "57690770-24df-4201-9a07-cbae725d0968",
   "metadata": {},
   "outputs": [
    {
     "data": {
      "image/png": "[encoded data removed]",
      "text/plain": [
       "<Figure size 432x288 with 1 Axes>"
      ]
     },
     "metadata": {
      "needs_background": "light"
     },
     "output_type": "display_data"
    }
   ],
   "source": [
    "plt.plot(y_predicted, color = 'green', label = 'PREDICTED')\n",
    "plt.title('Value Prediction')\n",
    "plt.xlabel('Time')\n",
    "plt.ylabel('Value')\n",
    "plt.legend()\n",
    "plt.show()"
   ]
  },
  {
   "cell_type": "code",
   "execution_count": 101,
   "id": "01341f6e-dafd-41bf-ada5-910939a6e9c6",
   "metadata": {},
   "outputs": [
    {
     "name": "stdout",
     "output_type": "stream",
     "text": [
      "Epoch 1/2\n",
      "250/250 [==============================] - 59s 234ms/step - loss: 0.0719 - mean_squared_error: 0.0719\n",
      "Epoch 2/2\n",
      "250/250 [==============================] - 56s 223ms/step - loss: 0.0732 - mean_squared_error: 0.0732\n"
     ]
    },
    {
     "data": {
      "text/plain": [
       "<keras.callbacks.History at 0x290bd010610>"
      ]
     },
     "execution_count": 101,
     "metadata": {},
     "output_type": "execute_result"
    }
   ],
   "source": [
    "## Now let's test on our test data\n",
    "lstm_model.fit(X_test, y_test, epochs=2)"
   ]
  },
  {
   "cell_type": "code",
   "execution_count": 102,
   "id": "4626d5bb-effc-4543-8379-6712e0ddce46",
   "metadata": {},
   "outputs": [],
   "source": [
    "## Save Model\n",
    "# lstm_model.save('Models/pm10_model.h5')"
   ]
  },
  {
   "cell_type": "markdown",
   "id": "28dfa6aa-633a-4bd9-9105-e8b165eba3c5",
   "metadata": {},
   "source": [
    "### Create PRES time series model"
   ]
  },
  {
   "cell_type": "code",
   "execution_count": 103,
   "id": "532015e2-08b2-47fa-9fb9-5b07238de16f",
   "metadata": {},
   "outputs": [
    {
     "data": {
      "text/plain": [
       "(25068, 1)"
      ]
     },
     "execution_count": 103,
     "metadata": {},
     "output_type": "execute_result"
    }
   ],
   "source": [
    "temp_arr=grouped_df['PRES'].values.reshape(-1, 1)\n",
    "train_arr=temp_arr[0: math.ceil(.75*len(temp_arr))]\n",
    "test_arr = temp_arr[math.ceil(.75*len(temp_arr)):]\n",
    "train_arr.shape"
   ]
  },
  {
   "cell_type": "code",
   "execution_count": 104,
   "id": "d93811b1-a5ae-4fc2-acfd-63efeb124155",
   "metadata": {},
   "outputs": [
    {
     "data": {
      "text/plain": [
       "(8355, 1)"
      ]
     },
     "execution_count": 104,
     "metadata": {},
     "output_type": "execute_result"
    }
   ],
   "source": [
    "test_arr.shape"
   ]
  },
  {
   "cell_type": "code",
   "execution_count": 105,
   "id": "06807e57-d50b-4c51-ab21-a5346df1ae4a",
   "metadata": {},
   "outputs": [],
   "source": [
    "days_season=365\n",
    "X_train=[]\n",
    "y_train=[]\n",
    "X_test = []\n",
    "y_test = []\n",
    "for i in range(days_season, len(train_arr)): \n",
    "    X_train.append(train_arr[i-days_season: i, 0])\n",
    "    y_train.append(train_arr[i, 0])\n",
    "for i in range(days_season, len(test_arr)): \n",
    "    X_test.append(test_arr[i-days_season: i, 0])\n",
    "    y_test.append(test_arr[i, 0])"
   ]
  },
  {
   "cell_type": "code",
   "execution_count": 106,
   "id": "6b1faf5e-8a03-4d5b-b649-a3a88589f6cf",
   "metadata": {},
   "outputs": [
    {
     "data": {
      "text/plain": [
       "(24703, 365, 1)"
      ]
     },
     "execution_count": 106,
     "metadata": {},
     "output_type": "execute_result"
    }
   ],
   "source": [
    "X_train=np.array(X_train)\n",
    "y_train=np.array(y_train)\n",
    "X_train=np.reshape(X_train, (X_train.shape[0], X_train.shape[1], 1))\n",
    "X_train.shape"
   ]
  },
  {
   "cell_type": "code",
   "execution_count": 107,
   "id": "73375365-3ebc-46f7-b841-93e76df1bf2d",
   "metadata": {},
   "outputs": [
    {
     "data": {
      "text/plain": [
       "(7990, 365, 1)"
      ]
     },
     "execution_count": 107,
     "metadata": {},
     "output_type": "execute_result"
    }
   ],
   "source": [
    "X_test=np.array(X_test)\n",
    "y_test=np.array(y_test)\n",
    "X_test=np.reshape(X_test, (X_test.shape[0], X_test.shape[1], 1))\n",
    "X_test.shape"
   ]
  },
  {
   "cell_type": "code",
   "execution_count": 108,
   "id": "07ce215e-9566-4cb3-8905-5dce35ec4183",
   "metadata": {},
   "outputs": [
    {
     "name": "stdout",
     "output_type": "stream",
     "text": [
      "Model: \"sequential_7\"\n",
      "_________________________________________________________________\n",
      "Layer (type)                 Output Shape              Param #   \n",
      "=================================================================\n",
      "lstm_12 (LSTM)               (None, 365, 50)           10400     \n",
      "_________________________________________________________________\n",
      "lstm_13 (LSTM)               (None, 50)                20200     \n",
      "_________________________________________________________________\n",
      "dense_16 (Dense)             (None, 25)                1275      \n",
      "_________________________________________________________________\n",
      "dense_17 (Dense)             (None, 1)                 26        \n",
      "=================================================================\n",
      "Total params: 31,901\n",
      "Trainable params: 31,901\n",
      "Non-trainable params: 0\n",
      "_________________________________________________________________\n"
     ]
    }
   ],
   "source": [
    "lstm_model=tf.keras.models.Sequential()\n",
    "lstm_layer_1=tf.keras.layers.LSTM(50, return_sequences=True, input_shape=(365, 1))\n",
    "lstm_model.add(lstm_layer_1)\n",
    "lstm_layer_2=tf.keras.layers.LSTM(50, return_sequences=False)\n",
    "lstm_model.add(lstm_layer_2)\n",
    "lstm_layer_3=tf.keras.layers.Dense(25)\n",
    "lstm_model.add(lstm_layer_3)\n",
    "lstm_output_layer=tf.keras.layers.Dense(1)\n",
    "lstm_model.add(lstm_output_layer)\n",
    "lstm_model.summary()"
   ]
  },
  {
   "cell_type": "code",
   "execution_count": null,
   "id": "32e25cde-28b2-4bc0-8f5c-4da31ecc441b",
   "metadata": {},
   "outputs": [
    {
     "name": "stdout",
     "output_type": "stream",
     "text": [
      "Epoch 1/5\n",
      "624/772 [=======================>......] - ETA: 38s - loss: 0.0473 - mean_squared_error: 0.0473"
     ]
    }
   ],
   "source": [
    "lstm_model.compile(optimizer='adam', metrics=['mean_squared_error'], loss='mean_squared_error')\n",
    "lstm_model.fit(X_train, y_train, epochs=5)"
   ]
  },
  {
   "cell_type": "code",
   "execution_count": null,
   "id": "080fe899-4db6-4e71-acb3-768f9b55b0f5",
   "metadata": {},
   "outputs": [],
   "source": [
    "## Now predict on test data \n",
    "y_predicted = lstm_model.predict(X_test)\n",
    "y_real = y_test"
   ]
  },
  {
   "cell_type": "code",
   "execution_count": null,
   "id": "637711eb-6d77-4771-826b-1e1a0b3b9a18",
   "metadata": {},
   "outputs": [],
   "source": [
    "plt.plot(y_real, color = 'black', label = 'REAL')\n",
    "plt.title('Value Prediction')\n",
    "plt.xlabel('Time')\n",
    "plt.ylabel('Value')\n",
    "plt.legend()\n",
    "plt.show()"
   ]
  },
  {
   "cell_type": "code",
   "execution_count": null,
   "id": "eeed8cbd-b003-4b37-917f-b37336191f01",
   "metadata": {},
   "outputs": [],
   "source": [
    "plt.plot(y_predicted, color = 'green', label = 'PREDICTED')\n",
    "plt.title('Value Prediction')\n",
    "plt.xlabel('Time')\n",
    "plt.ylabel('Value')\n",
    "plt.legend()\n",
    "plt.show()"
   ]
  },
  {
   "cell_type": "code",
   "execution_count": null,
   "id": "4b2e21c3-51ee-4f0f-abbf-90f6fe11a829",
   "metadata": {},
   "outputs": [],
   "source": [
    "## Now let's test on our test data\n",
    "lstm_model.fit(X_test, y_test, epochs=2)"
   ]
  },
  {
   "cell_type": "code",
   "execution_count": null,
   "id": "c9d778da-28ae-4e64-875d-1a1d2203fcf7",
   "metadata": {},
   "outputs": [],
   "source": [
    "## Save Model\n",
    "# lstm_model.save('Models/pres_model.h5')"
   ]
  },
  {
   "cell_type": "markdown",
   "id": "c9776c54-6031-4bb9-8021-1f6798f3f38c",
   "metadata": {},
   "source": [
    "### Create TEMP time series model"
   ]
  },
  {
   "cell_type": "code",
   "execution_count": null,
   "id": "c415d6f6-c9b7-4ad5-8b3f-bc00aeadad92",
   "metadata": {},
   "outputs": [],
   "source": [
    "temp_arr=grouped_df['TEMP'].values.reshape(-1, 1)\n",
    "train_arr=temp_arr[0: math.ceil(.75*len(temp_arr))]\n",
    "test_arr = temp_arr[math.ceil(.75*len(temp_arr)):]\n",
    "train_arr.shape"
   ]
  },
  {
   "cell_type": "code",
   "execution_count": null,
   "id": "78e3cbb2-56cd-43a5-914a-107a9561198b",
   "metadata": {},
   "outputs": [],
   "source": [
    "test_arr.shape"
   ]
  },
  {
   "cell_type": "code",
   "execution_count": null,
   "id": "3edbdf58-6d96-4b95-8761-373cd3a8d48e",
   "metadata": {},
   "outputs": [],
   "source": [
    "days_season=365\n",
    "X_train=[]\n",
    "y_train=[]\n",
    "X_test = []\n",
    "y_test = []\n",
    "for i in range(days_season, len(train_arr)): \n",
    "    X_train.append(train_arr[i-days_season: i, 0])\n",
    "    y_train.append(train_arr[i, 0])\n",
    "for i in range(days_season, len(test_arr)): \n",
    "    X_test.append(test_arr[i-days_season: i, 0])\n",
    "    y_test.append(test_arr[i, 0])"
   ]
  },
  {
   "cell_type": "code",
   "execution_count": null,
   "id": "f6b9601d-50b9-4904-a4a4-6976b2a9a173",
   "metadata": {},
   "outputs": [],
   "source": [
    "X_train=np.array(X_train)\n",
    "y_train=np.array(y_train)\n",
    "X_train=np.reshape(X_train, (X_train.shape[0], X_train.shape[1], 1))\n",
    "X_train.shape"
   ]
  },
  {
   "cell_type": "code",
   "execution_count": null,
   "id": "27928ca1-3a89-41f8-bfc8-2c8f62aee6f7",
   "metadata": {},
   "outputs": [],
   "source": [
    "X_test=np.array(X_test)\n",
    "y_test=np.array(y_test)\n",
    "X_test=np.reshape(X_test, (X_test.shape[0], X_test.shape[1], 1))\n",
    "X_test.shape"
   ]
  },
  {
   "cell_type": "code",
   "execution_count": null,
   "id": "dbdc3fc0-6418-4699-ba66-eb25ad956ab3",
   "metadata": {},
   "outputs": [],
   "source": [
    "lstm_model=tf.keras.models.Sequential()\n",
    "lstm_layer_1=tf.keras.layers.LSTM(50, return_sequences=True, input_shape=(365, 1))\n",
    "lstm_model.add(lstm_layer_1)\n",
    "lstm_layer_2=tf.keras.layers.LSTM(50, return_sequences=False)\n",
    "lstm_model.add(lstm_layer_2)\n",
    "lstm_layer_3=tf.keras.layers.Dense(25)\n",
    "lstm_model.add(lstm_layer_3)\n",
    "lstm_output_layer=tf.keras.layers.Dense(1)\n",
    "lstm_model.add(lstm_output_layer)\n",
    "lstm_model.summary()"
   ]
  },
  {
   "cell_type": "code",
   "execution_count": null,
   "id": "cc49e09e-41b9-44ea-a7d2-b3a2a61695e4",
   "metadata": {},
   "outputs": [],
   "source": [
    "lstm_model.compile(optimizer='adam', metrics=['mean_squared_error'], loss='mean_squared_error')\n",
    "lstm_model.fit(X_train, y_train, epochs=5)"
   ]
  },
  {
   "cell_type": "code",
   "execution_count": null,
   "id": "9e1e92fa-c61e-4f59-bb31-26be71c6eaca",
   "metadata": {},
   "outputs": [],
   "source": [
    "## Now predict on test data \n",
    "y_predicted = lstm_model.predict(X_test)\n",
    "y_real = y_test"
   ]
  },
  {
   "cell_type": "code",
   "execution_count": null,
   "id": "1a14bb8e-4949-4ab8-bd05-39ff1cc4d0e9",
   "metadata": {},
   "outputs": [],
   "source": [
    "plt.plot(y_real, color = 'black', label = 'REAL')\n",
    "plt.title('Value Prediction')\n",
    "plt.xlabel('Time')\n",
    "plt.ylabel('Value')\n",
    "plt.legend()\n",
    "plt.show()"
   ]
  },
  {
   "cell_type": "code",
   "execution_count": null,
   "id": "2582bc60-c613-4d21-ae19-4dd23e2c0582",
   "metadata": {},
   "outputs": [],
   "source": [
    "plt.plot(y_predicted, color = 'green', label = 'PREDICTED')\n",
    "plt.title('Value Prediction')\n",
    "plt.xlabel('Time')\n",
    "plt.ylabel('Value')\n",
    "plt.legend()\n",
    "plt.show()"
   ]
  },
  {
   "cell_type": "code",
   "execution_count": null,
   "id": "8a95c5f4-8b93-4c62-95bc-6a5c51e2a4be",
   "metadata": {},
   "outputs": [],
   "source": [
    "## Now let's test on our test data\n",
    "lstm_model.fit(X_test, y_test, epochs=2)"
   ]
  },
  {
   "cell_type": "code",
   "execution_count": null,
   "id": "4d6f0274-b303-4565-8482-3e2e08680fdd",
   "metadata": {},
   "outputs": [],
   "source": [
    "## Save Model\n",
    "# lstm_model.save('Models/temp_model.h5')"
   ]
  },
  {
   "cell_type": "markdown",
   "id": "f62be66c-7c1c-4d7a-9834-2817f506986d",
   "metadata": {},
   "source": [
    "### Create RAIN time series model"
   ]
  },
  {
   "cell_type": "code",
   "execution_count": null,
   "id": "2238bbdf-47db-4de7-b152-0325a07d0e0f",
   "metadata": {},
   "outputs": [],
   "source": [
    "temp_arr=grouped_df['RAIN'].values.reshape(-1, 1)\n",
    "train_arr=temp_arr[0: math.ceil(.75*len(temp_arr))]\n",
    "test_arr = temp_arr[math.ceil(.75*len(temp_arr)):]\n",
    "train_arr.shape"
   ]
  },
  {
   "cell_type": "code",
   "execution_count": null,
   "id": "e3e5e38a-b85e-44de-9fde-12a4da1a0b2b",
   "metadata": {},
   "outputs": [],
   "source": [
    "days_season=365\n",
    "X_train=[]\n",
    "y_train=[]\n",
    "X_test = []\n",
    "y_test = []\n",
    "for i in range(days_season, len(train_arr)): \n",
    "    X_train.append(train_arr[i-days_season: i, 0])\n",
    "    y_train.append(train_arr[i, 0])\n",
    "for i in range(days_season, len(test_arr)): \n",
    "    X_test.append(test_arr[i-days_season: i, 0])\n",
    "    y_test.append(test_arr[i, 0])"
   ]
  },
  {
   "cell_type": "code",
   "execution_count": null,
   "id": "9b855e66-10df-40db-bafc-1e6a85ded3b8",
   "metadata": {},
   "outputs": [],
   "source": [
    "X_train=np.array(X_train)\n",
    "y_train=np.array(y_train)\n",
    "X_train=np.reshape(X_train, (X_train.shape[0], X_train.shape[1], 1))\n",
    "X_train.shape"
   ]
  },
  {
   "cell_type": "code",
   "execution_count": null,
   "id": "6608b85f-5cab-48d5-87bc-b8665f9a0d49",
   "metadata": {},
   "outputs": [],
   "source": [
    "X_test=np.array(X_test)\n",
    "y_test=np.array(y_test)\n",
    "X_test=np.reshape(X_test, (X_test.shape[0], X_test.shape[1], 1))\n",
    "X_test.shape"
   ]
  },
  {
   "cell_type": "code",
   "execution_count": null,
   "id": "0de5aad6-bea9-4a2d-8167-8bd8e0652094",
   "metadata": {},
   "outputs": [],
   "source": [
    "lstm_model=tf.keras.models.Sequential()\n",
    "lstm_layer_1=tf.keras.layers.LSTM(50, return_sequences=True, input_shape=(365, 1))\n",
    "lstm_model.add(lstm_layer_1)\n",
    "lstm_layer_2=tf.keras.layers.LSTM(50, return_sequences=False)\n",
    "lstm_model.add(lstm_layer_2)\n",
    "lstm_layer_3=tf.keras.layers.Dense(25)\n",
    "lstm_model.add(lstm_layer_3)\n",
    "lstm_output_layer=tf.keras.layers.Dense(1)\n",
    "lstm_model.add(lstm_output_layer)\n",
    "lstm_model.summary()"
   ]
  },
  {
   "cell_type": "code",
   "execution_count": null,
   "id": "c94c84ae-79cd-459d-b6b5-2e9181912727",
   "metadata": {},
   "outputs": [],
   "source": [
    "lstm_model.compile(optimizer='adam', metrics=['mean_squared_error'], loss='mean_squared_error')\n",
    "lstm_model.fit(X_train, y_train, epochs=5)"
   ]
  },
  {
   "cell_type": "code",
   "execution_count": null,
   "id": "77a4441c-0e44-42d6-9d36-e749e97468c0",
   "metadata": {},
   "outputs": [],
   "source": [
    "## Now predict on test data \n",
    "y_predicted = lstm_model.predict(X_test)\n",
    "y_real = y_test"
   ]
  },
  {
   "cell_type": "code",
   "execution_count": null,
   "id": "33db266a-8062-4e97-a77b-d763f053fcb2",
   "metadata": {},
   "outputs": [],
   "source": [
    "plt.plot(y_real, color = 'black', label = 'REAL')\n",
    "plt.title('Value Prediction')\n",
    "plt.xlabel('Time')\n",
    "plt.ylabel('Value')\n",
    "plt.legend()\n",
    "plt.show()"
   ]
  },
  {
   "cell_type": "code",
   "execution_count": null,
   "id": "881ae43c-4c38-4256-bb91-59f3c6a641f4",
   "metadata": {},
   "outputs": [],
   "source": [
    "plt.plot(y_predicted, color = 'green', label = 'PREDICTED')\n",
    "plt.title('Value Prediction')\n",
    "plt.xlabel('Time')\n",
    "plt.ylabel('Value')\n",
    "plt.legend()\n",
    "plt.show()"
   ]
  },
  {
   "cell_type": "code",
   "execution_count": null,
   "id": "d01f84bb-bc3a-4ea7-a3d0-7f59ac419dd5",
   "metadata": {},
   "outputs": [],
   "source": [
    "## Now let's test on our test data\n",
    "lstm_model.fit(X_test, y_test, epochs=2)"
   ]
  },
  {
   "cell_type": "code",
   "execution_count": null,
   "id": "7e1d863c-3403-4a98-881e-0e83e586c5af",
   "metadata": {},
   "outputs": [],
   "source": [
    "## Save Model\n",
    "# lstm_model.save('Models/rain_model.h5')"
   ]
  },
  {
   "cell_type": "code",
   "execution_count": null,
   "id": "7be97ff4-2128-49e3-84dd-7391a75676ee",
   "metadata": {},
   "outputs": [],
   "source": []
  }
 ],
 "metadata": {
  "kernelspec": {
   "display_name": "Python 3 (ipykernel)",
   "language": "python",
   "name": "python3"
  },
  "language_info": {
   "codemirror_mode": {
    "name": "ipython",
    "version": 3
   },
   "file_extension": ".py",
   "mimetype": "text/x-python",
   "name": "python",
   "nbconvert_exporter": "python",
   "pygments_lexer": "ipython3",
   "version": "3.9.7"
  }
 },
 "nbformat": 4,
 "nbformat_minor": 5
}
